{
 "cells": [
  {
   "cell_type": "markdown",
   "metadata": {},
   "source": [
    "#### What is the dominant sentiment (positive, negative, neutral) expressed in comments on Tally proposal posts?"
   ]
  },
  {
   "cell_type": "code",
   "execution_count": 51,
   "metadata": {},
   "outputs": [
    {
     "name": "stderr",
     "output_type": "stream",
     "text": [
      "C:\\Users\\abhis\\AppData\\Local\\Temp\\ipykernel_16772\\2028958021.py:29: SettingWithCopyWarning:\n",
      "\n",
      "\n",
      "A value is trying to be set on a copy of a slice from a DataFrame.\n",
      "Try using .loc[row_indexer,col_indexer] = value instead\n",
      "\n",
      "See the caveats in the documentation: https://pandas.pydata.org/pandas-docs/stable/user_guide/indexing.html#returning-a-view-versus-a-copy\n",
      "\n"
     ]
    },
    {
     "data": {
      "application/vnd.plotly.v1+json": {
       "config": {
        "plotlyServerURL": "https://plot.ly"
       },
       "data": [
        {
         "domain": {
          "x": [
           0,
           1
          ],
          "y": [
           0,
           1
          ]
         },
         "hovertemplate": "Sentiment=%{label}<br>Count=%{value}<extra></extra>",
         "labels": [
          "Positive",
          "Neutral",
          "Negative"
         ],
         "legendgroup": "",
         "name": "",
         "showlegend": true,
         "type": "pie",
         "values": [
          892,
          56,
          36
         ]
        }
       ],
       "layout": {
        "legend": {
         "tracegroupgap": 0
        },
        "template": {
         "data": {
          "bar": [
           {
            "error_x": {
             "color": "#2a3f5f"
            },
            "error_y": {
             "color": "#2a3f5f"
            },
            "marker": {
             "line": {
              "color": "#E5ECF6",
              "width": 0.5
             },
             "pattern": {
              "fillmode": "overlay",
              "size": 10,
              "solidity": 0.2
             }
            },
            "type": "bar"
           }
          ],
          "barpolar": [
           {
            "marker": {
             "line": {
              "color": "#E5ECF6",
              "width": 0.5
             },
             "pattern": {
              "fillmode": "overlay",
              "size": 10,
              "solidity": 0.2
             }
            },
            "type": "barpolar"
           }
          ],
          "carpet": [
           {
            "aaxis": {
             "endlinecolor": "#2a3f5f",
             "gridcolor": "white",
             "linecolor": "white",
             "minorgridcolor": "white",
             "startlinecolor": "#2a3f5f"
            },
            "baxis": {
             "endlinecolor": "#2a3f5f",
             "gridcolor": "white",
             "linecolor": "white",
             "minorgridcolor": "white",
             "startlinecolor": "#2a3f5f"
            },
            "type": "carpet"
           }
          ],
          "choropleth": [
           {
            "colorbar": {
             "outlinewidth": 0,
             "ticks": ""
            },
            "type": "choropleth"
           }
          ],
          "contour": [
           {
            "colorbar": {
             "outlinewidth": 0,
             "ticks": ""
            },
            "colorscale": [
             [
              0,
              "#0d0887"
             ],
             [
              0.1111111111111111,
              "#46039f"
             ],
             [
              0.2222222222222222,
              "#7201a8"
             ],
             [
              0.3333333333333333,
              "#9c179e"
             ],
             [
              0.4444444444444444,
              "#bd3786"
             ],
             [
              0.5555555555555556,
              "#d8576b"
             ],
             [
              0.6666666666666666,
              "#ed7953"
             ],
             [
              0.7777777777777778,
              "#fb9f3a"
             ],
             [
              0.8888888888888888,
              "#fdca26"
             ],
             [
              1,
              "#f0f921"
             ]
            ],
            "type": "contour"
           }
          ],
          "contourcarpet": [
           {
            "colorbar": {
             "outlinewidth": 0,
             "ticks": ""
            },
            "type": "contourcarpet"
           }
          ],
          "heatmap": [
           {
            "colorbar": {
             "outlinewidth": 0,
             "ticks": ""
            },
            "colorscale": [
             [
              0,
              "#0d0887"
             ],
             [
              0.1111111111111111,
              "#46039f"
             ],
             [
              0.2222222222222222,
              "#7201a8"
             ],
             [
              0.3333333333333333,
              "#9c179e"
             ],
             [
              0.4444444444444444,
              "#bd3786"
             ],
             [
              0.5555555555555556,
              "#d8576b"
             ],
             [
              0.6666666666666666,
              "#ed7953"
             ],
             [
              0.7777777777777778,
              "#fb9f3a"
             ],
             [
              0.8888888888888888,
              "#fdca26"
             ],
             [
              1,
              "#f0f921"
             ]
            ],
            "type": "heatmap"
           }
          ],
          "heatmapgl": [
           {
            "colorbar": {
             "outlinewidth": 0,
             "ticks": ""
            },
            "colorscale": [
             [
              0,
              "#0d0887"
             ],
             [
              0.1111111111111111,
              "#46039f"
             ],
             [
              0.2222222222222222,
              "#7201a8"
             ],
             [
              0.3333333333333333,
              "#9c179e"
             ],
             [
              0.4444444444444444,
              "#bd3786"
             ],
             [
              0.5555555555555556,
              "#d8576b"
             ],
             [
              0.6666666666666666,
              "#ed7953"
             ],
             [
              0.7777777777777778,
              "#fb9f3a"
             ],
             [
              0.8888888888888888,
              "#fdca26"
             ],
             [
              1,
              "#f0f921"
             ]
            ],
            "type": "heatmapgl"
           }
          ],
          "histogram": [
           {
            "marker": {
             "pattern": {
              "fillmode": "overlay",
              "size": 10,
              "solidity": 0.2
             }
            },
            "type": "histogram"
           }
          ],
          "histogram2d": [
           {
            "colorbar": {
             "outlinewidth": 0,
             "ticks": ""
            },
            "colorscale": [
             [
              0,
              "#0d0887"
             ],
             [
              0.1111111111111111,
              "#46039f"
             ],
             [
              0.2222222222222222,
              "#7201a8"
             ],
             [
              0.3333333333333333,
              "#9c179e"
             ],
             [
              0.4444444444444444,
              "#bd3786"
             ],
             [
              0.5555555555555556,
              "#d8576b"
             ],
             [
              0.6666666666666666,
              "#ed7953"
             ],
             [
              0.7777777777777778,
              "#fb9f3a"
             ],
             [
              0.8888888888888888,
              "#fdca26"
             ],
             [
              1,
              "#f0f921"
             ]
            ],
            "type": "histogram2d"
           }
          ],
          "histogram2dcontour": [
           {
            "colorbar": {
             "outlinewidth": 0,
             "ticks": ""
            },
            "colorscale": [
             [
              0,
              "#0d0887"
             ],
             [
              0.1111111111111111,
              "#46039f"
             ],
             [
              0.2222222222222222,
              "#7201a8"
             ],
             [
              0.3333333333333333,
              "#9c179e"
             ],
             [
              0.4444444444444444,
              "#bd3786"
             ],
             [
              0.5555555555555556,
              "#d8576b"
             ],
             [
              0.6666666666666666,
              "#ed7953"
             ],
             [
              0.7777777777777778,
              "#fb9f3a"
             ],
             [
              0.8888888888888888,
              "#fdca26"
             ],
             [
              1,
              "#f0f921"
             ]
            ],
            "type": "histogram2dcontour"
           }
          ],
          "mesh3d": [
           {
            "colorbar": {
             "outlinewidth": 0,
             "ticks": ""
            },
            "type": "mesh3d"
           }
          ],
          "parcoords": [
           {
            "line": {
             "colorbar": {
              "outlinewidth": 0,
              "ticks": ""
             }
            },
            "type": "parcoords"
           }
          ],
          "pie": [
           {
            "automargin": true,
            "type": "pie"
           }
          ],
          "scatter": [
           {
            "fillpattern": {
             "fillmode": "overlay",
             "size": 10,
             "solidity": 0.2
            },
            "type": "scatter"
           }
          ],
          "scatter3d": [
           {
            "line": {
             "colorbar": {
              "outlinewidth": 0,
              "ticks": ""
             }
            },
            "marker": {
             "colorbar": {
              "outlinewidth": 0,
              "ticks": ""
             }
            },
            "type": "scatter3d"
           }
          ],
          "scattercarpet": [
           {
            "marker": {
             "colorbar": {
              "outlinewidth": 0,
              "ticks": ""
             }
            },
            "type": "scattercarpet"
           }
          ],
          "scattergeo": [
           {
            "marker": {
             "colorbar": {
              "outlinewidth": 0,
              "ticks": ""
             }
            },
            "type": "scattergeo"
           }
          ],
          "scattergl": [
           {
            "marker": {
             "colorbar": {
              "outlinewidth": 0,
              "ticks": ""
             }
            },
            "type": "scattergl"
           }
          ],
          "scattermapbox": [
           {
            "marker": {
             "colorbar": {
              "outlinewidth": 0,
              "ticks": ""
             }
            },
            "type": "scattermapbox"
           }
          ],
          "scatterpolar": [
           {
            "marker": {
             "colorbar": {
              "outlinewidth": 0,
              "ticks": ""
             }
            },
            "type": "scatterpolar"
           }
          ],
          "scatterpolargl": [
           {
            "marker": {
             "colorbar": {
              "outlinewidth": 0,
              "ticks": ""
             }
            },
            "type": "scatterpolargl"
           }
          ],
          "scatterternary": [
           {
            "marker": {
             "colorbar": {
              "outlinewidth": 0,
              "ticks": ""
             }
            },
            "type": "scatterternary"
           }
          ],
          "surface": [
           {
            "colorbar": {
             "outlinewidth": 0,
             "ticks": ""
            },
            "colorscale": [
             [
              0,
              "#0d0887"
             ],
             [
              0.1111111111111111,
              "#46039f"
             ],
             [
              0.2222222222222222,
              "#7201a8"
             ],
             [
              0.3333333333333333,
              "#9c179e"
             ],
             [
              0.4444444444444444,
              "#bd3786"
             ],
             [
              0.5555555555555556,
              "#d8576b"
             ],
             [
              0.6666666666666666,
              "#ed7953"
             ],
             [
              0.7777777777777778,
              "#fb9f3a"
             ],
             [
              0.8888888888888888,
              "#fdca26"
             ],
             [
              1,
              "#f0f921"
             ]
            ],
            "type": "surface"
           }
          ],
          "table": [
           {
            "cells": {
             "fill": {
              "color": "#EBF0F8"
             },
             "line": {
              "color": "white"
             }
            },
            "header": {
             "fill": {
              "color": "#C8D4E3"
             },
             "line": {
              "color": "white"
             }
            },
            "type": "table"
           }
          ]
         },
         "layout": {
          "annotationdefaults": {
           "arrowcolor": "#2a3f5f",
           "arrowhead": 0,
           "arrowwidth": 1
          },
          "autotypenumbers": "strict",
          "coloraxis": {
           "colorbar": {
            "outlinewidth": 0,
            "ticks": ""
           }
          },
          "colorscale": {
           "diverging": [
            [
             0,
             "#8e0152"
            ],
            [
             0.1,
             "#c51b7d"
            ],
            [
             0.2,
             "#de77ae"
            ],
            [
             0.3,
             "#f1b6da"
            ],
            [
             0.4,
             "#fde0ef"
            ],
            [
             0.5,
             "#f7f7f7"
            ],
            [
             0.6,
             "#e6f5d0"
            ],
            [
             0.7,
             "#b8e186"
            ],
            [
             0.8,
             "#7fbc41"
            ],
            [
             0.9,
             "#4d9221"
            ],
            [
             1,
             "#276419"
            ]
           ],
           "sequential": [
            [
             0,
             "#0d0887"
            ],
            [
             0.1111111111111111,
             "#46039f"
            ],
            [
             0.2222222222222222,
             "#7201a8"
            ],
            [
             0.3333333333333333,
             "#9c179e"
            ],
            [
             0.4444444444444444,
             "#bd3786"
            ],
            [
             0.5555555555555556,
             "#d8576b"
            ],
            [
             0.6666666666666666,
             "#ed7953"
            ],
            [
             0.7777777777777778,
             "#fb9f3a"
            ],
            [
             0.8888888888888888,
             "#fdca26"
            ],
            [
             1,
             "#f0f921"
            ]
           ],
           "sequentialminus": [
            [
             0,
             "#0d0887"
            ],
            [
             0.1111111111111111,
             "#46039f"
            ],
            [
             0.2222222222222222,
             "#7201a8"
            ],
            [
             0.3333333333333333,
             "#9c179e"
            ],
            [
             0.4444444444444444,
             "#bd3786"
            ],
            [
             0.5555555555555556,
             "#d8576b"
            ],
            [
             0.6666666666666666,
             "#ed7953"
            ],
            [
             0.7777777777777778,
             "#fb9f3a"
            ],
            [
             0.8888888888888888,
             "#fdca26"
            ],
            [
             1,
             "#f0f921"
            ]
           ]
          },
          "colorway": [
           "#636efa",
           "#EF553B",
           "#00cc96",
           "#ab63fa",
           "#FFA15A",
           "#19d3f3",
           "#FF6692",
           "#B6E880",
           "#FF97FF",
           "#FECB52"
          ],
          "font": {
           "color": "#2a3f5f"
          },
          "geo": {
           "bgcolor": "white",
           "lakecolor": "white",
           "landcolor": "#E5ECF6",
           "showlakes": true,
           "showland": true,
           "subunitcolor": "white"
          },
          "hoverlabel": {
           "align": "left"
          },
          "hovermode": "closest",
          "mapbox": {
           "style": "light"
          },
          "paper_bgcolor": "white",
          "plot_bgcolor": "#E5ECF6",
          "polar": {
           "angularaxis": {
            "gridcolor": "white",
            "linecolor": "white",
            "ticks": ""
           },
           "bgcolor": "#E5ECF6",
           "radialaxis": {
            "gridcolor": "white",
            "linecolor": "white",
            "ticks": ""
           }
          },
          "scene": {
           "xaxis": {
            "backgroundcolor": "#E5ECF6",
            "gridcolor": "white",
            "gridwidth": 2,
            "linecolor": "white",
            "showbackground": true,
            "ticks": "",
            "zerolinecolor": "white"
           },
           "yaxis": {
            "backgroundcolor": "#E5ECF6",
            "gridcolor": "white",
            "gridwidth": 2,
            "linecolor": "white",
            "showbackground": true,
            "ticks": "",
            "zerolinecolor": "white"
           },
           "zaxis": {
            "backgroundcolor": "#E5ECF6",
            "gridcolor": "white",
            "gridwidth": 2,
            "linecolor": "white",
            "showbackground": true,
            "ticks": "",
            "zerolinecolor": "white"
           }
          },
          "shapedefaults": {
           "line": {
            "color": "#2a3f5f"
           }
          },
          "ternary": {
           "aaxis": {
            "gridcolor": "white",
            "linecolor": "white",
            "ticks": ""
           },
           "baxis": {
            "gridcolor": "white",
            "linecolor": "white",
            "ticks": ""
           },
           "bgcolor": "#E5ECF6",
           "caxis": {
            "gridcolor": "white",
            "linecolor": "white",
            "ticks": ""
           }
          },
          "title": {
           "x": 0.05
          },
          "xaxis": {
           "automargin": true,
           "gridcolor": "white",
           "linecolor": "white",
           "ticks": "",
           "title": {
            "standoff": 15
           },
           "zerolinecolor": "white",
           "zerolinewidth": 2
          },
          "yaxis": {
           "automargin": true,
           "gridcolor": "white",
           "linecolor": "white",
           "ticks": "",
           "title": {
            "standoff": 15
           },
           "zerolinecolor": "white",
           "zerolinewidth": 2
          }
         }
        },
        "title": {
         "text": "Distribution of Sentiments in Comments on Tally Proposal Posts"
        }
       }
      }
     },
     "metadata": {},
     "output_type": "display_data"
    }
   ],
   "source": [
    "import pandas as pd\n",
    "from nltk.sentiment.vader import SentimentIntensityAnalyzer\n",
    "import plotly.express as px\n",
    "\n",
    "# Load datasets\n",
    "topics_df = pd.read_csv('forum_topics_data.csv')\n",
    "posts_df = pd.read_csv('forum_posts_data.csv')\n",
    "\n",
    "# Filter Tally proposal posts\n",
    "tally_topic_ids = [21332, 20957, 20856, 20223, 20064, 19899, 19467, 16501, 19696, 18557, \n",
    "                   19046, 16131, 15615, 15920, 15425, 15426, 14976, 14688, 14790, 13360, 13362]\n",
    "\n",
    "tally_posts = posts_df[posts_df['Topic ID'].isin(tally_topic_ids)]\n",
    "\n",
    "# Initialize SentimentIntensityAnalyzer\n",
    "sid = SentimentIntensityAnalyzer()\n",
    "\n",
    "# Function to determine sentiment polarity\n",
    "def get_sentiment(text):\n",
    "    scores = sid.polarity_scores(text)\n",
    "    if scores['compound'] >= 0.05:\n",
    "        return 'Positive'\n",
    "    elif scores['compound'] <= -0.05:\n",
    "        return 'Negative'\n",
    "    else:\n",
    "        return 'Neutral'\n",
    "\n",
    "# Apply sentiment analysis to comments\n",
    "tally_posts['Sentiment'] = tally_posts['Post Description'].astype(str).apply(get_sentiment)\n",
    "\n",
    "# Count the occurrences of each sentiment\n",
    "sentiment_counts = tally_posts['Sentiment'].value_counts().reset_index()\n",
    "sentiment_counts.columns = ['Sentiment', 'Count']\n",
    "\n",
    "# Create an interactive pie chart using Plotly\n",
    "fig = px.pie(sentiment_counts, values='Count', names='Sentiment', \n",
    "             title='Distribution of Sentiments in Comments on Tally Proposal Posts')\n",
    "fig.show()\n",
    "fig.write_html(\"Dominant Sentiment in Comments on Tally Proposal Posts.html\")"
   ]
  },
  {
   "cell_type": "markdown",
   "metadata": {},
   "source": [
    "#### Are there any trends in sentiment (positive, negative) towards Tally proposals over time (consider daily/weekly averages)?"
   ]
  },
  {
   "cell_type": "code",
   "execution_count": 52,
   "metadata": {},
   "outputs": [
    {
     "name": "stderr",
     "output_type": "stream",
     "text": [
      "C:\\Users\\abhis\\AppData\\Local\\Temp\\ipykernel_16772\\440522738.py:25: SettingWithCopyWarning:\n",
      "\n",
      "\n",
      "A value is trying to be set on a copy of a slice from a DataFrame.\n",
      "Try using .loc[row_indexer,col_indexer] = value instead\n",
      "\n",
      "See the caveats in the documentation: https://pandas.pydata.org/pandas-docs/stable/user_guide/indexing.html#returning-a-view-versus-a-copy\n",
      "\n",
      "C:\\Users\\abhis\\AppData\\Local\\Temp\\ipykernel_16772\\440522738.py:28: SettingWithCopyWarning:\n",
      "\n",
      "\n",
      "A value is trying to be set on a copy of a slice from a DataFrame.\n",
      "Try using .loc[row_indexer,col_indexer] = value instead\n",
      "\n",
      "See the caveats in the documentation: https://pandas.pydata.org/pandas-docs/stable/user_guide/indexing.html#returning-a-view-versus-a-copy\n",
      "\n",
      "C:\\Users\\abhis\\AppData\\Local\\Temp\\ipykernel_16772\\440522738.py:31: SettingWithCopyWarning:\n",
      "\n",
      "\n",
      "A value is trying to be set on a copy of a slice from a DataFrame.\n",
      "Try using .loc[row_indexer,col_indexer] = value instead\n",
      "\n",
      "See the caveats in the documentation: https://pandas.pydata.org/pandas-docs/stable/user_guide/indexing.html#returning-a-view-versus-a-copy\n",
      "\n"
     ]
    },
    {
     "data": {
      "application/vnd.plotly.v1+json": {
       "config": {
        "plotlyServerURL": "https://plot.ly"
       },
       "data": [
        {
         "coloraxis": "coloraxis",
         "hovertemplate": "Date: %{x}<br>Sentiment: %{y}<br>Number of Comments: %{z}<extra></extra>",
         "name": "0",
         "type": "heatmap",
         "x": [
          "2023-04-05",
          "2023-04-06",
          "2023-04-07",
          "2023-04-08",
          "2023-04-09",
          "2023-04-10",
          "2023-04-11",
          "2023-04-12",
          "2023-04-13",
          "2023-04-14",
          "2023-04-15",
          "2023-04-16",
          "2023-04-17",
          "2023-04-18",
          "2023-04-19",
          "2023-04-25",
          "2023-04-26",
          "2023-04-28",
          "2023-05-15",
          "2023-05-29",
          "2023-05-30",
          "2023-06-01",
          "2023-06-02",
          "2023-06-03",
          "2023-06-05",
          "2023-06-06",
          "2023-06-07",
          "2023-06-08",
          "2023-06-09",
          "2023-06-10",
          "2023-06-12",
          "2023-06-13",
          "2023-06-14",
          "2023-06-17",
          "2023-06-18",
          "2023-06-20",
          "2023-06-21",
          "2023-06-22",
          "2023-06-23",
          "2023-06-24",
          "2023-06-25",
          "2023-06-26",
          "2023-06-27",
          "2023-06-28",
          "2023-06-29",
          "2023-06-30",
          "2023-07-01",
          "2023-07-02",
          "2023-07-03",
          "2023-07-04",
          "2023-07-05",
          "2023-07-06",
          "2023-07-07",
          "2023-07-08",
          "2023-07-10",
          "2023-07-11",
          "2023-07-12",
          "2023-07-13",
          "2023-07-14",
          "2023-07-15",
          "2023-07-16",
          "2023-07-17",
          "2023-07-18",
          "2023-07-20",
          "2023-07-21",
          "2023-07-22",
          "2023-07-25",
          "2023-07-26",
          "2023-07-27",
          "2023-07-28",
          "2023-07-29",
          "2023-08-01",
          "2023-08-02",
          "2023-08-03",
          "2023-08-04",
          "2023-08-05",
          "2023-08-07",
          "2023-08-08",
          "2023-08-09",
          "2023-08-10",
          "2023-08-11",
          "2023-08-14",
          "2023-08-17",
          "2023-08-18",
          "2023-08-21",
          "2023-08-22",
          "2023-08-26",
          "2023-08-28",
          "2023-08-30",
          "2023-08-31",
          "2023-09-01",
          "2023-09-02",
          "2023-09-03",
          "2023-09-04",
          "2023-09-05",
          "2023-09-06",
          "2023-09-07",
          "2023-09-08",
          "2023-09-09",
          "2023-09-10",
          "2023-09-11",
          "2023-09-12",
          "2023-09-13",
          "2023-09-14",
          "2023-09-15",
          "2023-09-16",
          "2023-09-17",
          "2023-09-18",
          "2023-09-19",
          "2023-09-20",
          "2023-09-21",
          "2023-09-22",
          "2023-09-26",
          "2023-09-27",
          "2023-09-28",
          "2023-09-29",
          "2023-10-02",
          "2023-10-04",
          "2023-10-06",
          "2023-10-09",
          "2023-10-10",
          "2023-10-11",
          "2023-10-12",
          "2023-10-13",
          "2023-10-16",
          "2023-10-18",
          "2023-10-19",
          "2023-10-20",
          "2023-10-22",
          "2023-10-23",
          "2023-10-24",
          "2023-10-25",
          "2023-10-26",
          "2023-10-27",
          "2023-10-30",
          "2023-10-31",
          "2023-11-01",
          "2023-11-02",
          "2023-11-03",
          "2023-11-05",
          "2023-11-06",
          "2023-11-07",
          "2023-11-08",
          "2023-11-10",
          "2023-11-12",
          "2023-11-13",
          "2023-11-14",
          "2023-11-15",
          "2023-11-17",
          "2023-11-18",
          "2023-11-19",
          "2023-11-20",
          "2023-11-21",
          "2023-11-22",
          "2023-11-23",
          "2023-11-27",
          "2023-11-30",
          "2023-12-01",
          "2023-12-04",
          "2023-12-05",
          "2023-12-08",
          "2023-12-10",
          "2023-12-11",
          "2023-12-12",
          "2023-12-13",
          "2023-12-14",
          "2023-12-15",
          "2023-12-16",
          "2023-12-17",
          "2023-12-18",
          "2023-12-19",
          "2023-12-20",
          "2023-12-21",
          "2023-12-22",
          "2023-12-23",
          "2023-12-25",
          "2023-12-28",
          "2023-12-29",
          "2023-12-30",
          "2023-12-31",
          "2024-01-02",
          "2024-01-03",
          "2024-01-04",
          "2024-01-05",
          "2024-01-06",
          "2024-01-07",
          "2024-01-08",
          "2024-01-09",
          "2024-01-10",
          "2024-01-11",
          "2024-01-12",
          "2024-01-13",
          "2024-01-15",
          "2024-01-16",
          "2024-01-18",
          "2024-01-19",
          "2024-01-22",
          "2024-01-23",
          "2024-01-24",
          "2024-01-25",
          "2024-01-29",
          "2024-01-30",
          "2024-01-31",
          "2024-02-01",
          "2024-02-02",
          "2024-02-03",
          "2024-02-04",
          "2024-02-05",
          "2024-02-06",
          "2024-02-07",
          "2024-02-08",
          "2024-02-09",
          "2024-02-11",
          "2024-02-12",
          "2024-02-13",
          "2024-02-15",
          "2024-02-16",
          "2024-02-17",
          "2024-02-18",
          "2024-02-19",
          "2024-02-20",
          "2024-02-21",
          "2024-02-22",
          "2024-02-23",
          "2024-02-24",
          "2024-02-26",
          "2024-02-27",
          "2024-02-28",
          "2024-02-29",
          "2024-03-01",
          "2024-03-02",
          "2024-03-03",
          "2024-03-04",
          "2024-03-05",
          "2024-03-06",
          "2024-03-07",
          "2024-03-08",
          "2024-03-09",
          "2024-03-10",
          "2024-03-13",
          "2024-03-14"
         ],
         "xaxis": "x",
         "y": [
          "Negative",
          "Neutral",
          "Positive"
         ],
         "yaxis": "y",
         "z": [
          [
           1,
           5,
           0,
           0,
           0,
           0,
           0,
           0,
           0,
           0,
           0,
           1,
           1,
           0,
           0,
           0,
           0,
           0,
           0,
           0,
           0,
           0,
           0,
           0,
           0,
           2,
           0,
           0,
           0,
           1,
           0,
           0,
           0,
           0,
           0,
           0,
           0,
           0,
           0,
           0,
           0,
           0,
           0,
           0,
           0,
           0,
           0,
           0,
           0,
           0,
           0,
           0,
           1,
           0,
           0,
           0,
           0,
           0,
           0,
           0,
           0,
           0,
           1,
           0,
           0,
           0,
           0,
           0,
           0,
           0,
           0,
           0,
           0,
           0,
           0,
           0,
           0,
           0,
           0,
           0,
           0,
           0,
           0,
           0,
           0,
           0,
           0,
           0,
           0,
           0,
           0,
           0,
           1,
           0,
           0,
           2,
           0,
           0,
           1,
           0,
           0,
           0,
           0,
           0,
           0,
           0,
           0,
           0,
           0,
           0,
           0,
           0,
           0,
           0,
           0,
           0,
           0,
           0,
           0,
           0,
           0,
           1,
           0,
           0,
           0,
           0,
           1,
           1,
           0,
           1,
           0,
           0,
           0,
           0,
           0,
           0,
           0,
           1,
           0,
           0,
           0,
           0,
           2,
           0,
           0,
           0,
           0,
           1,
           0,
           0,
           0,
           1,
           0,
           1,
           0,
           0,
           0,
           0,
           0,
           0,
           0,
           0,
           1,
           1,
           1,
           0,
           0,
           0,
           0,
           1,
           0,
           0,
           0,
           0,
           0,
           0,
           1,
           0,
           0,
           0,
           0,
           1,
           0,
           0,
           0,
           0,
           0,
           0,
           0,
           0,
           0,
           0,
           0,
           1,
           0,
           0,
           0,
           0,
           0,
           0,
           0,
           0,
           0,
           0,
           0,
           0,
           0,
           0,
           0,
           0,
           0,
           0,
           0,
           0,
           0,
           0,
           0,
           0,
           0,
           0,
           0,
           0,
           0,
           0,
           0,
           1,
           0,
           0,
           0,
           0,
           0,
           0,
           0,
           0,
           0,
           0,
           0,
           1,
           0,
           0,
           0
          ],
          [
           3,
           7,
           2,
           1,
           0,
           2,
           0,
           0,
           0,
           0,
           0,
           0,
           0,
           0,
           0,
           0,
           0,
           0,
           0,
           0,
           0,
           0,
           0,
           0,
           0,
           2,
           0,
           0,
           0,
           1,
           0,
           0,
           0,
           0,
           0,
           0,
           0,
           0,
           0,
           0,
           0,
           0,
           0,
           0,
           0,
           0,
           0,
           0,
           1,
           0,
           0,
           0,
           0,
           0,
           1,
           2,
           0,
           0,
           0,
           2,
           0,
           0,
           0,
           0,
           0,
           0,
           0,
           0,
           0,
           1,
           0,
           1,
           0,
           0,
           0,
           0,
           0,
           0,
           0,
           0,
           0,
           0,
           0,
           3,
           1,
           0,
           1,
           0,
           0,
           0,
           0,
           0,
           0,
           0,
           0,
           0,
           0,
           0,
           1,
           0,
           0,
           0,
           0,
           0,
           1,
           0,
           0,
           0,
           0,
           0,
           0,
           0,
           0,
           0,
           0,
           0,
           0,
           0,
           0,
           0,
           0,
           1,
           0,
           0,
           0,
           0,
           0,
           0,
           0,
           0,
           0,
           0,
           0,
           0,
           0,
           0,
           0,
           0,
           0,
           0,
           0,
           1,
           0,
           0,
           0,
           3,
           0,
           0,
           0,
           0,
           1,
           0,
           0,
           1,
           1,
           0,
           0,
           0,
           0,
           0,
           1,
           0,
           0,
           0,
           0,
           0,
           0,
           0,
           0,
           0,
           0,
           0,
           0,
           1,
           0,
           0,
           1,
           0,
           0,
           1,
           0,
           0,
           0,
           0,
           0,
           0,
           0,
           0,
           1,
           0,
           0,
           0,
           0,
           0,
           0,
           0,
           0,
           0,
           0,
           0,
           1,
           0,
           0,
           0,
           1,
           0,
           0,
           0,
           0,
           1,
           1,
           1,
           0,
           0,
           1,
           1,
           0,
           0,
           0,
           0,
           0,
           0,
           1,
           0,
           0,
           0,
           0,
           0,
           0,
           2,
           0,
           0,
           0,
           0,
           0,
           0,
           0,
           0,
           0,
           0,
           0
          ],
          [
           15,
           29,
           10,
           4,
           6,
           7,
           7,
           6,
           1,
           5,
           6,
           1,
           2,
           2,
           2,
           2,
           2,
           2,
           1,
           1,
           2,
           2,
           2,
           1,
           6,
           1,
           2,
           3,
           1,
           3,
           2,
           1,
           2,
           1,
           1,
           5,
           7,
           3,
           2,
           2,
           4,
           8,
           1,
           2,
           3,
           2,
           2,
           2,
           7,
           1,
           3,
           6,
           5,
           5,
           2,
           6,
           5,
           4,
           6,
           0,
           1,
           1,
           5,
           3,
           2,
           2,
           3,
           2,
           2,
           6,
           3,
           1,
           1,
           4,
           5,
           1,
           2,
           2,
           1,
           3,
           1,
           2,
           1,
           3,
           0,
           3,
           0,
           1,
           1,
           1,
           2,
           6,
           11,
           3,
           12,
           12,
           4,
           1,
           2,
           2,
           7,
           3,
           2,
           4,
           10,
           6,
           4,
           1,
           2,
           3,
           1,
           5,
           9,
           3,
           6,
           1,
           1,
           1,
           7,
           3,
           18,
           0,
           4,
           2,
           1,
           1,
           8,
           4,
           2,
           3,
           3,
           4,
           3,
           2,
           2,
           16,
           3,
           6,
           4,
           2,
           4,
           13,
           7,
           2,
           2,
           18,
           19,
           3,
           1,
           1,
           0,
           0,
           3,
           7,
           2,
           1,
           3,
           8,
           2,
           3,
           6,
           2,
           1,
           0,
           2,
           8,
           8,
           2,
           1,
           12,
           4,
           4,
           3,
           6,
           7,
           1,
           4,
           1,
           3,
           3,
           2,
           2,
           4,
           2,
           4,
           2,
           7,
           7,
           6,
           1,
           4,
           2,
           8,
           8,
           3,
           2,
           2,
           2,
           1,
           1,
           3,
           10,
           1,
           2,
           1,
           2,
           1,
           2,
           5,
           0,
           5,
           6,
           1,
           2,
           1,
           4,
           1,
           1,
           2,
           3,
           9,
           2,
           1,
           1,
           3,
           7,
           2,
           4,
           2,
           5,
           4,
           2,
           6,
           1,
           3,
           12,
           3,
           0,
           2,
           2,
           2
          ]
         ]
        }
       ],
       "layout": {
        "coloraxis": {
         "colorbar": {
          "title": {
           "text": "Number of Comments"
          }
         },
         "colorscale": [
          [
           0,
           "rgb(165,0,38)"
          ],
          [
           0.1,
           "rgb(215,48,39)"
          ],
          [
           0.2,
           "rgb(244,109,67)"
          ],
          [
           0.3,
           "rgb(253,174,97)"
          ],
          [
           0.4,
           "rgb(254,224,139)"
          ],
          [
           0.5,
           "rgb(255,255,191)"
          ],
          [
           0.6,
           "rgb(217,239,139)"
          ],
          [
           0.7,
           "rgb(166,217,106)"
          ],
          [
           0.8,
           "rgb(102,189,99)"
          ],
          [
           0.9,
           "rgb(26,152,80)"
          ],
          [
           1,
           "rgb(0,104,55)"
          ]
         ]
        },
        "template": {
         "data": {
          "bar": [
           {
            "error_x": {
             "color": "#2a3f5f"
            },
            "error_y": {
             "color": "#2a3f5f"
            },
            "marker": {
             "line": {
              "color": "#E5ECF6",
              "width": 0.5
             },
             "pattern": {
              "fillmode": "overlay",
              "size": 10,
              "solidity": 0.2
             }
            },
            "type": "bar"
           }
          ],
          "barpolar": [
           {
            "marker": {
             "line": {
              "color": "#E5ECF6",
              "width": 0.5
             },
             "pattern": {
              "fillmode": "overlay",
              "size": 10,
              "solidity": 0.2
             }
            },
            "type": "barpolar"
           }
          ],
          "carpet": [
           {
            "aaxis": {
             "endlinecolor": "#2a3f5f",
             "gridcolor": "white",
             "linecolor": "white",
             "minorgridcolor": "white",
             "startlinecolor": "#2a3f5f"
            },
            "baxis": {
             "endlinecolor": "#2a3f5f",
             "gridcolor": "white",
             "linecolor": "white",
             "minorgridcolor": "white",
             "startlinecolor": "#2a3f5f"
            },
            "type": "carpet"
           }
          ],
          "choropleth": [
           {
            "colorbar": {
             "outlinewidth": 0,
             "ticks": ""
            },
            "type": "choropleth"
           }
          ],
          "contour": [
           {
            "colorbar": {
             "outlinewidth": 0,
             "ticks": ""
            },
            "colorscale": [
             [
              0,
              "#0d0887"
             ],
             [
              0.1111111111111111,
              "#46039f"
             ],
             [
              0.2222222222222222,
              "#7201a8"
             ],
             [
              0.3333333333333333,
              "#9c179e"
             ],
             [
              0.4444444444444444,
              "#bd3786"
             ],
             [
              0.5555555555555556,
              "#d8576b"
             ],
             [
              0.6666666666666666,
              "#ed7953"
             ],
             [
              0.7777777777777778,
              "#fb9f3a"
             ],
             [
              0.8888888888888888,
              "#fdca26"
             ],
             [
              1,
              "#f0f921"
             ]
            ],
            "type": "contour"
           }
          ],
          "contourcarpet": [
           {
            "colorbar": {
             "outlinewidth": 0,
             "ticks": ""
            },
            "type": "contourcarpet"
           }
          ],
          "heatmap": [
           {
            "colorbar": {
             "outlinewidth": 0,
             "ticks": ""
            },
            "colorscale": [
             [
              0,
              "#0d0887"
             ],
             [
              0.1111111111111111,
              "#46039f"
             ],
             [
              0.2222222222222222,
              "#7201a8"
             ],
             [
              0.3333333333333333,
              "#9c179e"
             ],
             [
              0.4444444444444444,
              "#bd3786"
             ],
             [
              0.5555555555555556,
              "#d8576b"
             ],
             [
              0.6666666666666666,
              "#ed7953"
             ],
             [
              0.7777777777777778,
              "#fb9f3a"
             ],
             [
              0.8888888888888888,
              "#fdca26"
             ],
             [
              1,
              "#f0f921"
             ]
            ],
            "type": "heatmap"
           }
          ],
          "heatmapgl": [
           {
            "colorbar": {
             "outlinewidth": 0,
             "ticks": ""
            },
            "colorscale": [
             [
              0,
              "#0d0887"
             ],
             [
              0.1111111111111111,
              "#46039f"
             ],
             [
              0.2222222222222222,
              "#7201a8"
             ],
             [
              0.3333333333333333,
              "#9c179e"
             ],
             [
              0.4444444444444444,
              "#bd3786"
             ],
             [
              0.5555555555555556,
              "#d8576b"
             ],
             [
              0.6666666666666666,
              "#ed7953"
             ],
             [
              0.7777777777777778,
              "#fb9f3a"
             ],
             [
              0.8888888888888888,
              "#fdca26"
             ],
             [
              1,
              "#f0f921"
             ]
            ],
            "type": "heatmapgl"
           }
          ],
          "histogram": [
           {
            "marker": {
             "pattern": {
              "fillmode": "overlay",
              "size": 10,
              "solidity": 0.2
             }
            },
            "type": "histogram"
           }
          ],
          "histogram2d": [
           {
            "colorbar": {
             "outlinewidth": 0,
             "ticks": ""
            },
            "colorscale": [
             [
              0,
              "#0d0887"
             ],
             [
              0.1111111111111111,
              "#46039f"
             ],
             [
              0.2222222222222222,
              "#7201a8"
             ],
             [
              0.3333333333333333,
              "#9c179e"
             ],
             [
              0.4444444444444444,
              "#bd3786"
             ],
             [
              0.5555555555555556,
              "#d8576b"
             ],
             [
              0.6666666666666666,
              "#ed7953"
             ],
             [
              0.7777777777777778,
              "#fb9f3a"
             ],
             [
              0.8888888888888888,
              "#fdca26"
             ],
             [
              1,
              "#f0f921"
             ]
            ],
            "type": "histogram2d"
           }
          ],
          "histogram2dcontour": [
           {
            "colorbar": {
             "outlinewidth": 0,
             "ticks": ""
            },
            "colorscale": [
             [
              0,
              "#0d0887"
             ],
             [
              0.1111111111111111,
              "#46039f"
             ],
             [
              0.2222222222222222,
              "#7201a8"
             ],
             [
              0.3333333333333333,
              "#9c179e"
             ],
             [
              0.4444444444444444,
              "#bd3786"
             ],
             [
              0.5555555555555556,
              "#d8576b"
             ],
             [
              0.6666666666666666,
              "#ed7953"
             ],
             [
              0.7777777777777778,
              "#fb9f3a"
             ],
             [
              0.8888888888888888,
              "#fdca26"
             ],
             [
              1,
              "#f0f921"
             ]
            ],
            "type": "histogram2dcontour"
           }
          ],
          "mesh3d": [
           {
            "colorbar": {
             "outlinewidth": 0,
             "ticks": ""
            },
            "type": "mesh3d"
           }
          ],
          "parcoords": [
           {
            "line": {
             "colorbar": {
              "outlinewidth": 0,
              "ticks": ""
             }
            },
            "type": "parcoords"
           }
          ],
          "pie": [
           {
            "automargin": true,
            "type": "pie"
           }
          ],
          "scatter": [
           {
            "fillpattern": {
             "fillmode": "overlay",
             "size": 10,
             "solidity": 0.2
            },
            "type": "scatter"
           }
          ],
          "scatter3d": [
           {
            "line": {
             "colorbar": {
              "outlinewidth": 0,
              "ticks": ""
             }
            },
            "marker": {
             "colorbar": {
              "outlinewidth": 0,
              "ticks": ""
             }
            },
            "type": "scatter3d"
           }
          ],
          "scattercarpet": [
           {
            "marker": {
             "colorbar": {
              "outlinewidth": 0,
              "ticks": ""
             }
            },
            "type": "scattercarpet"
           }
          ],
          "scattergeo": [
           {
            "marker": {
             "colorbar": {
              "outlinewidth": 0,
              "ticks": ""
             }
            },
            "type": "scattergeo"
           }
          ],
          "scattergl": [
           {
            "marker": {
             "colorbar": {
              "outlinewidth": 0,
              "ticks": ""
             }
            },
            "type": "scattergl"
           }
          ],
          "scattermapbox": [
           {
            "marker": {
             "colorbar": {
              "outlinewidth": 0,
              "ticks": ""
             }
            },
            "type": "scattermapbox"
           }
          ],
          "scatterpolar": [
           {
            "marker": {
             "colorbar": {
              "outlinewidth": 0,
              "ticks": ""
             }
            },
            "type": "scatterpolar"
           }
          ],
          "scatterpolargl": [
           {
            "marker": {
             "colorbar": {
              "outlinewidth": 0,
              "ticks": ""
             }
            },
            "type": "scatterpolargl"
           }
          ],
          "scatterternary": [
           {
            "marker": {
             "colorbar": {
              "outlinewidth": 0,
              "ticks": ""
             }
            },
            "type": "scatterternary"
           }
          ],
          "surface": [
           {
            "colorbar": {
             "outlinewidth": 0,
             "ticks": ""
            },
            "colorscale": [
             [
              0,
              "#0d0887"
             ],
             [
              0.1111111111111111,
              "#46039f"
             ],
             [
              0.2222222222222222,
              "#7201a8"
             ],
             [
              0.3333333333333333,
              "#9c179e"
             ],
             [
              0.4444444444444444,
              "#bd3786"
             ],
             [
              0.5555555555555556,
              "#d8576b"
             ],
             [
              0.6666666666666666,
              "#ed7953"
             ],
             [
              0.7777777777777778,
              "#fb9f3a"
             ],
             [
              0.8888888888888888,
              "#fdca26"
             ],
             [
              1,
              "#f0f921"
             ]
            ],
            "type": "surface"
           }
          ],
          "table": [
           {
            "cells": {
             "fill": {
              "color": "#EBF0F8"
             },
             "line": {
              "color": "white"
             }
            },
            "header": {
             "fill": {
              "color": "#C8D4E3"
             },
             "line": {
              "color": "white"
             }
            },
            "type": "table"
           }
          ]
         },
         "layout": {
          "annotationdefaults": {
           "arrowcolor": "#2a3f5f",
           "arrowhead": 0,
           "arrowwidth": 1
          },
          "autotypenumbers": "strict",
          "coloraxis": {
           "colorbar": {
            "outlinewidth": 0,
            "ticks": ""
           }
          },
          "colorscale": {
           "diverging": [
            [
             0,
             "#8e0152"
            ],
            [
             0.1,
             "#c51b7d"
            ],
            [
             0.2,
             "#de77ae"
            ],
            [
             0.3,
             "#f1b6da"
            ],
            [
             0.4,
             "#fde0ef"
            ],
            [
             0.5,
             "#f7f7f7"
            ],
            [
             0.6,
             "#e6f5d0"
            ],
            [
             0.7,
             "#b8e186"
            ],
            [
             0.8,
             "#7fbc41"
            ],
            [
             0.9,
             "#4d9221"
            ],
            [
             1,
             "#276419"
            ]
           ],
           "sequential": [
            [
             0,
             "#0d0887"
            ],
            [
             0.1111111111111111,
             "#46039f"
            ],
            [
             0.2222222222222222,
             "#7201a8"
            ],
            [
             0.3333333333333333,
             "#9c179e"
            ],
            [
             0.4444444444444444,
             "#bd3786"
            ],
            [
             0.5555555555555556,
             "#d8576b"
            ],
            [
             0.6666666666666666,
             "#ed7953"
            ],
            [
             0.7777777777777778,
             "#fb9f3a"
            ],
            [
             0.8888888888888888,
             "#fdca26"
            ],
            [
             1,
             "#f0f921"
            ]
           ],
           "sequentialminus": [
            [
             0,
             "#0d0887"
            ],
            [
             0.1111111111111111,
             "#46039f"
            ],
            [
             0.2222222222222222,
             "#7201a8"
            ],
            [
             0.3333333333333333,
             "#9c179e"
            ],
            [
             0.4444444444444444,
             "#bd3786"
            ],
            [
             0.5555555555555556,
             "#d8576b"
            ],
            [
             0.6666666666666666,
             "#ed7953"
            ],
            [
             0.7777777777777778,
             "#fb9f3a"
            ],
            [
             0.8888888888888888,
             "#fdca26"
            ],
            [
             1,
             "#f0f921"
            ]
           ]
          },
          "colorway": [
           "#636efa",
           "#EF553B",
           "#00cc96",
           "#ab63fa",
           "#FFA15A",
           "#19d3f3",
           "#FF6692",
           "#B6E880",
           "#FF97FF",
           "#FECB52"
          ],
          "font": {
           "color": "#2a3f5f"
          },
          "geo": {
           "bgcolor": "white",
           "lakecolor": "white",
           "landcolor": "#E5ECF6",
           "showlakes": true,
           "showland": true,
           "subunitcolor": "white"
          },
          "hoverlabel": {
           "align": "left"
          },
          "hovermode": "closest",
          "mapbox": {
           "style": "light"
          },
          "paper_bgcolor": "white",
          "plot_bgcolor": "#E5ECF6",
          "polar": {
           "angularaxis": {
            "gridcolor": "white",
            "linecolor": "white",
            "ticks": ""
           },
           "bgcolor": "#E5ECF6",
           "radialaxis": {
            "gridcolor": "white",
            "linecolor": "white",
            "ticks": ""
           }
          },
          "scene": {
           "xaxis": {
            "backgroundcolor": "#E5ECF6",
            "gridcolor": "white",
            "gridwidth": 2,
            "linecolor": "white",
            "showbackground": true,
            "ticks": "",
            "zerolinecolor": "white"
           },
           "yaxis": {
            "backgroundcolor": "#E5ECF6",
            "gridcolor": "white",
            "gridwidth": 2,
            "linecolor": "white",
            "showbackground": true,
            "ticks": "",
            "zerolinecolor": "white"
           },
           "zaxis": {
            "backgroundcolor": "#E5ECF6",
            "gridcolor": "white",
            "gridwidth": 2,
            "linecolor": "white",
            "showbackground": true,
            "ticks": "",
            "zerolinecolor": "white"
           }
          },
          "shapedefaults": {
           "line": {
            "color": "#2a3f5f"
           }
          },
          "ternary": {
           "aaxis": {
            "gridcolor": "white",
            "linecolor": "white",
            "ticks": ""
           },
           "baxis": {
            "gridcolor": "white",
            "linecolor": "white",
            "ticks": ""
           },
           "bgcolor": "#E5ECF6",
           "caxis": {
            "gridcolor": "white",
            "linecolor": "white",
            "ticks": ""
           }
          },
          "title": {
           "x": 0.05
          },
          "xaxis": {
           "automargin": true,
           "gridcolor": "white",
           "linecolor": "white",
           "ticks": "",
           "title": {
            "standoff": 15
           },
           "zerolinecolor": "white",
           "zerolinewidth": 2
          },
          "yaxis": {
           "automargin": true,
           "gridcolor": "white",
           "linecolor": "white",
           "ticks": "",
           "title": {
            "standoff": 15
           },
           "zerolinecolor": "white",
           "zerolinewidth": 2
          }
         }
        },
        "title": {
         "text": "Sentiment of Comments on Tally Proposal Posts Over Time"
        },
        "xaxis": {
         "anchor": "y",
         "constrain": "domain",
         "domain": [
          0,
          1
         ],
         "scaleanchor": "y",
         "title": {
          "text": "Date"
         }
        },
        "yaxis": {
         "anchor": "x",
         "autorange": "reversed",
         "constrain": "domain",
         "domain": [
          0,
          1
         ],
         "title": {
          "text": "Sentiment"
         }
        }
       }
      }
     },
     "metadata": {},
     "output_type": "display_data"
    }
   ],
   "source": [
    "import pandas as pd\n",
    "import plotly.express as px\n",
    "from nltk.sentiment.vader import SentimentIntensityAnalyzer\n",
    "\n",
    "# Load datasets\n",
    "posts_df = pd.read_csv('forum_posts_data.csv')\n",
    "\n",
    "# Filter posts related to Tally proposal posts\n",
    "tally_posts = posts_df[posts_df['Topic ID'].isin(tally_topic_ids)]\n",
    "\n",
    "# Initialize SentimentIntensityAnalyzer\n",
    "sid = SentimentIntensityAnalyzer()\n",
    "\n",
    "# Function to determine sentiment polarity\n",
    "def get_sentiment(text):\n",
    "    sentiment = sid.polarity_scores(text)\n",
    "    if sentiment['compound'] > 0.05:\n",
    "        return 'Positive'\n",
    "    elif sentiment['compound'] < -0.05:\n",
    "        return 'Negative'\n",
    "    else:\n",
    "        return 'Neutral'\n",
    "\n",
    "# Apply sentiment analysis to comments\n",
    "tally_posts['Sentiment'] = tally_posts['Post Description'].astype(str).apply(get_sentiment)\n",
    "\n",
    "# Convert 'Post Created At' to datetime\n",
    "tally_posts['Post Created At'] = pd.to_datetime(tally_posts['Post Created At'])\n",
    "\n",
    "# Extract date and time components\n",
    "tally_posts['Date'] = tally_posts['Post Created At'].dt.date\n",
    "\n",
    "# Group by date and sentiment, and count the number of comments\n",
    "sentiment_counts = tally_posts.groupby(['Date', 'Sentiment']).size().unstack(fill_value=0)\n",
    "\n",
    "# Create a heatmap\n",
    "fig = px.imshow(sentiment_counts.T, \n",
    "                labels=dict(x='Date', y='Sentiment', color='Number of Comments'), \n",
    "                x=sentiment_counts.index, \n",
    "                y=sentiment_counts.columns,\n",
    "                color_continuous_scale='RdYlGn',\n",
    "                title='Sentiment of Comments on Tally Proposal Posts Over Time')\n",
    "\n",
    "# Update layout\n",
    "fig.update_layout(xaxis_title='Date', yaxis_title='Sentiment', coloraxis_colorbar=dict(title='Number of Comments'))\n",
    "\n",
    "# Show the plot\n",
    "fig.show()\n",
    "fig.write_html(\"Trends in Sentiment Towards Tally Proposals Over Time.html\")"
   ]
  },
  {
   "cell_type": "markdown",
   "metadata": {},
   "source": [
    "### Does the sentiment towards Tally proposals differ significantly by other proposals?"
   ]
  },
  {
   "cell_type": "code",
   "execution_count": 53,
   "metadata": {},
   "outputs": [
    {
     "name": "stderr",
     "output_type": "stream",
     "text": [
      "C:\\Users\\abhis\\AppData\\Local\\Temp\\ipykernel_16772\\2228799861.py:33: SettingWithCopyWarning:\n",
      "\n",
      "\n",
      "A value is trying to be set on a copy of a slice from a DataFrame.\n",
      "Try using .loc[row_indexer,col_indexer] = value instead\n",
      "\n",
      "See the caveats in the documentation: https://pandas.pydata.org/pandas-docs/stable/user_guide/indexing.html#returning-a-view-versus-a-copy\n",
      "\n"
     ]
    },
    {
     "name": "stdout",
     "output_type": "stream",
     "text": [
      "Chi-square statistic: 0.015343046918830032\n",
      "P-value: 0.9923578275730098\n"
     ]
    },
    {
     "name": "stderr",
     "output_type": "stream",
     "text": [
      "C:\\Users\\abhis\\AppData\\Local\\Temp\\ipykernel_16772\\2228799861.py:34: SettingWithCopyWarning:\n",
      "\n",
      "\n",
      "A value is trying to be set on a copy of a slice from a DataFrame.\n",
      "Try using .loc[row_indexer,col_indexer] = value instead\n",
      "\n",
      "See the caveats in the documentation: https://pandas.pydata.org/pandas-docs/stable/user_guide/indexing.html#returning-a-view-versus-a-copy\n",
      "\n"
     ]
    },
    {
     "data": {
      "application/vnd.plotly.v1+json": {
       "config": {
        "plotlyServerURL": "https://plot.ly"
       },
       "data": [
        {
         "alignmentgroup": "True",
         "hovertemplate": "variable=Tally Proposals<br>Sentiment=%{x}<br>value=%{y}<extra></extra>",
         "legendgroup": "Tally Proposals",
         "marker": {
          "color": "#636efa",
          "pattern": {
           "shape": ""
          }
         },
         "name": "Tally Proposals",
         "offsetgroup": "Tally Proposals",
         "orientation": "v",
         "showlegend": true,
         "textposition": "auto",
         "type": "bar",
         "x": [
          "Positive",
          "Neutral",
          "Negative"
         ],
         "xaxis": "x",
         "y": [
          0.9065040650406504,
          0.056910569105691054,
          0.036585365853658534
         ],
         "yaxis": "y"
        },
        {
         "alignmentgroup": "True",
         "hovertemplate": "variable=Other Proposals<br>Sentiment=%{x}<br>value=%{y}<extra></extra>",
         "legendgroup": "Other Proposals",
         "marker": {
          "color": "#EF553B",
          "pattern": {
           "shape": ""
          }
         },
         "name": "Other Proposals",
         "offsetgroup": "Other Proposals",
         "orientation": "v",
         "showlegend": true,
         "textposition": "auto",
         "type": "bar",
         "x": [
          "Positive",
          "Neutral",
          "Negative"
         ],
         "xaxis": "x",
         "y": [
          0.8498132494594063,
          0.08570866915667387,
          0.06447808138391979
         ],
         "yaxis": "y"
        }
       ],
       "layout": {
        "barmode": "group",
        "legend": {
         "title": {
          "text": "variable"
         },
         "tracegroupgap": 0
        },
        "template": {
         "data": {
          "bar": [
           {
            "error_x": {
             "color": "#2a3f5f"
            },
            "error_y": {
             "color": "#2a3f5f"
            },
            "marker": {
             "line": {
              "color": "#E5ECF6",
              "width": 0.5
             },
             "pattern": {
              "fillmode": "overlay",
              "size": 10,
              "solidity": 0.2
             }
            },
            "type": "bar"
           }
          ],
          "barpolar": [
           {
            "marker": {
             "line": {
              "color": "#E5ECF6",
              "width": 0.5
             },
             "pattern": {
              "fillmode": "overlay",
              "size": 10,
              "solidity": 0.2
             }
            },
            "type": "barpolar"
           }
          ],
          "carpet": [
           {
            "aaxis": {
             "endlinecolor": "#2a3f5f",
             "gridcolor": "white",
             "linecolor": "white",
             "minorgridcolor": "white",
             "startlinecolor": "#2a3f5f"
            },
            "baxis": {
             "endlinecolor": "#2a3f5f",
             "gridcolor": "white",
             "linecolor": "white",
             "minorgridcolor": "white",
             "startlinecolor": "#2a3f5f"
            },
            "type": "carpet"
           }
          ],
          "choropleth": [
           {
            "colorbar": {
             "outlinewidth": 0,
             "ticks": ""
            },
            "type": "choropleth"
           }
          ],
          "contour": [
           {
            "colorbar": {
             "outlinewidth": 0,
             "ticks": ""
            },
            "colorscale": [
             [
              0,
              "#0d0887"
             ],
             [
              0.1111111111111111,
              "#46039f"
             ],
             [
              0.2222222222222222,
              "#7201a8"
             ],
             [
              0.3333333333333333,
              "#9c179e"
             ],
             [
              0.4444444444444444,
              "#bd3786"
             ],
             [
              0.5555555555555556,
              "#d8576b"
             ],
             [
              0.6666666666666666,
              "#ed7953"
             ],
             [
              0.7777777777777778,
              "#fb9f3a"
             ],
             [
              0.8888888888888888,
              "#fdca26"
             ],
             [
              1,
              "#f0f921"
             ]
            ],
            "type": "contour"
           }
          ],
          "contourcarpet": [
           {
            "colorbar": {
             "outlinewidth": 0,
             "ticks": ""
            },
            "type": "contourcarpet"
           }
          ],
          "heatmap": [
           {
            "colorbar": {
             "outlinewidth": 0,
             "ticks": ""
            },
            "colorscale": [
             [
              0,
              "#0d0887"
             ],
             [
              0.1111111111111111,
              "#46039f"
             ],
             [
              0.2222222222222222,
              "#7201a8"
             ],
             [
              0.3333333333333333,
              "#9c179e"
             ],
             [
              0.4444444444444444,
              "#bd3786"
             ],
             [
              0.5555555555555556,
              "#d8576b"
             ],
             [
              0.6666666666666666,
              "#ed7953"
             ],
             [
              0.7777777777777778,
              "#fb9f3a"
             ],
             [
              0.8888888888888888,
              "#fdca26"
             ],
             [
              1,
              "#f0f921"
             ]
            ],
            "type": "heatmap"
           }
          ],
          "heatmapgl": [
           {
            "colorbar": {
             "outlinewidth": 0,
             "ticks": ""
            },
            "colorscale": [
             [
              0,
              "#0d0887"
             ],
             [
              0.1111111111111111,
              "#46039f"
             ],
             [
              0.2222222222222222,
              "#7201a8"
             ],
             [
              0.3333333333333333,
              "#9c179e"
             ],
             [
              0.4444444444444444,
              "#bd3786"
             ],
             [
              0.5555555555555556,
              "#d8576b"
             ],
             [
              0.6666666666666666,
              "#ed7953"
             ],
             [
              0.7777777777777778,
              "#fb9f3a"
             ],
             [
              0.8888888888888888,
              "#fdca26"
             ],
             [
              1,
              "#f0f921"
             ]
            ],
            "type": "heatmapgl"
           }
          ],
          "histogram": [
           {
            "marker": {
             "pattern": {
              "fillmode": "overlay",
              "size": 10,
              "solidity": 0.2
             }
            },
            "type": "histogram"
           }
          ],
          "histogram2d": [
           {
            "colorbar": {
             "outlinewidth": 0,
             "ticks": ""
            },
            "colorscale": [
             [
              0,
              "#0d0887"
             ],
             [
              0.1111111111111111,
              "#46039f"
             ],
             [
              0.2222222222222222,
              "#7201a8"
             ],
             [
              0.3333333333333333,
              "#9c179e"
             ],
             [
              0.4444444444444444,
              "#bd3786"
             ],
             [
              0.5555555555555556,
              "#d8576b"
             ],
             [
              0.6666666666666666,
              "#ed7953"
             ],
             [
              0.7777777777777778,
              "#fb9f3a"
             ],
             [
              0.8888888888888888,
              "#fdca26"
             ],
             [
              1,
              "#f0f921"
             ]
            ],
            "type": "histogram2d"
           }
          ],
          "histogram2dcontour": [
           {
            "colorbar": {
             "outlinewidth": 0,
             "ticks": ""
            },
            "colorscale": [
             [
              0,
              "#0d0887"
             ],
             [
              0.1111111111111111,
              "#46039f"
             ],
             [
              0.2222222222222222,
              "#7201a8"
             ],
             [
              0.3333333333333333,
              "#9c179e"
             ],
             [
              0.4444444444444444,
              "#bd3786"
             ],
             [
              0.5555555555555556,
              "#d8576b"
             ],
             [
              0.6666666666666666,
              "#ed7953"
             ],
             [
              0.7777777777777778,
              "#fb9f3a"
             ],
             [
              0.8888888888888888,
              "#fdca26"
             ],
             [
              1,
              "#f0f921"
             ]
            ],
            "type": "histogram2dcontour"
           }
          ],
          "mesh3d": [
           {
            "colorbar": {
             "outlinewidth": 0,
             "ticks": ""
            },
            "type": "mesh3d"
           }
          ],
          "parcoords": [
           {
            "line": {
             "colorbar": {
              "outlinewidth": 0,
              "ticks": ""
             }
            },
            "type": "parcoords"
           }
          ],
          "pie": [
           {
            "automargin": true,
            "type": "pie"
           }
          ],
          "scatter": [
           {
            "fillpattern": {
             "fillmode": "overlay",
             "size": 10,
             "solidity": 0.2
            },
            "type": "scatter"
           }
          ],
          "scatter3d": [
           {
            "line": {
             "colorbar": {
              "outlinewidth": 0,
              "ticks": ""
             }
            },
            "marker": {
             "colorbar": {
              "outlinewidth": 0,
              "ticks": ""
             }
            },
            "type": "scatter3d"
           }
          ],
          "scattercarpet": [
           {
            "marker": {
             "colorbar": {
              "outlinewidth": 0,
              "ticks": ""
             }
            },
            "type": "scattercarpet"
           }
          ],
          "scattergeo": [
           {
            "marker": {
             "colorbar": {
              "outlinewidth": 0,
              "ticks": ""
             }
            },
            "type": "scattergeo"
           }
          ],
          "scattergl": [
           {
            "marker": {
             "colorbar": {
              "outlinewidth": 0,
              "ticks": ""
             }
            },
            "type": "scattergl"
           }
          ],
          "scattermapbox": [
           {
            "marker": {
             "colorbar": {
              "outlinewidth": 0,
              "ticks": ""
             }
            },
            "type": "scattermapbox"
           }
          ],
          "scatterpolar": [
           {
            "marker": {
             "colorbar": {
              "outlinewidth": 0,
              "ticks": ""
             }
            },
            "type": "scatterpolar"
           }
          ],
          "scatterpolargl": [
           {
            "marker": {
             "colorbar": {
              "outlinewidth": 0,
              "ticks": ""
             }
            },
            "type": "scatterpolargl"
           }
          ],
          "scatterternary": [
           {
            "marker": {
             "colorbar": {
              "outlinewidth": 0,
              "ticks": ""
             }
            },
            "type": "scatterternary"
           }
          ],
          "surface": [
           {
            "colorbar": {
             "outlinewidth": 0,
             "ticks": ""
            },
            "colorscale": [
             [
              0,
              "#0d0887"
             ],
             [
              0.1111111111111111,
              "#46039f"
             ],
             [
              0.2222222222222222,
              "#7201a8"
             ],
             [
              0.3333333333333333,
              "#9c179e"
             ],
             [
              0.4444444444444444,
              "#bd3786"
             ],
             [
              0.5555555555555556,
              "#d8576b"
             ],
             [
              0.6666666666666666,
              "#ed7953"
             ],
             [
              0.7777777777777778,
              "#fb9f3a"
             ],
             [
              0.8888888888888888,
              "#fdca26"
             ],
             [
              1,
              "#f0f921"
             ]
            ],
            "type": "surface"
           }
          ],
          "table": [
           {
            "cells": {
             "fill": {
              "color": "#EBF0F8"
             },
             "line": {
              "color": "white"
             }
            },
            "header": {
             "fill": {
              "color": "#C8D4E3"
             },
             "line": {
              "color": "white"
             }
            },
            "type": "table"
           }
          ]
         },
         "layout": {
          "annotationdefaults": {
           "arrowcolor": "#2a3f5f",
           "arrowhead": 0,
           "arrowwidth": 1
          },
          "autotypenumbers": "strict",
          "coloraxis": {
           "colorbar": {
            "outlinewidth": 0,
            "ticks": ""
           }
          },
          "colorscale": {
           "diverging": [
            [
             0,
             "#8e0152"
            ],
            [
             0.1,
             "#c51b7d"
            ],
            [
             0.2,
             "#de77ae"
            ],
            [
             0.3,
             "#f1b6da"
            ],
            [
             0.4,
             "#fde0ef"
            ],
            [
             0.5,
             "#f7f7f7"
            ],
            [
             0.6,
             "#e6f5d0"
            ],
            [
             0.7,
             "#b8e186"
            ],
            [
             0.8,
             "#7fbc41"
            ],
            [
             0.9,
             "#4d9221"
            ],
            [
             1,
             "#276419"
            ]
           ],
           "sequential": [
            [
             0,
             "#0d0887"
            ],
            [
             0.1111111111111111,
             "#46039f"
            ],
            [
             0.2222222222222222,
             "#7201a8"
            ],
            [
             0.3333333333333333,
             "#9c179e"
            ],
            [
             0.4444444444444444,
             "#bd3786"
            ],
            [
             0.5555555555555556,
             "#d8576b"
            ],
            [
             0.6666666666666666,
             "#ed7953"
            ],
            [
             0.7777777777777778,
             "#fb9f3a"
            ],
            [
             0.8888888888888888,
             "#fdca26"
            ],
            [
             1,
             "#f0f921"
            ]
           ],
           "sequentialminus": [
            [
             0,
             "#0d0887"
            ],
            [
             0.1111111111111111,
             "#46039f"
            ],
            [
             0.2222222222222222,
             "#7201a8"
            ],
            [
             0.3333333333333333,
             "#9c179e"
            ],
            [
             0.4444444444444444,
             "#bd3786"
            ],
            [
             0.5555555555555556,
             "#d8576b"
            ],
            [
             0.6666666666666666,
             "#ed7953"
            ],
            [
             0.7777777777777778,
             "#fb9f3a"
            ],
            [
             0.8888888888888888,
             "#fdca26"
            ],
            [
             1,
             "#f0f921"
            ]
           ]
          },
          "colorway": [
           "#636efa",
           "#EF553B",
           "#00cc96",
           "#ab63fa",
           "#FFA15A",
           "#19d3f3",
           "#FF6692",
           "#B6E880",
           "#FF97FF",
           "#FECB52"
          ],
          "font": {
           "color": "#2a3f5f"
          },
          "geo": {
           "bgcolor": "white",
           "lakecolor": "white",
           "landcolor": "#E5ECF6",
           "showlakes": true,
           "showland": true,
           "subunitcolor": "white"
          },
          "hoverlabel": {
           "align": "left"
          },
          "hovermode": "closest",
          "mapbox": {
           "style": "light"
          },
          "paper_bgcolor": "white",
          "plot_bgcolor": "#E5ECF6",
          "polar": {
           "angularaxis": {
            "gridcolor": "white",
            "linecolor": "white",
            "ticks": ""
           },
           "bgcolor": "#E5ECF6",
           "radialaxis": {
            "gridcolor": "white",
            "linecolor": "white",
            "ticks": ""
           }
          },
          "scene": {
           "xaxis": {
            "backgroundcolor": "#E5ECF6",
            "gridcolor": "white",
            "gridwidth": 2,
            "linecolor": "white",
            "showbackground": true,
            "ticks": "",
            "zerolinecolor": "white"
           },
           "yaxis": {
            "backgroundcolor": "#E5ECF6",
            "gridcolor": "white",
            "gridwidth": 2,
            "linecolor": "white",
            "showbackground": true,
            "ticks": "",
            "zerolinecolor": "white"
           },
           "zaxis": {
            "backgroundcolor": "#E5ECF6",
            "gridcolor": "white",
            "gridwidth": 2,
            "linecolor": "white",
            "showbackground": true,
            "ticks": "",
            "zerolinecolor": "white"
           }
          },
          "shapedefaults": {
           "line": {
            "color": "#2a3f5f"
           }
          },
          "ternary": {
           "aaxis": {
            "gridcolor": "white",
            "linecolor": "white",
            "ticks": ""
           },
           "baxis": {
            "gridcolor": "white",
            "linecolor": "white",
            "ticks": ""
           },
           "bgcolor": "#E5ECF6",
           "caxis": {
            "gridcolor": "white",
            "linecolor": "white",
            "ticks": ""
           }
          },
          "title": {
           "x": 0.05
          },
          "xaxis": {
           "automargin": true,
           "gridcolor": "white",
           "linecolor": "white",
           "ticks": "",
           "title": {
            "standoff": 15
           },
           "zerolinecolor": "white",
           "zerolinewidth": 2
          },
          "yaxis": {
           "automargin": true,
           "gridcolor": "white",
           "linecolor": "white",
           "ticks": "",
           "title": {
            "standoff": 15
           },
           "zerolinecolor": "white",
           "zerolinewidth": 2
          }
         }
        },
        "title": {
         "text": "Sentiment Distributions for Tally Proposals vs Other Proposals"
        },
        "xaxis": {
         "anchor": "y",
         "domain": [
          0,
          1
         ],
         "title": {
          "text": "Sentiment"
         }
        },
        "yaxis": {
         "anchor": "x",
         "domain": [
          0,
          1
         ],
         "title": {
          "text": "value"
         }
        }
       }
      }
     },
     "metadata": {},
     "output_type": "display_data"
    }
   ],
   "source": [
    "import pandas as pd\n",
    "from nltk.sentiment.vader import SentimentIntensityAnalyzer\n",
    "import plotly.express as px\n",
    "import scipy.stats as stats\n",
    "\n",
    "# Load datasets\n",
    "topics_df = pd.read_csv('forum_topics_data.csv')\n",
    "posts_df = pd.read_csv('forum_posts_data.csv')\n",
    "\n",
    "# Filter Tally proposal posts\n",
    "tally_topic_ids = [21332, 20957, 20856, 20223, 20064, 19899, 19467, 16501, 19696, 18557, \n",
    "                   19046, 16131, 15615, 15920, 15425, 15426, 14976, 14688, 14790, 13360, 13362]\n",
    "\n",
    "tally_posts = posts_df[posts_df['Topic ID'].isin(tally_topic_ids)]\n",
    "\n",
    "# Filter other proposal posts\n",
    "other_posts = posts_df[~posts_df['Topic ID'].isin(tally_topic_ids)]\n",
    "\n",
    "# Initialize SentimentIntensityAnalyzer\n",
    "sid = SentimentIntensityAnalyzer()\n",
    "\n",
    "# Function to determine sentiment polarity\n",
    "def get_sentiment(text):\n",
    "    scores = sid.polarity_scores(text)\n",
    "    if scores['compound'] >= 0.05:\n",
    "        return 'Positive'\n",
    "    elif scores['compound'] <= -0.05:\n",
    "        return 'Negative'\n",
    "    else:\n",
    "        return 'Neutral'\n",
    "\n",
    "# Apply sentiment analysis to comments\n",
    "tally_posts['Sentiment'] = tally_posts['Post Description'].astype(str).apply(get_sentiment)\n",
    "other_posts['Sentiment'] = other_posts['Post Description'].astype(str).apply(get_sentiment)\n",
    "\n",
    "# Calculate sentiment distributions\n",
    "tally_sentiment_counts = tally_posts['Sentiment'].value_counts(normalize=True)\n",
    "other_sentiment_counts = other_posts['Sentiment'].value_counts(normalize=True)\n",
    "\n",
    "# Perform statistical test (e.g., Chi-square test) to determine if there's a significant difference\n",
    "chi2_stat, p_val, _, _ = stats.chi2_contingency([tally_sentiment_counts, other_sentiment_counts])\n",
    "\n",
    "# Print results\n",
    "print(\"Chi-square statistic:\", chi2_stat)\n",
    "print(\"P-value:\", p_val)\n",
    "\n",
    "# Plot sentiment distributions\n",
    "fig = px.bar(pd.concat([tally_sentiment_counts, other_sentiment_counts], axis=1, keys=['Tally Proposals', 'Other Proposals']),\n",
    "             barmode='group', title='Sentiment Distributions for Tally Proposals vs Other Proposals')\n",
    "fig.show()\n",
    "fig.write_html(\"Sentiment Towards Tally Proposals vs Other Proposals.html\")\n"
   ]
  },
  {
   "cell_type": "markdown",
   "metadata": {},
   "source": [
    "#### Do high \"Trust Level\" users express a different sentiment compared to regular users for Tally proposals?"
   ]
  },
  {
   "cell_type": "code",
   "execution_count": 54,
   "metadata": {},
   "outputs": [
    {
     "data": {
      "application/vnd.plotly.v1+json": {
       "config": {
        "plotlyServerURL": "https://plot.ly"
       },
       "data": [
        {
         "alignmentgroup": "True",
         "hovertemplate": "Sentiment=Positive<br>Trust Level=%{x}<br>Count=%{y}<extra></extra>",
         "legendgroup": "Positive",
         "marker": {
          "color": "#636efa",
          "pattern": {
           "shape": ""
          }
         },
         "name": "Positive",
         "offsetgroup": "Positive",
         "orientation": "v",
         "showlegend": true,
         "textposition": "auto",
         "type": "bar",
         "x": [
          0,
          1,
          2,
          3,
          4
         ],
         "xaxis": "x",
         "y": [
          0.8181818181818182,
          0.9210526315789473,
          0.9401840490797546,
          0.9285714285714286,
          0.6666666666666666
         ],
         "yaxis": "y"
        },
        {
         "alignmentgroup": "True",
         "hovertemplate": "Sentiment=Negative<br>Trust Level=%{x}<br>Count=%{y}<extra></extra>",
         "legendgroup": "Negative",
         "marker": {
          "color": "#EF553B",
          "pattern": {
           "shape": ""
          }
         },
         "name": "Negative",
         "offsetgroup": "Negative",
         "orientation": "v",
         "showlegend": true,
         "textposition": "auto",
         "type": "bar",
         "x": [
          0,
          1,
          2,
          4
         ],
         "xaxis": "x",
         "y": [
          0.09090909090909091,
          0.05263157894736842,
          0.029141104294478526,
          0.017543859649122806
         ],
         "yaxis": "y"
        },
        {
         "alignmentgroup": "True",
         "hovertemplate": "Sentiment=Neutral<br>Trust Level=%{x}<br>Count=%{y}<extra></extra>",
         "legendgroup": "Neutral",
         "marker": {
          "color": "#00cc96",
          "pattern": {
           "shape": ""
          }
         },
         "name": "Neutral",
         "offsetgroup": "Neutral",
         "orientation": "v",
         "showlegend": true,
         "textposition": "auto",
         "type": "bar",
         "x": [
          0,
          1,
          2,
          3,
          4
         ],
         "xaxis": "x",
         "y": [
          0.09090909090909091,
          0.02631578947368421,
          0.03067484662576687,
          0.07142857142857142,
          0.3157894736842105
         ],
         "yaxis": "y"
        }
       ],
       "layout": {
        "barmode": "group",
        "legend": {
         "title": {
          "text": "Sentiment"
         },
         "tracegroupgap": 0
        },
        "template": {
         "data": {
          "bar": [
           {
            "error_x": {
             "color": "#2a3f5f"
            },
            "error_y": {
             "color": "#2a3f5f"
            },
            "marker": {
             "line": {
              "color": "#E5ECF6",
              "width": 0.5
             },
             "pattern": {
              "fillmode": "overlay",
              "size": 10,
              "solidity": 0.2
             }
            },
            "type": "bar"
           }
          ],
          "barpolar": [
           {
            "marker": {
             "line": {
              "color": "#E5ECF6",
              "width": 0.5
             },
             "pattern": {
              "fillmode": "overlay",
              "size": 10,
              "solidity": 0.2
             }
            },
            "type": "barpolar"
           }
          ],
          "carpet": [
           {
            "aaxis": {
             "endlinecolor": "#2a3f5f",
             "gridcolor": "white",
             "linecolor": "white",
             "minorgridcolor": "white",
             "startlinecolor": "#2a3f5f"
            },
            "baxis": {
             "endlinecolor": "#2a3f5f",
             "gridcolor": "white",
             "linecolor": "white",
             "minorgridcolor": "white",
             "startlinecolor": "#2a3f5f"
            },
            "type": "carpet"
           }
          ],
          "choropleth": [
           {
            "colorbar": {
             "outlinewidth": 0,
             "ticks": ""
            },
            "type": "choropleth"
           }
          ],
          "contour": [
           {
            "colorbar": {
             "outlinewidth": 0,
             "ticks": ""
            },
            "colorscale": [
             [
              0,
              "#0d0887"
             ],
             [
              0.1111111111111111,
              "#46039f"
             ],
             [
              0.2222222222222222,
              "#7201a8"
             ],
             [
              0.3333333333333333,
              "#9c179e"
             ],
             [
              0.4444444444444444,
              "#bd3786"
             ],
             [
              0.5555555555555556,
              "#d8576b"
             ],
             [
              0.6666666666666666,
              "#ed7953"
             ],
             [
              0.7777777777777778,
              "#fb9f3a"
             ],
             [
              0.8888888888888888,
              "#fdca26"
             ],
             [
              1,
              "#f0f921"
             ]
            ],
            "type": "contour"
           }
          ],
          "contourcarpet": [
           {
            "colorbar": {
             "outlinewidth": 0,
             "ticks": ""
            },
            "type": "contourcarpet"
           }
          ],
          "heatmap": [
           {
            "colorbar": {
             "outlinewidth": 0,
             "ticks": ""
            },
            "colorscale": [
             [
              0,
              "#0d0887"
             ],
             [
              0.1111111111111111,
              "#46039f"
             ],
             [
              0.2222222222222222,
              "#7201a8"
             ],
             [
              0.3333333333333333,
              "#9c179e"
             ],
             [
              0.4444444444444444,
              "#bd3786"
             ],
             [
              0.5555555555555556,
              "#d8576b"
             ],
             [
              0.6666666666666666,
              "#ed7953"
             ],
             [
              0.7777777777777778,
              "#fb9f3a"
             ],
             [
              0.8888888888888888,
              "#fdca26"
             ],
             [
              1,
              "#f0f921"
             ]
            ],
            "type": "heatmap"
           }
          ],
          "heatmapgl": [
           {
            "colorbar": {
             "outlinewidth": 0,
             "ticks": ""
            },
            "colorscale": [
             [
              0,
              "#0d0887"
             ],
             [
              0.1111111111111111,
              "#46039f"
             ],
             [
              0.2222222222222222,
              "#7201a8"
             ],
             [
              0.3333333333333333,
              "#9c179e"
             ],
             [
              0.4444444444444444,
              "#bd3786"
             ],
             [
              0.5555555555555556,
              "#d8576b"
             ],
             [
              0.6666666666666666,
              "#ed7953"
             ],
             [
              0.7777777777777778,
              "#fb9f3a"
             ],
             [
              0.8888888888888888,
              "#fdca26"
             ],
             [
              1,
              "#f0f921"
             ]
            ],
            "type": "heatmapgl"
           }
          ],
          "histogram": [
           {
            "marker": {
             "pattern": {
              "fillmode": "overlay",
              "size": 10,
              "solidity": 0.2
             }
            },
            "type": "histogram"
           }
          ],
          "histogram2d": [
           {
            "colorbar": {
             "outlinewidth": 0,
             "ticks": ""
            },
            "colorscale": [
             [
              0,
              "#0d0887"
             ],
             [
              0.1111111111111111,
              "#46039f"
             ],
             [
              0.2222222222222222,
              "#7201a8"
             ],
             [
              0.3333333333333333,
              "#9c179e"
             ],
             [
              0.4444444444444444,
              "#bd3786"
             ],
             [
              0.5555555555555556,
              "#d8576b"
             ],
             [
              0.6666666666666666,
              "#ed7953"
             ],
             [
              0.7777777777777778,
              "#fb9f3a"
             ],
             [
              0.8888888888888888,
              "#fdca26"
             ],
             [
              1,
              "#f0f921"
             ]
            ],
            "type": "histogram2d"
           }
          ],
          "histogram2dcontour": [
           {
            "colorbar": {
             "outlinewidth": 0,
             "ticks": ""
            },
            "colorscale": [
             [
              0,
              "#0d0887"
             ],
             [
              0.1111111111111111,
              "#46039f"
             ],
             [
              0.2222222222222222,
              "#7201a8"
             ],
             [
              0.3333333333333333,
              "#9c179e"
             ],
             [
              0.4444444444444444,
              "#bd3786"
             ],
             [
              0.5555555555555556,
              "#d8576b"
             ],
             [
              0.6666666666666666,
              "#ed7953"
             ],
             [
              0.7777777777777778,
              "#fb9f3a"
             ],
             [
              0.8888888888888888,
              "#fdca26"
             ],
             [
              1,
              "#f0f921"
             ]
            ],
            "type": "histogram2dcontour"
           }
          ],
          "mesh3d": [
           {
            "colorbar": {
             "outlinewidth": 0,
             "ticks": ""
            },
            "type": "mesh3d"
           }
          ],
          "parcoords": [
           {
            "line": {
             "colorbar": {
              "outlinewidth": 0,
              "ticks": ""
             }
            },
            "type": "parcoords"
           }
          ],
          "pie": [
           {
            "automargin": true,
            "type": "pie"
           }
          ],
          "scatter": [
           {
            "fillpattern": {
             "fillmode": "overlay",
             "size": 10,
             "solidity": 0.2
            },
            "type": "scatter"
           }
          ],
          "scatter3d": [
           {
            "line": {
             "colorbar": {
              "outlinewidth": 0,
              "ticks": ""
             }
            },
            "marker": {
             "colorbar": {
              "outlinewidth": 0,
              "ticks": ""
             }
            },
            "type": "scatter3d"
           }
          ],
          "scattercarpet": [
           {
            "marker": {
             "colorbar": {
              "outlinewidth": 0,
              "ticks": ""
             }
            },
            "type": "scattercarpet"
           }
          ],
          "scattergeo": [
           {
            "marker": {
             "colorbar": {
              "outlinewidth": 0,
              "ticks": ""
             }
            },
            "type": "scattergeo"
           }
          ],
          "scattergl": [
           {
            "marker": {
             "colorbar": {
              "outlinewidth": 0,
              "ticks": ""
             }
            },
            "type": "scattergl"
           }
          ],
          "scattermapbox": [
           {
            "marker": {
             "colorbar": {
              "outlinewidth": 0,
              "ticks": ""
             }
            },
            "type": "scattermapbox"
           }
          ],
          "scatterpolar": [
           {
            "marker": {
             "colorbar": {
              "outlinewidth": 0,
              "ticks": ""
             }
            },
            "type": "scatterpolar"
           }
          ],
          "scatterpolargl": [
           {
            "marker": {
             "colorbar": {
              "outlinewidth": 0,
              "ticks": ""
             }
            },
            "type": "scatterpolargl"
           }
          ],
          "scatterternary": [
           {
            "marker": {
             "colorbar": {
              "outlinewidth": 0,
              "ticks": ""
             }
            },
            "type": "scatterternary"
           }
          ],
          "surface": [
           {
            "colorbar": {
             "outlinewidth": 0,
             "ticks": ""
            },
            "colorscale": [
             [
              0,
              "#0d0887"
             ],
             [
              0.1111111111111111,
              "#46039f"
             ],
             [
              0.2222222222222222,
              "#7201a8"
             ],
             [
              0.3333333333333333,
              "#9c179e"
             ],
             [
              0.4444444444444444,
              "#bd3786"
             ],
             [
              0.5555555555555556,
              "#d8576b"
             ],
             [
              0.6666666666666666,
              "#ed7953"
             ],
             [
              0.7777777777777778,
              "#fb9f3a"
             ],
             [
              0.8888888888888888,
              "#fdca26"
             ],
             [
              1,
              "#f0f921"
             ]
            ],
            "type": "surface"
           }
          ],
          "table": [
           {
            "cells": {
             "fill": {
              "color": "#EBF0F8"
             },
             "line": {
              "color": "white"
             }
            },
            "header": {
             "fill": {
              "color": "#C8D4E3"
             },
             "line": {
              "color": "white"
             }
            },
            "type": "table"
           }
          ]
         },
         "layout": {
          "annotationdefaults": {
           "arrowcolor": "#2a3f5f",
           "arrowhead": 0,
           "arrowwidth": 1
          },
          "autotypenumbers": "strict",
          "coloraxis": {
           "colorbar": {
            "outlinewidth": 0,
            "ticks": ""
           }
          },
          "colorscale": {
           "diverging": [
            [
             0,
             "#8e0152"
            ],
            [
             0.1,
             "#c51b7d"
            ],
            [
             0.2,
             "#de77ae"
            ],
            [
             0.3,
             "#f1b6da"
            ],
            [
             0.4,
             "#fde0ef"
            ],
            [
             0.5,
             "#f7f7f7"
            ],
            [
             0.6,
             "#e6f5d0"
            ],
            [
             0.7,
             "#b8e186"
            ],
            [
             0.8,
             "#7fbc41"
            ],
            [
             0.9,
             "#4d9221"
            ],
            [
             1,
             "#276419"
            ]
           ],
           "sequential": [
            [
             0,
             "#0d0887"
            ],
            [
             0.1111111111111111,
             "#46039f"
            ],
            [
             0.2222222222222222,
             "#7201a8"
            ],
            [
             0.3333333333333333,
             "#9c179e"
            ],
            [
             0.4444444444444444,
             "#bd3786"
            ],
            [
             0.5555555555555556,
             "#d8576b"
            ],
            [
             0.6666666666666666,
             "#ed7953"
            ],
            [
             0.7777777777777778,
             "#fb9f3a"
            ],
            [
             0.8888888888888888,
             "#fdca26"
            ],
            [
             1,
             "#f0f921"
            ]
           ],
           "sequentialminus": [
            [
             0,
             "#0d0887"
            ],
            [
             0.1111111111111111,
             "#46039f"
            ],
            [
             0.2222222222222222,
             "#7201a8"
            ],
            [
             0.3333333333333333,
             "#9c179e"
            ],
            [
             0.4444444444444444,
             "#bd3786"
            ],
            [
             0.5555555555555556,
             "#d8576b"
            ],
            [
             0.6666666666666666,
             "#ed7953"
            ],
            [
             0.7777777777777778,
             "#fb9f3a"
            ],
            [
             0.8888888888888888,
             "#fdca26"
            ],
            [
             1,
             "#f0f921"
            ]
           ]
          },
          "colorway": [
           "#636efa",
           "#EF553B",
           "#00cc96",
           "#ab63fa",
           "#FFA15A",
           "#19d3f3",
           "#FF6692",
           "#B6E880",
           "#FF97FF",
           "#FECB52"
          ],
          "font": {
           "color": "#2a3f5f"
          },
          "geo": {
           "bgcolor": "white",
           "lakecolor": "white",
           "landcolor": "#E5ECF6",
           "showlakes": true,
           "showland": true,
           "subunitcolor": "white"
          },
          "hoverlabel": {
           "align": "left"
          },
          "hovermode": "closest",
          "mapbox": {
           "style": "light"
          },
          "paper_bgcolor": "white",
          "plot_bgcolor": "#E5ECF6",
          "polar": {
           "angularaxis": {
            "gridcolor": "white",
            "linecolor": "white",
            "ticks": ""
           },
           "bgcolor": "#E5ECF6",
           "radialaxis": {
            "gridcolor": "white",
            "linecolor": "white",
            "ticks": ""
           }
          },
          "scene": {
           "xaxis": {
            "backgroundcolor": "#E5ECF6",
            "gridcolor": "white",
            "gridwidth": 2,
            "linecolor": "white",
            "showbackground": true,
            "ticks": "",
            "zerolinecolor": "white"
           },
           "yaxis": {
            "backgroundcolor": "#E5ECF6",
            "gridcolor": "white",
            "gridwidth": 2,
            "linecolor": "white",
            "showbackground": true,
            "ticks": "",
            "zerolinecolor": "white"
           },
           "zaxis": {
            "backgroundcolor": "#E5ECF6",
            "gridcolor": "white",
            "gridwidth": 2,
            "linecolor": "white",
            "showbackground": true,
            "ticks": "",
            "zerolinecolor": "white"
           }
          },
          "shapedefaults": {
           "line": {
            "color": "#2a3f5f"
           }
          },
          "ternary": {
           "aaxis": {
            "gridcolor": "white",
            "linecolor": "white",
            "ticks": ""
           },
           "baxis": {
            "gridcolor": "white",
            "linecolor": "white",
            "ticks": ""
           },
           "bgcolor": "#E5ECF6",
           "caxis": {
            "gridcolor": "white",
            "linecolor": "white",
            "ticks": ""
           }
          },
          "title": {
           "x": 0.05
          },
          "xaxis": {
           "automargin": true,
           "gridcolor": "white",
           "linecolor": "white",
           "ticks": "",
           "title": {
            "standoff": 15
           },
           "zerolinecolor": "white",
           "zerolinewidth": 2
          },
          "yaxis": {
           "automargin": true,
           "gridcolor": "white",
           "linecolor": "white",
           "ticks": "",
           "title": {
            "standoff": 15
           },
           "zerolinecolor": "white",
           "zerolinewidth": 2
          }
         }
        },
        "title": {
         "text": "Sentiment Distributions for Trust Levels on Tally Proposals"
        },
        "xaxis": {
         "anchor": "y",
         "domain": [
          0,
          1
         ],
         "title": {
          "text": "Trust Level"
         }
        },
        "yaxis": {
         "anchor": "x",
         "domain": [
          0,
          1
         ],
         "title": {
          "text": "Count"
         }
        }
       }
      }
     },
     "metadata": {},
     "output_type": "display_data"
    }
   ],
   "source": [
    "import pandas as pd\n",
    "from nltk.sentiment.vader import SentimentIntensityAnalyzer\n",
    "import plotly.express as px\n",
    "import scipy.stats as stats\n",
    "\n",
    "# Load datasets\n",
    "topics_df = pd.read_csv('forum_topics_data.csv')\n",
    "posts_df = pd.read_csv('forum_posts_data.csv')\n",
    "users_df = pd.read_csv('forum_users_data.csv')\n",
    "\n",
    "# Filter Tally proposal posts\n",
    "tally_topic_ids = [21332, 20957, 20856, 20223, 20064, 19899, 19467, 16501, 19696, 18557, \n",
    "                   19046, 16131, 15615, 15920, 15425, 15426, 14976, 14688, 14790, 13360, 13362]\n",
    "\n",
    "tally_posts = posts_df[posts_df['Topic ID'].isin(tally_topic_ids)]\n",
    "\n",
    "# Merge with users dataframe to get trust levels\n",
    "tally_posts = tally_posts.merge(users_df[['Username', 'Trust Level']], how='left', left_on='Username', right_on='Username')\n",
    "\n",
    "# Initialize SentimentIntensityAnalyzer\n",
    "sid = SentimentIntensityAnalyzer()\n",
    "\n",
    "# Function to determine sentiment polarity\n",
    "def get_sentiment(text):\n",
    "    scores = sid.polarity_scores(text)\n",
    "    if scores['compound'] >= 0.05:\n",
    "        return 'Positive'\n",
    "    elif scores['compound'] <= -0.05:\n",
    "        return 'Negative'\n",
    "    else:\n",
    "        return 'Neutral'\n",
    "\n",
    "# Apply sentiment analysis to comments\n",
    "tally_posts['Sentiment'] = tally_posts['Post Description'].astype(str).apply(get_sentiment)\n",
    "\n",
    "# Calculate sentiment distributions for high trust level users and regular users\n",
    "trust_level_sentiment_counts = tally_posts.groupby('Trust Level')['Sentiment'].value_counts(normalize=True).reset_index(name='Count')\n",
    "\n",
    "# Plot sentiment distributions\n",
    "fig = px.bar(trust_level_sentiment_counts, x='Trust Level', y='Count', color='Sentiment',\n",
    "             barmode='group', title='Sentiment Distributions for Trust Levels on Tally Proposals')\n",
    "fig.show()\n",
    "fig.write_html(\"Sentiment of High Trust Level Users vs Regular Users.html\")\n"
   ]
  },
  {
   "cell_type": "markdown",
   "metadata": {},
   "source": [
    "#### Does the sentiment towards Tally proposals change as they age on the forum (consider comparing sentiment for newly posted vs. older proposals)?"
   ]
  },
  {
   "cell_type": "code",
   "execution_count": 55,
   "metadata": {},
   "outputs": [
    {
     "name": "stderr",
     "output_type": "stream",
     "text": [
      "C:\\Users\\abhis\\AppData\\Local\\Temp\\ipykernel_16772\\546769660.py:16: SettingWithCopyWarning:\n",
      "\n",
      "\n",
      "A value is trying to be set on a copy of a slice from a DataFrame.\n",
      "Try using .loc[row_indexer,col_indexer] = value instead\n",
      "\n",
      "See the caveats in the documentation: https://pandas.pydata.org/pandas-docs/stable/user_guide/indexing.html#returning-a-view-versus-a-copy\n",
      "\n",
      "C:\\Users\\abhis\\AppData\\Local\\Temp\\ipykernel_16772\\546769660.py:32: SettingWithCopyWarning:\n",
      "\n",
      "\n",
      "A value is trying to be set on a copy of a slice from a DataFrame.\n",
      "Try using .loc[row_indexer,col_indexer] = value instead\n",
      "\n",
      "See the caveats in the documentation: https://pandas.pydata.org/pandas-docs/stable/user_guide/indexing.html#returning-a-view-versus-a-copy\n",
      "\n",
      "C:\\Users\\abhis\\AppData\\Local\\Temp\\ipykernel_16772\\546769660.py:36: SettingWithCopyWarning:\n",
      "\n",
      "\n",
      "A value is trying to be set on a copy of a slice from a DataFrame.\n",
      "Try using .loc[row_indexer,col_indexer] = value instead\n",
      "\n",
      "See the caveats in the documentation: https://pandas.pydata.org/pandas-docs/stable/user_guide/indexing.html#returning-a-view-versus-a-copy\n",
      "\n",
      "C:\\Users\\abhis\\AppData\\Local\\Temp\\ipykernel_16772\\546769660.py:40: FutureWarning:\n",
      "\n",
      "The default of observed=False is deprecated and will be changed to True in a future version of pandas. Pass observed=False to retain current behavior or observed=True to adopt the future default and silence this warning.\n",
      "\n"
     ]
    },
    {
     "data": {
      "application/vnd.plotly.v1+json": {
       "config": {
        "plotlyServerURL": "https://plot.ly"
       },
       "data": [
        {
         "hovertemplate": "Sentiment=Negative<br>Age Group=%{x}<br>Count=%{y}<extra></extra>",
         "legendgroup": "Negative",
         "line": {
          "color": "#636efa",
          "dash": "solid"
         },
         "marker": {
          "symbol": "circle"
         },
         "mode": "lines",
         "name": "Negative",
         "orientation": "v",
         "showlegend": true,
         "type": "scatter",
         "x": [
          "0-30 days",
          "31-60 days",
          "61-90 days",
          "91-180 days",
          "181-365 days",
          "365+ days"
         ],
         "xaxis": "x",
         "y": [
          2,
          0,
          3,
          14,
          17,
          0
         ],
         "yaxis": "y"
        },
        {
         "hovertemplate": "Sentiment=Neutral<br>Age Group=%{x}<br>Count=%{y}<extra></extra>",
         "legendgroup": "Neutral",
         "line": {
          "color": "#EF553B",
          "dash": "solid"
         },
         "marker": {
          "symbol": "circle"
         },
         "mode": "lines",
         "name": "Neutral",
         "orientation": "v",
         "showlegend": true,
         "type": "scatter",
         "x": [
          "0-30 days",
          "31-60 days",
          "61-90 days",
          "91-180 days",
          "181-365 days",
          "365+ days"
         ],
         "xaxis": "x",
         "y": [
          3,
          7,
          4,
          9,
          33,
          0
         ],
         "yaxis": "y"
        },
        {
         "hovertemplate": "Sentiment=Positive<br>Age Group=%{x}<br>Count=%{y}<extra></extra>",
         "legendgroup": "Positive",
         "line": {
          "color": "#00cc96",
          "dash": "solid"
         },
         "marker": {
          "symbol": "circle"
         },
         "mode": "lines",
         "name": "Positive",
         "orientation": "v",
         "showlegend": true,
         "type": "scatter",
         "x": [
          "0-30 days",
          "31-60 days",
          "61-90 days",
          "91-180 days",
          "181-365 days",
          "365+ days"
         ],
         "xaxis": "x",
         "y": [
          78,
          59,
          91,
          270,
          394,
          0
         ],
         "yaxis": "y"
        }
       ],
       "layout": {
        "legend": {
         "title": {
          "text": "Sentiment"
         },
         "tracegroupgap": 0
        },
        "template": {
         "data": {
          "bar": [
           {
            "error_x": {
             "color": "#2a3f5f"
            },
            "error_y": {
             "color": "#2a3f5f"
            },
            "marker": {
             "line": {
              "color": "#E5ECF6",
              "width": 0.5
             },
             "pattern": {
              "fillmode": "overlay",
              "size": 10,
              "solidity": 0.2
             }
            },
            "type": "bar"
           }
          ],
          "barpolar": [
           {
            "marker": {
             "line": {
              "color": "#E5ECF6",
              "width": 0.5
             },
             "pattern": {
              "fillmode": "overlay",
              "size": 10,
              "solidity": 0.2
             }
            },
            "type": "barpolar"
           }
          ],
          "carpet": [
           {
            "aaxis": {
             "endlinecolor": "#2a3f5f",
             "gridcolor": "white",
             "linecolor": "white",
             "minorgridcolor": "white",
             "startlinecolor": "#2a3f5f"
            },
            "baxis": {
             "endlinecolor": "#2a3f5f",
             "gridcolor": "white",
             "linecolor": "white",
             "minorgridcolor": "white",
             "startlinecolor": "#2a3f5f"
            },
            "type": "carpet"
           }
          ],
          "choropleth": [
           {
            "colorbar": {
             "outlinewidth": 0,
             "ticks": ""
            },
            "type": "choropleth"
           }
          ],
          "contour": [
           {
            "colorbar": {
             "outlinewidth": 0,
             "ticks": ""
            },
            "colorscale": [
             [
              0,
              "#0d0887"
             ],
             [
              0.1111111111111111,
              "#46039f"
             ],
             [
              0.2222222222222222,
              "#7201a8"
             ],
             [
              0.3333333333333333,
              "#9c179e"
             ],
             [
              0.4444444444444444,
              "#bd3786"
             ],
             [
              0.5555555555555556,
              "#d8576b"
             ],
             [
              0.6666666666666666,
              "#ed7953"
             ],
             [
              0.7777777777777778,
              "#fb9f3a"
             ],
             [
              0.8888888888888888,
              "#fdca26"
             ],
             [
              1,
              "#f0f921"
             ]
            ],
            "type": "contour"
           }
          ],
          "contourcarpet": [
           {
            "colorbar": {
             "outlinewidth": 0,
             "ticks": ""
            },
            "type": "contourcarpet"
           }
          ],
          "heatmap": [
           {
            "colorbar": {
             "outlinewidth": 0,
             "ticks": ""
            },
            "colorscale": [
             [
              0,
              "#0d0887"
             ],
             [
              0.1111111111111111,
              "#46039f"
             ],
             [
              0.2222222222222222,
              "#7201a8"
             ],
             [
              0.3333333333333333,
              "#9c179e"
             ],
             [
              0.4444444444444444,
              "#bd3786"
             ],
             [
              0.5555555555555556,
              "#d8576b"
             ],
             [
              0.6666666666666666,
              "#ed7953"
             ],
             [
              0.7777777777777778,
              "#fb9f3a"
             ],
             [
              0.8888888888888888,
              "#fdca26"
             ],
             [
              1,
              "#f0f921"
             ]
            ],
            "type": "heatmap"
           }
          ],
          "heatmapgl": [
           {
            "colorbar": {
             "outlinewidth": 0,
             "ticks": ""
            },
            "colorscale": [
             [
              0,
              "#0d0887"
             ],
             [
              0.1111111111111111,
              "#46039f"
             ],
             [
              0.2222222222222222,
              "#7201a8"
             ],
             [
              0.3333333333333333,
              "#9c179e"
             ],
             [
              0.4444444444444444,
              "#bd3786"
             ],
             [
              0.5555555555555556,
              "#d8576b"
             ],
             [
              0.6666666666666666,
              "#ed7953"
             ],
             [
              0.7777777777777778,
              "#fb9f3a"
             ],
             [
              0.8888888888888888,
              "#fdca26"
             ],
             [
              1,
              "#f0f921"
             ]
            ],
            "type": "heatmapgl"
           }
          ],
          "histogram": [
           {
            "marker": {
             "pattern": {
              "fillmode": "overlay",
              "size": 10,
              "solidity": 0.2
             }
            },
            "type": "histogram"
           }
          ],
          "histogram2d": [
           {
            "colorbar": {
             "outlinewidth": 0,
             "ticks": ""
            },
            "colorscale": [
             [
              0,
              "#0d0887"
             ],
             [
              0.1111111111111111,
              "#46039f"
             ],
             [
              0.2222222222222222,
              "#7201a8"
             ],
             [
              0.3333333333333333,
              "#9c179e"
             ],
             [
              0.4444444444444444,
              "#bd3786"
             ],
             [
              0.5555555555555556,
              "#d8576b"
             ],
             [
              0.6666666666666666,
              "#ed7953"
             ],
             [
              0.7777777777777778,
              "#fb9f3a"
             ],
             [
              0.8888888888888888,
              "#fdca26"
             ],
             [
              1,
              "#f0f921"
             ]
            ],
            "type": "histogram2d"
           }
          ],
          "histogram2dcontour": [
           {
            "colorbar": {
             "outlinewidth": 0,
             "ticks": ""
            },
            "colorscale": [
             [
              0,
              "#0d0887"
             ],
             [
              0.1111111111111111,
              "#46039f"
             ],
             [
              0.2222222222222222,
              "#7201a8"
             ],
             [
              0.3333333333333333,
              "#9c179e"
             ],
             [
              0.4444444444444444,
              "#bd3786"
             ],
             [
              0.5555555555555556,
              "#d8576b"
             ],
             [
              0.6666666666666666,
              "#ed7953"
             ],
             [
              0.7777777777777778,
              "#fb9f3a"
             ],
             [
              0.8888888888888888,
              "#fdca26"
             ],
             [
              1,
              "#f0f921"
             ]
            ],
            "type": "histogram2dcontour"
           }
          ],
          "mesh3d": [
           {
            "colorbar": {
             "outlinewidth": 0,
             "ticks": ""
            },
            "type": "mesh3d"
           }
          ],
          "parcoords": [
           {
            "line": {
             "colorbar": {
              "outlinewidth": 0,
              "ticks": ""
             }
            },
            "type": "parcoords"
           }
          ],
          "pie": [
           {
            "automargin": true,
            "type": "pie"
           }
          ],
          "scatter": [
           {
            "fillpattern": {
             "fillmode": "overlay",
             "size": 10,
             "solidity": 0.2
            },
            "type": "scatter"
           }
          ],
          "scatter3d": [
           {
            "line": {
             "colorbar": {
              "outlinewidth": 0,
              "ticks": ""
             }
            },
            "marker": {
             "colorbar": {
              "outlinewidth": 0,
              "ticks": ""
             }
            },
            "type": "scatter3d"
           }
          ],
          "scattercarpet": [
           {
            "marker": {
             "colorbar": {
              "outlinewidth": 0,
              "ticks": ""
             }
            },
            "type": "scattercarpet"
           }
          ],
          "scattergeo": [
           {
            "marker": {
             "colorbar": {
              "outlinewidth": 0,
              "ticks": ""
             }
            },
            "type": "scattergeo"
           }
          ],
          "scattergl": [
           {
            "marker": {
             "colorbar": {
              "outlinewidth": 0,
              "ticks": ""
             }
            },
            "type": "scattergl"
           }
          ],
          "scattermapbox": [
           {
            "marker": {
             "colorbar": {
              "outlinewidth": 0,
              "ticks": ""
             }
            },
            "type": "scattermapbox"
           }
          ],
          "scatterpolar": [
           {
            "marker": {
             "colorbar": {
              "outlinewidth": 0,
              "ticks": ""
             }
            },
            "type": "scatterpolar"
           }
          ],
          "scatterpolargl": [
           {
            "marker": {
             "colorbar": {
              "outlinewidth": 0,
              "ticks": ""
             }
            },
            "type": "scatterpolargl"
           }
          ],
          "scatterternary": [
           {
            "marker": {
             "colorbar": {
              "outlinewidth": 0,
              "ticks": ""
             }
            },
            "type": "scatterternary"
           }
          ],
          "surface": [
           {
            "colorbar": {
             "outlinewidth": 0,
             "ticks": ""
            },
            "colorscale": [
             [
              0,
              "#0d0887"
             ],
             [
              0.1111111111111111,
              "#46039f"
             ],
             [
              0.2222222222222222,
              "#7201a8"
             ],
             [
              0.3333333333333333,
              "#9c179e"
             ],
             [
              0.4444444444444444,
              "#bd3786"
             ],
             [
              0.5555555555555556,
              "#d8576b"
             ],
             [
              0.6666666666666666,
              "#ed7953"
             ],
             [
              0.7777777777777778,
              "#fb9f3a"
             ],
             [
              0.8888888888888888,
              "#fdca26"
             ],
             [
              1,
              "#f0f921"
             ]
            ],
            "type": "surface"
           }
          ],
          "table": [
           {
            "cells": {
             "fill": {
              "color": "#EBF0F8"
             },
             "line": {
              "color": "white"
             }
            },
            "header": {
             "fill": {
              "color": "#C8D4E3"
             },
             "line": {
              "color": "white"
             }
            },
            "type": "table"
           }
          ]
         },
         "layout": {
          "annotationdefaults": {
           "arrowcolor": "#2a3f5f",
           "arrowhead": 0,
           "arrowwidth": 1
          },
          "autotypenumbers": "strict",
          "coloraxis": {
           "colorbar": {
            "outlinewidth": 0,
            "ticks": ""
           }
          },
          "colorscale": {
           "diverging": [
            [
             0,
             "#8e0152"
            ],
            [
             0.1,
             "#c51b7d"
            ],
            [
             0.2,
             "#de77ae"
            ],
            [
             0.3,
             "#f1b6da"
            ],
            [
             0.4,
             "#fde0ef"
            ],
            [
             0.5,
             "#f7f7f7"
            ],
            [
             0.6,
             "#e6f5d0"
            ],
            [
             0.7,
             "#b8e186"
            ],
            [
             0.8,
             "#7fbc41"
            ],
            [
             0.9,
             "#4d9221"
            ],
            [
             1,
             "#276419"
            ]
           ],
           "sequential": [
            [
             0,
             "#0d0887"
            ],
            [
             0.1111111111111111,
             "#46039f"
            ],
            [
             0.2222222222222222,
             "#7201a8"
            ],
            [
             0.3333333333333333,
             "#9c179e"
            ],
            [
             0.4444444444444444,
             "#bd3786"
            ],
            [
             0.5555555555555556,
             "#d8576b"
            ],
            [
             0.6666666666666666,
             "#ed7953"
            ],
            [
             0.7777777777777778,
             "#fb9f3a"
            ],
            [
             0.8888888888888888,
             "#fdca26"
            ],
            [
             1,
             "#f0f921"
            ]
           ],
           "sequentialminus": [
            [
             0,
             "#0d0887"
            ],
            [
             0.1111111111111111,
             "#46039f"
            ],
            [
             0.2222222222222222,
             "#7201a8"
            ],
            [
             0.3333333333333333,
             "#9c179e"
            ],
            [
             0.4444444444444444,
             "#bd3786"
            ],
            [
             0.5555555555555556,
             "#d8576b"
            ],
            [
             0.6666666666666666,
             "#ed7953"
            ],
            [
             0.7777777777777778,
             "#fb9f3a"
            ],
            [
             0.8888888888888888,
             "#fdca26"
            ],
            [
             1,
             "#f0f921"
            ]
           ]
          },
          "colorway": [
           "#636efa",
           "#EF553B",
           "#00cc96",
           "#ab63fa",
           "#FFA15A",
           "#19d3f3",
           "#FF6692",
           "#B6E880",
           "#FF97FF",
           "#FECB52"
          ],
          "font": {
           "color": "#2a3f5f"
          },
          "geo": {
           "bgcolor": "white",
           "lakecolor": "white",
           "landcolor": "#E5ECF6",
           "showlakes": true,
           "showland": true,
           "subunitcolor": "white"
          },
          "hoverlabel": {
           "align": "left"
          },
          "hovermode": "closest",
          "mapbox": {
           "style": "light"
          },
          "paper_bgcolor": "white",
          "plot_bgcolor": "#E5ECF6",
          "polar": {
           "angularaxis": {
            "gridcolor": "white",
            "linecolor": "white",
            "ticks": ""
           },
           "bgcolor": "#E5ECF6",
           "radialaxis": {
            "gridcolor": "white",
            "linecolor": "white",
            "ticks": ""
           }
          },
          "scene": {
           "xaxis": {
            "backgroundcolor": "#E5ECF6",
            "gridcolor": "white",
            "gridwidth": 2,
            "linecolor": "white",
            "showbackground": true,
            "ticks": "",
            "zerolinecolor": "white"
           },
           "yaxis": {
            "backgroundcolor": "#E5ECF6",
            "gridcolor": "white",
            "gridwidth": 2,
            "linecolor": "white",
            "showbackground": true,
            "ticks": "",
            "zerolinecolor": "white"
           },
           "zaxis": {
            "backgroundcolor": "#E5ECF6",
            "gridcolor": "white",
            "gridwidth": 2,
            "linecolor": "white",
            "showbackground": true,
            "ticks": "",
            "zerolinecolor": "white"
           }
          },
          "shapedefaults": {
           "line": {
            "color": "#2a3f5f"
           }
          },
          "ternary": {
           "aaxis": {
            "gridcolor": "white",
            "linecolor": "white",
            "ticks": ""
           },
           "baxis": {
            "gridcolor": "white",
            "linecolor": "white",
            "ticks": ""
           },
           "bgcolor": "#E5ECF6",
           "caxis": {
            "gridcolor": "white",
            "linecolor": "white",
            "ticks": ""
           }
          },
          "title": {
           "x": 0.05
          },
          "xaxis": {
           "automargin": true,
           "gridcolor": "white",
           "linecolor": "white",
           "ticks": "",
           "title": {
            "standoff": 15
           },
           "zerolinecolor": "white",
           "zerolinewidth": 2
          },
          "yaxis": {
           "automargin": true,
           "gridcolor": "white",
           "linecolor": "white",
           "ticks": "",
           "title": {
            "standoff": 15
           },
           "zerolinecolor": "white",
           "zerolinewidth": 2
          }
         }
        },
        "title": {
         "text": "Sentiment Distribution of Tally Proposals Over Time"
        },
        "xaxis": {
         "anchor": "y",
         "domain": [
          0,
          1
         ],
         "title": {
          "text": "Age Group"
         }
        },
        "yaxis": {
         "anchor": "x",
         "domain": [
          0,
          1
         ],
         "title": {
          "text": "Count"
         }
        }
       }
      }
     },
     "metadata": {},
     "output_type": "display_data"
    }
   ],
   "source": [
    "import pandas as pd\n",
    "from nltk.sentiment.vader import SentimentIntensityAnalyzer\n",
    "import plotly.express as px\n",
    "\n",
    "# Load datasets\n",
    "topics_df = pd.read_csv('forum_topics_data.csv')\n",
    "posts_df = pd.read_csv('forum_posts_data.csv')\n",
    "\n",
    "# Filter Tally proposal posts\n",
    "tally_topic_ids = [21332, 20957, 20856, 20223, 20064, 19899, 19467, 16501, 19696, 18557, \n",
    "                   19046, 16131, 15615, 15920, 15425, 15426, 14976, 14688, 14790, 13360, 13362]\n",
    "\n",
    "tally_posts = posts_df[posts_df['Topic ID'].isin(tally_topic_ids)]\n",
    "\n",
    "# Convert 'Post Created At' to datetime\n",
    "tally_posts['Post Created At'] = pd.to_datetime(tally_posts['Post Created At'])\n",
    "\n",
    "# Initialize SentimentIntensityAnalyzer\n",
    "sid = SentimentIntensityAnalyzer()\n",
    "\n",
    "# Function to determine sentiment polarity\n",
    "def get_sentiment(text):\n",
    "    scores = sid.polarity_scores(text)\n",
    "    if scores['compound'] >= 0.05:\n",
    "        return 'Positive'\n",
    "    elif scores['compound'] <= -0.05:\n",
    "        return 'Negative'\n",
    "    else:\n",
    "        return 'Neutral'\n",
    "\n",
    "# Apply sentiment analysis to comments\n",
    "tally_posts['Sentiment'] = tally_posts['Post Description'].astype(str).apply(get_sentiment)\n",
    "\n",
    "# Categorize proposals into different age groups (e.g., newly posted vs. older)\n",
    "# You can adjust the age groups as per your requirement\n",
    "tally_posts['Age Group'] = pd.cut((pd.Timestamp.now() - tally_posts['Post Created At']).dt.days, bins=[0, 30, 60, 90, 180, 365, float('inf')],\n",
    "                                  labels=['0-30 days', '31-60 days', '61-90 days', '91-180 days', '181-365 days', '365+ days'])\n",
    "\n",
    "# Calculate sentiment distributions for each age group\n",
    "sentiment_distribution = tally_posts.groupby(['Age Group', 'Sentiment']).size().reset_index(name='Count')\n",
    "\n",
    "# Plot sentiment distribution over time using line plot\n",
    "fig = px.line(sentiment_distribution, x='Age Group', y='Count', color='Sentiment', \n",
    "              title='Sentiment Distribution of Tally Proposals Over Time')\n",
    "fig.show()\n",
    "fig.write_html(\"Change in Sentiment Over Time for Tally Proposals.html\")\n"
   ]
  },
  {
   "cell_type": "markdown",
   "metadata": {},
   "source": [
    "#### Is there a correlation between the sentiment expressed in comments and the number of views a Tally proposal receives?"
   ]
  },
  {
   "cell_type": "code",
   "execution_count": 64,
   "metadata": {},
   "outputs": [
    {
     "data": {
      "application/vnd.plotly.v1+json": {
       "config": {
        "plotlyServerURL": "https://plot.ly"
       },
       "data": [
        {
         "hovertemplate": "Sentiment=%{x}<br>Views=%{y}<extra></extra>",
         "legendgroup": "",
         "marker": {
          "color": "#636efa",
          "symbol": "circle"
         },
         "mode": "markers",
         "name": "",
         "orientation": "v",
         "showlegend": false,
         "type": "scatter",
         "x": [
          0.9998,
          0.9735,
          0.9485,
          0.9826,
          0.9974,
          0.9991,
          0.9313,
          0.9259,
          0.9418,
          0.6428,
          0.9377,
          0.9921,
          0.9955,
          0.9863,
          -0.6369,
          0.9939,
          0.9979,
          0.9559,
          0.9971,
          0.9508,
          0.907,
          0.9856,
          0.5187,
          0.946,
          0.9944,
          0.9577,
          0,
          0.9178,
          0.9098,
          0,
          0.98,
          0.9915,
          0.9964,
          0.8748,
          0.9955,
          0.9611,
          0.9965,
          0.9977,
          0.9839,
          0.9923,
          0.997,
          0.9543,
          0.8779,
          0.9975,
          0.9841,
          0.9991,
          0.6908,
          0.9885,
          0.8442,
          0.9997,
          0.998,
          0.9022,
          0.9696,
          0.9974,
          0.9745,
          0.9151,
          0.9516,
          0.9422,
          0.9917,
          0.9953,
          -0.25,
          0.9885,
          0.9795,
          0.8898,
          0.7351,
          0.9887,
          0.992,
          0.8652,
          0.8221,
          0.8271,
          0.6908,
          0.6124,
          0.9081,
          0,
          0.8126,
          0.34,
          0.6588,
          0.4753,
          0,
          0.9363,
          0.4404,
          0,
          0,
          0.8016,
          0.4019,
          0.8777,
          0.9747,
          0.8126,
          0,
          0.8767,
          0.9217,
          0.9421,
          0.9796,
          0.4019,
          0.9337,
          0.9999,
          0.9724,
          0.984,
          0.4215,
          0.9937,
          0.9941,
          0.9971,
          0.9679,
          0.987,
          0.9826,
          0.9888,
          0.8885,
          0.958,
          0.9578,
          0.9836,
          0.8986,
          0.9983,
          0.75,
          1,
          0.9965,
          0.9795,
          0.9042,
          0.9427,
          0.9983,
          0.3802,
          0.8553,
          0.9946,
          0.9925,
          0.8957,
          0.4404,
          0.999,
          0.9246,
          0.9892,
          0.9921,
          0.9803,
          0.6808,
          0.9897,
          0.9914,
          1,
          0.9622,
          0.9509,
          0.9163,
          0.9953,
          0.9081,
          0.9665,
          0.8885,
          0.938,
          0.9648,
          0.9445,
          0.7906,
          0.3182,
          0.7351,
          0.8176,
          0.9889,
          0.7184,
          0,
          0.5346,
          0.6059,
          0.968,
          0.969,
          0.9825,
          0.9783,
          0.765,
          0.836,
          0.886,
          0.9337,
          0.946,
          0,
          0.4767,
          0.8214,
          0.6249,
          0.8927,
          0.8777,
          0.9392,
          0.8399,
          0.9738,
          0.9584,
          0.9998,
          0.9489,
          0.5346,
          0.9736,
          0.9595,
          0.7395,
          0.9727,
          0.9549,
          0.9729,
          0.9987,
          0.9968,
          0.986,
          0.9914,
          -0.5023,
          0.9217,
          0.9776,
          0.975,
          0.9958,
          0.943,
          0.4951,
          0.8402,
          0.9291,
          0.7263,
          0.4389,
          0.9666,
          0.7717,
          0.6249,
          0.8885,
          0.9998,
          0.2023,
          0.9839,
          0.9918,
          -0.2112,
          0.9571,
          0.5719,
          0.4005,
          -0.128,
          0.805,
          0.2481,
          0.836,
          0.9114,
          0.8431,
          0.1655,
          0.6226,
          0.6124,
          0.6007,
          0.9169,
          0.8481,
          0.9382,
          0.9693,
          -0.9335,
          0.9908,
          0.9447,
          0.9962,
          0.6124,
          0.9877,
          0.9645,
          0.3182,
          0.802,
          0.8763,
          0.9965,
          0.5719,
          0.92,
          0.9757,
          0.8762,
          0.9866,
          0.9802,
          0.9984,
          0.743,
          0.5756,
          0.4404,
          0.4019,
          0.8102,
          0.4951,
          0.7351,
          0.9173,
          0.9109,
          0.9692,
          0.844,
          0.9213,
          0.9864,
          0.5574,
          0.9674,
          0.9643,
          0.9768,
          0.995,
          0.9987,
          0.9949,
          0.8519,
          0.9919,
          0.9944,
          0.9485,
          0.9245,
          0.0639,
          0,
          0.9169,
          0.2575,
          0.6808,
          0.8779,
          0.9136,
          0.9325,
          0,
          0.9912,
          -0.0026,
          0.9795,
          0.9833,
          0.8726,
          0.3182,
          0.8656,
          0.7988,
          0.9851,
          0.9932,
          0.8422,
          0.9186,
          0.9696,
          0.9725,
          0.6847,
          0.3071,
          0.9704,
          0.9871,
          0.9732,
          -0.128,
          0.7539,
          0.0387,
          0.8325,
          0.1779,
          0.9485,
          -0.4707,
          0.8611,
          0.4404,
          0.2592,
          0.9947,
          0.7964,
          0.4112,
          0,
          0,
          0.9574,
          0.9192,
          0.8552,
          0.991,
          0.9136,
          0.9972,
          0.9957,
          0.9605,
          0.8685,
          0.9319,
          0.9081,
          0.9933,
          0,
          0.8762,
          0.8885,
          0.4572,
          0.5621,
          0.2168,
          0,
          0.9999,
          0.6597,
          0.8769,
          0.9551,
          0.9284,
          0.9958,
          0.8807,
          0.2023,
          0.9914,
          0.7708,
          0.9894,
          0.7309,
          0.9943,
          -0.7399,
          0.9847,
          0.9682,
          0.9167,
          0.9912,
          0.9925,
          0.7347,
          0.9616,
          0.9849,
          0.91,
          0.8997,
          0.4696,
          0.5696,
          0.8499,
          0.5334,
          0.9162,
          0.9873,
          0.9842,
          0.9044,
          0.9791,
          0.9531,
          0.985,
          0.9501,
          0.9998,
          0.7712,
          0.9982,
          0.9991,
          0.9865,
          0.9994,
          0.9988,
          0.9994,
          0.908,
          0.997,
          0.9926,
          0.2023,
          0.9117,
          0.7351,
          -0.0258,
          0.7845,
          0.9334,
          0.9656,
          -0.7227,
          0.8217,
          -0.5538,
          -0.4019,
          0.9899,
          0.992,
          0.9987,
          0.9987,
          0.9851,
          0.9779,
          0.9237,
          0.8555,
          0.9973,
          0.6908,
          0.7579,
          0.4582,
          -0.2755,
          0,
          0.8225,
          0.1441,
          0.9997,
          0.9922,
          0.9171,
          0.9749,
          0.9981,
          0.9761,
          0.8131,
          0.8519,
          0.9928,
          0.7177,
          0.3612,
          0,
          0.5719,
          0.9928,
          0.7717,
          0.977,
          0.7469,
          0.3485,
          0.25,
          0.9903,
          -0.631,
          0.9538,
          0.981,
          0.9662,
          0.9999,
          0.9348,
          0.9942,
          0.6479,
          0.3851,
          0,
          0.6995,
          0.5423,
          0.6249,
          0.1102,
          0.872,
          0.875,
          0,
          0.8834,
          0.9463,
          0.4019,
          0.8148,
          0.9976,
          0.9868,
          0,
          0.6322,
          0.8053,
          0.752,
          0.6919,
          0.7351,
          0.9801,
          0.7506,
          0.636,
          0.358,
          0.6249,
          0.7601,
          0.5155,
          0.4019,
          0.7906,
          0.3612,
          0.7906,
          0.8655,
          0,
          0.2997,
          0.9552,
          0.9966,
          0.959,
          0.6893,
          0.8316,
          0.4019,
          0,
          0.9996,
          0.968,
          0.9159,
          0.8225,
          0.9955,
          0.5267,
          0.8316,
          0.9186,
          0.9653,
          -0.0772,
          0.2732,
          0.8519,
          0.9953,
          0.9919,
          0.3612,
          0.9836,
          0.7579,
          0.9772,
          0.9363,
          0.1499,
          0.9969,
          0.1943,
          0.625,
          0.9948,
          0.872,
          0.8638,
          0.9118,
          0.4173,
          0.1781,
          0.9802,
          0.4767,
          0.9231,
          -0.0672,
          0.9865,
          -0.2846,
          0.9978,
          0.9904,
          0.8316,
          0.9839,
          0.9918,
          0.9935,
          0.9928,
          0.8074,
          0.6457,
          0.981,
          0.9949,
          0.951,
          0,
          -0.2263,
          0.8955,
          0.8588,
          0.9754,
          0.8481,
          0.8658,
          0.9792,
          0.4927,
          0.9991,
          0.9961,
          0.9927,
          0.9392,
          0.6808,
          0.9546,
          0.4813,
          0.9729,
          0.9123,
          0.7777,
          0.9967,
          0.9969,
          0.9392,
          0,
          0.8519,
          0.9896,
          0.7964,
          0.9306,
          0.9525,
          0.8885,
          0.9965,
          0.9761,
          0.886,
          0.6994,
          0.9937,
          0.9846,
          0.965,
          0.8729,
          0.9733,
          0.5267,
          0.836,
          0.6249,
          0.9393,
          0.9604,
          0.8225,
          0.9917,
          0.9776,
          0.9536,
          0.9825,
          0.872,
          0.1779,
          0.8228,
          0.9254,
          0.1513,
          0.0772,
          0.998,
          0.9209,
          0.9469,
          0.952,
          0.4199,
          0.8117,
          0.7964,
          0.908,
          0.9813,
          0.9952,
          0.9821,
          0.6682,
          0.8271,
          0.6369,
          0.802,
          0.4404,
          0.4574,
          0.9532,
          0.3182,
          0.6946,
          0.6486,
          0.9895,
          0.5267,
          -0.1556,
          0,
          0.5859,
          0.4019,
          0.9998,
          0.8625,
          0.4404,
          0.6369,
          0.4939,
          0.6696,
          0.4767,
          0.7152,
          0.7269,
          0.8622,
          0.3612,
          0.4199,
          0.3612,
          0.6369,
          0.5719,
          0.9843,
          0.8748,
          0.9805,
          0.914,
          0.836,
          0.8655,
          0.9929,
          0.875,
          0.3626,
          0.128,
          0.9587,
          -0.2023,
          0.8313,
          0.6486,
          0.9628,
          0.9282,
          0.9551,
          0.8858,
          0.784,
          0.8893,
          0.5017,
          0.9426,
          0.9964,
          0.3612,
          0.9969,
          0.9545,
          0.8834,
          0.9505,
          0.6711,
          0.8813,
          0.8591,
          0.7328,
          0.9423,
          0.4404,
          0.9969,
          0.7783,
          0.8885,
          0.9816,
          0.3612,
          0.7906,
          0.8779,
          0.9983,
          0,
          -0.4588,
          -0.2382,
          -0.1759,
          0.8778,
          0.9722,
          0.9287,
          0.431,
          0.9946,
          0.5057,
          0.4468,
          0.9997,
          0.9995,
          0.9423,
          0.996,
          0.8807,
          0.9622,
          0.9979,
          0.9753,
          0.9966,
          0.6482,
          0.9577,
          0.967,
          0.6908,
          0,
          0.4019,
          0.1027,
          0.3612,
          0.9964,
          0.9993,
          0,
          0.6249,
          0.6249,
          0.7003,
          0.7003,
          0.504,
          0.9858,
          0.9901,
          0,
          0.3182,
          0.8402,
          0,
          1,
          0.9976,
          0.9658,
          0.0772,
          0.9912,
          0.8672,
          0.9601,
          0.987,
          0.9995,
          0.9996,
          0.9168,
          0.84,
          0.9618,
          0.9118,
          0,
          0.5095,
          0.984,
          0.9954,
          0.717,
          0.9964,
          0.9994,
          -0.0772,
          0.9946,
          0.9325,
          0.9983,
          0.998,
          0.9974,
          0.9719,
          0.998,
          0.9517,
          0.9942,
          0.9995,
          0.9442,
          0.9976,
          0.9951,
          0.9873,
          0.1926,
          0.8481,
          0.9298,
          0.9838,
          0.9994,
          0.9995,
          -0.6249,
          0.8196,
          0.9984,
          0.9925,
          0.9801,
          0.8735,
          0.8516,
          0.2263,
          0.9802,
          0.7745,
          0,
          0.9999,
          0.9936,
          0.4404,
          0.6597,
          0.0828,
          0.9644,
          0.8781,
          0.9092,
          0.8934,
          0.9186,
          0.9442,
          0.9931,
          -0.8016,
          0.7096,
          0.9551,
          0.9738,
          0.971,
          0.9698,
          0.923,
          0.9976,
          0.9857,
          0.8999,
          0.9815,
          0.8442,
          0.9382,
          0.9958,
          0.9696,
          0.9892,
          0.6705,
          0.3612,
          0.8885,
          0.9994,
          0.4404,
          0.9231,
          0.8625,
          0.9707,
          0.9796,
          0.8687,
          0.8885,
          0.9726,
          0.999,
          0.9805,
          0.9894,
          0.9979,
          0.981,
          0.7845,
          0.9995,
          0.8176,
          0.8248,
          0.8537,
          0,
          0.743,
          0.6419,
          0.9601,
          0.6597,
          0.9968,
          0.9781,
          0.9999,
          0.9951,
          0.9741,
          0.91,
          0.9245,
          0.9782,
          0.8653,
          0.8221,
          0.936,
          0.623,
          0.8442,
          0.8442,
          0.8856,
          0.9888,
          0.967,
          0.7339,
          0.9186,
          0.4019,
          0.807,
          0.7717,
          0.7088,
          0.8016,
          0.6115,
          0.6808,
          0.7088,
          0.9774,
          0,
          0.8012,
          0.128,
          0.3612,
          0,
          0.8074,
          0.7845,
          0,
          0.4201,
          0.9776,
          0.4404,
          0.6641,
          0.7219,
          0.872,
          -0.1027,
          0.7099,
          0,
          0,
          0.4019,
          0.4019,
          0.2023,
          0.3612,
          0.9828,
          0.9732,
          0.4215,
          0.9894,
          0.6369,
          0.8733,
          0.6901,
          0.3612,
          0.8625,
          0.4588,
          0.6124,
          0,
          0.9858,
          0.784,
          0.9676,
          0.8074,
          0.9217,
          0.4201,
          0.7089,
          0.8847,
          0.938,
          0.4201,
          0.9758,
          0.2648,
          0.744,
          -0.296,
          -0.296,
          0.9833,
          0.6597,
          0.8885,
          0.5983,
          0.5187,
          0,
          0.4404,
          -0.2732,
          0.2982,
          0.3612,
          0.4404,
          0.6369,
          0.9911,
          0,
          0.9992,
          0,
          0.3612,
          0.9382,
          0.4926,
          -0.802,
          0.508,
          0.34,
          0.4588,
          0.5719,
          0.784,
          0.9897,
          0.7845,
          0.802,
          0.7845,
          0,
          0.2382,
          0.6588,
          -0.6714,
          0.5719,
          -0.5622,
          0.4215,
          -0.5423,
          0.914,
          0.9035,
          -0.6715,
          0.9919,
          0.0227,
          0.3612,
          0.8067,
          0.9918,
          0.9903,
          0.9758,
          0.6801,
          0,
          0.4329,
          0,
          0.7783,
          0,
          0,
          0.9983,
          0.9906,
          0.7762,
          0.5356,
          0.4404,
          0.9799,
          0,
          0.987,
          0.9715,
          0.1531,
          0.9805,
          0.9574,
          0,
          0.9888,
          0.7579,
          0.9983,
          0.9446,
          0.6808,
          0.8875,
          0.9354,
          0.7712,
          0.7693,
          0.2422,
          0.7096,
          0.986,
          0.9982,
          0.9901,
          0.4754,
          0.91,
          0.9778,
          0.8689,
          0.9796,
          0.9855,
          0.5859,
          0.4588,
          0.7906,
          0.7717,
          0.6067,
          0.1179,
          0.5187,
          0,
          -0.3612,
          0.6369,
          0,
          0.631,
          0.9951,
          0
         ],
         "xaxis": "x",
         "y": [
          1943,
          1943,
          1943,
          1943,
          1943,
          1943,
          1943,
          1943,
          1943,
          1943,
          1943,
          1943,
          1943,
          1943,
          1943,
          1943,
          1943,
          1943,
          1943,
          1943,
          1943,
          1943,
          1943,
          1943,
          1943,
          1943,
          1943,
          1943,
          1943,
          1943,
          1943,
          1943,
          1943,
          1943,
          1943,
          1943,
          1943,
          1943,
          1943,
          1943,
          1943,
          1943,
          1943,
          1943,
          1943,
          1943,
          1943,
          1943,
          1943,
          1943,
          1943,
          1943,
          1943,
          1943,
          1943,
          1943,
          1943,
          1943,
          1943,
          1943,
          1943,
          1943,
          1943,
          1943,
          1943,
          1943,
          2675,
          2675,
          2675,
          2675,
          2675,
          2675,
          2675,
          2675,
          2675,
          2675,
          2675,
          2675,
          2675,
          2675,
          2675,
          2675,
          2675,
          2675,
          2675,
          2675,
          2675,
          2675,
          2675,
          2675,
          2675,
          2675,
          2675,
          2675,
          2675,
          9722,
          9722,
          9722,
          9722,
          9722,
          9722,
          9722,
          9722,
          9722,
          9722,
          9722,
          9722,
          9722,
          9722,
          9722,
          9722,
          9722,
          9722,
          9722,
          9722,
          9722,
          9722,
          9722,
          9722,
          9722,
          9722,
          9722,
          9722,
          9722,
          9722,
          9722,
          9722,
          9722,
          9722,
          9722,
          9722,
          9722,
          9722,
          9722,
          9722,
          9722,
          9722,
          9722,
          9722,
          9722,
          9722,
          9722,
          9722,
          9722,
          9722,
          9722,
          9722,
          9722,
          1558,
          1558,
          1558,
          1558,
          1558,
          1558,
          1558,
          1558,
          1558,
          1558,
          1558,
          1558,
          1558,
          1558,
          1558,
          1558,
          1558,
          1558,
          1558,
          1558,
          1558,
          1558,
          1558,
          1558,
          5306,
          5306,
          5306,
          5306,
          5306,
          5306,
          5306,
          5306,
          5306,
          5306,
          5306,
          5306,
          5306,
          5306,
          5306,
          5306,
          5306,
          5306,
          5306,
          5306,
          5306,
          5306,
          5306,
          5306,
          5306,
          5306,
          5306,
          5306,
          13500,
          13500,
          13500,
          13500,
          13500,
          13500,
          13500,
          13500,
          13500,
          13500,
          13500,
          13500,
          13500,
          13500,
          13500,
          13500,
          13500,
          13500,
          13500,
          13500,
          13500,
          13500,
          13500,
          13500,
          13500,
          13500,
          13500,
          13500,
          13500,
          13500,
          13500,
          13500,
          13500,
          13500,
          13500,
          13500,
          13500,
          13500,
          13500,
          13500,
          13500,
          13500,
          13500,
          13500,
          13500,
          13500,
          13500,
          13500,
          13500,
          13500,
          13500,
          13500,
          13500,
          13500,
          13500,
          13500,
          13500,
          13500,
          13500,
          13500,
          13500,
          13500,
          13500,
          13500,
          13500,
          13500,
          13500,
          13500,
          13500,
          13500,
          13500,
          13500,
          13500,
          13500,
          13500,
          13500,
          13500,
          13500,
          13500,
          13500,
          13500,
          13500,
          13500,
          13500,
          13500,
          13500,
          13500,
          13500,
          13500,
          13500,
          13500,
          13500,
          13500,
          13500,
          13500,
          13500,
          13500,
          13500,
          13500,
          13500,
          13500,
          13500,
          13500,
          13500,
          13500,
          13500,
          13500,
          13500,
          13500,
          13500,
          13500,
          13500,
          13500,
          4250,
          4250,
          4250,
          4250,
          4250,
          4250,
          4250,
          4250,
          4250,
          4250,
          4250,
          4250,
          4250,
          4250,
          5824,
          5824,
          5824,
          5824,
          5824,
          5824,
          5824,
          5824,
          5824,
          5824,
          5824,
          5824,
          5824,
          5824,
          5824,
          5824,
          5824,
          5824,
          5824,
          5824,
          5824,
          5824,
          5824,
          5824,
          5824,
          5824,
          5824,
          5824,
          5824,
          5824,
          5824,
          5824,
          5824,
          5824,
          5824,
          5824,
          7811,
          7811,
          7811,
          7811,
          7811,
          7811,
          7811,
          7811,
          7811,
          7811,
          7811,
          7811,
          7811,
          7811,
          7811,
          7811,
          7811,
          7811,
          7811,
          7811,
          7811,
          7811,
          7811,
          7811,
          7811,
          7811,
          7811,
          7811,
          7811,
          7811,
          7811,
          7811,
          7811,
          7811,
          7811,
          7811,
          7811,
          7811,
          7811,
          7811,
          7811,
          7811,
          7811,
          7811,
          7811,
          7811,
          7811,
          7811,
          7811,
          7811,
          7811,
          7811,
          7811,
          7811,
          7811,
          7811,
          7811,
          7811,
          7811,
          7811,
          7811,
          7811,
          4665,
          4665,
          4665,
          4665,
          4665,
          4665,
          4665,
          4665,
          4665,
          4665,
          4665,
          4665,
          4665,
          4665,
          4665,
          4665,
          4665,
          6195,
          6195,
          6195,
          6195,
          6195,
          6195,
          6195,
          6195,
          6195,
          6195,
          6195,
          6195,
          6195,
          6195,
          6195,
          6195,
          6195,
          6195,
          6195,
          6195,
          6195,
          6195,
          6195,
          6195,
          6195,
          6195,
          6195,
          6195,
          6195,
          29227,
          29227,
          29227,
          29227,
          29227,
          29227,
          29227,
          29227,
          29227,
          29227,
          29227,
          29227,
          29227,
          29227,
          29227,
          29227,
          29227,
          29227,
          29227,
          29227,
          29227,
          29227,
          29227,
          29227,
          29227,
          29227,
          29227,
          29227,
          29227,
          29227,
          29227,
          29227,
          29227,
          29227,
          29227,
          29227,
          29227,
          29227,
          29227,
          29227,
          29227,
          29227,
          29227,
          29227,
          29227,
          29227,
          29227,
          29227,
          29227,
          29227,
          29227,
          29227,
          29227,
          29227,
          29227,
          29227,
          29227,
          29227,
          29227,
          29227,
          29227,
          29227,
          29227,
          29227,
          29227,
          29227,
          29227,
          29227,
          29227,
          29227,
          29227,
          29227,
          29227,
          29227,
          29227,
          29227,
          29227,
          29227,
          29227,
          29227,
          29227,
          29227,
          29227,
          29227,
          29227,
          29227,
          29227,
          29227,
          29227,
          29227,
          29227,
          29227,
          29227,
          29227,
          29227,
          29227,
          29227,
          29227,
          29227,
          29227,
          29227,
          29227,
          29227,
          29227,
          29227,
          29227,
          29227,
          29227,
          29227,
          29227,
          29227,
          29227,
          29227,
          29227,
          29227,
          29227,
          29227,
          29227,
          29227,
          29227,
          29227,
          29227,
          29227,
          29227,
          29227,
          29227,
          29227,
          29227,
          6787,
          6787,
          6787,
          6787,
          6787,
          6787,
          6787,
          6787,
          6787,
          6787,
          6787,
          6787,
          6787,
          6787,
          6787,
          6787,
          6787,
          6787,
          6787,
          6787,
          6787,
          6787,
          6787,
          6787,
          6787,
          6787,
          6787,
          6787,
          6787,
          6787,
          6787,
          6787,
          6787,
          6787,
          6787,
          6787,
          6787,
          6787,
          6787,
          6787,
          6787,
          6787,
          6787,
          6787,
          6787,
          6787,
          6787,
          6787,
          6787,
          6787,
          6787,
          6787,
          6787,
          6787,
          6787,
          6787,
          6787,
          6787,
          6787,
          6787,
          6787,
          6787,
          6787,
          6787,
          6787,
          6787,
          6787,
          6787,
          3684,
          3684,
          3684,
          3684,
          3684,
          3684,
          3684,
          3684,
          3684,
          3684,
          3684,
          916,
          916,
          916,
          916,
          916,
          916,
          916,
          4342,
          4342,
          4342,
          4342,
          4342,
          4342,
          4342,
          4342,
          4342,
          4342,
          4342,
          4342,
          4342,
          7560,
          7560,
          7560,
          7560,
          7560,
          7560,
          7560,
          7560,
          7560,
          7560,
          7560,
          7560,
          7560,
          7560,
          7560,
          7560,
          7560,
          7560,
          7560,
          7560,
          7560,
          7560,
          7560,
          7560,
          7560,
          7560,
          7560,
          7560,
          7560,
          7560,
          7560,
          7560,
          7560,
          7560,
          7560,
          7560,
          7560,
          7560,
          7560,
          7560,
          7560,
          7560,
          7560,
          7560,
          7560,
          7560,
          7560,
          7560,
          7560,
          7560,
          7560,
          7560,
          7560,
          9674,
          9674,
          9674,
          9674,
          9674,
          9674,
          9674,
          9674,
          9674,
          9674,
          9674,
          9674,
          9674,
          9674,
          9674,
          9674,
          9674,
          9674,
          9674,
          9674,
          9674,
          9674,
          9674,
          9674,
          9674,
          9674,
          9674,
          9674,
          9674,
          9674,
          9674,
          9674,
          9674,
          9674,
          9674,
          9674,
          9674,
          9674,
          9674,
          9674,
          9674,
          9674,
          9674,
          9674,
          9674,
          9674,
          9674,
          9674,
          9674,
          9674,
          9674,
          9674,
          9674,
          9674,
          9674,
          9674,
          9674,
          9674,
          9674,
          9674,
          9674,
          9674,
          5245,
          5245,
          5245,
          5245,
          5245,
          5245,
          5245,
          5245,
          5245,
          5245,
          5245,
          5245,
          5245,
          5245,
          5245,
          5245,
          5245,
          5245,
          5245,
          5245,
          16268,
          16268,
          16268,
          16268,
          16268,
          16268,
          16268,
          16268,
          16268,
          16268,
          16268,
          16268,
          16268,
          16268,
          16268,
          16268,
          16268,
          16268,
          16268,
          16268,
          16268,
          16268,
          16268,
          16268,
          16268,
          16268,
          16268,
          16268,
          16268,
          16268,
          16268,
          16268,
          16268,
          16268,
          16268,
          16268,
          16268,
          16268,
          16268,
          16268,
          16268,
          16268,
          16268,
          16268,
          16268,
          16268,
          16268,
          16268,
          16268,
          16268,
          16268,
          16268,
          16268,
          16268,
          16268,
          16268,
          16268,
          16268,
          16268,
          16268,
          16268,
          16268,
          16268,
          16268,
          20612,
          20612,
          20612,
          20612,
          20612,
          20612,
          20612,
          20612,
          20612,
          20612,
          20612,
          20612,
          20612,
          20612,
          20612,
          20612,
          20612,
          20612,
          20612,
          20612,
          20612,
          20612,
          20612,
          20612,
          20612,
          20612,
          20612,
          20612,
          20612,
          20612,
          20612,
          20612,
          20612,
          20612,
          20612,
          20612,
          20612,
          20612,
          20612,
          20612,
          20612,
          20612,
          20612,
          20612,
          20612,
          20612,
          20612,
          20612,
          20612,
          20612,
          20612,
          20612,
          20612,
          20612,
          20612,
          20612,
          20612,
          20612,
          20612,
          20612,
          20612,
          20612,
          20612,
          20612,
          20612,
          20612,
          20612,
          20612,
          20612,
          20612,
          20612,
          20612,
          20612,
          20612,
          20612,
          20612,
          20612,
          20612,
          20612,
          20612,
          20612,
          20612,
          20612,
          20612,
          20612,
          20612,
          20612
         ],
         "yaxis": "y"
        }
       ],
       "layout": {
        "legend": {
         "tracegroupgap": 0
        },
        "template": {
         "data": {
          "bar": [
           {
            "error_x": {
             "color": "#2a3f5f"
            },
            "error_y": {
             "color": "#2a3f5f"
            },
            "marker": {
             "line": {
              "color": "#E5ECF6",
              "width": 0.5
             },
             "pattern": {
              "fillmode": "overlay",
              "size": 10,
              "solidity": 0.2
             }
            },
            "type": "bar"
           }
          ],
          "barpolar": [
           {
            "marker": {
             "line": {
              "color": "#E5ECF6",
              "width": 0.5
             },
             "pattern": {
              "fillmode": "overlay",
              "size": 10,
              "solidity": 0.2
             }
            },
            "type": "barpolar"
           }
          ],
          "carpet": [
           {
            "aaxis": {
             "endlinecolor": "#2a3f5f",
             "gridcolor": "white",
             "linecolor": "white",
             "minorgridcolor": "white",
             "startlinecolor": "#2a3f5f"
            },
            "baxis": {
             "endlinecolor": "#2a3f5f",
             "gridcolor": "white",
             "linecolor": "white",
             "minorgridcolor": "white",
             "startlinecolor": "#2a3f5f"
            },
            "type": "carpet"
           }
          ],
          "choropleth": [
           {
            "colorbar": {
             "outlinewidth": 0,
             "ticks": ""
            },
            "type": "choropleth"
           }
          ],
          "contour": [
           {
            "colorbar": {
             "outlinewidth": 0,
             "ticks": ""
            },
            "colorscale": [
             [
              0,
              "#0d0887"
             ],
             [
              0.1111111111111111,
              "#46039f"
             ],
             [
              0.2222222222222222,
              "#7201a8"
             ],
             [
              0.3333333333333333,
              "#9c179e"
             ],
             [
              0.4444444444444444,
              "#bd3786"
             ],
             [
              0.5555555555555556,
              "#d8576b"
             ],
             [
              0.6666666666666666,
              "#ed7953"
             ],
             [
              0.7777777777777778,
              "#fb9f3a"
             ],
             [
              0.8888888888888888,
              "#fdca26"
             ],
             [
              1,
              "#f0f921"
             ]
            ],
            "type": "contour"
           }
          ],
          "contourcarpet": [
           {
            "colorbar": {
             "outlinewidth": 0,
             "ticks": ""
            },
            "type": "contourcarpet"
           }
          ],
          "heatmap": [
           {
            "colorbar": {
             "outlinewidth": 0,
             "ticks": ""
            },
            "colorscale": [
             [
              0,
              "#0d0887"
             ],
             [
              0.1111111111111111,
              "#46039f"
             ],
             [
              0.2222222222222222,
              "#7201a8"
             ],
             [
              0.3333333333333333,
              "#9c179e"
             ],
             [
              0.4444444444444444,
              "#bd3786"
             ],
             [
              0.5555555555555556,
              "#d8576b"
             ],
             [
              0.6666666666666666,
              "#ed7953"
             ],
             [
              0.7777777777777778,
              "#fb9f3a"
             ],
             [
              0.8888888888888888,
              "#fdca26"
             ],
             [
              1,
              "#f0f921"
             ]
            ],
            "type": "heatmap"
           }
          ],
          "heatmapgl": [
           {
            "colorbar": {
             "outlinewidth": 0,
             "ticks": ""
            },
            "colorscale": [
             [
              0,
              "#0d0887"
             ],
             [
              0.1111111111111111,
              "#46039f"
             ],
             [
              0.2222222222222222,
              "#7201a8"
             ],
             [
              0.3333333333333333,
              "#9c179e"
             ],
             [
              0.4444444444444444,
              "#bd3786"
             ],
             [
              0.5555555555555556,
              "#d8576b"
             ],
             [
              0.6666666666666666,
              "#ed7953"
             ],
             [
              0.7777777777777778,
              "#fb9f3a"
             ],
             [
              0.8888888888888888,
              "#fdca26"
             ],
             [
              1,
              "#f0f921"
             ]
            ],
            "type": "heatmapgl"
           }
          ],
          "histogram": [
           {
            "marker": {
             "pattern": {
              "fillmode": "overlay",
              "size": 10,
              "solidity": 0.2
             }
            },
            "type": "histogram"
           }
          ],
          "histogram2d": [
           {
            "colorbar": {
             "outlinewidth": 0,
             "ticks": ""
            },
            "colorscale": [
             [
              0,
              "#0d0887"
             ],
             [
              0.1111111111111111,
              "#46039f"
             ],
             [
              0.2222222222222222,
              "#7201a8"
             ],
             [
              0.3333333333333333,
              "#9c179e"
             ],
             [
              0.4444444444444444,
              "#bd3786"
             ],
             [
              0.5555555555555556,
              "#d8576b"
             ],
             [
              0.6666666666666666,
              "#ed7953"
             ],
             [
              0.7777777777777778,
              "#fb9f3a"
             ],
             [
              0.8888888888888888,
              "#fdca26"
             ],
             [
              1,
              "#f0f921"
             ]
            ],
            "type": "histogram2d"
           }
          ],
          "histogram2dcontour": [
           {
            "colorbar": {
             "outlinewidth": 0,
             "ticks": ""
            },
            "colorscale": [
             [
              0,
              "#0d0887"
             ],
             [
              0.1111111111111111,
              "#46039f"
             ],
             [
              0.2222222222222222,
              "#7201a8"
             ],
             [
              0.3333333333333333,
              "#9c179e"
             ],
             [
              0.4444444444444444,
              "#bd3786"
             ],
             [
              0.5555555555555556,
              "#d8576b"
             ],
             [
              0.6666666666666666,
              "#ed7953"
             ],
             [
              0.7777777777777778,
              "#fb9f3a"
             ],
             [
              0.8888888888888888,
              "#fdca26"
             ],
             [
              1,
              "#f0f921"
             ]
            ],
            "type": "histogram2dcontour"
           }
          ],
          "mesh3d": [
           {
            "colorbar": {
             "outlinewidth": 0,
             "ticks": ""
            },
            "type": "mesh3d"
           }
          ],
          "parcoords": [
           {
            "line": {
             "colorbar": {
              "outlinewidth": 0,
              "ticks": ""
             }
            },
            "type": "parcoords"
           }
          ],
          "pie": [
           {
            "automargin": true,
            "type": "pie"
           }
          ],
          "scatter": [
           {
            "fillpattern": {
             "fillmode": "overlay",
             "size": 10,
             "solidity": 0.2
            },
            "type": "scatter"
           }
          ],
          "scatter3d": [
           {
            "line": {
             "colorbar": {
              "outlinewidth": 0,
              "ticks": ""
             }
            },
            "marker": {
             "colorbar": {
              "outlinewidth": 0,
              "ticks": ""
             }
            },
            "type": "scatter3d"
           }
          ],
          "scattercarpet": [
           {
            "marker": {
             "colorbar": {
              "outlinewidth": 0,
              "ticks": ""
             }
            },
            "type": "scattercarpet"
           }
          ],
          "scattergeo": [
           {
            "marker": {
             "colorbar": {
              "outlinewidth": 0,
              "ticks": ""
             }
            },
            "type": "scattergeo"
           }
          ],
          "scattergl": [
           {
            "marker": {
             "colorbar": {
              "outlinewidth": 0,
              "ticks": ""
             }
            },
            "type": "scattergl"
           }
          ],
          "scattermapbox": [
           {
            "marker": {
             "colorbar": {
              "outlinewidth": 0,
              "ticks": ""
             }
            },
            "type": "scattermapbox"
           }
          ],
          "scatterpolar": [
           {
            "marker": {
             "colorbar": {
              "outlinewidth": 0,
              "ticks": ""
             }
            },
            "type": "scatterpolar"
           }
          ],
          "scatterpolargl": [
           {
            "marker": {
             "colorbar": {
              "outlinewidth": 0,
              "ticks": ""
             }
            },
            "type": "scatterpolargl"
           }
          ],
          "scatterternary": [
           {
            "marker": {
             "colorbar": {
              "outlinewidth": 0,
              "ticks": ""
             }
            },
            "type": "scatterternary"
           }
          ],
          "surface": [
           {
            "colorbar": {
             "outlinewidth": 0,
             "ticks": ""
            },
            "colorscale": [
             [
              0,
              "#0d0887"
             ],
             [
              0.1111111111111111,
              "#46039f"
             ],
             [
              0.2222222222222222,
              "#7201a8"
             ],
             [
              0.3333333333333333,
              "#9c179e"
             ],
             [
              0.4444444444444444,
              "#bd3786"
             ],
             [
              0.5555555555555556,
              "#d8576b"
             ],
             [
              0.6666666666666666,
              "#ed7953"
             ],
             [
              0.7777777777777778,
              "#fb9f3a"
             ],
             [
              0.8888888888888888,
              "#fdca26"
             ],
             [
              1,
              "#f0f921"
             ]
            ],
            "type": "surface"
           }
          ],
          "table": [
           {
            "cells": {
             "fill": {
              "color": "#EBF0F8"
             },
             "line": {
              "color": "white"
             }
            },
            "header": {
             "fill": {
              "color": "#C8D4E3"
             },
             "line": {
              "color": "white"
             }
            },
            "type": "table"
           }
          ]
         },
         "layout": {
          "annotationdefaults": {
           "arrowcolor": "#2a3f5f",
           "arrowhead": 0,
           "arrowwidth": 1
          },
          "autotypenumbers": "strict",
          "coloraxis": {
           "colorbar": {
            "outlinewidth": 0,
            "ticks": ""
           }
          },
          "colorscale": {
           "diverging": [
            [
             0,
             "#8e0152"
            ],
            [
             0.1,
             "#c51b7d"
            ],
            [
             0.2,
             "#de77ae"
            ],
            [
             0.3,
             "#f1b6da"
            ],
            [
             0.4,
             "#fde0ef"
            ],
            [
             0.5,
             "#f7f7f7"
            ],
            [
             0.6,
             "#e6f5d0"
            ],
            [
             0.7,
             "#b8e186"
            ],
            [
             0.8,
             "#7fbc41"
            ],
            [
             0.9,
             "#4d9221"
            ],
            [
             1,
             "#276419"
            ]
           ],
           "sequential": [
            [
             0,
             "#0d0887"
            ],
            [
             0.1111111111111111,
             "#46039f"
            ],
            [
             0.2222222222222222,
             "#7201a8"
            ],
            [
             0.3333333333333333,
             "#9c179e"
            ],
            [
             0.4444444444444444,
             "#bd3786"
            ],
            [
             0.5555555555555556,
             "#d8576b"
            ],
            [
             0.6666666666666666,
             "#ed7953"
            ],
            [
             0.7777777777777778,
             "#fb9f3a"
            ],
            [
             0.8888888888888888,
             "#fdca26"
            ],
            [
             1,
             "#f0f921"
            ]
           ],
           "sequentialminus": [
            [
             0,
             "#0d0887"
            ],
            [
             0.1111111111111111,
             "#46039f"
            ],
            [
             0.2222222222222222,
             "#7201a8"
            ],
            [
             0.3333333333333333,
             "#9c179e"
            ],
            [
             0.4444444444444444,
             "#bd3786"
            ],
            [
             0.5555555555555556,
             "#d8576b"
            ],
            [
             0.6666666666666666,
             "#ed7953"
            ],
            [
             0.7777777777777778,
             "#fb9f3a"
            ],
            [
             0.8888888888888888,
             "#fdca26"
            ],
            [
             1,
             "#f0f921"
            ]
           ]
          },
          "colorway": [
           "#636efa",
           "#EF553B",
           "#00cc96",
           "#ab63fa",
           "#FFA15A",
           "#19d3f3",
           "#FF6692",
           "#B6E880",
           "#FF97FF",
           "#FECB52"
          ],
          "font": {
           "color": "#2a3f5f"
          },
          "geo": {
           "bgcolor": "white",
           "lakecolor": "white",
           "landcolor": "#E5ECF6",
           "showlakes": true,
           "showland": true,
           "subunitcolor": "white"
          },
          "hoverlabel": {
           "align": "left"
          },
          "hovermode": "closest",
          "mapbox": {
           "style": "light"
          },
          "paper_bgcolor": "white",
          "plot_bgcolor": "#E5ECF6",
          "polar": {
           "angularaxis": {
            "gridcolor": "white",
            "linecolor": "white",
            "ticks": ""
           },
           "bgcolor": "#E5ECF6",
           "radialaxis": {
            "gridcolor": "white",
            "linecolor": "white",
            "ticks": ""
           }
          },
          "scene": {
           "xaxis": {
            "backgroundcolor": "#E5ECF6",
            "gridcolor": "white",
            "gridwidth": 2,
            "linecolor": "white",
            "showbackground": true,
            "ticks": "",
            "zerolinecolor": "white"
           },
           "yaxis": {
            "backgroundcolor": "#E5ECF6",
            "gridcolor": "white",
            "gridwidth": 2,
            "linecolor": "white",
            "showbackground": true,
            "ticks": "",
            "zerolinecolor": "white"
           },
           "zaxis": {
            "backgroundcolor": "#E5ECF6",
            "gridcolor": "white",
            "gridwidth": 2,
            "linecolor": "white",
            "showbackground": true,
            "ticks": "",
            "zerolinecolor": "white"
           }
          },
          "shapedefaults": {
           "line": {
            "color": "#2a3f5f"
           }
          },
          "ternary": {
           "aaxis": {
            "gridcolor": "white",
            "linecolor": "white",
            "ticks": ""
           },
           "baxis": {
            "gridcolor": "white",
            "linecolor": "white",
            "ticks": ""
           },
           "bgcolor": "#E5ECF6",
           "caxis": {
            "gridcolor": "white",
            "linecolor": "white",
            "ticks": ""
           }
          },
          "title": {
           "x": 0.05
          },
          "xaxis": {
           "automargin": true,
           "gridcolor": "white",
           "linecolor": "white",
           "ticks": "",
           "title": {
            "standoff": 15
           },
           "zerolinecolor": "white",
           "zerolinewidth": 2
          },
          "yaxis": {
           "automargin": true,
           "gridcolor": "white",
           "linecolor": "white",
           "ticks": "",
           "title": {
            "standoff": 15
           },
           "zerolinecolor": "white",
           "zerolinewidth": 2
          }
         }
        },
        "title": {
         "text": "Correlation between Sentiment and Number of Views,\nCorrelation Coefficient: -0.08"
        },
        "xaxis": {
         "anchor": "y",
         "domain": [
          0,
          1
         ],
         "title": {
          "text": "Sentiment"
         }
        },
        "yaxis": {
         "anchor": "x",
         "domain": [
          0,
          1
         ],
         "title": {
          "text": "Views"
         }
        }
       }
      }
     },
     "metadata": {},
     "output_type": "display_data"
    }
   ],
   "source": [
    "import pandas as pd\n",
    "from nltk.sentiment.vader import SentimentIntensityAnalyzer\n",
    "import plotly.express as px\n",
    "\n",
    "# Load datasets\n",
    "topics_df = pd.read_csv('forum_topics_data.csv')\n",
    "posts_df = pd.read_csv('forum_posts_data.csv')\n",
    "\n",
    "# Filter Tally proposal posts\n",
    "tally_topic_ids = [21332, 20957, 20856, 20223, 20064, 19899, 19467, 16501, 19696, 18557, \n",
    "                   19046, 16131, 15615, 15920, 15425, 15426, 14976, 14688, 14790, 13360, 13362]\n",
    "\n",
    "tally_posts = posts_df[posts_df['Topic ID'].isin(tally_topic_ids)]\n",
    "\n",
    "# Merge with topics dataframe to get 'Views' information\n",
    "tally_posts = tally_posts.merge(topics_df[['Topic ID', 'Views']], how='left', left_on='Topic ID', right_on='Topic ID')\n",
    "\n",
    "# Initialize SentimentIntensityAnalyzer\n",
    "sid = SentimentIntensityAnalyzer()\n",
    "\n",
    "# Function to determine sentiment polarity\n",
    "def get_sentiment(text):\n",
    "    scores = sid.polarity_scores(text)\n",
    "    return scores['compound']\n",
    "\n",
    "# Apply sentiment analysis to comments\n",
    "tally_posts['Sentiment'] = tally_posts['Post Description'].astype(str).apply(get_sentiment)\n",
    "\n",
    "# Calculate the correlation between sentiment and number of views\n",
    "correlation = tally_posts[['Sentiment', 'Views']].corr().iloc[0, 1]\n",
    "\n",
    "# Plot scatter plot with sentiment vs. number of views\n",
    "fig = px.scatter(tally_posts, x='Sentiment', y='Views', \n",
    "                 title=f'Correlation between Sentiment and Number of Views,\\nCorrelation Coefficient: {correlation:.2f}')\n",
    "fig.show()\n",
    "fig.write_html(\"Correlation Between Sentiment and Number of Views.html\")\n"
   ]
  },
  {
   "cell_type": "markdown",
   "metadata": {},
   "source": [
    "#### Is there a correlation between the sentiment expressed in comments and the number of likes a Tally proposal receives?"
   ]
  },
  {
   "cell_type": "code",
   "execution_count": 65,
   "metadata": {},
   "outputs": [
    {
     "data": {
      "application/vnd.plotly.v1+json": {
       "config": {
        "plotlyServerURL": "https://plot.ly"
       },
       "data": [
        {
         "hovertemplate": "Sentiment=%{x}<br>Like Count=%{y}<extra></extra>",
         "legendgroup": "",
         "marker": {
          "color": "#636efa",
          "symbol": "circle"
         },
         "mode": "markers",
         "name": "",
         "orientation": "v",
         "showlegend": false,
         "type": "scatter",
         "x": [
          0.9998,
          0.9735,
          0.9485,
          0.9826,
          0.9974,
          0.9991,
          0.9313,
          0.9259,
          0.9418,
          0.6428,
          0.9377,
          0.9921,
          0.9955,
          0.9863,
          -0.6369,
          0.9939,
          0.9979,
          0.9559,
          0.9971,
          0.9508,
          0.907,
          0.9856,
          0.5187,
          0.946,
          0.9944,
          0.9577,
          0,
          0.9178,
          0.9098,
          0,
          0.98,
          0.9915,
          0.9964,
          0.8748,
          0.9955,
          0.9611,
          0.9965,
          0.9977,
          0.9839,
          0.9923,
          0.997,
          0.9543,
          0.8779,
          0.9975,
          0.9841,
          0.9991,
          0.6908,
          0.9885,
          0.8442,
          0.9997,
          0.998,
          0.9022,
          0.9696,
          0.9974,
          0.9745,
          0.9151,
          0.9516,
          0.9422,
          0.9917,
          0.9953,
          -0.25,
          0.9885,
          0.9795,
          0.8898,
          0.7351,
          0.9887,
          0.992,
          0.8652,
          0.8221,
          0.8271,
          0.6908,
          0.6124,
          0.9081,
          0,
          0.8126,
          0.34,
          0.6588,
          0.4753,
          0,
          0.9363,
          0.4404,
          0,
          0,
          0.8016,
          0.4019,
          0.8777,
          0.9747,
          0.8126,
          0,
          0.8767,
          0.9217,
          0.9421,
          0.9796,
          0.4019,
          0.9337,
          0.9999,
          0.9724,
          0.984,
          0.4215,
          0.9937,
          0.9941,
          0.9971,
          0.9679,
          0.987,
          0.9826,
          0.9888,
          0.8885,
          0.958,
          0.9578,
          0.9836,
          0.8986,
          0.9983,
          0.75,
          1,
          0.9965,
          0.9795,
          0.9042,
          0.9427,
          0.9983,
          0.3802,
          0.8553,
          0.9946,
          0.9925,
          0.8957,
          0.4404,
          0.999,
          0.9246,
          0.9892,
          0.9921,
          0.9803,
          0.6808,
          0.9897,
          0.9914,
          1,
          0.9622,
          0.9509,
          0.9163,
          0.9953,
          0.9081,
          0.9665,
          0.8885,
          0.938,
          0.9648,
          0.9445,
          0.7906,
          0.3182,
          0.7351,
          0.8176,
          0.9889,
          0.7184,
          0,
          0.5346,
          0.6059,
          0.968,
          0.969,
          0.9825,
          0.9783,
          0.765,
          0.836,
          0.886,
          0.9337,
          0.946,
          0,
          0.4767,
          0.8214,
          0.6249,
          0.8927,
          0.8777,
          0.9392,
          0.8399,
          0.9738,
          0.9584,
          0.9998,
          0.9489,
          0.5346,
          0.9736,
          0.9595,
          0.7395,
          0.9727,
          0.9549,
          0.9729,
          0.9987,
          0.9968,
          0.986,
          0.9914,
          -0.5023,
          0.9217,
          0.9776,
          0.975,
          0.9958,
          0.943,
          0.4951,
          0.8402,
          0.9291,
          0.7263,
          0.4389,
          0.9666,
          0.7717,
          0.6249,
          0.8885,
          0.9998,
          0.2023,
          0.9839,
          0.9918,
          -0.2112,
          0.9571,
          0.5719,
          0.4005,
          -0.128,
          0.805,
          0.2481,
          0.836,
          0.9114,
          0.8431,
          0.1655,
          0.6226,
          0.6124,
          0.6007,
          0.9169,
          0.8481,
          0.9382,
          0.9693,
          -0.9335,
          0.9908,
          0.9447,
          0.9962,
          0.6124,
          0.9877,
          0.9645,
          0.3182,
          0.802,
          0.8763,
          0.9965,
          0.5719,
          0.92,
          0.9757,
          0.8762,
          0.9866,
          0.9802,
          0.9984,
          0.743,
          0.5756,
          0.4404,
          0.4019,
          0.8102,
          0.4951,
          0.7351,
          0.9173,
          0.9109,
          0.9692,
          0.844,
          0.9213,
          0.9864,
          0.5574,
          0.9674,
          0.9643,
          0.9768,
          0.995,
          0.9987,
          0.9949,
          0.8519,
          0.9919,
          0.9944,
          0.9485,
          0.9245,
          0.0639,
          0,
          0.9169,
          0.2575,
          0.6808,
          0.8779,
          0.9136,
          0.9325,
          0,
          0.9912,
          -0.0026,
          0.9795,
          0.9833,
          0.8726,
          0.3182,
          0.8656,
          0.7988,
          0.9851,
          0.9932,
          0.8422,
          0.9186,
          0.9696,
          0.9725,
          0.6847,
          0.3071,
          0.9704,
          0.9871,
          0.9732,
          -0.128,
          0.7539,
          0.0387,
          0.8325,
          0.1779,
          0.9485,
          -0.4707,
          0.8611,
          0.4404,
          0.2592,
          0.9947,
          0.7964,
          0.4112,
          0,
          0,
          0.9574,
          0.9192,
          0.8552,
          0.991,
          0.9136,
          0.9972,
          0.9957,
          0.9605,
          0.8685,
          0.9319,
          0.9081,
          0.9933,
          0,
          0.8762,
          0.8885,
          0.4572,
          0.5621,
          0.2168,
          0,
          0.9999,
          0.6597,
          0.8769,
          0.9551,
          0.9284,
          0.9958,
          0.8807,
          0.2023,
          0.9914,
          0.7708,
          0.9894,
          0.7309,
          0.9943,
          -0.7399,
          0.9847,
          0.9682,
          0.9167,
          0.9912,
          0.9925,
          0.7347,
          0.9616,
          0.9849,
          0.91,
          0.8997,
          0.4696,
          0.5696,
          0.8499,
          0.5334,
          0.9162,
          0.9873,
          0.9842,
          0.9044,
          0.9791,
          0.9531,
          0.985,
          0.9501,
          0.9998,
          0.7712,
          0.9982,
          0.9991,
          0.9865,
          0.9994,
          0.9988,
          0.9994,
          0.908,
          0.997,
          0.9926,
          0.2023,
          0.9117,
          0.7351,
          -0.0258,
          0.7845,
          0.9334,
          0.9656,
          -0.7227,
          0.8217,
          -0.5538,
          -0.4019,
          0.9899,
          0.992,
          0.9987,
          0.9987,
          0.9851,
          0.9779,
          0.9237,
          0.8555,
          0.9973,
          0.6908,
          0.7579,
          0.4582,
          -0.2755,
          0,
          0.8225,
          0.1441,
          0.9997,
          0.9922,
          0.9171,
          0.9749,
          0.9981,
          0.9761,
          0.8131,
          0.8519,
          0.9928,
          0.7177,
          0.3612,
          0,
          0.5719,
          0.9928,
          0.7717,
          0.977,
          0.7469,
          0.3485,
          0.25,
          0.9903,
          -0.631,
          0.9538,
          0.981,
          0.9662,
          0.9999,
          0.9348,
          0.9942,
          0.6479,
          0.3851,
          0,
          0.6995,
          0.5423,
          0.6249,
          0.1102,
          0.872,
          0.875,
          0,
          0.8834,
          0.9463,
          0.4019,
          0.8148,
          0.9976,
          0.9868,
          0,
          0.6322,
          0.8053,
          0.752,
          0.6919,
          0.7351,
          0.9801,
          0.7506,
          0.636,
          0.358,
          0.6249,
          0.7601,
          0.5155,
          0.4019,
          0.7906,
          0.3612,
          0.7906,
          0.8655,
          0,
          0.2997,
          0.9552,
          0.9966,
          0.959,
          0.6893,
          0.8316,
          0.4019,
          0,
          0.9996,
          0.968,
          0.9159,
          0.8225,
          0.9955,
          0.5267,
          0.8316,
          0.9186,
          0.9653,
          -0.0772,
          0.2732,
          0.8519,
          0.9953,
          0.9919,
          0.3612,
          0.9836,
          0.7579,
          0.9772,
          0.9363,
          0.1499,
          0.9969,
          0.1943,
          0.625,
          0.9948,
          0.872,
          0.8638,
          0.9118,
          0.4173,
          0.1781,
          0.9802,
          0.4767,
          0.9231,
          -0.0672,
          0.9865,
          -0.2846,
          0.9978,
          0.9904,
          0.8316,
          0.9839,
          0.9918,
          0.9935,
          0.9928,
          0.8074,
          0.6457,
          0.981,
          0.9949,
          0.951,
          0,
          -0.2263,
          0.8955,
          0.8588,
          0.9754,
          0.8481,
          0.8658,
          0.9792,
          0.4927,
          0.9991,
          0.9961,
          0.9927,
          0.9392,
          0.6808,
          0.9546,
          0.4813,
          0.9729,
          0.9123,
          0.7777,
          0.9967,
          0.9969,
          0.9392,
          0,
          0.8519,
          0.9896,
          0.7964,
          0.9306,
          0.9525,
          0.8885,
          0.9965,
          0.9761,
          0.886,
          0.6994,
          0.9937,
          0.9846,
          0.965,
          0.8729,
          0.9733,
          0.5267,
          0.836,
          0.6249,
          0.9393,
          0.9604,
          0.8225,
          0.9917,
          0.9776,
          0.9536,
          0.9825,
          0.872,
          0.1779,
          0.8228,
          0.9254,
          0.1513,
          0.0772,
          0.998,
          0.9209,
          0.9469,
          0.952,
          0.4199,
          0.8117,
          0.7964,
          0.908,
          0.9813,
          0.9952,
          0.9821,
          0.6682,
          0.8271,
          0.6369,
          0.802,
          0.4404,
          0.4574,
          0.9532,
          0.3182,
          0.6946,
          0.6486,
          0.9895,
          0.5267,
          -0.1556,
          0,
          0.5859,
          0.4019,
          0.9998,
          0.8625,
          0.4404,
          0.6369,
          0.4939,
          0.6696,
          0.4767,
          0.7152,
          0.7269,
          0.8622,
          0.3612,
          0.4199,
          0.3612,
          0.6369,
          0.5719,
          0.9843,
          0.8748,
          0.9805,
          0.914,
          0.836,
          0.8655,
          0.9929,
          0.875,
          0.3626,
          0.128,
          0.9587,
          -0.2023,
          0.8313,
          0.6486,
          0.9628,
          0.9282,
          0.9551,
          0.8858,
          0.784,
          0.8893,
          0.5017,
          0.9426,
          0.9964,
          0.3612,
          0.9969,
          0.9545,
          0.8834,
          0.9505,
          0.6711,
          0.8813,
          0.8591,
          0.7328,
          0.9423,
          0.4404,
          0.9969,
          0.7783,
          0.8885,
          0.9816,
          0.3612,
          0.7906,
          0.8779,
          0.9983,
          0,
          -0.4588,
          -0.2382,
          -0.1759,
          0.8778,
          0.9722,
          0.9287,
          0.431,
          0.9946,
          0.5057,
          0.4468,
          0.9997,
          0.9995,
          0.9423,
          0.996,
          0.8807,
          0.9622,
          0.9979,
          0.9753,
          0.9966,
          0.6482,
          0.9577,
          0.967,
          0.6908,
          0,
          0.4019,
          0.1027,
          0.3612,
          0.9964,
          0.9993,
          0,
          0.6249,
          0.6249,
          0.7003,
          0.7003,
          0.504,
          0.9858,
          0.9901,
          0,
          0.3182,
          0.8402,
          0,
          1,
          0.9976,
          0.9658,
          0.0772,
          0.9912,
          0.8672,
          0.9601,
          0.987,
          0.9995,
          0.9996,
          0.9168,
          0.84,
          0.9618,
          0.9118,
          0,
          0.5095,
          0.984,
          0.9954,
          0.717,
          0.9964,
          0.9994,
          -0.0772,
          0.9946,
          0.9325,
          0.9983,
          0.998,
          0.9974,
          0.9719,
          0.998,
          0.9517,
          0.9942,
          0.9995,
          0.9442,
          0.9976,
          0.9951,
          0.9873,
          0.1926,
          0.8481,
          0.9298,
          0.9838,
          0.9994,
          0.9995,
          -0.6249,
          0.8196,
          0.9984,
          0.9925,
          0.9801,
          0.8735,
          0.8516,
          0.2263,
          0.9802,
          0.7745,
          0,
          0.9999,
          0.9936,
          0.4404,
          0.6597,
          0.0828,
          0.9644,
          0.8781,
          0.9092,
          0.8934,
          0.9186,
          0.9442,
          0.9931,
          -0.8016,
          0.7096,
          0.9551,
          0.9738,
          0.971,
          0.9698,
          0.923,
          0.9976,
          0.9857,
          0.8999,
          0.9815,
          0.8442,
          0.9382,
          0.9958,
          0.9696,
          0.9892,
          0.6705,
          0.3612,
          0.8885,
          0.9994,
          0.4404,
          0.9231,
          0.8625,
          0.9707,
          0.9796,
          0.8687,
          0.8885,
          0.9726,
          0.999,
          0.9805,
          0.9894,
          0.9979,
          0.981,
          0.7845,
          0.9995,
          0.8176,
          0.8248,
          0.8537,
          0,
          0.743,
          0.6419,
          0.9601,
          0.6597,
          0.9968,
          0.9781,
          0.9999,
          0.9951,
          0.9741,
          0.91,
          0.9245,
          0.9782,
          0.8653,
          0.8221,
          0.936,
          0.623,
          0.8442,
          0.8442,
          0.8856,
          0.9888,
          0.967,
          0.7339,
          0.9186,
          0.4019,
          0.807,
          0.7717,
          0.7088,
          0.8016,
          0.6115,
          0.6808,
          0.7088,
          0.9774,
          0,
          0.8012,
          0.128,
          0.3612,
          0,
          0.8074,
          0.7845,
          0,
          0.4201,
          0.9776,
          0.4404,
          0.6641,
          0.7219,
          0.872,
          -0.1027,
          0.7099,
          0,
          0,
          0.4019,
          0.4019,
          0.2023,
          0.3612,
          0.9828,
          0.9732,
          0.4215,
          0.9894,
          0.6369,
          0.8733,
          0.6901,
          0.3612,
          0.8625,
          0.4588,
          0.6124,
          0,
          0.9858,
          0.784,
          0.9676,
          0.8074,
          0.9217,
          0.4201,
          0.7089,
          0.8847,
          0.938,
          0.4201,
          0.9758,
          0.2648,
          0.744,
          -0.296,
          -0.296,
          0.9833,
          0.6597,
          0.8885,
          0.5983,
          0.5187,
          0,
          0.4404,
          -0.2732,
          0.2982,
          0.3612,
          0.4404,
          0.6369,
          0.9911,
          0,
          0.9992,
          0,
          0.3612,
          0.9382,
          0.4926,
          -0.802,
          0.508,
          0.34,
          0.4588,
          0.5719,
          0.784,
          0.9897,
          0.7845,
          0.802,
          0.7845,
          0,
          0.2382,
          0.6588,
          -0.6714,
          0.5719,
          -0.5622,
          0.4215,
          -0.5423,
          0.914,
          0.9035,
          -0.6715,
          0.9919,
          0.0227,
          0.3612,
          0.8067,
          0.9918,
          0.9903,
          0.9758,
          0.6801,
          0,
          0.4329,
          0,
          0.7783,
          0,
          0,
          0.9983,
          0.9906,
          0.7762,
          0.5356,
          0.4404,
          0.9799,
          0,
          0.987,
          0.9715,
          0.1531,
          0.9805,
          0.9574,
          0,
          0.9888,
          0.7579,
          0.9983,
          0.9446,
          0.6808,
          0.8875,
          0.9354,
          0.7712,
          0.7693,
          0.2422,
          0.7096,
          0.986,
          0.9982,
          0.9901,
          0.4754,
          0.91,
          0.9778,
          0.8689,
          0.9796,
          0.9855,
          0.5859,
          0.4588,
          0.7906,
          0.7717,
          0.6067,
          0.1179,
          0.5187,
          0,
          -0.3612,
          0.6369,
          0,
          0.631,
          0.9951,
          0
         ],
         "xaxis": "x",
         "y": [
          229,
          229,
          229,
          229,
          229,
          229,
          229,
          229,
          229,
          229,
          229,
          229,
          229,
          229,
          229,
          229,
          229,
          229,
          229,
          229,
          229,
          229,
          229,
          229,
          229,
          229,
          229,
          229,
          229,
          229,
          229,
          229,
          229,
          229,
          229,
          229,
          229,
          229,
          229,
          229,
          229,
          229,
          229,
          229,
          229,
          229,
          229,
          229,
          229,
          229,
          229,
          229,
          229,
          229,
          229,
          229,
          229,
          229,
          229,
          229,
          229,
          229,
          229,
          229,
          229,
          229,
          32,
          32,
          32,
          32,
          32,
          32,
          32,
          32,
          32,
          32,
          32,
          32,
          32,
          32,
          32,
          32,
          32,
          32,
          32,
          32,
          32,
          32,
          32,
          32,
          32,
          32,
          32,
          32,
          32,
          293,
          293,
          293,
          293,
          293,
          293,
          293,
          293,
          293,
          293,
          293,
          293,
          293,
          293,
          293,
          293,
          293,
          293,
          293,
          293,
          293,
          293,
          293,
          293,
          293,
          293,
          293,
          293,
          293,
          293,
          293,
          293,
          293,
          293,
          293,
          293,
          293,
          293,
          293,
          293,
          293,
          293,
          293,
          293,
          293,
          293,
          293,
          293,
          293,
          293,
          293,
          293,
          293,
          46,
          46,
          46,
          46,
          46,
          46,
          46,
          46,
          46,
          46,
          46,
          46,
          46,
          46,
          46,
          46,
          46,
          46,
          46,
          46,
          46,
          46,
          46,
          46,
          135,
          135,
          135,
          135,
          135,
          135,
          135,
          135,
          135,
          135,
          135,
          135,
          135,
          135,
          135,
          135,
          135,
          135,
          135,
          135,
          135,
          135,
          135,
          135,
          135,
          135,
          135,
          135,
          721,
          721,
          721,
          721,
          721,
          721,
          721,
          721,
          721,
          721,
          721,
          721,
          721,
          721,
          721,
          721,
          721,
          721,
          721,
          721,
          721,
          721,
          721,
          721,
          721,
          721,
          721,
          721,
          721,
          721,
          721,
          721,
          721,
          721,
          721,
          721,
          721,
          721,
          721,
          721,
          721,
          721,
          721,
          721,
          721,
          721,
          721,
          721,
          721,
          721,
          721,
          721,
          721,
          721,
          721,
          721,
          721,
          721,
          721,
          721,
          721,
          721,
          721,
          721,
          721,
          721,
          721,
          721,
          721,
          721,
          721,
          721,
          721,
          721,
          721,
          721,
          721,
          721,
          721,
          721,
          721,
          721,
          721,
          721,
          721,
          721,
          721,
          721,
          721,
          721,
          721,
          721,
          721,
          721,
          721,
          721,
          721,
          721,
          721,
          721,
          721,
          721,
          721,
          721,
          721,
          721,
          721,
          721,
          721,
          721,
          721,
          721,
          721,
          31,
          31,
          31,
          31,
          31,
          31,
          31,
          31,
          31,
          31,
          31,
          31,
          31,
          31,
          150,
          150,
          150,
          150,
          150,
          150,
          150,
          150,
          150,
          150,
          150,
          150,
          150,
          150,
          150,
          150,
          150,
          150,
          150,
          150,
          150,
          150,
          150,
          150,
          150,
          150,
          150,
          150,
          150,
          150,
          150,
          150,
          150,
          150,
          150,
          150,
          331,
          331,
          331,
          331,
          331,
          331,
          331,
          331,
          331,
          331,
          331,
          331,
          331,
          331,
          331,
          331,
          331,
          331,
          331,
          331,
          331,
          331,
          331,
          331,
          331,
          331,
          331,
          331,
          331,
          331,
          331,
          331,
          331,
          331,
          331,
          331,
          331,
          331,
          331,
          331,
          331,
          331,
          331,
          331,
          331,
          331,
          331,
          331,
          331,
          331,
          331,
          331,
          331,
          331,
          331,
          331,
          331,
          331,
          331,
          331,
          331,
          331,
          120,
          120,
          120,
          120,
          120,
          120,
          120,
          120,
          120,
          120,
          120,
          120,
          120,
          120,
          120,
          120,
          120,
          163,
          163,
          163,
          163,
          163,
          163,
          163,
          163,
          163,
          163,
          163,
          163,
          163,
          163,
          163,
          163,
          163,
          163,
          163,
          163,
          163,
          163,
          163,
          163,
          163,
          163,
          163,
          163,
          163,
          618,
          618,
          618,
          618,
          618,
          618,
          618,
          618,
          618,
          618,
          618,
          618,
          618,
          618,
          618,
          618,
          618,
          618,
          618,
          618,
          618,
          618,
          618,
          618,
          618,
          618,
          618,
          618,
          618,
          618,
          618,
          618,
          618,
          618,
          618,
          618,
          618,
          618,
          618,
          618,
          618,
          618,
          618,
          618,
          618,
          618,
          618,
          618,
          618,
          618,
          618,
          618,
          618,
          618,
          618,
          618,
          618,
          618,
          618,
          618,
          618,
          618,
          618,
          618,
          618,
          618,
          618,
          618,
          618,
          618,
          618,
          618,
          618,
          618,
          618,
          618,
          618,
          618,
          618,
          618,
          618,
          618,
          618,
          618,
          618,
          618,
          618,
          618,
          618,
          618,
          618,
          618,
          618,
          618,
          618,
          618,
          618,
          618,
          618,
          618,
          618,
          618,
          618,
          618,
          618,
          618,
          618,
          618,
          618,
          618,
          618,
          618,
          618,
          618,
          618,
          618,
          618,
          618,
          618,
          618,
          618,
          618,
          618,
          618,
          618,
          618,
          618,
          618,
          249,
          249,
          249,
          249,
          249,
          249,
          249,
          249,
          249,
          249,
          249,
          249,
          249,
          249,
          249,
          249,
          249,
          249,
          249,
          249,
          249,
          249,
          249,
          249,
          249,
          249,
          249,
          249,
          249,
          249,
          249,
          249,
          249,
          249,
          249,
          249,
          249,
          249,
          249,
          249,
          249,
          249,
          249,
          249,
          249,
          249,
          249,
          249,
          249,
          249,
          249,
          249,
          249,
          249,
          249,
          249,
          249,
          249,
          249,
          249,
          249,
          249,
          249,
          249,
          249,
          249,
          249,
          249,
          71,
          71,
          71,
          71,
          71,
          71,
          71,
          71,
          71,
          71,
          71,
          24,
          24,
          24,
          24,
          24,
          24,
          24,
          37,
          37,
          37,
          37,
          37,
          37,
          37,
          37,
          37,
          37,
          37,
          37,
          37,
          296,
          296,
          296,
          296,
          296,
          296,
          296,
          296,
          296,
          296,
          296,
          296,
          296,
          296,
          296,
          296,
          296,
          296,
          296,
          296,
          296,
          296,
          296,
          296,
          296,
          296,
          296,
          296,
          296,
          296,
          296,
          296,
          296,
          296,
          296,
          296,
          296,
          296,
          296,
          296,
          296,
          296,
          296,
          296,
          296,
          296,
          296,
          296,
          296,
          296,
          296,
          296,
          296,
          401,
          401,
          401,
          401,
          401,
          401,
          401,
          401,
          401,
          401,
          401,
          401,
          401,
          401,
          401,
          401,
          401,
          401,
          401,
          401,
          401,
          401,
          401,
          401,
          401,
          401,
          401,
          401,
          401,
          401,
          401,
          401,
          401,
          401,
          401,
          401,
          401,
          401,
          401,
          401,
          401,
          401,
          401,
          401,
          401,
          401,
          401,
          401,
          401,
          401,
          401,
          401,
          401,
          401,
          401,
          401,
          401,
          401,
          401,
          401,
          401,
          401,
          174,
          174,
          174,
          174,
          174,
          174,
          174,
          174,
          174,
          174,
          174,
          174,
          174,
          174,
          174,
          174,
          174,
          174,
          174,
          174,
          232,
          232,
          232,
          232,
          232,
          232,
          232,
          232,
          232,
          232,
          232,
          232,
          232,
          232,
          232,
          232,
          232,
          232,
          232,
          232,
          232,
          232,
          232,
          232,
          232,
          232,
          232,
          232,
          232,
          232,
          232,
          232,
          232,
          232,
          232,
          232,
          232,
          232,
          232,
          232,
          232,
          232,
          232,
          232,
          232,
          232,
          232,
          232,
          232,
          232,
          232,
          232,
          232,
          232,
          232,
          232,
          232,
          232,
          232,
          232,
          232,
          232,
          232,
          232,
          479,
          479,
          479,
          479,
          479,
          479,
          479,
          479,
          479,
          479,
          479,
          479,
          479,
          479,
          479,
          479,
          479,
          479,
          479,
          479,
          479,
          479,
          479,
          479,
          479,
          479,
          479,
          479,
          479,
          479,
          479,
          479,
          479,
          479,
          479,
          479,
          479,
          479,
          479,
          479,
          479,
          479,
          479,
          479,
          479,
          479,
          479,
          479,
          479,
          479,
          479,
          479,
          479,
          479,
          479,
          479,
          479,
          479,
          479,
          479,
          479,
          479,
          479,
          479,
          479,
          479,
          479,
          479,
          479,
          479,
          479,
          479,
          479,
          479,
          479,
          479,
          479,
          479,
          479,
          479,
          479,
          479,
          479,
          479,
          479,
          479,
          479
         ],
         "yaxis": "y"
        }
       ],
       "layout": {
        "legend": {
         "tracegroupgap": 0
        },
        "template": {
         "data": {
          "bar": [
           {
            "error_x": {
             "color": "#2a3f5f"
            },
            "error_y": {
             "color": "#2a3f5f"
            },
            "marker": {
             "line": {
              "color": "#E5ECF6",
              "width": 0.5
             },
             "pattern": {
              "fillmode": "overlay",
              "size": 10,
              "solidity": 0.2
             }
            },
            "type": "bar"
           }
          ],
          "barpolar": [
           {
            "marker": {
             "line": {
              "color": "#E5ECF6",
              "width": 0.5
             },
             "pattern": {
              "fillmode": "overlay",
              "size": 10,
              "solidity": 0.2
             }
            },
            "type": "barpolar"
           }
          ],
          "carpet": [
           {
            "aaxis": {
             "endlinecolor": "#2a3f5f",
             "gridcolor": "white",
             "linecolor": "white",
             "minorgridcolor": "white",
             "startlinecolor": "#2a3f5f"
            },
            "baxis": {
             "endlinecolor": "#2a3f5f",
             "gridcolor": "white",
             "linecolor": "white",
             "minorgridcolor": "white",
             "startlinecolor": "#2a3f5f"
            },
            "type": "carpet"
           }
          ],
          "choropleth": [
           {
            "colorbar": {
             "outlinewidth": 0,
             "ticks": ""
            },
            "type": "choropleth"
           }
          ],
          "contour": [
           {
            "colorbar": {
             "outlinewidth": 0,
             "ticks": ""
            },
            "colorscale": [
             [
              0,
              "#0d0887"
             ],
             [
              0.1111111111111111,
              "#46039f"
             ],
             [
              0.2222222222222222,
              "#7201a8"
             ],
             [
              0.3333333333333333,
              "#9c179e"
             ],
             [
              0.4444444444444444,
              "#bd3786"
             ],
             [
              0.5555555555555556,
              "#d8576b"
             ],
             [
              0.6666666666666666,
              "#ed7953"
             ],
             [
              0.7777777777777778,
              "#fb9f3a"
             ],
             [
              0.8888888888888888,
              "#fdca26"
             ],
             [
              1,
              "#f0f921"
             ]
            ],
            "type": "contour"
           }
          ],
          "contourcarpet": [
           {
            "colorbar": {
             "outlinewidth": 0,
             "ticks": ""
            },
            "type": "contourcarpet"
           }
          ],
          "heatmap": [
           {
            "colorbar": {
             "outlinewidth": 0,
             "ticks": ""
            },
            "colorscale": [
             [
              0,
              "#0d0887"
             ],
             [
              0.1111111111111111,
              "#46039f"
             ],
             [
              0.2222222222222222,
              "#7201a8"
             ],
             [
              0.3333333333333333,
              "#9c179e"
             ],
             [
              0.4444444444444444,
              "#bd3786"
             ],
             [
              0.5555555555555556,
              "#d8576b"
             ],
             [
              0.6666666666666666,
              "#ed7953"
             ],
             [
              0.7777777777777778,
              "#fb9f3a"
             ],
             [
              0.8888888888888888,
              "#fdca26"
             ],
             [
              1,
              "#f0f921"
             ]
            ],
            "type": "heatmap"
           }
          ],
          "heatmapgl": [
           {
            "colorbar": {
             "outlinewidth": 0,
             "ticks": ""
            },
            "colorscale": [
             [
              0,
              "#0d0887"
             ],
             [
              0.1111111111111111,
              "#46039f"
             ],
             [
              0.2222222222222222,
              "#7201a8"
             ],
             [
              0.3333333333333333,
              "#9c179e"
             ],
             [
              0.4444444444444444,
              "#bd3786"
             ],
             [
              0.5555555555555556,
              "#d8576b"
             ],
             [
              0.6666666666666666,
              "#ed7953"
             ],
             [
              0.7777777777777778,
              "#fb9f3a"
             ],
             [
              0.8888888888888888,
              "#fdca26"
             ],
             [
              1,
              "#f0f921"
             ]
            ],
            "type": "heatmapgl"
           }
          ],
          "histogram": [
           {
            "marker": {
             "pattern": {
              "fillmode": "overlay",
              "size": 10,
              "solidity": 0.2
             }
            },
            "type": "histogram"
           }
          ],
          "histogram2d": [
           {
            "colorbar": {
             "outlinewidth": 0,
             "ticks": ""
            },
            "colorscale": [
             [
              0,
              "#0d0887"
             ],
             [
              0.1111111111111111,
              "#46039f"
             ],
             [
              0.2222222222222222,
              "#7201a8"
             ],
             [
              0.3333333333333333,
              "#9c179e"
             ],
             [
              0.4444444444444444,
              "#bd3786"
             ],
             [
              0.5555555555555556,
              "#d8576b"
             ],
             [
              0.6666666666666666,
              "#ed7953"
             ],
             [
              0.7777777777777778,
              "#fb9f3a"
             ],
             [
              0.8888888888888888,
              "#fdca26"
             ],
             [
              1,
              "#f0f921"
             ]
            ],
            "type": "histogram2d"
           }
          ],
          "histogram2dcontour": [
           {
            "colorbar": {
             "outlinewidth": 0,
             "ticks": ""
            },
            "colorscale": [
             [
              0,
              "#0d0887"
             ],
             [
              0.1111111111111111,
              "#46039f"
             ],
             [
              0.2222222222222222,
              "#7201a8"
             ],
             [
              0.3333333333333333,
              "#9c179e"
             ],
             [
              0.4444444444444444,
              "#bd3786"
             ],
             [
              0.5555555555555556,
              "#d8576b"
             ],
             [
              0.6666666666666666,
              "#ed7953"
             ],
             [
              0.7777777777777778,
              "#fb9f3a"
             ],
             [
              0.8888888888888888,
              "#fdca26"
             ],
             [
              1,
              "#f0f921"
             ]
            ],
            "type": "histogram2dcontour"
           }
          ],
          "mesh3d": [
           {
            "colorbar": {
             "outlinewidth": 0,
             "ticks": ""
            },
            "type": "mesh3d"
           }
          ],
          "parcoords": [
           {
            "line": {
             "colorbar": {
              "outlinewidth": 0,
              "ticks": ""
             }
            },
            "type": "parcoords"
           }
          ],
          "pie": [
           {
            "automargin": true,
            "type": "pie"
           }
          ],
          "scatter": [
           {
            "fillpattern": {
             "fillmode": "overlay",
             "size": 10,
             "solidity": 0.2
            },
            "type": "scatter"
           }
          ],
          "scatter3d": [
           {
            "line": {
             "colorbar": {
              "outlinewidth": 0,
              "ticks": ""
             }
            },
            "marker": {
             "colorbar": {
              "outlinewidth": 0,
              "ticks": ""
             }
            },
            "type": "scatter3d"
           }
          ],
          "scattercarpet": [
           {
            "marker": {
             "colorbar": {
              "outlinewidth": 0,
              "ticks": ""
             }
            },
            "type": "scattercarpet"
           }
          ],
          "scattergeo": [
           {
            "marker": {
             "colorbar": {
              "outlinewidth": 0,
              "ticks": ""
             }
            },
            "type": "scattergeo"
           }
          ],
          "scattergl": [
           {
            "marker": {
             "colorbar": {
              "outlinewidth": 0,
              "ticks": ""
             }
            },
            "type": "scattergl"
           }
          ],
          "scattermapbox": [
           {
            "marker": {
             "colorbar": {
              "outlinewidth": 0,
              "ticks": ""
             }
            },
            "type": "scattermapbox"
           }
          ],
          "scatterpolar": [
           {
            "marker": {
             "colorbar": {
              "outlinewidth": 0,
              "ticks": ""
             }
            },
            "type": "scatterpolar"
           }
          ],
          "scatterpolargl": [
           {
            "marker": {
             "colorbar": {
              "outlinewidth": 0,
              "ticks": ""
             }
            },
            "type": "scatterpolargl"
           }
          ],
          "scatterternary": [
           {
            "marker": {
             "colorbar": {
              "outlinewidth": 0,
              "ticks": ""
             }
            },
            "type": "scatterternary"
           }
          ],
          "surface": [
           {
            "colorbar": {
             "outlinewidth": 0,
             "ticks": ""
            },
            "colorscale": [
             [
              0,
              "#0d0887"
             ],
             [
              0.1111111111111111,
              "#46039f"
             ],
             [
              0.2222222222222222,
              "#7201a8"
             ],
             [
              0.3333333333333333,
              "#9c179e"
             ],
             [
              0.4444444444444444,
              "#bd3786"
             ],
             [
              0.5555555555555556,
              "#d8576b"
             ],
             [
              0.6666666666666666,
              "#ed7953"
             ],
             [
              0.7777777777777778,
              "#fb9f3a"
             ],
             [
              0.8888888888888888,
              "#fdca26"
             ],
             [
              1,
              "#f0f921"
             ]
            ],
            "type": "surface"
           }
          ],
          "table": [
           {
            "cells": {
             "fill": {
              "color": "#EBF0F8"
             },
             "line": {
              "color": "white"
             }
            },
            "header": {
             "fill": {
              "color": "#C8D4E3"
             },
             "line": {
              "color": "white"
             }
            },
            "type": "table"
           }
          ]
         },
         "layout": {
          "annotationdefaults": {
           "arrowcolor": "#2a3f5f",
           "arrowhead": 0,
           "arrowwidth": 1
          },
          "autotypenumbers": "strict",
          "coloraxis": {
           "colorbar": {
            "outlinewidth": 0,
            "ticks": ""
           }
          },
          "colorscale": {
           "diverging": [
            [
             0,
             "#8e0152"
            ],
            [
             0.1,
             "#c51b7d"
            ],
            [
             0.2,
             "#de77ae"
            ],
            [
             0.3,
             "#f1b6da"
            ],
            [
             0.4,
             "#fde0ef"
            ],
            [
             0.5,
             "#f7f7f7"
            ],
            [
             0.6,
             "#e6f5d0"
            ],
            [
             0.7,
             "#b8e186"
            ],
            [
             0.8,
             "#7fbc41"
            ],
            [
             0.9,
             "#4d9221"
            ],
            [
             1,
             "#276419"
            ]
           ],
           "sequential": [
            [
             0,
             "#0d0887"
            ],
            [
             0.1111111111111111,
             "#46039f"
            ],
            [
             0.2222222222222222,
             "#7201a8"
            ],
            [
             0.3333333333333333,
             "#9c179e"
            ],
            [
             0.4444444444444444,
             "#bd3786"
            ],
            [
             0.5555555555555556,
             "#d8576b"
            ],
            [
             0.6666666666666666,
             "#ed7953"
            ],
            [
             0.7777777777777778,
             "#fb9f3a"
            ],
            [
             0.8888888888888888,
             "#fdca26"
            ],
            [
             1,
             "#f0f921"
            ]
           ],
           "sequentialminus": [
            [
             0,
             "#0d0887"
            ],
            [
             0.1111111111111111,
             "#46039f"
            ],
            [
             0.2222222222222222,
             "#7201a8"
            ],
            [
             0.3333333333333333,
             "#9c179e"
            ],
            [
             0.4444444444444444,
             "#bd3786"
            ],
            [
             0.5555555555555556,
             "#d8576b"
            ],
            [
             0.6666666666666666,
             "#ed7953"
            ],
            [
             0.7777777777777778,
             "#fb9f3a"
            ],
            [
             0.8888888888888888,
             "#fdca26"
            ],
            [
             1,
             "#f0f921"
            ]
           ]
          },
          "colorway": [
           "#636efa",
           "#EF553B",
           "#00cc96",
           "#ab63fa",
           "#FFA15A",
           "#19d3f3",
           "#FF6692",
           "#B6E880",
           "#FF97FF",
           "#FECB52"
          ],
          "font": {
           "color": "#2a3f5f"
          },
          "geo": {
           "bgcolor": "white",
           "lakecolor": "white",
           "landcolor": "#E5ECF6",
           "showlakes": true,
           "showland": true,
           "subunitcolor": "white"
          },
          "hoverlabel": {
           "align": "left"
          },
          "hovermode": "closest",
          "mapbox": {
           "style": "light"
          },
          "paper_bgcolor": "white",
          "plot_bgcolor": "#E5ECF6",
          "polar": {
           "angularaxis": {
            "gridcolor": "white",
            "linecolor": "white",
            "ticks": ""
           },
           "bgcolor": "#E5ECF6",
           "radialaxis": {
            "gridcolor": "white",
            "linecolor": "white",
            "ticks": ""
           }
          },
          "scene": {
           "xaxis": {
            "backgroundcolor": "#E5ECF6",
            "gridcolor": "white",
            "gridwidth": 2,
            "linecolor": "white",
            "showbackground": true,
            "ticks": "",
            "zerolinecolor": "white"
           },
           "yaxis": {
            "backgroundcolor": "#E5ECF6",
            "gridcolor": "white",
            "gridwidth": 2,
            "linecolor": "white",
            "showbackground": true,
            "ticks": "",
            "zerolinecolor": "white"
           },
           "zaxis": {
            "backgroundcolor": "#E5ECF6",
            "gridcolor": "white",
            "gridwidth": 2,
            "linecolor": "white",
            "showbackground": true,
            "ticks": "",
            "zerolinecolor": "white"
           }
          },
          "shapedefaults": {
           "line": {
            "color": "#2a3f5f"
           }
          },
          "ternary": {
           "aaxis": {
            "gridcolor": "white",
            "linecolor": "white",
            "ticks": ""
           },
           "baxis": {
            "gridcolor": "white",
            "linecolor": "white",
            "ticks": ""
           },
           "bgcolor": "#E5ECF6",
           "caxis": {
            "gridcolor": "white",
            "linecolor": "white",
            "ticks": ""
           }
          },
          "title": {
           "x": 0.05
          },
          "xaxis": {
           "automargin": true,
           "gridcolor": "white",
           "linecolor": "white",
           "ticks": "",
           "title": {
            "standoff": 15
           },
           "zerolinecolor": "white",
           "zerolinewidth": 2
          },
          "yaxis": {
           "automargin": true,
           "gridcolor": "white",
           "linecolor": "white",
           "ticks": "",
           "title": {
            "standoff": 15
           },
           "zerolinecolor": "white",
           "zerolinewidth": 2
          }
         }
        },
        "title": {
         "text": "Correlation between Sentiment and Number of Likes,\nCorrelation Coefficient: -0.02"
        },
        "xaxis": {
         "anchor": "y",
         "domain": [
          0,
          1
         ],
         "title": {
          "text": "Sentiment"
         }
        },
        "yaxis": {
         "anchor": "x",
         "domain": [
          0,
          1
         ],
         "title": {
          "text": "Like Count"
         }
        }
       }
      }
     },
     "metadata": {},
     "output_type": "display_data"
    }
   ],
   "source": [
    "import pandas as pd\n",
    "from nltk.sentiment.vader import SentimentIntensityAnalyzer\n",
    "import plotly.express as px\n",
    "\n",
    "# Load datasets\n",
    "topics_df = pd.read_csv('forum_topics_data.csv')\n",
    "posts_df = pd.read_csv('forum_posts_data.csv')\n",
    "\n",
    "# Filter Tally proposal posts\n",
    "tally_topic_ids = [21332, 20957, 20856, 20223, 20064, 19899, 19467, 16501, 19696, 18557, \n",
    "                   19046, 16131, 15615, 15920, 15425, 15426, 14976, 14688, 14790, 13360, 13362]\n",
    "\n",
    "tally_posts = posts_df[posts_df['Topic ID'].isin(tally_topic_ids)]\n",
    "\n",
    "# Merge with topics dataframe to get 'Likes' information\n",
    "tally_posts = tally_posts.merge(topics_df[['Topic ID', 'Like Count']], how='left', left_on='Topic ID', right_on='Topic ID')\n",
    "\n",
    "# Initialize SentimentIntensityAnalyzer\n",
    "sid = SentimentIntensityAnalyzer()\n",
    "\n",
    "# Function to determine sentiment polarity\n",
    "def get_sentiment(text):\n",
    "    scores = sid.polarity_scores(text)\n",
    "    return scores['compound']\n",
    "\n",
    "# Apply sentiment analysis to comments\n",
    "tally_posts['Sentiment'] = tally_posts['Post Description'].astype(str).apply(get_sentiment)\n",
    "\n",
    "# Calculate the correlation between sentiment and number of likes\n",
    "correlation = tally_posts[['Sentiment', 'Like Count']].corr().iloc[0, 1]\n",
    "\n",
    "# Plot scatter plot with sentiment vs. number of likes\n",
    "fig = px.scatter(tally_posts, x='Sentiment', y='Like Count', \n",
    "                 title=f'Correlation between Sentiment and Number of Likes,\\nCorrelation Coefficient: {correlation:.2f}')\n",
    "fig.show()\n",
    "fig.write_html(\"Correlation Between Sentiment and Number of Likes.html\")\n"
   ]
  },
  {
   "cell_type": "markdown",
   "metadata": {},
   "source": [
    "#### For proposals with the highest number of comments, what is the overall sentiment expressed?    "
   ]
  },
  {
   "cell_type": "code",
   "execution_count": 67,
   "metadata": {},
   "outputs": [
    {
     "name": "stderr",
     "output_type": "stream",
     "text": [
      "C:\\Users\\abhis\\AppData\\Local\\Temp\\ipykernel_16772\\4014871211.py:33: SettingWithCopyWarning:\n",
      "\n",
      "\n",
      "A value is trying to be set on a copy of a slice from a DataFrame.\n",
      "Try using .loc[row_indexer,col_indexer] = value instead\n",
      "\n",
      "See the caveats in the documentation: https://pandas.pydata.org/pandas-docs/stable/user_guide/indexing.html#returning-a-view-versus-a-copy\n",
      "\n"
     ]
    },
    {
     "data": {
      "application/vnd.plotly.v1+json": {
       "config": {
        "plotlyServerURL": "https://plot.ly"
       },
       "data": [
        {
         "alignmentgroup": "True",
         "bingroup": "x",
         "hovertemplate": "Sentiment Score=%{x}<br>count=%{y}<extra></extra>",
         "legendgroup": "",
         "marker": {
          "color": "#636efa",
          "pattern": {
           "shape": ""
          }
         },
         "name": "",
         "offsetgroup": "",
         "orientation": "v",
         "showlegend": false,
         "type": "histogram",
         "x": [
          0.9996,
          0.968,
          0.9159,
          0.8225,
          0.9955,
          0.5267,
          0.8316,
          0.9186,
          0.9653,
          -0.0772,
          0.2732,
          0.8519,
          0.9953,
          0.9919,
          0.3612,
          0.9836,
          0.7579,
          0.9772,
          0.9363,
          0.1499,
          0.9969,
          0.1943,
          0.625,
          0.9948,
          0.872,
          0.8638,
          0.9118,
          0.4173,
          0.1781,
          0.9802,
          0.4767,
          0.9231,
          -0.0672,
          0.9865,
          -0.2846,
          0.9978,
          0.9904,
          0.8316,
          0.9839,
          0.9918,
          0.9935,
          0.9928,
          0.8074,
          0.6457,
          0.981,
          0.9949,
          0.951,
          0,
          -0.2263,
          0.8955,
          0.8588,
          0.9754,
          0.8481,
          0.8658,
          0.9792,
          0.4927,
          0.9991,
          0.9961,
          0.9927,
          0.9392,
          0.6808,
          0.9546,
          0.4813,
          0.9729,
          0.9123,
          0.7777,
          0.9967,
          0.9969,
          0.9392,
          0,
          0.8519,
          0.9896,
          0.7964,
          0.9306,
          0.9525,
          0.8885,
          0.9965,
          0.9761,
          0.886,
          0.6994,
          0.9937,
          0.9846,
          0.965,
          0.8729,
          0.9733,
          0.5267,
          0.836,
          0.6249,
          0.9393,
          0.9604,
          0.8225,
          0.9917,
          0.9776,
          0.9536,
          0.9825,
          0.872,
          0.1779,
          0.8228,
          0.9254,
          0.1513,
          0.0772,
          0.998,
          0.9209,
          0.9469,
          0.952,
          0.4199,
          0.8117,
          0.7964,
          0.908,
          0.9813,
          0.9952,
          0.9821,
          0.6682,
          0.8271,
          0.6369,
          0.802,
          0.4404,
          0.4574,
          0.9532,
          0.3182,
          0.6946,
          0.6486,
          0.9895,
          0.5267,
          -0.1556,
          0,
          0.5859,
          0.4019
         ],
         "xaxis": "x",
         "yaxis": "y"
        }
       ],
       "layout": {
        "barmode": "relative",
        "legend": {
         "tracegroupgap": 0
        },
        "template": {
         "data": {
          "bar": [
           {
            "error_x": {
             "color": "#2a3f5f"
            },
            "error_y": {
             "color": "#2a3f5f"
            },
            "marker": {
             "line": {
              "color": "#E5ECF6",
              "width": 0.5
             },
             "pattern": {
              "fillmode": "overlay",
              "size": 10,
              "solidity": 0.2
             }
            },
            "type": "bar"
           }
          ],
          "barpolar": [
           {
            "marker": {
             "line": {
              "color": "#E5ECF6",
              "width": 0.5
             },
             "pattern": {
              "fillmode": "overlay",
              "size": 10,
              "solidity": 0.2
             }
            },
            "type": "barpolar"
           }
          ],
          "carpet": [
           {
            "aaxis": {
             "endlinecolor": "#2a3f5f",
             "gridcolor": "white",
             "linecolor": "white",
             "minorgridcolor": "white",
             "startlinecolor": "#2a3f5f"
            },
            "baxis": {
             "endlinecolor": "#2a3f5f",
             "gridcolor": "white",
             "linecolor": "white",
             "minorgridcolor": "white",
             "startlinecolor": "#2a3f5f"
            },
            "type": "carpet"
           }
          ],
          "choropleth": [
           {
            "colorbar": {
             "outlinewidth": 0,
             "ticks": ""
            },
            "type": "choropleth"
           }
          ],
          "contour": [
           {
            "colorbar": {
             "outlinewidth": 0,
             "ticks": ""
            },
            "colorscale": [
             [
              0,
              "#0d0887"
             ],
             [
              0.1111111111111111,
              "#46039f"
             ],
             [
              0.2222222222222222,
              "#7201a8"
             ],
             [
              0.3333333333333333,
              "#9c179e"
             ],
             [
              0.4444444444444444,
              "#bd3786"
             ],
             [
              0.5555555555555556,
              "#d8576b"
             ],
             [
              0.6666666666666666,
              "#ed7953"
             ],
             [
              0.7777777777777778,
              "#fb9f3a"
             ],
             [
              0.8888888888888888,
              "#fdca26"
             ],
             [
              1,
              "#f0f921"
             ]
            ],
            "type": "contour"
           }
          ],
          "contourcarpet": [
           {
            "colorbar": {
             "outlinewidth": 0,
             "ticks": ""
            },
            "type": "contourcarpet"
           }
          ],
          "heatmap": [
           {
            "colorbar": {
             "outlinewidth": 0,
             "ticks": ""
            },
            "colorscale": [
             [
              0,
              "#0d0887"
             ],
             [
              0.1111111111111111,
              "#46039f"
             ],
             [
              0.2222222222222222,
              "#7201a8"
             ],
             [
              0.3333333333333333,
              "#9c179e"
             ],
             [
              0.4444444444444444,
              "#bd3786"
             ],
             [
              0.5555555555555556,
              "#d8576b"
             ],
             [
              0.6666666666666666,
              "#ed7953"
             ],
             [
              0.7777777777777778,
              "#fb9f3a"
             ],
             [
              0.8888888888888888,
              "#fdca26"
             ],
             [
              1,
              "#f0f921"
             ]
            ],
            "type": "heatmap"
           }
          ],
          "heatmapgl": [
           {
            "colorbar": {
             "outlinewidth": 0,
             "ticks": ""
            },
            "colorscale": [
             [
              0,
              "#0d0887"
             ],
             [
              0.1111111111111111,
              "#46039f"
             ],
             [
              0.2222222222222222,
              "#7201a8"
             ],
             [
              0.3333333333333333,
              "#9c179e"
             ],
             [
              0.4444444444444444,
              "#bd3786"
             ],
             [
              0.5555555555555556,
              "#d8576b"
             ],
             [
              0.6666666666666666,
              "#ed7953"
             ],
             [
              0.7777777777777778,
              "#fb9f3a"
             ],
             [
              0.8888888888888888,
              "#fdca26"
             ],
             [
              1,
              "#f0f921"
             ]
            ],
            "type": "heatmapgl"
           }
          ],
          "histogram": [
           {
            "marker": {
             "pattern": {
              "fillmode": "overlay",
              "size": 10,
              "solidity": 0.2
             }
            },
            "type": "histogram"
           }
          ],
          "histogram2d": [
           {
            "colorbar": {
             "outlinewidth": 0,
             "ticks": ""
            },
            "colorscale": [
             [
              0,
              "#0d0887"
             ],
             [
              0.1111111111111111,
              "#46039f"
             ],
             [
              0.2222222222222222,
              "#7201a8"
             ],
             [
              0.3333333333333333,
              "#9c179e"
             ],
             [
              0.4444444444444444,
              "#bd3786"
             ],
             [
              0.5555555555555556,
              "#d8576b"
             ],
             [
              0.6666666666666666,
              "#ed7953"
             ],
             [
              0.7777777777777778,
              "#fb9f3a"
             ],
             [
              0.8888888888888888,
              "#fdca26"
             ],
             [
              1,
              "#f0f921"
             ]
            ],
            "type": "histogram2d"
           }
          ],
          "histogram2dcontour": [
           {
            "colorbar": {
             "outlinewidth": 0,
             "ticks": ""
            },
            "colorscale": [
             [
              0,
              "#0d0887"
             ],
             [
              0.1111111111111111,
              "#46039f"
             ],
             [
              0.2222222222222222,
              "#7201a8"
             ],
             [
              0.3333333333333333,
              "#9c179e"
             ],
             [
              0.4444444444444444,
              "#bd3786"
             ],
             [
              0.5555555555555556,
              "#d8576b"
             ],
             [
              0.6666666666666666,
              "#ed7953"
             ],
             [
              0.7777777777777778,
              "#fb9f3a"
             ],
             [
              0.8888888888888888,
              "#fdca26"
             ],
             [
              1,
              "#f0f921"
             ]
            ],
            "type": "histogram2dcontour"
           }
          ],
          "mesh3d": [
           {
            "colorbar": {
             "outlinewidth": 0,
             "ticks": ""
            },
            "type": "mesh3d"
           }
          ],
          "parcoords": [
           {
            "line": {
             "colorbar": {
              "outlinewidth": 0,
              "ticks": ""
             }
            },
            "type": "parcoords"
           }
          ],
          "pie": [
           {
            "automargin": true,
            "type": "pie"
           }
          ],
          "scatter": [
           {
            "fillpattern": {
             "fillmode": "overlay",
             "size": 10,
             "solidity": 0.2
            },
            "type": "scatter"
           }
          ],
          "scatter3d": [
           {
            "line": {
             "colorbar": {
              "outlinewidth": 0,
              "ticks": ""
             }
            },
            "marker": {
             "colorbar": {
              "outlinewidth": 0,
              "ticks": ""
             }
            },
            "type": "scatter3d"
           }
          ],
          "scattercarpet": [
           {
            "marker": {
             "colorbar": {
              "outlinewidth": 0,
              "ticks": ""
             }
            },
            "type": "scattercarpet"
           }
          ],
          "scattergeo": [
           {
            "marker": {
             "colorbar": {
              "outlinewidth": 0,
              "ticks": ""
             }
            },
            "type": "scattergeo"
           }
          ],
          "scattergl": [
           {
            "marker": {
             "colorbar": {
              "outlinewidth": 0,
              "ticks": ""
             }
            },
            "type": "scattergl"
           }
          ],
          "scattermapbox": [
           {
            "marker": {
             "colorbar": {
              "outlinewidth": 0,
              "ticks": ""
             }
            },
            "type": "scattermapbox"
           }
          ],
          "scatterpolar": [
           {
            "marker": {
             "colorbar": {
              "outlinewidth": 0,
              "ticks": ""
             }
            },
            "type": "scatterpolar"
           }
          ],
          "scatterpolargl": [
           {
            "marker": {
             "colorbar": {
              "outlinewidth": 0,
              "ticks": ""
             }
            },
            "type": "scatterpolargl"
           }
          ],
          "scatterternary": [
           {
            "marker": {
             "colorbar": {
              "outlinewidth": 0,
              "ticks": ""
             }
            },
            "type": "scatterternary"
           }
          ],
          "surface": [
           {
            "colorbar": {
             "outlinewidth": 0,
             "ticks": ""
            },
            "colorscale": [
             [
              0,
              "#0d0887"
             ],
             [
              0.1111111111111111,
              "#46039f"
             ],
             [
              0.2222222222222222,
              "#7201a8"
             ],
             [
              0.3333333333333333,
              "#9c179e"
             ],
             [
              0.4444444444444444,
              "#bd3786"
             ],
             [
              0.5555555555555556,
              "#d8576b"
             ],
             [
              0.6666666666666666,
              "#ed7953"
             ],
             [
              0.7777777777777778,
              "#fb9f3a"
             ],
             [
              0.8888888888888888,
              "#fdca26"
             ],
             [
              1,
              "#f0f921"
             ]
            ],
            "type": "surface"
           }
          ],
          "table": [
           {
            "cells": {
             "fill": {
              "color": "#EBF0F8"
             },
             "line": {
              "color": "white"
             }
            },
            "header": {
             "fill": {
              "color": "#C8D4E3"
             },
             "line": {
              "color": "white"
             }
            },
            "type": "table"
           }
          ]
         },
         "layout": {
          "annotationdefaults": {
           "arrowcolor": "#2a3f5f",
           "arrowhead": 0,
           "arrowwidth": 1
          },
          "autotypenumbers": "strict",
          "coloraxis": {
           "colorbar": {
            "outlinewidth": 0,
            "ticks": ""
           }
          },
          "colorscale": {
           "diverging": [
            [
             0,
             "#8e0152"
            ],
            [
             0.1,
             "#c51b7d"
            ],
            [
             0.2,
             "#de77ae"
            ],
            [
             0.3,
             "#f1b6da"
            ],
            [
             0.4,
             "#fde0ef"
            ],
            [
             0.5,
             "#f7f7f7"
            ],
            [
             0.6,
             "#e6f5d0"
            ],
            [
             0.7,
             "#b8e186"
            ],
            [
             0.8,
             "#7fbc41"
            ],
            [
             0.9,
             "#4d9221"
            ],
            [
             1,
             "#276419"
            ]
           ],
           "sequential": [
            [
             0,
             "#0d0887"
            ],
            [
             0.1111111111111111,
             "#46039f"
            ],
            [
             0.2222222222222222,
             "#7201a8"
            ],
            [
             0.3333333333333333,
             "#9c179e"
            ],
            [
             0.4444444444444444,
             "#bd3786"
            ],
            [
             0.5555555555555556,
             "#d8576b"
            ],
            [
             0.6666666666666666,
             "#ed7953"
            ],
            [
             0.7777777777777778,
             "#fb9f3a"
            ],
            [
             0.8888888888888888,
             "#fdca26"
            ],
            [
             1,
             "#f0f921"
            ]
           ],
           "sequentialminus": [
            [
             0,
             "#0d0887"
            ],
            [
             0.1111111111111111,
             "#46039f"
            ],
            [
             0.2222222222222222,
             "#7201a8"
            ],
            [
             0.3333333333333333,
             "#9c179e"
            ],
            [
             0.4444444444444444,
             "#bd3786"
            ],
            [
             0.5555555555555556,
             "#d8576b"
            ],
            [
             0.6666666666666666,
             "#ed7953"
            ],
            [
             0.7777777777777778,
             "#fb9f3a"
            ],
            [
             0.8888888888888888,
             "#fdca26"
            ],
            [
             1,
             "#f0f921"
            ]
           ]
          },
          "colorway": [
           "#636efa",
           "#EF553B",
           "#00cc96",
           "#ab63fa",
           "#FFA15A",
           "#19d3f3",
           "#FF6692",
           "#B6E880",
           "#FF97FF",
           "#FECB52"
          ],
          "font": {
           "color": "#2a3f5f"
          },
          "geo": {
           "bgcolor": "white",
           "lakecolor": "white",
           "landcolor": "#E5ECF6",
           "showlakes": true,
           "showland": true,
           "subunitcolor": "white"
          },
          "hoverlabel": {
           "align": "left"
          },
          "hovermode": "closest",
          "mapbox": {
           "style": "light"
          },
          "paper_bgcolor": "white",
          "plot_bgcolor": "#E5ECF6",
          "polar": {
           "angularaxis": {
            "gridcolor": "white",
            "linecolor": "white",
            "ticks": ""
           },
           "bgcolor": "#E5ECF6",
           "radialaxis": {
            "gridcolor": "white",
            "linecolor": "white",
            "ticks": ""
           }
          },
          "scene": {
           "xaxis": {
            "backgroundcolor": "#E5ECF6",
            "gridcolor": "white",
            "gridwidth": 2,
            "linecolor": "white",
            "showbackground": true,
            "ticks": "",
            "zerolinecolor": "white"
           },
           "yaxis": {
            "backgroundcolor": "#E5ECF6",
            "gridcolor": "white",
            "gridwidth": 2,
            "linecolor": "white",
            "showbackground": true,
            "ticks": "",
            "zerolinecolor": "white"
           },
           "zaxis": {
            "backgroundcolor": "#E5ECF6",
            "gridcolor": "white",
            "gridwidth": 2,
            "linecolor": "white",
            "showbackground": true,
            "ticks": "",
            "zerolinecolor": "white"
           }
          },
          "shapedefaults": {
           "line": {
            "color": "#2a3f5f"
           }
          },
          "ternary": {
           "aaxis": {
            "gridcolor": "white",
            "linecolor": "white",
            "ticks": ""
           },
           "baxis": {
            "gridcolor": "white",
            "linecolor": "white",
            "ticks": ""
           },
           "bgcolor": "#E5ECF6",
           "caxis": {
            "gridcolor": "white",
            "linecolor": "white",
            "ticks": ""
           }
          },
          "title": {
           "x": 0.05
          },
          "xaxis": {
           "automargin": true,
           "gridcolor": "white",
           "linecolor": "white",
           "ticks": "",
           "title": {
            "standoff": 15
           },
           "zerolinecolor": "white",
           "zerolinewidth": 2
          },
          "yaxis": {
           "automargin": true,
           "gridcolor": "white",
           "linecolor": "white",
           "ticks": "",
           "title": {
            "standoff": 15
           },
           "zerolinecolor": "white",
           "zerolinewidth": 2
          }
         }
        },
        "title": {
         "text": "Distribution of Sentiment Scores for Proposals with the Highest Number of Comments"
        },
        "xaxis": {
         "anchor": "y",
         "domain": [
          0,
          1
         ],
         "title": {
          "text": "Sentiment Score"
         }
        },
        "yaxis": {
         "anchor": "x",
         "domain": [
          0,
          1
         ],
         "title": {
          "text": "count"
         }
        }
       }
      }
     },
     "metadata": {},
     "output_type": "display_data"
    },
    {
     "data": {
      "application/vnd.plotly.v1+json": {
       "config": {
        "plotlyServerURL": "https://plot.ly"
       },
       "data": [
        {
         "alignmentgroup": "True",
         "hovertemplate": "Sentiment Score=%{y}<extra></extra>",
         "legendgroup": "",
         "marker": {
          "color": "#636efa"
         },
         "name": "",
         "notched": false,
         "offsetgroup": "",
         "orientation": "v",
         "showlegend": false,
         "type": "box",
         "x0": " ",
         "xaxis": "x",
         "y": [
          0.9996,
          0.968,
          0.9159,
          0.8225,
          0.9955,
          0.5267,
          0.8316,
          0.9186,
          0.9653,
          -0.0772,
          0.2732,
          0.8519,
          0.9953,
          0.9919,
          0.3612,
          0.9836,
          0.7579,
          0.9772,
          0.9363,
          0.1499,
          0.9969,
          0.1943,
          0.625,
          0.9948,
          0.872,
          0.8638,
          0.9118,
          0.4173,
          0.1781,
          0.9802,
          0.4767,
          0.9231,
          -0.0672,
          0.9865,
          -0.2846,
          0.9978,
          0.9904,
          0.8316,
          0.9839,
          0.9918,
          0.9935,
          0.9928,
          0.8074,
          0.6457,
          0.981,
          0.9949,
          0.951,
          0,
          -0.2263,
          0.8955,
          0.8588,
          0.9754,
          0.8481,
          0.8658,
          0.9792,
          0.4927,
          0.9991,
          0.9961,
          0.9927,
          0.9392,
          0.6808,
          0.9546,
          0.4813,
          0.9729,
          0.9123,
          0.7777,
          0.9967,
          0.9969,
          0.9392,
          0,
          0.8519,
          0.9896,
          0.7964,
          0.9306,
          0.9525,
          0.8885,
          0.9965,
          0.9761,
          0.886,
          0.6994,
          0.9937,
          0.9846,
          0.965,
          0.8729,
          0.9733,
          0.5267,
          0.836,
          0.6249,
          0.9393,
          0.9604,
          0.8225,
          0.9917,
          0.9776,
          0.9536,
          0.9825,
          0.872,
          0.1779,
          0.8228,
          0.9254,
          0.1513,
          0.0772,
          0.998,
          0.9209,
          0.9469,
          0.952,
          0.4199,
          0.8117,
          0.7964,
          0.908,
          0.9813,
          0.9952,
          0.9821,
          0.6682,
          0.8271,
          0.6369,
          0.802,
          0.4404,
          0.4574,
          0.9532,
          0.3182,
          0.6946,
          0.6486,
          0.9895,
          0.5267,
          -0.1556,
          0,
          0.5859,
          0.4019
         ],
         "y0": " ",
         "yaxis": "y"
        }
       ],
       "layout": {
        "boxmode": "group",
        "legend": {
         "tracegroupgap": 0
        },
        "template": {
         "data": {
          "bar": [
           {
            "error_x": {
             "color": "#2a3f5f"
            },
            "error_y": {
             "color": "#2a3f5f"
            },
            "marker": {
             "line": {
              "color": "#E5ECF6",
              "width": 0.5
             },
             "pattern": {
              "fillmode": "overlay",
              "size": 10,
              "solidity": 0.2
             }
            },
            "type": "bar"
           }
          ],
          "barpolar": [
           {
            "marker": {
             "line": {
              "color": "#E5ECF6",
              "width": 0.5
             },
             "pattern": {
              "fillmode": "overlay",
              "size": 10,
              "solidity": 0.2
             }
            },
            "type": "barpolar"
           }
          ],
          "carpet": [
           {
            "aaxis": {
             "endlinecolor": "#2a3f5f",
             "gridcolor": "white",
             "linecolor": "white",
             "minorgridcolor": "white",
             "startlinecolor": "#2a3f5f"
            },
            "baxis": {
             "endlinecolor": "#2a3f5f",
             "gridcolor": "white",
             "linecolor": "white",
             "minorgridcolor": "white",
             "startlinecolor": "#2a3f5f"
            },
            "type": "carpet"
           }
          ],
          "choropleth": [
           {
            "colorbar": {
             "outlinewidth": 0,
             "ticks": ""
            },
            "type": "choropleth"
           }
          ],
          "contour": [
           {
            "colorbar": {
             "outlinewidth": 0,
             "ticks": ""
            },
            "colorscale": [
             [
              0,
              "#0d0887"
             ],
             [
              0.1111111111111111,
              "#46039f"
             ],
             [
              0.2222222222222222,
              "#7201a8"
             ],
             [
              0.3333333333333333,
              "#9c179e"
             ],
             [
              0.4444444444444444,
              "#bd3786"
             ],
             [
              0.5555555555555556,
              "#d8576b"
             ],
             [
              0.6666666666666666,
              "#ed7953"
             ],
             [
              0.7777777777777778,
              "#fb9f3a"
             ],
             [
              0.8888888888888888,
              "#fdca26"
             ],
             [
              1,
              "#f0f921"
             ]
            ],
            "type": "contour"
           }
          ],
          "contourcarpet": [
           {
            "colorbar": {
             "outlinewidth": 0,
             "ticks": ""
            },
            "type": "contourcarpet"
           }
          ],
          "heatmap": [
           {
            "colorbar": {
             "outlinewidth": 0,
             "ticks": ""
            },
            "colorscale": [
             [
              0,
              "#0d0887"
             ],
             [
              0.1111111111111111,
              "#46039f"
             ],
             [
              0.2222222222222222,
              "#7201a8"
             ],
             [
              0.3333333333333333,
              "#9c179e"
             ],
             [
              0.4444444444444444,
              "#bd3786"
             ],
             [
              0.5555555555555556,
              "#d8576b"
             ],
             [
              0.6666666666666666,
              "#ed7953"
             ],
             [
              0.7777777777777778,
              "#fb9f3a"
             ],
             [
              0.8888888888888888,
              "#fdca26"
             ],
             [
              1,
              "#f0f921"
             ]
            ],
            "type": "heatmap"
           }
          ],
          "heatmapgl": [
           {
            "colorbar": {
             "outlinewidth": 0,
             "ticks": ""
            },
            "colorscale": [
             [
              0,
              "#0d0887"
             ],
             [
              0.1111111111111111,
              "#46039f"
             ],
             [
              0.2222222222222222,
              "#7201a8"
             ],
             [
              0.3333333333333333,
              "#9c179e"
             ],
             [
              0.4444444444444444,
              "#bd3786"
             ],
             [
              0.5555555555555556,
              "#d8576b"
             ],
             [
              0.6666666666666666,
              "#ed7953"
             ],
             [
              0.7777777777777778,
              "#fb9f3a"
             ],
             [
              0.8888888888888888,
              "#fdca26"
             ],
             [
              1,
              "#f0f921"
             ]
            ],
            "type": "heatmapgl"
           }
          ],
          "histogram": [
           {
            "marker": {
             "pattern": {
              "fillmode": "overlay",
              "size": 10,
              "solidity": 0.2
             }
            },
            "type": "histogram"
           }
          ],
          "histogram2d": [
           {
            "colorbar": {
             "outlinewidth": 0,
             "ticks": ""
            },
            "colorscale": [
             [
              0,
              "#0d0887"
             ],
             [
              0.1111111111111111,
              "#46039f"
             ],
             [
              0.2222222222222222,
              "#7201a8"
             ],
             [
              0.3333333333333333,
              "#9c179e"
             ],
             [
              0.4444444444444444,
              "#bd3786"
             ],
             [
              0.5555555555555556,
              "#d8576b"
             ],
             [
              0.6666666666666666,
              "#ed7953"
             ],
             [
              0.7777777777777778,
              "#fb9f3a"
             ],
             [
              0.8888888888888888,
              "#fdca26"
             ],
             [
              1,
              "#f0f921"
             ]
            ],
            "type": "histogram2d"
           }
          ],
          "histogram2dcontour": [
           {
            "colorbar": {
             "outlinewidth": 0,
             "ticks": ""
            },
            "colorscale": [
             [
              0,
              "#0d0887"
             ],
             [
              0.1111111111111111,
              "#46039f"
             ],
             [
              0.2222222222222222,
              "#7201a8"
             ],
             [
              0.3333333333333333,
              "#9c179e"
             ],
             [
              0.4444444444444444,
              "#bd3786"
             ],
             [
              0.5555555555555556,
              "#d8576b"
             ],
             [
              0.6666666666666666,
              "#ed7953"
             ],
             [
              0.7777777777777778,
              "#fb9f3a"
             ],
             [
              0.8888888888888888,
              "#fdca26"
             ],
             [
              1,
              "#f0f921"
             ]
            ],
            "type": "histogram2dcontour"
           }
          ],
          "mesh3d": [
           {
            "colorbar": {
             "outlinewidth": 0,
             "ticks": ""
            },
            "type": "mesh3d"
           }
          ],
          "parcoords": [
           {
            "line": {
             "colorbar": {
              "outlinewidth": 0,
              "ticks": ""
             }
            },
            "type": "parcoords"
           }
          ],
          "pie": [
           {
            "automargin": true,
            "type": "pie"
           }
          ],
          "scatter": [
           {
            "fillpattern": {
             "fillmode": "overlay",
             "size": 10,
             "solidity": 0.2
            },
            "type": "scatter"
           }
          ],
          "scatter3d": [
           {
            "line": {
             "colorbar": {
              "outlinewidth": 0,
              "ticks": ""
             }
            },
            "marker": {
             "colorbar": {
              "outlinewidth": 0,
              "ticks": ""
             }
            },
            "type": "scatter3d"
           }
          ],
          "scattercarpet": [
           {
            "marker": {
             "colorbar": {
              "outlinewidth": 0,
              "ticks": ""
             }
            },
            "type": "scattercarpet"
           }
          ],
          "scattergeo": [
           {
            "marker": {
             "colorbar": {
              "outlinewidth": 0,
              "ticks": ""
             }
            },
            "type": "scattergeo"
           }
          ],
          "scattergl": [
           {
            "marker": {
             "colorbar": {
              "outlinewidth": 0,
              "ticks": ""
             }
            },
            "type": "scattergl"
           }
          ],
          "scattermapbox": [
           {
            "marker": {
             "colorbar": {
              "outlinewidth": 0,
              "ticks": ""
             }
            },
            "type": "scattermapbox"
           }
          ],
          "scatterpolar": [
           {
            "marker": {
             "colorbar": {
              "outlinewidth": 0,
              "ticks": ""
             }
            },
            "type": "scatterpolar"
           }
          ],
          "scatterpolargl": [
           {
            "marker": {
             "colorbar": {
              "outlinewidth": 0,
              "ticks": ""
             }
            },
            "type": "scatterpolargl"
           }
          ],
          "scatterternary": [
           {
            "marker": {
             "colorbar": {
              "outlinewidth": 0,
              "ticks": ""
             }
            },
            "type": "scatterternary"
           }
          ],
          "surface": [
           {
            "colorbar": {
             "outlinewidth": 0,
             "ticks": ""
            },
            "colorscale": [
             [
              0,
              "#0d0887"
             ],
             [
              0.1111111111111111,
              "#46039f"
             ],
             [
              0.2222222222222222,
              "#7201a8"
             ],
             [
              0.3333333333333333,
              "#9c179e"
             ],
             [
              0.4444444444444444,
              "#bd3786"
             ],
             [
              0.5555555555555556,
              "#d8576b"
             ],
             [
              0.6666666666666666,
              "#ed7953"
             ],
             [
              0.7777777777777778,
              "#fb9f3a"
             ],
             [
              0.8888888888888888,
              "#fdca26"
             ],
             [
              1,
              "#f0f921"
             ]
            ],
            "type": "surface"
           }
          ],
          "table": [
           {
            "cells": {
             "fill": {
              "color": "#EBF0F8"
             },
             "line": {
              "color": "white"
             }
            },
            "header": {
             "fill": {
              "color": "#C8D4E3"
             },
             "line": {
              "color": "white"
             }
            },
            "type": "table"
           }
          ]
         },
         "layout": {
          "annotationdefaults": {
           "arrowcolor": "#2a3f5f",
           "arrowhead": 0,
           "arrowwidth": 1
          },
          "autotypenumbers": "strict",
          "coloraxis": {
           "colorbar": {
            "outlinewidth": 0,
            "ticks": ""
           }
          },
          "colorscale": {
           "diverging": [
            [
             0,
             "#8e0152"
            ],
            [
             0.1,
             "#c51b7d"
            ],
            [
             0.2,
             "#de77ae"
            ],
            [
             0.3,
             "#f1b6da"
            ],
            [
             0.4,
             "#fde0ef"
            ],
            [
             0.5,
             "#f7f7f7"
            ],
            [
             0.6,
             "#e6f5d0"
            ],
            [
             0.7,
             "#b8e186"
            ],
            [
             0.8,
             "#7fbc41"
            ],
            [
             0.9,
             "#4d9221"
            ],
            [
             1,
             "#276419"
            ]
           ],
           "sequential": [
            [
             0,
             "#0d0887"
            ],
            [
             0.1111111111111111,
             "#46039f"
            ],
            [
             0.2222222222222222,
             "#7201a8"
            ],
            [
             0.3333333333333333,
             "#9c179e"
            ],
            [
             0.4444444444444444,
             "#bd3786"
            ],
            [
             0.5555555555555556,
             "#d8576b"
            ],
            [
             0.6666666666666666,
             "#ed7953"
            ],
            [
             0.7777777777777778,
             "#fb9f3a"
            ],
            [
             0.8888888888888888,
             "#fdca26"
            ],
            [
             1,
             "#f0f921"
            ]
           ],
           "sequentialminus": [
            [
             0,
             "#0d0887"
            ],
            [
             0.1111111111111111,
             "#46039f"
            ],
            [
             0.2222222222222222,
             "#7201a8"
            ],
            [
             0.3333333333333333,
             "#9c179e"
            ],
            [
             0.4444444444444444,
             "#bd3786"
            ],
            [
             0.5555555555555556,
             "#d8576b"
            ],
            [
             0.6666666666666666,
             "#ed7953"
            ],
            [
             0.7777777777777778,
             "#fb9f3a"
            ],
            [
             0.8888888888888888,
             "#fdca26"
            ],
            [
             1,
             "#f0f921"
            ]
           ]
          },
          "colorway": [
           "#636efa",
           "#EF553B",
           "#00cc96",
           "#ab63fa",
           "#FFA15A",
           "#19d3f3",
           "#FF6692",
           "#B6E880",
           "#FF97FF",
           "#FECB52"
          ],
          "font": {
           "color": "#2a3f5f"
          },
          "geo": {
           "bgcolor": "white",
           "lakecolor": "white",
           "landcolor": "#E5ECF6",
           "showlakes": true,
           "showland": true,
           "subunitcolor": "white"
          },
          "hoverlabel": {
           "align": "left"
          },
          "hovermode": "closest",
          "mapbox": {
           "style": "light"
          },
          "paper_bgcolor": "white",
          "plot_bgcolor": "#E5ECF6",
          "polar": {
           "angularaxis": {
            "gridcolor": "white",
            "linecolor": "white",
            "ticks": ""
           },
           "bgcolor": "#E5ECF6",
           "radialaxis": {
            "gridcolor": "white",
            "linecolor": "white",
            "ticks": ""
           }
          },
          "scene": {
           "xaxis": {
            "backgroundcolor": "#E5ECF6",
            "gridcolor": "white",
            "gridwidth": 2,
            "linecolor": "white",
            "showbackground": true,
            "ticks": "",
            "zerolinecolor": "white"
           },
           "yaxis": {
            "backgroundcolor": "#E5ECF6",
            "gridcolor": "white",
            "gridwidth": 2,
            "linecolor": "white",
            "showbackground": true,
            "ticks": "",
            "zerolinecolor": "white"
           },
           "zaxis": {
            "backgroundcolor": "#E5ECF6",
            "gridcolor": "white",
            "gridwidth": 2,
            "linecolor": "white",
            "showbackground": true,
            "ticks": "",
            "zerolinecolor": "white"
           }
          },
          "shapedefaults": {
           "line": {
            "color": "#2a3f5f"
           }
          },
          "ternary": {
           "aaxis": {
            "gridcolor": "white",
            "linecolor": "white",
            "ticks": ""
           },
           "baxis": {
            "gridcolor": "white",
            "linecolor": "white",
            "ticks": ""
           },
           "bgcolor": "#E5ECF6",
           "caxis": {
            "gridcolor": "white",
            "linecolor": "white",
            "ticks": ""
           }
          },
          "title": {
           "x": 0.05
          },
          "xaxis": {
           "automargin": true,
           "gridcolor": "white",
           "linecolor": "white",
           "ticks": "",
           "title": {
            "standoff": 15
           },
           "zerolinecolor": "white",
           "zerolinewidth": 2
          },
          "yaxis": {
           "automargin": true,
           "gridcolor": "white",
           "linecolor": "white",
           "ticks": "",
           "title": {
            "standoff": 15
           },
           "zerolinecolor": "white",
           "zerolinewidth": 2
          }
         }
        },
        "title": {
         "text": "Distribution of Sentiment Scores for Proposals with the Highest Number of Comments"
        },
        "xaxis": {
         "anchor": "y",
         "domain": [
          0,
          1
         ]
        },
        "yaxis": {
         "anchor": "x",
         "domain": [
          0,
          1
         ],
         "title": {
          "text": "Sentiment Score"
         }
        }
       }
      }
     },
     "metadata": {},
     "output_type": "display_data"
    }
   ],
   "source": [
    "import pandas as pd\n",
    "from nltk.sentiment.vader import SentimentIntensityAnalyzer\n",
    "import plotly.express as px\n",
    "\n",
    "# Load datasets\n",
    "topics_df = pd.read_csv('forum_topics_data.csv')\n",
    "posts_df = pd.read_csv('forum_posts_data.csv')\n",
    "\n",
    "# Filter Tally proposal posts\n",
    "tally_topic_ids = [21332, 20957, 20856, 20223, 20064, 19899, 19467, 16501, 19696, 18557, \n",
    "                   19046, 16131, 15615, 15920, 15425, 15426, 14976, 14688, 14790, 13360, 13362]\n",
    "\n",
    "tally_posts = posts_df[posts_df['Topic ID'].isin(tally_topic_ids)]\n",
    "\n",
    "# Group by Topic ID and count number of comments\n",
    "comment_counts = tally_posts.groupby('Topic ID').size().reset_index(name='Comment Count')\n",
    "\n",
    "# Get Topic IDs with the highest number of comments\n",
    "max_comments_topics = comment_counts[comment_counts['Comment Count'] == comment_counts['Comment Count'].max()]['Topic ID']\n",
    "\n",
    "# Filter posts for proposals with the highest number of comments\n",
    "max_comments_posts = tally_posts[tally_posts['Topic ID'].isin(max_comments_topics)]\n",
    "\n",
    "# Initialize SentimentIntensityAnalyzer\n",
    "sid = SentimentIntensityAnalyzer()\n",
    "\n",
    "# Function to determine sentiment polarity\n",
    "def get_sentiment(text):\n",
    "    scores = sid.polarity_scores(text)\n",
    "    return scores['compound']\n",
    "\n",
    "# Apply sentiment analysis to comments\n",
    "max_comments_posts['Sentiment'] = max_comments_posts['Post Description'].astype(str).apply(get_sentiment)\n",
    "\n",
    "# Visualize sentiment distribution using histogram\n",
    "fig1 = px.histogram(max_comments_posts, x='Sentiment', \n",
    "                    title='Distribution of Sentiment Scores for Proposals with the Highest Number of Comments',\n",
    "                    labels={'Sentiment': 'Sentiment Score', 'count': 'Number of Comments'})\n",
    "fig.show()\n",
    "\n",
    "# Visualize sentiment distribution using box plot\n",
    "fig = px.box(max_comments_posts, y='Sentiment', \n",
    "             title='Distribution of Sentiment Scores for Proposals with the Highest Number of Comments',\n",
    "             labels={'Sentiment': 'Sentiment Score'})\n",
    "fig.show()\n",
    "fig1.write_html(\"Overall Sentiment for Proposals with the Highest Number of Comments 1.html\")\n"
   ]
  },
  {
   "cell_type": "markdown",
   "metadata": {},
   "source": [
    "#### What is the average number of comments received by Tally proposal posts?"
   ]
  },
  {
   "cell_type": "code",
   "execution_count": 59,
   "metadata": {},
   "outputs": [
    {
     "data": {
      "application/vnd.plotly.v1+json": {
       "config": {
        "plotlyServerURL": "https://plot.ly"
       },
       "data": [
        {
         "alignmentgroup": "True",
         "hovertemplate": "x=%{x}<br>y=%{y}<extra></extra>",
         "legendgroup": "",
         "marker": {
          "color": "#636efa",
          "pattern": {
           "shape": ""
          }
         },
         "name": "",
         "offsetgroup": "",
         "orientation": "v",
         "showlegend": false,
         "textposition": "auto",
         "type": "bar",
         "x": [
          "Average Comments"
         ],
         "xaxis": "x",
         "y": [
          46.857142857142854
         ],
         "yaxis": "y"
        }
       ],
       "layout": {
        "barmode": "relative",
        "legend": {
         "tracegroupgap": 0
        },
        "template": {
         "data": {
          "bar": [
           {
            "error_x": {
             "color": "#2a3f5f"
            },
            "error_y": {
             "color": "#2a3f5f"
            },
            "marker": {
             "line": {
              "color": "#E5ECF6",
              "width": 0.5
             },
             "pattern": {
              "fillmode": "overlay",
              "size": 10,
              "solidity": 0.2
             }
            },
            "type": "bar"
           }
          ],
          "barpolar": [
           {
            "marker": {
             "line": {
              "color": "#E5ECF6",
              "width": 0.5
             },
             "pattern": {
              "fillmode": "overlay",
              "size": 10,
              "solidity": 0.2
             }
            },
            "type": "barpolar"
           }
          ],
          "carpet": [
           {
            "aaxis": {
             "endlinecolor": "#2a3f5f",
             "gridcolor": "white",
             "linecolor": "white",
             "minorgridcolor": "white",
             "startlinecolor": "#2a3f5f"
            },
            "baxis": {
             "endlinecolor": "#2a3f5f",
             "gridcolor": "white",
             "linecolor": "white",
             "minorgridcolor": "white",
             "startlinecolor": "#2a3f5f"
            },
            "type": "carpet"
           }
          ],
          "choropleth": [
           {
            "colorbar": {
             "outlinewidth": 0,
             "ticks": ""
            },
            "type": "choropleth"
           }
          ],
          "contour": [
           {
            "colorbar": {
             "outlinewidth": 0,
             "ticks": ""
            },
            "colorscale": [
             [
              0,
              "#0d0887"
             ],
             [
              0.1111111111111111,
              "#46039f"
             ],
             [
              0.2222222222222222,
              "#7201a8"
             ],
             [
              0.3333333333333333,
              "#9c179e"
             ],
             [
              0.4444444444444444,
              "#bd3786"
             ],
             [
              0.5555555555555556,
              "#d8576b"
             ],
             [
              0.6666666666666666,
              "#ed7953"
             ],
             [
              0.7777777777777778,
              "#fb9f3a"
             ],
             [
              0.8888888888888888,
              "#fdca26"
             ],
             [
              1,
              "#f0f921"
             ]
            ],
            "type": "contour"
           }
          ],
          "contourcarpet": [
           {
            "colorbar": {
             "outlinewidth": 0,
             "ticks": ""
            },
            "type": "contourcarpet"
           }
          ],
          "heatmap": [
           {
            "colorbar": {
             "outlinewidth": 0,
             "ticks": ""
            },
            "colorscale": [
             [
              0,
              "#0d0887"
             ],
             [
              0.1111111111111111,
              "#46039f"
             ],
             [
              0.2222222222222222,
              "#7201a8"
             ],
             [
              0.3333333333333333,
              "#9c179e"
             ],
             [
              0.4444444444444444,
              "#bd3786"
             ],
             [
              0.5555555555555556,
              "#d8576b"
             ],
             [
              0.6666666666666666,
              "#ed7953"
             ],
             [
              0.7777777777777778,
              "#fb9f3a"
             ],
             [
              0.8888888888888888,
              "#fdca26"
             ],
             [
              1,
              "#f0f921"
             ]
            ],
            "type": "heatmap"
           }
          ],
          "heatmapgl": [
           {
            "colorbar": {
             "outlinewidth": 0,
             "ticks": ""
            },
            "colorscale": [
             [
              0,
              "#0d0887"
             ],
             [
              0.1111111111111111,
              "#46039f"
             ],
             [
              0.2222222222222222,
              "#7201a8"
             ],
             [
              0.3333333333333333,
              "#9c179e"
             ],
             [
              0.4444444444444444,
              "#bd3786"
             ],
             [
              0.5555555555555556,
              "#d8576b"
             ],
             [
              0.6666666666666666,
              "#ed7953"
             ],
             [
              0.7777777777777778,
              "#fb9f3a"
             ],
             [
              0.8888888888888888,
              "#fdca26"
             ],
             [
              1,
              "#f0f921"
             ]
            ],
            "type": "heatmapgl"
           }
          ],
          "histogram": [
           {
            "marker": {
             "pattern": {
              "fillmode": "overlay",
              "size": 10,
              "solidity": 0.2
             }
            },
            "type": "histogram"
           }
          ],
          "histogram2d": [
           {
            "colorbar": {
             "outlinewidth": 0,
             "ticks": ""
            },
            "colorscale": [
             [
              0,
              "#0d0887"
             ],
             [
              0.1111111111111111,
              "#46039f"
             ],
             [
              0.2222222222222222,
              "#7201a8"
             ],
             [
              0.3333333333333333,
              "#9c179e"
             ],
             [
              0.4444444444444444,
              "#bd3786"
             ],
             [
              0.5555555555555556,
              "#d8576b"
             ],
             [
              0.6666666666666666,
              "#ed7953"
             ],
             [
              0.7777777777777778,
              "#fb9f3a"
             ],
             [
              0.8888888888888888,
              "#fdca26"
             ],
             [
              1,
              "#f0f921"
             ]
            ],
            "type": "histogram2d"
           }
          ],
          "histogram2dcontour": [
           {
            "colorbar": {
             "outlinewidth": 0,
             "ticks": ""
            },
            "colorscale": [
             [
              0,
              "#0d0887"
             ],
             [
              0.1111111111111111,
              "#46039f"
             ],
             [
              0.2222222222222222,
              "#7201a8"
             ],
             [
              0.3333333333333333,
              "#9c179e"
             ],
             [
              0.4444444444444444,
              "#bd3786"
             ],
             [
              0.5555555555555556,
              "#d8576b"
             ],
             [
              0.6666666666666666,
              "#ed7953"
             ],
             [
              0.7777777777777778,
              "#fb9f3a"
             ],
             [
              0.8888888888888888,
              "#fdca26"
             ],
             [
              1,
              "#f0f921"
             ]
            ],
            "type": "histogram2dcontour"
           }
          ],
          "mesh3d": [
           {
            "colorbar": {
             "outlinewidth": 0,
             "ticks": ""
            },
            "type": "mesh3d"
           }
          ],
          "parcoords": [
           {
            "line": {
             "colorbar": {
              "outlinewidth": 0,
              "ticks": ""
             }
            },
            "type": "parcoords"
           }
          ],
          "pie": [
           {
            "automargin": true,
            "type": "pie"
           }
          ],
          "scatter": [
           {
            "fillpattern": {
             "fillmode": "overlay",
             "size": 10,
             "solidity": 0.2
            },
            "type": "scatter"
           }
          ],
          "scatter3d": [
           {
            "line": {
             "colorbar": {
              "outlinewidth": 0,
              "ticks": ""
             }
            },
            "marker": {
             "colorbar": {
              "outlinewidth": 0,
              "ticks": ""
             }
            },
            "type": "scatter3d"
           }
          ],
          "scattercarpet": [
           {
            "marker": {
             "colorbar": {
              "outlinewidth": 0,
              "ticks": ""
             }
            },
            "type": "scattercarpet"
           }
          ],
          "scattergeo": [
           {
            "marker": {
             "colorbar": {
              "outlinewidth": 0,
              "ticks": ""
             }
            },
            "type": "scattergeo"
           }
          ],
          "scattergl": [
           {
            "marker": {
             "colorbar": {
              "outlinewidth": 0,
              "ticks": ""
             }
            },
            "type": "scattergl"
           }
          ],
          "scattermapbox": [
           {
            "marker": {
             "colorbar": {
              "outlinewidth": 0,
              "ticks": ""
             }
            },
            "type": "scattermapbox"
           }
          ],
          "scatterpolar": [
           {
            "marker": {
             "colorbar": {
              "outlinewidth": 0,
              "ticks": ""
             }
            },
            "type": "scatterpolar"
           }
          ],
          "scatterpolargl": [
           {
            "marker": {
             "colorbar": {
              "outlinewidth": 0,
              "ticks": ""
             }
            },
            "type": "scatterpolargl"
           }
          ],
          "scatterternary": [
           {
            "marker": {
             "colorbar": {
              "outlinewidth": 0,
              "ticks": ""
             }
            },
            "type": "scatterternary"
           }
          ],
          "surface": [
           {
            "colorbar": {
             "outlinewidth": 0,
             "ticks": ""
            },
            "colorscale": [
             [
              0,
              "#0d0887"
             ],
             [
              0.1111111111111111,
              "#46039f"
             ],
             [
              0.2222222222222222,
              "#7201a8"
             ],
             [
              0.3333333333333333,
              "#9c179e"
             ],
             [
              0.4444444444444444,
              "#bd3786"
             ],
             [
              0.5555555555555556,
              "#d8576b"
             ],
             [
              0.6666666666666666,
              "#ed7953"
             ],
             [
              0.7777777777777778,
              "#fb9f3a"
             ],
             [
              0.8888888888888888,
              "#fdca26"
             ],
             [
              1,
              "#f0f921"
             ]
            ],
            "type": "surface"
           }
          ],
          "table": [
           {
            "cells": {
             "fill": {
              "color": "#EBF0F8"
             },
             "line": {
              "color": "white"
             }
            },
            "header": {
             "fill": {
              "color": "#C8D4E3"
             },
             "line": {
              "color": "white"
             }
            },
            "type": "table"
           }
          ]
         },
         "layout": {
          "annotationdefaults": {
           "arrowcolor": "#2a3f5f",
           "arrowhead": 0,
           "arrowwidth": 1
          },
          "autotypenumbers": "strict",
          "coloraxis": {
           "colorbar": {
            "outlinewidth": 0,
            "ticks": ""
           }
          },
          "colorscale": {
           "diverging": [
            [
             0,
             "#8e0152"
            ],
            [
             0.1,
             "#c51b7d"
            ],
            [
             0.2,
             "#de77ae"
            ],
            [
             0.3,
             "#f1b6da"
            ],
            [
             0.4,
             "#fde0ef"
            ],
            [
             0.5,
             "#f7f7f7"
            ],
            [
             0.6,
             "#e6f5d0"
            ],
            [
             0.7,
             "#b8e186"
            ],
            [
             0.8,
             "#7fbc41"
            ],
            [
             0.9,
             "#4d9221"
            ],
            [
             1,
             "#276419"
            ]
           ],
           "sequential": [
            [
             0,
             "#0d0887"
            ],
            [
             0.1111111111111111,
             "#46039f"
            ],
            [
             0.2222222222222222,
             "#7201a8"
            ],
            [
             0.3333333333333333,
             "#9c179e"
            ],
            [
             0.4444444444444444,
             "#bd3786"
            ],
            [
             0.5555555555555556,
             "#d8576b"
            ],
            [
             0.6666666666666666,
             "#ed7953"
            ],
            [
             0.7777777777777778,
             "#fb9f3a"
            ],
            [
             0.8888888888888888,
             "#fdca26"
            ],
            [
             1,
             "#f0f921"
            ]
           ],
           "sequentialminus": [
            [
             0,
             "#0d0887"
            ],
            [
             0.1111111111111111,
             "#46039f"
            ],
            [
             0.2222222222222222,
             "#7201a8"
            ],
            [
             0.3333333333333333,
             "#9c179e"
            ],
            [
             0.4444444444444444,
             "#bd3786"
            ],
            [
             0.5555555555555556,
             "#d8576b"
            ],
            [
             0.6666666666666666,
             "#ed7953"
            ],
            [
             0.7777777777777778,
             "#fb9f3a"
            ],
            [
             0.8888888888888888,
             "#fdca26"
            ],
            [
             1,
             "#f0f921"
            ]
           ]
          },
          "colorway": [
           "#636efa",
           "#EF553B",
           "#00cc96",
           "#ab63fa",
           "#FFA15A",
           "#19d3f3",
           "#FF6692",
           "#B6E880",
           "#FF97FF",
           "#FECB52"
          ],
          "font": {
           "color": "#2a3f5f"
          },
          "geo": {
           "bgcolor": "white",
           "lakecolor": "white",
           "landcolor": "#E5ECF6",
           "showlakes": true,
           "showland": true,
           "subunitcolor": "white"
          },
          "hoverlabel": {
           "align": "left"
          },
          "hovermode": "closest",
          "mapbox": {
           "style": "light"
          },
          "paper_bgcolor": "white",
          "plot_bgcolor": "#E5ECF6",
          "polar": {
           "angularaxis": {
            "gridcolor": "white",
            "linecolor": "white",
            "ticks": ""
           },
           "bgcolor": "#E5ECF6",
           "radialaxis": {
            "gridcolor": "white",
            "linecolor": "white",
            "ticks": ""
           }
          },
          "scene": {
           "xaxis": {
            "backgroundcolor": "#E5ECF6",
            "gridcolor": "white",
            "gridwidth": 2,
            "linecolor": "white",
            "showbackground": true,
            "ticks": "",
            "zerolinecolor": "white"
           },
           "yaxis": {
            "backgroundcolor": "#E5ECF6",
            "gridcolor": "white",
            "gridwidth": 2,
            "linecolor": "white",
            "showbackground": true,
            "ticks": "",
            "zerolinecolor": "white"
           },
           "zaxis": {
            "backgroundcolor": "#E5ECF6",
            "gridcolor": "white",
            "gridwidth": 2,
            "linecolor": "white",
            "showbackground": true,
            "ticks": "",
            "zerolinecolor": "white"
           }
          },
          "shapedefaults": {
           "line": {
            "color": "#2a3f5f"
           }
          },
          "ternary": {
           "aaxis": {
            "gridcolor": "white",
            "linecolor": "white",
            "ticks": ""
           },
           "baxis": {
            "gridcolor": "white",
            "linecolor": "white",
            "ticks": ""
           },
           "bgcolor": "#E5ECF6",
           "caxis": {
            "gridcolor": "white",
            "linecolor": "white",
            "ticks": ""
           }
          },
          "title": {
           "x": 0.05
          },
          "xaxis": {
           "automargin": true,
           "gridcolor": "white",
           "linecolor": "white",
           "ticks": "",
           "title": {
            "standoff": 15
           },
           "zerolinecolor": "white",
           "zerolinewidth": 2
          },
          "yaxis": {
           "automargin": true,
           "gridcolor": "white",
           "linecolor": "white",
           "ticks": "",
           "title": {
            "standoff": 15
           },
           "zerolinecolor": "white",
           "zerolinewidth": 2
          }
         }
        },
        "title": {
         "text": "Average Number of Comments per Tally Proposal Post"
        },
        "xaxis": {
         "anchor": "y",
         "domain": [
          0,
          1
         ],
         "title": {
          "text": "x"
         }
        },
        "yaxis": {
         "anchor": "x",
         "domain": [
          0,
          1
         ],
         "title": {
          "text": "y"
         }
        }
       }
      }
     },
     "metadata": {},
     "output_type": "display_data"
    }
   ],
   "source": [
    "import pandas as pd\n",
    "import plotly.express as px\n",
    "\n",
    "# Load datasets\n",
    "posts_df = pd.read_csv('forum_posts_data.csv')\n",
    "\n",
    "# Filter Tally proposal posts\n",
    "tally_topic_ids = [21332, 20957, 20856, 20223, 20064, 19899, 19467, 16501, 19696, 18557, \n",
    "                   19046, 16131, 15615, 15920, 15425, 15426, 14976, 14688, 14790, 13360, 13362]\n",
    "\n",
    "tally_posts = posts_df[posts_df['Topic ID'].isin(tally_topic_ids)]\n",
    "\n",
    "# Calculate the average number of comments received by Tally proposal posts\n",
    "average_comments = tally_posts.groupby('Topic ID').size().mean()\n",
    "\n",
    "# Plot the average number of comments received by Tally proposal posts\n",
    "fig = px.bar(x=['Average Comments'], y=[average_comments], title='Average Number of Comments per Tally Proposal Post')\n",
    "fig.show()\n",
    "fig.write_html(\"Average Number of Comments Received by Tally Proposal Posts.html\")\n"
   ]
  },
  {
   "cell_type": "markdown",
   "metadata": {},
   "source": [
    "####  Is there a statistically significant correlation between the number of comments and the number of likes for Tally proposals?"
   ]
  },
  {
   "cell_type": "code",
   "execution_count": 60,
   "metadata": {},
   "outputs": [
    {
     "name": "stdout",
     "output_type": "stream",
     "text": [
      "Pearson Correlation Coefficient: 0.94\n",
      "P-value: 0.00\n",
      "The correlation between number of comments and number of likes for Tally proposals is statistically significant.\n"
     ]
    },
    {
     "data": {
      "application/vnd.plotly.v1+json": {
       "config": {
        "plotlyServerURL": "https://plot.ly"
       },
       "data": [
        {
         "hovertemplate": "Number of Comments=%{x}<br>Number of Likes=%{y}<extra></extra>",
         "legendgroup": "",
         "marker": {
          "color": "#636efa",
          "symbol": "circle"
         },
         "mode": "markers",
         "name": "",
         "orientation": "v",
         "showlegend": false,
         "type": "scatter",
         "x": [
          68,
          30,
          56,
          25,
          29,
          120,
          14,
          38,
          66,
          17,
          30,
          136,
          72,
          11,
          7,
          13,
          55,
          66,
          21,
          68,
          90
         ],
         "xaxis": "x",
         "y": [
          229,
          32,
          293,
          46,
          135,
          721,
          31,
          150,
          331,
          120,
          163,
          618,
          249,
          71,
          24,
          37,
          296,
          401,
          174,
          232,
          479
         ],
         "yaxis": "y"
        }
       ],
       "layout": {
        "legend": {
         "tracegroupgap": 0
        },
        "template": {
         "data": {
          "bar": [
           {
            "error_x": {
             "color": "#2a3f5f"
            },
            "error_y": {
             "color": "#2a3f5f"
            },
            "marker": {
             "line": {
              "color": "#E5ECF6",
              "width": 0.5
             },
             "pattern": {
              "fillmode": "overlay",
              "size": 10,
              "solidity": 0.2
             }
            },
            "type": "bar"
           }
          ],
          "barpolar": [
           {
            "marker": {
             "line": {
              "color": "#E5ECF6",
              "width": 0.5
             },
             "pattern": {
              "fillmode": "overlay",
              "size": 10,
              "solidity": 0.2
             }
            },
            "type": "barpolar"
           }
          ],
          "carpet": [
           {
            "aaxis": {
             "endlinecolor": "#2a3f5f",
             "gridcolor": "white",
             "linecolor": "white",
             "minorgridcolor": "white",
             "startlinecolor": "#2a3f5f"
            },
            "baxis": {
             "endlinecolor": "#2a3f5f",
             "gridcolor": "white",
             "linecolor": "white",
             "minorgridcolor": "white",
             "startlinecolor": "#2a3f5f"
            },
            "type": "carpet"
           }
          ],
          "choropleth": [
           {
            "colorbar": {
             "outlinewidth": 0,
             "ticks": ""
            },
            "type": "choropleth"
           }
          ],
          "contour": [
           {
            "colorbar": {
             "outlinewidth": 0,
             "ticks": ""
            },
            "colorscale": [
             [
              0,
              "#0d0887"
             ],
             [
              0.1111111111111111,
              "#46039f"
             ],
             [
              0.2222222222222222,
              "#7201a8"
             ],
             [
              0.3333333333333333,
              "#9c179e"
             ],
             [
              0.4444444444444444,
              "#bd3786"
             ],
             [
              0.5555555555555556,
              "#d8576b"
             ],
             [
              0.6666666666666666,
              "#ed7953"
             ],
             [
              0.7777777777777778,
              "#fb9f3a"
             ],
             [
              0.8888888888888888,
              "#fdca26"
             ],
             [
              1,
              "#f0f921"
             ]
            ],
            "type": "contour"
           }
          ],
          "contourcarpet": [
           {
            "colorbar": {
             "outlinewidth": 0,
             "ticks": ""
            },
            "type": "contourcarpet"
           }
          ],
          "heatmap": [
           {
            "colorbar": {
             "outlinewidth": 0,
             "ticks": ""
            },
            "colorscale": [
             [
              0,
              "#0d0887"
             ],
             [
              0.1111111111111111,
              "#46039f"
             ],
             [
              0.2222222222222222,
              "#7201a8"
             ],
             [
              0.3333333333333333,
              "#9c179e"
             ],
             [
              0.4444444444444444,
              "#bd3786"
             ],
             [
              0.5555555555555556,
              "#d8576b"
             ],
             [
              0.6666666666666666,
              "#ed7953"
             ],
             [
              0.7777777777777778,
              "#fb9f3a"
             ],
             [
              0.8888888888888888,
              "#fdca26"
             ],
             [
              1,
              "#f0f921"
             ]
            ],
            "type": "heatmap"
           }
          ],
          "heatmapgl": [
           {
            "colorbar": {
             "outlinewidth": 0,
             "ticks": ""
            },
            "colorscale": [
             [
              0,
              "#0d0887"
             ],
             [
              0.1111111111111111,
              "#46039f"
             ],
             [
              0.2222222222222222,
              "#7201a8"
             ],
             [
              0.3333333333333333,
              "#9c179e"
             ],
             [
              0.4444444444444444,
              "#bd3786"
             ],
             [
              0.5555555555555556,
              "#d8576b"
             ],
             [
              0.6666666666666666,
              "#ed7953"
             ],
             [
              0.7777777777777778,
              "#fb9f3a"
             ],
             [
              0.8888888888888888,
              "#fdca26"
             ],
             [
              1,
              "#f0f921"
             ]
            ],
            "type": "heatmapgl"
           }
          ],
          "histogram": [
           {
            "marker": {
             "pattern": {
              "fillmode": "overlay",
              "size": 10,
              "solidity": 0.2
             }
            },
            "type": "histogram"
           }
          ],
          "histogram2d": [
           {
            "colorbar": {
             "outlinewidth": 0,
             "ticks": ""
            },
            "colorscale": [
             [
              0,
              "#0d0887"
             ],
             [
              0.1111111111111111,
              "#46039f"
             ],
             [
              0.2222222222222222,
              "#7201a8"
             ],
             [
              0.3333333333333333,
              "#9c179e"
             ],
             [
              0.4444444444444444,
              "#bd3786"
             ],
             [
              0.5555555555555556,
              "#d8576b"
             ],
             [
              0.6666666666666666,
              "#ed7953"
             ],
             [
              0.7777777777777778,
              "#fb9f3a"
             ],
             [
              0.8888888888888888,
              "#fdca26"
             ],
             [
              1,
              "#f0f921"
             ]
            ],
            "type": "histogram2d"
           }
          ],
          "histogram2dcontour": [
           {
            "colorbar": {
             "outlinewidth": 0,
             "ticks": ""
            },
            "colorscale": [
             [
              0,
              "#0d0887"
             ],
             [
              0.1111111111111111,
              "#46039f"
             ],
             [
              0.2222222222222222,
              "#7201a8"
             ],
             [
              0.3333333333333333,
              "#9c179e"
             ],
             [
              0.4444444444444444,
              "#bd3786"
             ],
             [
              0.5555555555555556,
              "#d8576b"
             ],
             [
              0.6666666666666666,
              "#ed7953"
             ],
             [
              0.7777777777777778,
              "#fb9f3a"
             ],
             [
              0.8888888888888888,
              "#fdca26"
             ],
             [
              1,
              "#f0f921"
             ]
            ],
            "type": "histogram2dcontour"
           }
          ],
          "mesh3d": [
           {
            "colorbar": {
             "outlinewidth": 0,
             "ticks": ""
            },
            "type": "mesh3d"
           }
          ],
          "parcoords": [
           {
            "line": {
             "colorbar": {
              "outlinewidth": 0,
              "ticks": ""
             }
            },
            "type": "parcoords"
           }
          ],
          "pie": [
           {
            "automargin": true,
            "type": "pie"
           }
          ],
          "scatter": [
           {
            "fillpattern": {
             "fillmode": "overlay",
             "size": 10,
             "solidity": 0.2
            },
            "type": "scatter"
           }
          ],
          "scatter3d": [
           {
            "line": {
             "colorbar": {
              "outlinewidth": 0,
              "ticks": ""
             }
            },
            "marker": {
             "colorbar": {
              "outlinewidth": 0,
              "ticks": ""
             }
            },
            "type": "scatter3d"
           }
          ],
          "scattercarpet": [
           {
            "marker": {
             "colorbar": {
              "outlinewidth": 0,
              "ticks": ""
             }
            },
            "type": "scattercarpet"
           }
          ],
          "scattergeo": [
           {
            "marker": {
             "colorbar": {
              "outlinewidth": 0,
              "ticks": ""
             }
            },
            "type": "scattergeo"
           }
          ],
          "scattergl": [
           {
            "marker": {
             "colorbar": {
              "outlinewidth": 0,
              "ticks": ""
             }
            },
            "type": "scattergl"
           }
          ],
          "scattermapbox": [
           {
            "marker": {
             "colorbar": {
              "outlinewidth": 0,
              "ticks": ""
             }
            },
            "type": "scattermapbox"
           }
          ],
          "scatterpolar": [
           {
            "marker": {
             "colorbar": {
              "outlinewidth": 0,
              "ticks": ""
             }
            },
            "type": "scatterpolar"
           }
          ],
          "scatterpolargl": [
           {
            "marker": {
             "colorbar": {
              "outlinewidth": 0,
              "ticks": ""
             }
            },
            "type": "scatterpolargl"
           }
          ],
          "scatterternary": [
           {
            "marker": {
             "colorbar": {
              "outlinewidth": 0,
              "ticks": ""
             }
            },
            "type": "scatterternary"
           }
          ],
          "surface": [
           {
            "colorbar": {
             "outlinewidth": 0,
             "ticks": ""
            },
            "colorscale": [
             [
              0,
              "#0d0887"
             ],
             [
              0.1111111111111111,
              "#46039f"
             ],
             [
              0.2222222222222222,
              "#7201a8"
             ],
             [
              0.3333333333333333,
              "#9c179e"
             ],
             [
              0.4444444444444444,
              "#bd3786"
             ],
             [
              0.5555555555555556,
              "#d8576b"
             ],
             [
              0.6666666666666666,
              "#ed7953"
             ],
             [
              0.7777777777777778,
              "#fb9f3a"
             ],
             [
              0.8888888888888888,
              "#fdca26"
             ],
             [
              1,
              "#f0f921"
             ]
            ],
            "type": "surface"
           }
          ],
          "table": [
           {
            "cells": {
             "fill": {
              "color": "#EBF0F8"
             },
             "line": {
              "color": "white"
             }
            },
            "header": {
             "fill": {
              "color": "#C8D4E3"
             },
             "line": {
              "color": "white"
             }
            },
            "type": "table"
           }
          ]
         },
         "layout": {
          "annotationdefaults": {
           "arrowcolor": "#2a3f5f",
           "arrowhead": 0,
           "arrowwidth": 1
          },
          "autotypenumbers": "strict",
          "coloraxis": {
           "colorbar": {
            "outlinewidth": 0,
            "ticks": ""
           }
          },
          "colorscale": {
           "diverging": [
            [
             0,
             "#8e0152"
            ],
            [
             0.1,
             "#c51b7d"
            ],
            [
             0.2,
             "#de77ae"
            ],
            [
             0.3,
             "#f1b6da"
            ],
            [
             0.4,
             "#fde0ef"
            ],
            [
             0.5,
             "#f7f7f7"
            ],
            [
             0.6,
             "#e6f5d0"
            ],
            [
             0.7,
             "#b8e186"
            ],
            [
             0.8,
             "#7fbc41"
            ],
            [
             0.9,
             "#4d9221"
            ],
            [
             1,
             "#276419"
            ]
           ],
           "sequential": [
            [
             0,
             "#0d0887"
            ],
            [
             0.1111111111111111,
             "#46039f"
            ],
            [
             0.2222222222222222,
             "#7201a8"
            ],
            [
             0.3333333333333333,
             "#9c179e"
            ],
            [
             0.4444444444444444,
             "#bd3786"
            ],
            [
             0.5555555555555556,
             "#d8576b"
            ],
            [
             0.6666666666666666,
             "#ed7953"
            ],
            [
             0.7777777777777778,
             "#fb9f3a"
            ],
            [
             0.8888888888888888,
             "#fdca26"
            ],
            [
             1,
             "#f0f921"
            ]
           ],
           "sequentialminus": [
            [
             0,
             "#0d0887"
            ],
            [
             0.1111111111111111,
             "#46039f"
            ],
            [
             0.2222222222222222,
             "#7201a8"
            ],
            [
             0.3333333333333333,
             "#9c179e"
            ],
            [
             0.4444444444444444,
             "#bd3786"
            ],
            [
             0.5555555555555556,
             "#d8576b"
            ],
            [
             0.6666666666666666,
             "#ed7953"
            ],
            [
             0.7777777777777778,
             "#fb9f3a"
            ],
            [
             0.8888888888888888,
             "#fdca26"
            ],
            [
             1,
             "#f0f921"
            ]
           ]
          },
          "colorway": [
           "#636efa",
           "#EF553B",
           "#00cc96",
           "#ab63fa",
           "#FFA15A",
           "#19d3f3",
           "#FF6692",
           "#B6E880",
           "#FF97FF",
           "#FECB52"
          ],
          "font": {
           "color": "#2a3f5f"
          },
          "geo": {
           "bgcolor": "white",
           "lakecolor": "white",
           "landcolor": "#E5ECF6",
           "showlakes": true,
           "showland": true,
           "subunitcolor": "white"
          },
          "hoverlabel": {
           "align": "left"
          },
          "hovermode": "closest",
          "mapbox": {
           "style": "light"
          },
          "paper_bgcolor": "white",
          "plot_bgcolor": "#E5ECF6",
          "polar": {
           "angularaxis": {
            "gridcolor": "white",
            "linecolor": "white",
            "ticks": ""
           },
           "bgcolor": "#E5ECF6",
           "radialaxis": {
            "gridcolor": "white",
            "linecolor": "white",
            "ticks": ""
           }
          },
          "scene": {
           "xaxis": {
            "backgroundcolor": "#E5ECF6",
            "gridcolor": "white",
            "gridwidth": 2,
            "linecolor": "white",
            "showbackground": true,
            "ticks": "",
            "zerolinecolor": "white"
           },
           "yaxis": {
            "backgroundcolor": "#E5ECF6",
            "gridcolor": "white",
            "gridwidth": 2,
            "linecolor": "white",
            "showbackground": true,
            "ticks": "",
            "zerolinecolor": "white"
           },
           "zaxis": {
            "backgroundcolor": "#E5ECF6",
            "gridcolor": "white",
            "gridwidth": 2,
            "linecolor": "white",
            "showbackground": true,
            "ticks": "",
            "zerolinecolor": "white"
           }
          },
          "shapedefaults": {
           "line": {
            "color": "#2a3f5f"
           }
          },
          "ternary": {
           "aaxis": {
            "gridcolor": "white",
            "linecolor": "white",
            "ticks": ""
           },
           "baxis": {
            "gridcolor": "white",
            "linecolor": "white",
            "ticks": ""
           },
           "bgcolor": "#E5ECF6",
           "caxis": {
            "gridcolor": "white",
            "linecolor": "white",
            "ticks": ""
           }
          },
          "title": {
           "x": 0.05
          },
          "xaxis": {
           "automargin": true,
           "gridcolor": "white",
           "linecolor": "white",
           "ticks": "",
           "title": {
            "standoff": 15
           },
           "zerolinecolor": "white",
           "zerolinewidth": 2
          },
          "yaxis": {
           "automargin": true,
           "gridcolor": "white",
           "linecolor": "white",
           "ticks": "",
           "title": {
            "standoff": 15
           },
           "zerolinecolor": "white",
           "zerolinewidth": 2
          }
         }
        },
        "title": {
         "text": "Correlation between Number of Comments and Number of Likes for Tally Proposals"
        },
        "xaxis": {
         "anchor": "y",
         "domain": [
          0,
          1
         ],
         "title": {
          "text": "Number of Comments"
         }
        },
        "yaxis": {
         "anchor": "x",
         "domain": [
          0,
          1
         ],
         "title": {
          "text": "Number of Likes"
         }
        }
       }
      }
     },
     "metadata": {},
     "output_type": "display_data"
    }
   ],
   "source": [
    "import pandas as pd\n",
    "from scipy.stats import pearsonr\n",
    "import plotly.express as px\n",
    "\n",
    "# Load datasets\n",
    "topics_df = pd.read_csv('forum_topics_data.csv')\n",
    "\n",
    "# Filter Tally proposal topics\n",
    "tally_topic_ids = [21332, 20957, 20856, 20223, 20064, 19899, 19467, 16501, 19696, 18557, \n",
    "                   19046, 16131, 15615, 15920, 15425, 15426, 14976, 14688, 14790, 13360, 13362]\n",
    "\n",
    "tally_topics = topics_df[topics_df['Topic ID'].isin(tally_topic_ids)]\n",
    "\n",
    "# Calculate Pearson correlation coefficient between 'Posts Count' and 'Like Count'\n",
    "correlation_coefficient, p_value = pearsonr(tally_topics['Posts Count'], tally_topics['Like Count'])\n",
    "\n",
    "# Check for statistical significance\n",
    "alpha = 0.05\n",
    "if p_value < alpha:\n",
    "    significance = 'statistically significant'\n",
    "else:\n",
    "    significance = 'not statistically significant'\n",
    "\n",
    "print(f\"Pearson Correlation Coefficient: {correlation_coefficient:.2f}\")\n",
    "print(f\"P-value: {p_value:.2f}\")\n",
    "print(f\"The correlation between number of comments and number of likes for Tally proposals is {significance}.\")\n",
    "\n",
    "# Create scatter plot\n",
    "fig = px.scatter(tally_topics, x='Posts Count', y='Like Count', \n",
    "                 title='Correlation between Number of Comments and Number of Likes for Tally Proposals',\n",
    "                 labels={'Posts Count': 'Number of Comments', 'Like Count': 'Number of Likes'})\n",
    "\n",
    "# Show the plot\n",
    "fig.show()\n",
    "fig.write_html(\"Correlation Between Number of Comments and Number of Likes.html\")\n"
   ]
  },
  {
   "cell_type": "markdown",
   "metadata": {},
   "source": [
    "#### Do proposals with a higher number of views tend to have a significantly higher or lower number of comments compared to proposals with fewer views?"
   ]
  },
  {
   "cell_type": "code",
   "execution_count": 61,
   "metadata": {},
   "outputs": [
    {
     "data": {
      "application/vnd.plotly.v1+json": {
       "config": {
        "plotlyServerURL": "https://plot.ly"
       },
       "data": [
        {
         "alignmentgroup": "True",
         "box": {
          "visible": true
         },
         "hovertemplate": "View Group=%{x}<br>Number of Comments=%{y}<extra></extra>",
         "legendgroup": "",
         "marker": {
          "color": "#636efa"
         },
         "name": "",
         "offsetgroup": "",
         "orientation": "v",
         "points": "all",
         "scalegroup": "True",
         "showlegend": false,
         "type": "violin",
         "x": [
          "High Views",
          "High Views",
          "High Views",
          "High Views",
          "High Views",
          "High Views",
          "High Views",
          "High Views",
          "High Views",
          "High Views",
          "High Views",
          "High Views",
          "High Views",
          "High Views",
          "High Views",
          "High Views",
          "High Views",
          "High Views",
          "High Views",
          "High Views",
          "High Views",
          "High Views",
          "High Views",
          "High Views",
          "High Views",
          "High Views",
          "High Views",
          "High Views",
          "High Views",
          "High Views",
          "High Views",
          "High Views",
          "High Views",
          "High Views",
          "High Views",
          "High Views",
          "High Views",
          "High Views",
          "High Views",
          "High Views",
          "High Views",
          "High Views",
          "High Views",
          "High Views",
          "High Views",
          "High Views",
          "High Views",
          "High Views",
          "High Views",
          "High Views",
          "High Views",
          "High Views",
          "High Views",
          "High Views",
          "High Views",
          "High Views",
          "High Views",
          "High Views",
          "High Views",
          "High Views",
          "High Views",
          "High Views",
          "High Views",
          "High Views",
          "High Views",
          "High Views",
          "High Views",
          "High Views",
          "High Views",
          "High Views",
          "High Views",
          "High Views",
          "High Views",
          "High Views",
          "High Views",
          "High Views",
          "High Views",
          "High Views",
          "High Views",
          "High Views",
          "High Views",
          "High Views",
          "High Views",
          "High Views",
          "High Views",
          "High Views",
          "High Views",
          "High Views",
          "High Views",
          "High Views",
          "High Views",
          "High Views",
          "High Views",
          "High Views",
          "High Views",
          "High Views",
          "High Views",
          "High Views",
          "High Views",
          "High Views",
          "High Views",
          "High Views",
          "High Views",
          "High Views",
          "High Views",
          "High Views",
          "High Views",
          "High Views",
          "High Views",
          "High Views",
          "High Views",
          "High Views",
          "High Views",
          "High Views",
          "High Views",
          "High Views",
          "High Views",
          "High Views",
          "High Views",
          "High Views",
          "High Views",
          "High Views",
          "High Views",
          "High Views",
          "High Views",
          "High Views",
          "High Views",
          "High Views",
          "High Views",
          "High Views",
          "High Views",
          "High Views",
          "High Views",
          "High Views",
          "High Views",
          "High Views",
          "High Views",
          "High Views",
          "High Views",
          "High Views",
          "High Views",
          "High Views",
          "High Views",
          "High Views",
          "High Views",
          "High Views",
          "High Views",
          "High Views",
          "High Views",
          "High Views",
          "High Views",
          "High Views",
          "High Views",
          "High Views",
          "High Views",
          "High Views",
          "High Views",
          "High Views",
          "High Views",
          "High Views",
          "High Views",
          "High Views",
          "High Views",
          "High Views",
          "High Views",
          "High Views",
          "High Views",
          "High Views",
          "High Views",
          "High Views",
          "High Views",
          "High Views",
          "High Views",
          "High Views",
          "High Views",
          "High Views",
          "High Views",
          "High Views",
          "High Views",
          "High Views",
          "High Views",
          "High Views",
          "High Views",
          "High Views",
          "High Views",
          "High Views",
          "High Views",
          "High Views",
          "High Views",
          "High Views",
          "High Views",
          "High Views",
          "High Views",
          "High Views",
          "High Views",
          "High Views",
          "High Views",
          "High Views",
          "High Views",
          "High Views",
          "High Views",
          "High Views",
          "High Views",
          "High Views",
          "High Views",
          "High Views",
          "High Views",
          "High Views",
          "High Views",
          "High Views",
          "High Views",
          "High Views",
          "High Views",
          "High Views",
          "High Views",
          "High Views",
          "High Views",
          "High Views",
          "High Views",
          "High Views",
          "High Views",
          "High Views",
          "High Views",
          "High Views",
          "High Views",
          "High Views",
          "High Views",
          "High Views",
          "High Views",
          "High Views",
          "High Views",
          "High Views",
          "High Views",
          "High Views",
          "High Views",
          "High Views",
          "High Views",
          "High Views",
          "High Views",
          "High Views",
          "High Views",
          "High Views",
          "High Views",
          "High Views",
          "High Views",
          "High Views",
          "High Views",
          "High Views",
          "High Views",
          "High Views",
          "High Views",
          "High Views",
          "High Views",
          "High Views",
          "High Views",
          "High Views",
          "High Views",
          "High Views",
          "High Views",
          "High Views",
          "High Views",
          "High Views",
          "High Views",
          "High Views",
          "High Views",
          "High Views",
          "High Views",
          "High Views",
          "High Views",
          "High Views",
          "High Views",
          "High Views",
          "High Views",
          "High Views",
          "High Views",
          "High Views",
          "High Views",
          "High Views",
          "High Views",
          "High Views",
          "High Views",
          "High Views",
          "High Views",
          "High Views",
          "High Views",
          "High Views",
          "High Views",
          "High Views",
          "High Views",
          "High Views",
          "High Views",
          "High Views",
          "High Views",
          "High Views",
          "High Views",
          "High Views",
          "High Views",
          "High Views",
          "High Views",
          "High Views",
          "High Views",
          "High Views",
          "High Views",
          "High Views",
          "High Views",
          "High Views",
          "High Views",
          "High Views",
          "High Views",
          "High Views",
          "High Views",
          "High Views",
          "High Views",
          "High Views",
          "High Views",
          "High Views",
          "High Views",
          "High Views",
          "High Views",
          "High Views",
          "High Views",
          "High Views",
          "High Views",
          "High Views",
          "High Views",
          "High Views",
          "High Views",
          "High Views",
          "High Views",
          "High Views",
          "High Views",
          "High Views",
          "High Views",
          "High Views",
          "High Views",
          "High Views",
          "High Views",
          "High Views",
          "High Views",
          "High Views",
          "High Views",
          "High Views",
          "High Views",
          "High Views",
          "High Views",
          "High Views",
          "High Views",
          "High Views",
          "High Views",
          "High Views",
          "High Views",
          "High Views",
          "High Views",
          "High Views",
          "High Views",
          "High Views",
          "High Views",
          "High Views",
          "High Views",
          "High Views",
          "High Views",
          "High Views",
          "High Views",
          "High Views",
          "High Views",
          "High Views",
          "High Views",
          "High Views",
          "High Views",
          "High Views",
          "High Views",
          "High Views",
          "High Views",
          "High Views",
          "High Views",
          "High Views",
          "High Views",
          "High Views",
          "High Views",
          "High Views",
          "High Views",
          "High Views",
          "High Views",
          "High Views",
          "High Views",
          "High Views",
          "High Views",
          "High Views",
          "High Views",
          "High Views",
          "High Views",
          "High Views",
          "High Views",
          "High Views",
          "High Views",
          "High Views",
          "High Views",
          "High Views",
          "High Views",
          "High Views",
          "High Views",
          "High Views",
          "High Views",
          "High Views",
          "High Views",
          "High Views",
          "High Views",
          "High Views",
          "High Views",
          "High Views",
          "High Views",
          "High Views",
          "High Views",
          "High Views",
          "High Views",
          "High Views",
          "High Views",
          "High Views",
          "High Views",
          "High Views",
          "High Views",
          "High Views",
          "High Views",
          "High Views",
          "High Views",
          "High Views",
          "High Views",
          "High Views",
          "High Views",
          "High Views",
          "High Views",
          "High Views",
          "High Views",
          "High Views",
          "High Views",
          "High Views",
          "High Views",
          "High Views",
          "High Views",
          "High Views",
          "High Views",
          "High Views",
          "High Views",
          "High Views",
          "High Views",
          "High Views",
          "High Views",
          "High Views",
          "High Views",
          "High Views",
          "High Views",
          "High Views",
          "High Views",
          "High Views",
          "High Views",
          "High Views",
          "High Views",
          "High Views",
          "High Views",
          "High Views",
          "High Views",
          "High Views",
          "High Views",
          "High Views",
          "High Views",
          "High Views",
          "High Views",
          "High Views",
          "High Views",
          "High Views",
          "High Views",
          "High Views",
          "High Views",
          "High Views",
          "High Views",
          "Low Views",
          "Low Views",
          "Low Views",
          "Low Views",
          "Low Views",
          "Low Views",
          "Low Views",
          "Low Views",
          "Low Views",
          "Low Views",
          "Low Views",
          "Low Views",
          "Low Views",
          "Low Views",
          "Low Views",
          "Low Views",
          "Low Views",
          "Low Views",
          "Low Views",
          "Low Views",
          "Low Views",
          "Low Views",
          "Low Views",
          "Low Views",
          "Low Views",
          "Low Views",
          "Low Views",
          "Low Views",
          "Low Views",
          "Low Views",
          "Low Views",
          "Low Views",
          "Low Views",
          "Low Views",
          "Low Views",
          "Low Views",
          "Low Views",
          "Low Views",
          "Low Views",
          "Low Views",
          "Low Views",
          "Low Views",
          "Low Views",
          "Low Views",
          "Low Views",
          "Low Views",
          "Low Views",
          "Low Views",
          "Low Views",
          "Low Views",
          "Low Views",
          "Low Views",
          "Low Views",
          "Low Views",
          "Low Views",
          "Low Views",
          "Low Views",
          "Low Views",
          "Low Views",
          "Low Views",
          "Low Views",
          "Low Views",
          "Low Views",
          "Low Views",
          "Low Views",
          "Low Views",
          "Low Views",
          "Low Views",
          "Low Views",
          "Low Views",
          "Low Views",
          "Low Views",
          "Low Views",
          "Low Views",
          "Low Views",
          "Low Views",
          "Low Views",
          "Low Views",
          "Low Views",
          "Low Views",
          "Low Views",
          "Low Views",
          "Low Views",
          "Low Views",
          "Low Views",
          "Low Views",
          "Low Views",
          "Low Views",
          "Low Views",
          "Low Views",
          "Low Views",
          "Low Views",
          "Low Views",
          "Low Views",
          "Low Views",
          "Low Views",
          "Low Views",
          "Low Views",
          "Low Views",
          "Low Views",
          "Low Views",
          "Low Views",
          "Low Views",
          "Low Views",
          "Low Views",
          "Low Views",
          "Low Views",
          "Low Views",
          "Low Views",
          "Low Views",
          "Low Views",
          "Low Views",
          "Low Views",
          "Low Views",
          "Low Views",
          "Low Views",
          "Low Views",
          "Low Views",
          "Low Views",
          "Low Views",
          "Low Views",
          "Low Views",
          "Low Views",
          "Low Views",
          "Low Views",
          "Low Views",
          "Low Views",
          "Low Views",
          "Low Views",
          "Low Views",
          "Low Views",
          "Low Views",
          "Low Views",
          "Low Views",
          "Low Views",
          "Low Views",
          "Low Views",
          "Low Views",
          "Low Views",
          "Low Views",
          "Low Views",
          "Low Views",
          "Low Views",
          "Low Views",
          "Low Views",
          "Low Views",
          "Low Views",
          "Low Views",
          "Low Views",
          "Low Views",
          "Low Views",
          "Low Views",
          "Low Views",
          "Low Views",
          "Low Views",
          "Low Views",
          "Low Views",
          "Low Views",
          "Low Views",
          "Low Views",
          "Low Views",
          "Low Views",
          "Low Views",
          "Low Views",
          "Low Views",
          "Low Views",
          "Low Views",
          "Low Views",
          "Low Views",
          "Low Views",
          "Low Views",
          "Low Views",
          "Low Views",
          "Low Views",
          "Low Views",
          "Low Views",
          "Low Views",
          "Low Views",
          "Low Views",
          "Low Views",
          "Low Views",
          "Low Views",
          "Low Views",
          "Low Views",
          "Low Views",
          "Low Views",
          "Low Views",
          "Low Views",
          "Low Views",
          "Low Views",
          "Low Views",
          "Low Views",
          "Low Views",
          "Low Views",
          "Low Views",
          "Low Views",
          "Low Views",
          "Low Views",
          "Low Views",
          "Low Views",
          "Low Views",
          "Low Views",
          "Low Views",
          "Low Views",
          "Low Views",
          "Low Views",
          "Low Views",
          "Low Views",
          "Low Views",
          "Low Views",
          "Low Views",
          "Low Views",
          "Low Views",
          "Low Views",
          "Low Views",
          "Low Views",
          "Low Views",
          "Low Views",
          "Low Views",
          "Low Views",
          "Low Views",
          "Low Views",
          "Low Views",
          "Low Views",
          "Low Views",
          "Low Views",
          "Low Views",
          "Low Views",
          "Low Views",
          "Low Views",
          "Low Views",
          "Low Views",
          "Low Views",
          "Low Views",
          "Low Views",
          "Low Views",
          "Low Views",
          "Low Views",
          "Low Views",
          "Low Views",
          "Low Views",
          "Low Views",
          "Low Views",
          "Low Views",
          "Low Views",
          "Low Views",
          "Low Views",
          "Low Views",
          "Low Views",
          "Low Views",
          "Low Views",
          "Low Views",
          "Low Views",
          "Low Views",
          "Low Views",
          "Low Views",
          "Low Views",
          "Low Views",
          "Low Views",
          "Low Views",
          "Low Views",
          "Low Views",
          "Low Views",
          "Low Views",
          "Low Views",
          "Low Views",
          "Low Views",
          "Low Views",
          "Low Views",
          "Low Views",
          "Low Views",
          "Low Views",
          "Low Views",
          "Low Views",
          "Low Views",
          "Low Views",
          "Low Views",
          "Low Views",
          "Low Views",
          "Low Views",
          "Low Views",
          "Low Views",
          "Low Views",
          "Low Views",
          "Low Views",
          "Low Views",
          "Low Views",
          "Low Views",
          "Low Views",
          "Low Views",
          "Low Views",
          "Low Views",
          "Low Views",
          "Low Views",
          "Low Views",
          "Low Views",
          "Low Views",
          "Low Views",
          "Low Views",
          "Low Views",
          "Low Views",
          "Low Views",
          "Low Views",
          "Low Views",
          "Low Views",
          "Low Views",
          "Low Views",
          "Low Views",
          "Low Views",
          "Low Views",
          "Low Views",
          "Low Views",
          "Low Views",
          "Low Views",
          "Low Views",
          "Low Views",
          "Low Views",
          "Low Views",
          "Low Views",
          "Low Views",
          "Low Views",
          "Low Views",
          "Low Views",
          "Low Views",
          "Low Views",
          "Low Views",
          "Low Views",
          "Low Views",
          "Low Views",
          "Low Views",
          "Low Views",
          "Low Views",
          "Low Views",
          "Low Views",
          "Low Views",
          "Low Views",
          "Low Views",
          "Low Views",
          "Low Views",
          "Low Views",
          "Low Views",
          "Low Views",
          "Low Views",
          "Low Views",
          "Low Views",
          "Low Views",
          "Low Views",
          "Low Views",
          "Low Views",
          "Low Views",
          "Low Views",
          "Low Views",
          "Low Views",
          "Low Views",
          "Low Views",
          "Low Views",
          "Low Views",
          "Low Views",
          "Low Views",
          "Low Views",
          "Low Views",
          "Low Views",
          "Low Views",
          "Low Views",
          "Low Views",
          "Low Views",
          "Low Views",
          "Low Views",
          "Low Views",
          "Low Views",
          "Low Views",
          "Low Views",
          "Low Views",
          "Low Views",
          "Low Views",
          "Low Views",
          "Low Views",
          "Low Views",
          "Low Views",
          "Low Views",
          "Low Views",
          "Low Views",
          "Low Views",
          "Low Views",
          "Low Views",
          "Low Views",
          "Low Views",
          "Low Views",
          "Low Views",
          "Low Views",
          "Low Views",
          "Low Views",
          "Low Views",
          "Low Views",
          "Low Views",
          "Low Views",
          "Low Views",
          "Low Views",
          "Low Views",
          "Low Views",
          "Low Views",
          "Low Views",
          "Low Views",
          "Low Views",
          "Low Views",
          "Low Views",
          "Low Views",
          "Low Views",
          "Low Views",
          "Low Views",
          "Low Views",
          "Low Views",
          "Low Views",
          "Low Views",
          "Low Views",
          "Low Views",
          "Low Views",
          "Low Views",
          "Low Views",
          "Low Views",
          "Low Views",
          "Low Views",
          "Low Views",
          "Low Views",
          "Low Views",
          "Low Views",
          "Low Views",
          "Low Views",
          "Low Views",
          "Low Views",
          "Low Views",
          "Low Views",
          "Low Views",
          "Low Views",
          "Low Views",
          "Low Views",
          "Low Views",
          "Low Views",
          "Low Views",
          "Low Views",
          "Low Views",
          "Low Views",
          "Low Views",
          "Low Views",
          "Low Views",
          "Low Views",
          "Low Views",
          "Low Views",
          "Low Views",
          "Low Views",
          "Low Views",
          "Low Views",
          "Low Views",
          "Low Views",
          "Low Views",
          "Low Views",
          "Low Views",
          "Low Views",
          "Low Views",
          "Low Views",
          "Low Views",
          "Low Views",
          "Low Views",
          "Low Views",
          "Low Views",
          "Low Views",
          "Low Views",
          "Low Views",
          "Low Views",
          "Low Views",
          "Low Views",
          "Low Views",
          "Low Views",
          "Low Views",
          "Low Views"
         ],
         "x0": " ",
         "xaxis": "x",
         "y": [
          4,
          22,
          4,
          1,
          1,
          7,
          1,
          40,
          15,
          9,
          13,
          54,
          6,
          8,
          9,
          14,
          20,
          11,
          8,
          11,
          12,
          9,
          9,
          10,
          6,
          13,
          8,
          4,
          11,
          4,
          51,
          2,
          8,
          1,
          6,
          3,
          6,
          9,
          5,
          7,
          5,
          2,
          6,
          3,
          6,
          4,
          26,
          7,
          30,
          22,
          7,
          7,
          32,
          29,
          18,
          175,
          70,
          24,
          14,
          33,
          36,
          26,
          25,
          15,
          1,
          28,
          16,
          4,
          2,
          3,
          2,
          57,
          27,
          3,
          37,
          17,
          5,
          90,
          251,
          1,
          20,
          6,
          7,
          5,
          8,
          2,
          1,
          2,
          2,
          12,
          6,
          15,
          7,
          4,
          5,
          6,
          4,
          10,
          1,
          35,
          3,
          2,
          1,
          1,
          1,
          1,
          1,
          1,
          27,
          43,
          48,
          67,
          66,
          24,
          1,
          24,
          5,
          2,
          11,
          8,
          5,
          40,
          29,
          4,
          3,
          10,
          9,
          46,
          10,
          1,
          1,
          8,
          1,
          43,
          3,
          1,
          26,
          71,
          21,
          19,
          20,
          32,
          25,
          34,
          24,
          25,
          17,
          20,
          12,
          12,
          64,
          31,
          16,
          38,
          13,
          20,
          26,
          38,
          27,
          27,
          3,
          22,
          70,
          34,
          24,
          31,
          26,
          38,
          16,
          11,
          12,
          46,
          36,
          25,
          23,
          36,
          28,
          15,
          20,
          9,
          17,
          54,
          17,
          10,
          10,
          33,
          11,
          11,
          14,
          15,
          21,
          3,
          28,
          18,
          7,
          18,
          24,
          33,
          9,
          23,
          30,
          16,
          57,
          31,
          14,
          29,
          5,
          7,
          5,
          55,
          15,
          14,
          14,
          5,
          11,
          2,
          3,
          38,
          13,
          7,
          9,
          113,
          5,
          28,
          9,
          3,
          3,
          100,
          6,
          12,
          9,
          4,
          4,
          19,
          3,
          4,
          2,
          11,
          8,
          12,
          6,
          3,
          3,
          34,
          3,
          6,
          4,
          15,
          2,
          2,
          6,
          16,
          3,
          1,
          1,
          2,
          8,
          6,
          2,
          1,
          3,
          3,
          1,
          1,
          1,
          25,
          6,
          1,
          4,
          11,
          26,
          11,
          13,
          3,
          7,
          7,
          5,
          15,
          5,
          3,
          7,
          13,
          7,
          6,
          6,
          4,
          7,
          10,
          5,
          3,
          1,
          2,
          3,
          4,
          6,
          10,
          6,
          6,
          4,
          5,
          1,
          12,
          4,
          2,
          2,
          3,
          4,
          4,
          6,
          4,
          3,
          1,
          14,
          2,
          27,
          35,
          72,
          13,
          28,
          11,
          6,
          5,
          35,
          13,
          16,
          15,
          9,
          7,
          902,
          17,
          7,
          1,
          8,
          5,
          3,
          5,
          4,
          16,
          9,
          8,
          6,
          1,
          2,
          6,
          7,
          1,
          14,
          6,
          8,
          5,
          8,
          35,
          3,
          7,
          18,
          3,
          5,
          16,
          2,
          11,
          16,
          1,
          1,
          2,
          4,
          28,
          2,
          17,
          17,
          42,
          60,
          68,
          30,
          19,
          62,
          12,
          56,
          536,
          66,
          10,
          17,
          25,
          59,
          47,
          19,
          29,
          120,
          39,
          14,
          60,
          1,
          17,
          38,
          66,
          99,
          17,
          9,
          30,
          32,
          11,
          5,
          69,
          136,
          8,
          1,
          16,
          15,
          5,
          22,
          26,
          6,
          72,
          9,
          22,
          2,
          16,
          22,
          3,
          67,
          1,
          9,
          1,
          24,
          1,
          24,
          11,
          3,
          14,
          12,
          32,
          283,
          24,
          7,
          7,
          10,
          38,
          7,
          9,
          13,
          55,
          2,
          66,
          4,
          6,
          2,
          10,
          21,
          6,
          2,
          68,
          90,
          36,
          3,
          3,
          12,
          39,
          17,
          17,
          23,
          11,
          13,
          22,
          54,
          4,
          110,
          55,
          6,
          48,
          17,
          17,
          20,
          9,
          2,
          2,
          3,
          5,
          1,
          5,
          5,
          8,
          4,
          5,
          3,
          3,
          3,
          3,
          3,
          3,
          3,
          4,
          3,
          3,
          3,
          3,
          3,
          3,
          3,
          3,
          3,
          3,
          5,
          2,
          2,
          6,
          4,
          6,
          6,
          3,
          8,
          7,
          2,
          7,
          1,
          3,
          4,
          3,
          7,
          4,
          1,
          1,
          4,
          6,
          1,
          8,
          8,
          12,
          3,
          1,
          1,
          1,
          1,
          1,
          7,
          1,
          4,
          1,
          6,
          5,
          12,
          3,
          5,
          3,
          6,
          8,
          1,
          5,
          4,
          6,
          2,
          3,
          1,
          1,
          4,
          5,
          5,
          5,
          4,
          4,
          5,
          4,
          5,
          4,
          4,
          5,
          4,
          4,
          5,
          10,
          3,
          3,
          4,
          3,
          3,
          3,
          3,
          3,
          3,
          6,
          4,
          1,
          3,
          4,
          4,
          1,
          3,
          3,
          3,
          3,
          3,
          6,
          4,
          3,
          4,
          4,
          4,
          3,
          3,
          1,
          4,
          3,
          3,
          4,
          4,
          5,
          6,
          3,
          4,
          3,
          8,
          3,
          3,
          1,
          2,
          3,
          3,
          1,
          3,
          4,
          3,
          3,
          2,
          2,
          3,
          3,
          3,
          4,
          1,
          2,
          2,
          2,
          2,
          3,
          4,
          4,
          3,
          3,
          3,
          3,
          3,
          3,
          3,
          3,
          5,
          2,
          2,
          2,
          2,
          2,
          2,
          2,
          2,
          2,
          2,
          2,
          2,
          2,
          2,
          4,
          3,
          4,
          1,
          3,
          3,
          3,
          3,
          3,
          3,
          3,
          2,
          2,
          2,
          2,
          3,
          2,
          3,
          3,
          3,
          3,
          1,
          3,
          2,
          2,
          2,
          2,
          1,
          1,
          3,
          3,
          2,
          2,
          2,
          2,
          3,
          5,
          4,
          3,
          3,
          2,
          2,
          2,
          1,
          2,
          4,
          1,
          1,
          1,
          1,
          3,
          1,
          1,
          1,
          1,
          1,
          2,
          1,
          1,
          3,
          1,
          1,
          3,
          1,
          1,
          1,
          3,
          1,
          1,
          1,
          1,
          1,
          1,
          1,
          1,
          1,
          2,
          1,
          1,
          2,
          1,
          4,
          1,
          1,
          1,
          1,
          1,
          1,
          2,
          1,
          1,
          1,
          1,
          1,
          1,
          1,
          1,
          1,
          2,
          1,
          1,
          1,
          1,
          1,
          2,
          1,
          3,
          1,
          1,
          1,
          1,
          1,
          1,
          2,
          2,
          1,
          2,
          1,
          1,
          1,
          1,
          1,
          1,
          1,
          1,
          1,
          1,
          1,
          1,
          2,
          1,
          1,
          1,
          1,
          1,
          1,
          1,
          1,
          1,
          1,
          1,
          1,
          1,
          1,
          1,
          1,
          1,
          1,
          1,
          3,
          3,
          3,
          4,
          7,
          3,
          3,
          1,
          7,
          3,
          1,
          2,
          1,
          5,
          3,
          1,
          3,
          1,
          2,
          2,
          1,
          3,
          1,
          1,
          3,
          2,
          1,
          1,
          1,
          6,
          2,
          3,
          2,
          1,
          2,
          1,
          6,
          1,
          7,
          2,
          2,
          1,
          1,
          4,
          2,
          7,
          3,
          7,
          8,
          2,
          3,
          1,
          1,
          2,
          1,
          7,
          2,
          1,
          2,
          5,
          4,
          2,
          1,
          1,
          3,
          2,
          1,
          1,
          1,
          1,
          1,
          3,
          1,
          4,
          3,
          1,
          2,
          1,
          2,
          2,
          1,
          1,
          4,
          3,
          6,
          7,
          3,
          4,
          3,
          9,
          2,
          9,
          6,
          3,
          3,
          5,
          4,
          4,
          1,
          1,
          4,
          2,
          2,
          2,
          1,
          1,
          2,
          2,
          2,
          1,
          4,
          2,
          1,
          2,
          1,
          3,
          2,
          1,
          2,
          1,
          1,
          1,
          1,
          1,
          17,
          6,
          2,
          7,
          3,
          6,
          5,
          3,
          8,
          1,
          1,
          1,
          1,
          1,
          2,
          1,
          3,
          2,
          3,
          2
         ],
         "y0": " ",
         "yaxis": "y"
        }
       ],
       "layout": {
        "annotations": [
         {
          "align": "right",
          "showarrow": false,
          "text": "P-value: 0.00\nstatistically significant difference",
          "x": 0.95,
          "xref": "paper",
          "y": 0.95,
          "yref": "paper"
         }
        ],
        "legend": {
         "tracegroupgap": 0
        },
        "template": {
         "data": {
          "bar": [
           {
            "error_x": {
             "color": "#2a3f5f"
            },
            "error_y": {
             "color": "#2a3f5f"
            },
            "marker": {
             "line": {
              "color": "#E5ECF6",
              "width": 0.5
             },
             "pattern": {
              "fillmode": "overlay",
              "size": 10,
              "solidity": 0.2
             }
            },
            "type": "bar"
           }
          ],
          "barpolar": [
           {
            "marker": {
             "line": {
              "color": "#E5ECF6",
              "width": 0.5
             },
             "pattern": {
              "fillmode": "overlay",
              "size": 10,
              "solidity": 0.2
             }
            },
            "type": "barpolar"
           }
          ],
          "carpet": [
           {
            "aaxis": {
             "endlinecolor": "#2a3f5f",
             "gridcolor": "white",
             "linecolor": "white",
             "minorgridcolor": "white",
             "startlinecolor": "#2a3f5f"
            },
            "baxis": {
             "endlinecolor": "#2a3f5f",
             "gridcolor": "white",
             "linecolor": "white",
             "minorgridcolor": "white",
             "startlinecolor": "#2a3f5f"
            },
            "type": "carpet"
           }
          ],
          "choropleth": [
           {
            "colorbar": {
             "outlinewidth": 0,
             "ticks": ""
            },
            "type": "choropleth"
           }
          ],
          "contour": [
           {
            "colorbar": {
             "outlinewidth": 0,
             "ticks": ""
            },
            "colorscale": [
             [
              0,
              "#0d0887"
             ],
             [
              0.1111111111111111,
              "#46039f"
             ],
             [
              0.2222222222222222,
              "#7201a8"
             ],
             [
              0.3333333333333333,
              "#9c179e"
             ],
             [
              0.4444444444444444,
              "#bd3786"
             ],
             [
              0.5555555555555556,
              "#d8576b"
             ],
             [
              0.6666666666666666,
              "#ed7953"
             ],
             [
              0.7777777777777778,
              "#fb9f3a"
             ],
             [
              0.8888888888888888,
              "#fdca26"
             ],
             [
              1,
              "#f0f921"
             ]
            ],
            "type": "contour"
           }
          ],
          "contourcarpet": [
           {
            "colorbar": {
             "outlinewidth": 0,
             "ticks": ""
            },
            "type": "contourcarpet"
           }
          ],
          "heatmap": [
           {
            "colorbar": {
             "outlinewidth": 0,
             "ticks": ""
            },
            "colorscale": [
             [
              0,
              "#0d0887"
             ],
             [
              0.1111111111111111,
              "#46039f"
             ],
             [
              0.2222222222222222,
              "#7201a8"
             ],
             [
              0.3333333333333333,
              "#9c179e"
             ],
             [
              0.4444444444444444,
              "#bd3786"
             ],
             [
              0.5555555555555556,
              "#d8576b"
             ],
             [
              0.6666666666666666,
              "#ed7953"
             ],
             [
              0.7777777777777778,
              "#fb9f3a"
             ],
             [
              0.8888888888888888,
              "#fdca26"
             ],
             [
              1,
              "#f0f921"
             ]
            ],
            "type": "heatmap"
           }
          ],
          "heatmapgl": [
           {
            "colorbar": {
             "outlinewidth": 0,
             "ticks": ""
            },
            "colorscale": [
             [
              0,
              "#0d0887"
             ],
             [
              0.1111111111111111,
              "#46039f"
             ],
             [
              0.2222222222222222,
              "#7201a8"
             ],
             [
              0.3333333333333333,
              "#9c179e"
             ],
             [
              0.4444444444444444,
              "#bd3786"
             ],
             [
              0.5555555555555556,
              "#d8576b"
             ],
             [
              0.6666666666666666,
              "#ed7953"
             ],
             [
              0.7777777777777778,
              "#fb9f3a"
             ],
             [
              0.8888888888888888,
              "#fdca26"
             ],
             [
              1,
              "#f0f921"
             ]
            ],
            "type": "heatmapgl"
           }
          ],
          "histogram": [
           {
            "marker": {
             "pattern": {
              "fillmode": "overlay",
              "size": 10,
              "solidity": 0.2
             }
            },
            "type": "histogram"
           }
          ],
          "histogram2d": [
           {
            "colorbar": {
             "outlinewidth": 0,
             "ticks": ""
            },
            "colorscale": [
             [
              0,
              "#0d0887"
             ],
             [
              0.1111111111111111,
              "#46039f"
             ],
             [
              0.2222222222222222,
              "#7201a8"
             ],
             [
              0.3333333333333333,
              "#9c179e"
             ],
             [
              0.4444444444444444,
              "#bd3786"
             ],
             [
              0.5555555555555556,
              "#d8576b"
             ],
             [
              0.6666666666666666,
              "#ed7953"
             ],
             [
              0.7777777777777778,
              "#fb9f3a"
             ],
             [
              0.8888888888888888,
              "#fdca26"
             ],
             [
              1,
              "#f0f921"
             ]
            ],
            "type": "histogram2d"
           }
          ],
          "histogram2dcontour": [
           {
            "colorbar": {
             "outlinewidth": 0,
             "ticks": ""
            },
            "colorscale": [
             [
              0,
              "#0d0887"
             ],
             [
              0.1111111111111111,
              "#46039f"
             ],
             [
              0.2222222222222222,
              "#7201a8"
             ],
             [
              0.3333333333333333,
              "#9c179e"
             ],
             [
              0.4444444444444444,
              "#bd3786"
             ],
             [
              0.5555555555555556,
              "#d8576b"
             ],
             [
              0.6666666666666666,
              "#ed7953"
             ],
             [
              0.7777777777777778,
              "#fb9f3a"
             ],
             [
              0.8888888888888888,
              "#fdca26"
             ],
             [
              1,
              "#f0f921"
             ]
            ],
            "type": "histogram2dcontour"
           }
          ],
          "mesh3d": [
           {
            "colorbar": {
             "outlinewidth": 0,
             "ticks": ""
            },
            "type": "mesh3d"
           }
          ],
          "parcoords": [
           {
            "line": {
             "colorbar": {
              "outlinewidth": 0,
              "ticks": ""
             }
            },
            "type": "parcoords"
           }
          ],
          "pie": [
           {
            "automargin": true,
            "type": "pie"
           }
          ],
          "scatter": [
           {
            "fillpattern": {
             "fillmode": "overlay",
             "size": 10,
             "solidity": 0.2
            },
            "type": "scatter"
           }
          ],
          "scatter3d": [
           {
            "line": {
             "colorbar": {
              "outlinewidth": 0,
              "ticks": ""
             }
            },
            "marker": {
             "colorbar": {
              "outlinewidth": 0,
              "ticks": ""
             }
            },
            "type": "scatter3d"
           }
          ],
          "scattercarpet": [
           {
            "marker": {
             "colorbar": {
              "outlinewidth": 0,
              "ticks": ""
             }
            },
            "type": "scattercarpet"
           }
          ],
          "scattergeo": [
           {
            "marker": {
             "colorbar": {
              "outlinewidth": 0,
              "ticks": ""
             }
            },
            "type": "scattergeo"
           }
          ],
          "scattergl": [
           {
            "marker": {
             "colorbar": {
              "outlinewidth": 0,
              "ticks": ""
             }
            },
            "type": "scattergl"
           }
          ],
          "scattermapbox": [
           {
            "marker": {
             "colorbar": {
              "outlinewidth": 0,
              "ticks": ""
             }
            },
            "type": "scattermapbox"
           }
          ],
          "scatterpolar": [
           {
            "marker": {
             "colorbar": {
              "outlinewidth": 0,
              "ticks": ""
             }
            },
            "type": "scatterpolar"
           }
          ],
          "scatterpolargl": [
           {
            "marker": {
             "colorbar": {
              "outlinewidth": 0,
              "ticks": ""
             }
            },
            "type": "scatterpolargl"
           }
          ],
          "scatterternary": [
           {
            "marker": {
             "colorbar": {
              "outlinewidth": 0,
              "ticks": ""
             }
            },
            "type": "scatterternary"
           }
          ],
          "surface": [
           {
            "colorbar": {
             "outlinewidth": 0,
             "ticks": ""
            },
            "colorscale": [
             [
              0,
              "#0d0887"
             ],
             [
              0.1111111111111111,
              "#46039f"
             ],
             [
              0.2222222222222222,
              "#7201a8"
             ],
             [
              0.3333333333333333,
              "#9c179e"
             ],
             [
              0.4444444444444444,
              "#bd3786"
             ],
             [
              0.5555555555555556,
              "#d8576b"
             ],
             [
              0.6666666666666666,
              "#ed7953"
             ],
             [
              0.7777777777777778,
              "#fb9f3a"
             ],
             [
              0.8888888888888888,
              "#fdca26"
             ],
             [
              1,
              "#f0f921"
             ]
            ],
            "type": "surface"
           }
          ],
          "table": [
           {
            "cells": {
             "fill": {
              "color": "#EBF0F8"
             },
             "line": {
              "color": "white"
             }
            },
            "header": {
             "fill": {
              "color": "#C8D4E3"
             },
             "line": {
              "color": "white"
             }
            },
            "type": "table"
           }
          ]
         },
         "layout": {
          "annotationdefaults": {
           "arrowcolor": "#2a3f5f",
           "arrowhead": 0,
           "arrowwidth": 1
          },
          "autotypenumbers": "strict",
          "coloraxis": {
           "colorbar": {
            "outlinewidth": 0,
            "ticks": ""
           }
          },
          "colorscale": {
           "diverging": [
            [
             0,
             "#8e0152"
            ],
            [
             0.1,
             "#c51b7d"
            ],
            [
             0.2,
             "#de77ae"
            ],
            [
             0.3,
             "#f1b6da"
            ],
            [
             0.4,
             "#fde0ef"
            ],
            [
             0.5,
             "#f7f7f7"
            ],
            [
             0.6,
             "#e6f5d0"
            ],
            [
             0.7,
             "#b8e186"
            ],
            [
             0.8,
             "#7fbc41"
            ],
            [
             0.9,
             "#4d9221"
            ],
            [
             1,
             "#276419"
            ]
           ],
           "sequential": [
            [
             0,
             "#0d0887"
            ],
            [
             0.1111111111111111,
             "#46039f"
            ],
            [
             0.2222222222222222,
             "#7201a8"
            ],
            [
             0.3333333333333333,
             "#9c179e"
            ],
            [
             0.4444444444444444,
             "#bd3786"
            ],
            [
             0.5555555555555556,
             "#d8576b"
            ],
            [
             0.6666666666666666,
             "#ed7953"
            ],
            [
             0.7777777777777778,
             "#fb9f3a"
            ],
            [
             0.8888888888888888,
             "#fdca26"
            ],
            [
             1,
             "#f0f921"
            ]
           ],
           "sequentialminus": [
            [
             0,
             "#0d0887"
            ],
            [
             0.1111111111111111,
             "#46039f"
            ],
            [
             0.2222222222222222,
             "#7201a8"
            ],
            [
             0.3333333333333333,
             "#9c179e"
            ],
            [
             0.4444444444444444,
             "#bd3786"
            ],
            [
             0.5555555555555556,
             "#d8576b"
            ],
            [
             0.6666666666666666,
             "#ed7953"
            ],
            [
             0.7777777777777778,
             "#fb9f3a"
            ],
            [
             0.8888888888888888,
             "#fdca26"
            ],
            [
             1,
             "#f0f921"
            ]
           ]
          },
          "colorway": [
           "#636efa",
           "#EF553B",
           "#00cc96",
           "#ab63fa",
           "#FFA15A",
           "#19d3f3",
           "#FF6692",
           "#B6E880",
           "#FF97FF",
           "#FECB52"
          ],
          "font": {
           "color": "#2a3f5f"
          },
          "geo": {
           "bgcolor": "white",
           "lakecolor": "white",
           "landcolor": "#E5ECF6",
           "showlakes": true,
           "showland": true,
           "subunitcolor": "white"
          },
          "hoverlabel": {
           "align": "left"
          },
          "hovermode": "closest",
          "mapbox": {
           "style": "light"
          },
          "paper_bgcolor": "white",
          "plot_bgcolor": "#E5ECF6",
          "polar": {
           "angularaxis": {
            "gridcolor": "white",
            "linecolor": "white",
            "ticks": ""
           },
           "bgcolor": "#E5ECF6",
           "radialaxis": {
            "gridcolor": "white",
            "linecolor": "white",
            "ticks": ""
           }
          },
          "scene": {
           "xaxis": {
            "backgroundcolor": "#E5ECF6",
            "gridcolor": "white",
            "gridwidth": 2,
            "linecolor": "white",
            "showbackground": true,
            "ticks": "",
            "zerolinecolor": "white"
           },
           "yaxis": {
            "backgroundcolor": "#E5ECF6",
            "gridcolor": "white",
            "gridwidth": 2,
            "linecolor": "white",
            "showbackground": true,
            "ticks": "",
            "zerolinecolor": "white"
           },
           "zaxis": {
            "backgroundcolor": "#E5ECF6",
            "gridcolor": "white",
            "gridwidth": 2,
            "linecolor": "white",
            "showbackground": true,
            "ticks": "",
            "zerolinecolor": "white"
           }
          },
          "shapedefaults": {
           "line": {
            "color": "#2a3f5f"
           }
          },
          "ternary": {
           "aaxis": {
            "gridcolor": "white",
            "linecolor": "white",
            "ticks": ""
           },
           "baxis": {
            "gridcolor": "white",
            "linecolor": "white",
            "ticks": ""
           },
           "bgcolor": "#E5ECF6",
           "caxis": {
            "gridcolor": "white",
            "linecolor": "white",
            "ticks": ""
           }
          },
          "title": {
           "x": 0.05
          },
          "xaxis": {
           "automargin": true,
           "gridcolor": "white",
           "linecolor": "white",
           "ticks": "",
           "title": {
            "standoff": 15
           },
           "zerolinecolor": "white",
           "zerolinewidth": 2
          },
          "yaxis": {
           "automargin": true,
           "gridcolor": "white",
           "linecolor": "white",
           "ticks": "",
           "title": {
            "standoff": 15
           },
           "zerolinecolor": "white",
           "zerolinewidth": 2
          }
         }
        },
        "title": {
         "text": "Distribution of Comments for Proposals with High and Low Views"
        },
        "violinmode": "group",
        "xaxis": {
         "anchor": "y",
         "domain": [
          0,
          1
         ],
         "title": {
          "text": "View Group"
         }
        },
        "yaxis": {
         "anchor": "x",
         "domain": [
          0,
          1
         ],
         "title": {
          "text": "Number of Comments"
         }
        }
       }
      }
     },
     "metadata": {},
     "output_type": "display_data"
    }
   ],
   "source": [
    "import pandas as pd\n",
    "from scipy.stats import ttest_ind\n",
    "import plotly.express as px\n",
    "\n",
    "# Load datasets\n",
    "topics_df = pd.read_csv('forum_topics_data.csv')\n",
    "\n",
    "# Calculate the median number of views\n",
    "median_views = topics_df['Views'].median()\n",
    "\n",
    "# Split the proposals into two groups based on views\n",
    "high_views_proposals = topics_df[topics_df['Views'] > median_views]\n",
    "low_views_proposals = topics_df[topics_df['Views'] <= median_views]\n",
    "\n",
    "# Perform independent samples t-test\n",
    "t_statistic, p_value = ttest_ind(high_views_proposals['Posts Count'], low_views_proposals['Posts Count'])\n",
    "\n",
    "# Determine the significance level\n",
    "alpha = 0.05\n",
    "if p_value < alpha:\n",
    "    significance = 'statistically significant'\n",
    "else:\n",
    "    significance = 'not statistically significant'\n",
    "\n",
    "# Create a violin plot\n",
    "data = pd.concat([high_views_proposals.assign(Views='High Views'), \n",
    "                  low_views_proposals.assign(Views='Low Views')])\n",
    "\n",
    "fig = px.violin(data, x='Views', y='Posts Count', \n",
    "                title='Distribution of Comments for Proposals with High and Low Views',\n",
    "                labels={'Posts Count': 'Number of Comments', 'Views': 'View Group'},\n",
    "                box=True, points=\"all\")\n",
    "\n",
    "# Add significance information to the plot\n",
    "fig.add_annotation(text=f\"P-value: {p_value:.2f}\\n{significance} difference\", xref='paper', yref='paper',\n",
    "                   x=0.95, y=0.95, showarrow=False, align='right')\n",
    "\n",
    "# Show the plot\n",
    "fig.show()\n",
    "fig.write_html(\"Relationship Between Views and Comments for Tally Proposals.html\")\n"
   ]
  },
  {
   "cell_type": "markdown",
   "metadata": {},
   "source": [
    "#### Who are the top 10 most active commenters on Tally proposal posts (based on the number of comments)?"
   ]
  },
  {
   "cell_type": "code",
   "execution_count": 62,
   "metadata": {},
   "outputs": [
    {
     "name": "stdout",
     "output_type": "stream",
     "text": [
      "Top 10 Most Active Commenters on Tally Proposal Posts:\n",
      "          Username  Number of Comments\n",
      "0    DisruptionJoe                  43\n",
      "1             krst                  38\n",
      "2          Saurabh                  28\n",
      "3  Immutablelawyer                  28\n",
      "4            tnorm                  27\n",
      "5             fred                  24\n",
      "6           cattin                  24\n",
      "7        Bob-Rossi                  18\n",
      "8             cp0x                  15\n",
      "9     stonecoldpat                  14\n"
     ]
    },
    {
     "data": {
      "application/vnd.plotly.v1+json": {
       "config": {
        "plotlyServerURL": "https://plot.ly"
       },
       "data": [
        {
         "alignmentgroup": "True",
         "hovertemplate": "Usernames=%{x}<br>Number of Comments=%{y}<extra></extra>",
         "legendgroup": "DisruptionJoe",
         "marker": {
          "color": "#636efa",
          "pattern": {
           "shape": ""
          }
         },
         "name": "DisruptionJoe",
         "offsetgroup": "DisruptionJoe",
         "orientation": "v",
         "showlegend": true,
         "textposition": "auto",
         "type": "bar",
         "x": [
          "DisruptionJoe"
         ],
         "xaxis": "x",
         "y": [
          43
         ],
         "yaxis": "y"
        },
        {
         "alignmentgroup": "True",
         "hovertemplate": "Usernames=%{x}<br>Number of Comments=%{y}<extra></extra>",
         "legendgroup": "krst",
         "marker": {
          "color": "#EF553B",
          "pattern": {
           "shape": ""
          }
         },
         "name": "krst",
         "offsetgroup": "krst",
         "orientation": "v",
         "showlegend": true,
         "textposition": "auto",
         "type": "bar",
         "x": [
          "krst"
         ],
         "xaxis": "x",
         "y": [
          38
         ],
         "yaxis": "y"
        },
        {
         "alignmentgroup": "True",
         "hovertemplate": "Usernames=%{x}<br>Number of Comments=%{y}<extra></extra>",
         "legendgroup": "Saurabh",
         "marker": {
          "color": "#00cc96",
          "pattern": {
           "shape": ""
          }
         },
         "name": "Saurabh",
         "offsetgroup": "Saurabh",
         "orientation": "v",
         "showlegend": true,
         "textposition": "auto",
         "type": "bar",
         "x": [
          "Saurabh"
         ],
         "xaxis": "x",
         "y": [
          28
         ],
         "yaxis": "y"
        },
        {
         "alignmentgroup": "True",
         "hovertemplate": "Usernames=%{x}<br>Number of Comments=%{y}<extra></extra>",
         "legendgroup": "Immutablelawyer",
         "marker": {
          "color": "#ab63fa",
          "pattern": {
           "shape": ""
          }
         },
         "name": "Immutablelawyer",
         "offsetgroup": "Immutablelawyer",
         "orientation": "v",
         "showlegend": true,
         "textposition": "auto",
         "type": "bar",
         "x": [
          "Immutablelawyer"
         ],
         "xaxis": "x",
         "y": [
          28
         ],
         "yaxis": "y"
        },
        {
         "alignmentgroup": "True",
         "hovertemplate": "Usernames=%{x}<br>Number of Comments=%{y}<extra></extra>",
         "legendgroup": "tnorm",
         "marker": {
          "color": "#FFA15A",
          "pattern": {
           "shape": ""
          }
         },
         "name": "tnorm",
         "offsetgroup": "tnorm",
         "orientation": "v",
         "showlegend": true,
         "textposition": "auto",
         "type": "bar",
         "x": [
          "tnorm"
         ],
         "xaxis": "x",
         "y": [
          27
         ],
         "yaxis": "y"
        },
        {
         "alignmentgroup": "True",
         "hovertemplate": "Usernames=%{x}<br>Number of Comments=%{y}<extra></extra>",
         "legendgroup": "fred",
         "marker": {
          "color": "#19d3f3",
          "pattern": {
           "shape": ""
          }
         },
         "name": "fred",
         "offsetgroup": "fred",
         "orientation": "v",
         "showlegend": true,
         "textposition": "auto",
         "type": "bar",
         "x": [
          "fred"
         ],
         "xaxis": "x",
         "y": [
          24
         ],
         "yaxis": "y"
        },
        {
         "alignmentgroup": "True",
         "hovertemplate": "Usernames=%{x}<br>Number of Comments=%{y}<extra></extra>",
         "legendgroup": "cattin",
         "marker": {
          "color": "#FF6692",
          "pattern": {
           "shape": ""
          }
         },
         "name": "cattin",
         "offsetgroup": "cattin",
         "orientation": "v",
         "showlegend": true,
         "textposition": "auto",
         "type": "bar",
         "x": [
          "cattin"
         ],
         "xaxis": "x",
         "y": [
          24
         ],
         "yaxis": "y"
        },
        {
         "alignmentgroup": "True",
         "hovertemplate": "Usernames=%{x}<br>Number of Comments=%{y}<extra></extra>",
         "legendgroup": "Bob-Rossi",
         "marker": {
          "color": "#B6E880",
          "pattern": {
           "shape": ""
          }
         },
         "name": "Bob-Rossi",
         "offsetgroup": "Bob-Rossi",
         "orientation": "v",
         "showlegend": true,
         "textposition": "auto",
         "type": "bar",
         "x": [
          "Bob-Rossi"
         ],
         "xaxis": "x",
         "y": [
          18
         ],
         "yaxis": "y"
        },
        {
         "alignmentgroup": "True",
         "hovertemplate": "Usernames=%{x}<br>Number of Comments=%{y}<extra></extra>",
         "legendgroup": "cp0x",
         "marker": {
          "color": "#FF97FF",
          "pattern": {
           "shape": ""
          }
         },
         "name": "cp0x",
         "offsetgroup": "cp0x",
         "orientation": "v",
         "showlegend": true,
         "textposition": "auto",
         "type": "bar",
         "x": [
          "cp0x"
         ],
         "xaxis": "x",
         "y": [
          15
         ],
         "yaxis": "y"
        },
        {
         "alignmentgroup": "True",
         "hovertemplate": "Usernames=%{x}<br>Number of Comments=%{y}<extra></extra>",
         "legendgroup": "stonecoldpat",
         "marker": {
          "color": "#FECB52",
          "pattern": {
           "shape": ""
          }
         },
         "name": "stonecoldpat",
         "offsetgroup": "stonecoldpat",
         "orientation": "v",
         "showlegend": true,
         "textposition": "auto",
         "type": "bar",
         "x": [
          "stonecoldpat"
         ],
         "xaxis": "x",
         "y": [
          14
         ],
         "yaxis": "y"
        }
       ],
       "layout": {
        "barmode": "relative",
        "legend": {
         "title": {
          "text": "Usernames"
         },
         "tracegroupgap": 0
        },
        "showlegend": false,
        "template": {
         "data": {
          "bar": [
           {
            "error_x": {
             "color": "#2a3f5f"
            },
            "error_y": {
             "color": "#2a3f5f"
            },
            "marker": {
             "line": {
              "color": "#E5ECF6",
              "width": 0.5
             },
             "pattern": {
              "fillmode": "overlay",
              "size": 10,
              "solidity": 0.2
             }
            },
            "type": "bar"
           }
          ],
          "barpolar": [
           {
            "marker": {
             "line": {
              "color": "#E5ECF6",
              "width": 0.5
             },
             "pattern": {
              "fillmode": "overlay",
              "size": 10,
              "solidity": 0.2
             }
            },
            "type": "barpolar"
           }
          ],
          "carpet": [
           {
            "aaxis": {
             "endlinecolor": "#2a3f5f",
             "gridcolor": "white",
             "linecolor": "white",
             "minorgridcolor": "white",
             "startlinecolor": "#2a3f5f"
            },
            "baxis": {
             "endlinecolor": "#2a3f5f",
             "gridcolor": "white",
             "linecolor": "white",
             "minorgridcolor": "white",
             "startlinecolor": "#2a3f5f"
            },
            "type": "carpet"
           }
          ],
          "choropleth": [
           {
            "colorbar": {
             "outlinewidth": 0,
             "ticks": ""
            },
            "type": "choropleth"
           }
          ],
          "contour": [
           {
            "colorbar": {
             "outlinewidth": 0,
             "ticks": ""
            },
            "colorscale": [
             [
              0,
              "#0d0887"
             ],
             [
              0.1111111111111111,
              "#46039f"
             ],
             [
              0.2222222222222222,
              "#7201a8"
             ],
             [
              0.3333333333333333,
              "#9c179e"
             ],
             [
              0.4444444444444444,
              "#bd3786"
             ],
             [
              0.5555555555555556,
              "#d8576b"
             ],
             [
              0.6666666666666666,
              "#ed7953"
             ],
             [
              0.7777777777777778,
              "#fb9f3a"
             ],
             [
              0.8888888888888888,
              "#fdca26"
             ],
             [
              1,
              "#f0f921"
             ]
            ],
            "type": "contour"
           }
          ],
          "contourcarpet": [
           {
            "colorbar": {
             "outlinewidth": 0,
             "ticks": ""
            },
            "type": "contourcarpet"
           }
          ],
          "heatmap": [
           {
            "colorbar": {
             "outlinewidth": 0,
             "ticks": ""
            },
            "colorscale": [
             [
              0,
              "#0d0887"
             ],
             [
              0.1111111111111111,
              "#46039f"
             ],
             [
              0.2222222222222222,
              "#7201a8"
             ],
             [
              0.3333333333333333,
              "#9c179e"
             ],
             [
              0.4444444444444444,
              "#bd3786"
             ],
             [
              0.5555555555555556,
              "#d8576b"
             ],
             [
              0.6666666666666666,
              "#ed7953"
             ],
             [
              0.7777777777777778,
              "#fb9f3a"
             ],
             [
              0.8888888888888888,
              "#fdca26"
             ],
             [
              1,
              "#f0f921"
             ]
            ],
            "type": "heatmap"
           }
          ],
          "heatmapgl": [
           {
            "colorbar": {
             "outlinewidth": 0,
             "ticks": ""
            },
            "colorscale": [
             [
              0,
              "#0d0887"
             ],
             [
              0.1111111111111111,
              "#46039f"
             ],
             [
              0.2222222222222222,
              "#7201a8"
             ],
             [
              0.3333333333333333,
              "#9c179e"
             ],
             [
              0.4444444444444444,
              "#bd3786"
             ],
             [
              0.5555555555555556,
              "#d8576b"
             ],
             [
              0.6666666666666666,
              "#ed7953"
             ],
             [
              0.7777777777777778,
              "#fb9f3a"
             ],
             [
              0.8888888888888888,
              "#fdca26"
             ],
             [
              1,
              "#f0f921"
             ]
            ],
            "type": "heatmapgl"
           }
          ],
          "histogram": [
           {
            "marker": {
             "pattern": {
              "fillmode": "overlay",
              "size": 10,
              "solidity": 0.2
             }
            },
            "type": "histogram"
           }
          ],
          "histogram2d": [
           {
            "colorbar": {
             "outlinewidth": 0,
             "ticks": ""
            },
            "colorscale": [
             [
              0,
              "#0d0887"
             ],
             [
              0.1111111111111111,
              "#46039f"
             ],
             [
              0.2222222222222222,
              "#7201a8"
             ],
             [
              0.3333333333333333,
              "#9c179e"
             ],
             [
              0.4444444444444444,
              "#bd3786"
             ],
             [
              0.5555555555555556,
              "#d8576b"
             ],
             [
              0.6666666666666666,
              "#ed7953"
             ],
             [
              0.7777777777777778,
              "#fb9f3a"
             ],
             [
              0.8888888888888888,
              "#fdca26"
             ],
             [
              1,
              "#f0f921"
             ]
            ],
            "type": "histogram2d"
           }
          ],
          "histogram2dcontour": [
           {
            "colorbar": {
             "outlinewidth": 0,
             "ticks": ""
            },
            "colorscale": [
             [
              0,
              "#0d0887"
             ],
             [
              0.1111111111111111,
              "#46039f"
             ],
             [
              0.2222222222222222,
              "#7201a8"
             ],
             [
              0.3333333333333333,
              "#9c179e"
             ],
             [
              0.4444444444444444,
              "#bd3786"
             ],
             [
              0.5555555555555556,
              "#d8576b"
             ],
             [
              0.6666666666666666,
              "#ed7953"
             ],
             [
              0.7777777777777778,
              "#fb9f3a"
             ],
             [
              0.8888888888888888,
              "#fdca26"
             ],
             [
              1,
              "#f0f921"
             ]
            ],
            "type": "histogram2dcontour"
           }
          ],
          "mesh3d": [
           {
            "colorbar": {
             "outlinewidth": 0,
             "ticks": ""
            },
            "type": "mesh3d"
           }
          ],
          "parcoords": [
           {
            "line": {
             "colorbar": {
              "outlinewidth": 0,
              "ticks": ""
             }
            },
            "type": "parcoords"
           }
          ],
          "pie": [
           {
            "automargin": true,
            "type": "pie"
           }
          ],
          "scatter": [
           {
            "fillpattern": {
             "fillmode": "overlay",
             "size": 10,
             "solidity": 0.2
            },
            "type": "scatter"
           }
          ],
          "scatter3d": [
           {
            "line": {
             "colorbar": {
              "outlinewidth": 0,
              "ticks": ""
             }
            },
            "marker": {
             "colorbar": {
              "outlinewidth": 0,
              "ticks": ""
             }
            },
            "type": "scatter3d"
           }
          ],
          "scattercarpet": [
           {
            "marker": {
             "colorbar": {
              "outlinewidth": 0,
              "ticks": ""
             }
            },
            "type": "scattercarpet"
           }
          ],
          "scattergeo": [
           {
            "marker": {
             "colorbar": {
              "outlinewidth": 0,
              "ticks": ""
             }
            },
            "type": "scattergeo"
           }
          ],
          "scattergl": [
           {
            "marker": {
             "colorbar": {
              "outlinewidth": 0,
              "ticks": ""
             }
            },
            "type": "scattergl"
           }
          ],
          "scattermapbox": [
           {
            "marker": {
             "colorbar": {
              "outlinewidth": 0,
              "ticks": ""
             }
            },
            "type": "scattermapbox"
           }
          ],
          "scatterpolar": [
           {
            "marker": {
             "colorbar": {
              "outlinewidth": 0,
              "ticks": ""
             }
            },
            "type": "scatterpolar"
           }
          ],
          "scatterpolargl": [
           {
            "marker": {
             "colorbar": {
              "outlinewidth": 0,
              "ticks": ""
             }
            },
            "type": "scatterpolargl"
           }
          ],
          "scatterternary": [
           {
            "marker": {
             "colorbar": {
              "outlinewidth": 0,
              "ticks": ""
             }
            },
            "type": "scatterternary"
           }
          ],
          "surface": [
           {
            "colorbar": {
             "outlinewidth": 0,
             "ticks": ""
            },
            "colorscale": [
             [
              0,
              "#0d0887"
             ],
             [
              0.1111111111111111,
              "#46039f"
             ],
             [
              0.2222222222222222,
              "#7201a8"
             ],
             [
              0.3333333333333333,
              "#9c179e"
             ],
             [
              0.4444444444444444,
              "#bd3786"
             ],
             [
              0.5555555555555556,
              "#d8576b"
             ],
             [
              0.6666666666666666,
              "#ed7953"
             ],
             [
              0.7777777777777778,
              "#fb9f3a"
             ],
             [
              0.8888888888888888,
              "#fdca26"
             ],
             [
              1,
              "#f0f921"
             ]
            ],
            "type": "surface"
           }
          ],
          "table": [
           {
            "cells": {
             "fill": {
              "color": "#EBF0F8"
             },
             "line": {
              "color": "white"
             }
            },
            "header": {
             "fill": {
              "color": "#C8D4E3"
             },
             "line": {
              "color": "white"
             }
            },
            "type": "table"
           }
          ]
         },
         "layout": {
          "annotationdefaults": {
           "arrowcolor": "#2a3f5f",
           "arrowhead": 0,
           "arrowwidth": 1
          },
          "autotypenumbers": "strict",
          "coloraxis": {
           "colorbar": {
            "outlinewidth": 0,
            "ticks": ""
           }
          },
          "colorscale": {
           "diverging": [
            [
             0,
             "#8e0152"
            ],
            [
             0.1,
             "#c51b7d"
            ],
            [
             0.2,
             "#de77ae"
            ],
            [
             0.3,
             "#f1b6da"
            ],
            [
             0.4,
             "#fde0ef"
            ],
            [
             0.5,
             "#f7f7f7"
            ],
            [
             0.6,
             "#e6f5d0"
            ],
            [
             0.7,
             "#b8e186"
            ],
            [
             0.8,
             "#7fbc41"
            ],
            [
             0.9,
             "#4d9221"
            ],
            [
             1,
             "#276419"
            ]
           ],
           "sequential": [
            [
             0,
             "#0d0887"
            ],
            [
             0.1111111111111111,
             "#46039f"
            ],
            [
             0.2222222222222222,
             "#7201a8"
            ],
            [
             0.3333333333333333,
             "#9c179e"
            ],
            [
             0.4444444444444444,
             "#bd3786"
            ],
            [
             0.5555555555555556,
             "#d8576b"
            ],
            [
             0.6666666666666666,
             "#ed7953"
            ],
            [
             0.7777777777777778,
             "#fb9f3a"
            ],
            [
             0.8888888888888888,
             "#fdca26"
            ],
            [
             1,
             "#f0f921"
            ]
           ],
           "sequentialminus": [
            [
             0,
             "#0d0887"
            ],
            [
             0.1111111111111111,
             "#46039f"
            ],
            [
             0.2222222222222222,
             "#7201a8"
            ],
            [
             0.3333333333333333,
             "#9c179e"
            ],
            [
             0.4444444444444444,
             "#bd3786"
            ],
            [
             0.5555555555555556,
             "#d8576b"
            ],
            [
             0.6666666666666666,
             "#ed7953"
            ],
            [
             0.7777777777777778,
             "#fb9f3a"
            ],
            [
             0.8888888888888888,
             "#fdca26"
            ],
            [
             1,
             "#f0f921"
            ]
           ]
          },
          "colorway": [
           "#636efa",
           "#EF553B",
           "#00cc96",
           "#ab63fa",
           "#FFA15A",
           "#19d3f3",
           "#FF6692",
           "#B6E880",
           "#FF97FF",
           "#FECB52"
          ],
          "font": {
           "color": "#2a3f5f"
          },
          "geo": {
           "bgcolor": "white",
           "lakecolor": "white",
           "landcolor": "#E5ECF6",
           "showlakes": true,
           "showland": true,
           "subunitcolor": "white"
          },
          "hoverlabel": {
           "align": "left"
          },
          "hovermode": "closest",
          "mapbox": {
           "style": "light"
          },
          "paper_bgcolor": "white",
          "plot_bgcolor": "#E5ECF6",
          "polar": {
           "angularaxis": {
            "gridcolor": "white",
            "linecolor": "white",
            "ticks": ""
           },
           "bgcolor": "#E5ECF6",
           "radialaxis": {
            "gridcolor": "white",
            "linecolor": "white",
            "ticks": ""
           }
          },
          "scene": {
           "xaxis": {
            "backgroundcolor": "#E5ECF6",
            "gridcolor": "white",
            "gridwidth": 2,
            "linecolor": "white",
            "showbackground": true,
            "ticks": "",
            "zerolinecolor": "white"
           },
           "yaxis": {
            "backgroundcolor": "#E5ECF6",
            "gridcolor": "white",
            "gridwidth": 2,
            "linecolor": "white",
            "showbackground": true,
            "ticks": "",
            "zerolinecolor": "white"
           },
           "zaxis": {
            "backgroundcolor": "#E5ECF6",
            "gridcolor": "white",
            "gridwidth": 2,
            "linecolor": "white",
            "showbackground": true,
            "ticks": "",
            "zerolinecolor": "white"
           }
          },
          "shapedefaults": {
           "line": {
            "color": "#2a3f5f"
           }
          },
          "ternary": {
           "aaxis": {
            "gridcolor": "white",
            "linecolor": "white",
            "ticks": ""
           },
           "baxis": {
            "gridcolor": "white",
            "linecolor": "white",
            "ticks": ""
           },
           "bgcolor": "#E5ECF6",
           "caxis": {
            "gridcolor": "white",
            "linecolor": "white",
            "ticks": ""
           }
          },
          "title": {
           "x": 0.05
          },
          "xaxis": {
           "automargin": true,
           "gridcolor": "white",
           "linecolor": "white",
           "ticks": "",
           "title": {
            "standoff": 15
           },
           "zerolinecolor": "white",
           "zerolinewidth": 2
          },
          "yaxis": {
           "automargin": true,
           "gridcolor": "white",
           "linecolor": "white",
           "ticks": "",
           "title": {
            "standoff": 15
           },
           "zerolinecolor": "white",
           "zerolinewidth": 2
          }
         }
        },
        "title": {
         "text": "Top 10 Most Active Commenters on Tally Proposal Posts"
        },
        "xaxis": {
         "anchor": "y",
         "categoryarray": [
          "DisruptionJoe",
          "krst",
          "Saurabh",
          "Immutablelawyer",
          "tnorm",
          "fred",
          "cattin",
          "Bob-Rossi",
          "cp0x",
          "stonecoldpat"
         ],
         "categoryorder": "total descending",
         "domain": [
          0,
          1
         ],
         "title": {
          "text": "Usernames"
         }
        },
        "yaxis": {
         "anchor": "x",
         "domain": [
          0,
          1
         ],
         "title": {
          "text": "Number of Comments"
         }
        }
       }
      }
     },
     "metadata": {},
     "output_type": "display_data"
    }
   ],
   "source": [
    "import pandas as pd\n",
    "import plotly.express as px\n",
    "\n",
    "# Load dataset\n",
    "posts_df = pd.read_csv('forum_posts_data.csv')\n",
    "\n",
    "# Filter posts related to Tally proposal posts\n",
    "tally_posts = posts_df[posts_df['Topic ID'].isin(tally_topic_ids)]\n",
    "\n",
    "# Group by username and count the number of comments\n",
    "comment_counts = tally_posts['Username'].value_counts()\n",
    "\n",
    "# Get the top 10 most active commenters\n",
    "top_10_commenters = comment_counts.head(10)\n",
    "\n",
    "# Create a dataframe for the top 10 commenters\n",
    "top_10_df = pd.DataFrame({'Username': top_10_commenters.index, 'Number of Comments': top_10_commenters.values})\n",
    "\n",
    "# Print the top 10 most active commenters with their comment counts\n",
    "print(\"Top 10 Most Active Commenters on Tally Proposal Posts:\")\n",
    "print(top_10_df)\n",
    "\n",
    "# Create an interactive bar plot using Plotly\n",
    "fig = px.bar(top_10_df, x='Username', y='Number of Comments', \n",
    "             title='Top 10 Most Active Commenters on Tally Proposal Posts',\n",
    "             labels={'Username': 'Usernames', 'Number of Comments': 'Number of Comments'},\n",
    "             color='Username')\n",
    "\n",
    "# Customize layout\n",
    "fig.update_layout(xaxis={'categoryorder':'total descending'}, \n",
    "                  xaxis_title='Usernames', yaxis_title='Number of Comments',\n",
    "                  showlegend=False)\n",
    "\n",
    "# Show the plot\n",
    "fig.show()\n",
    "fig.write_html(\"Top 10 Most Active Commenters on Tally Proposal Posts.html\")\n"
   ]
  },
  {
   "cell_type": "markdown",
   "metadata": {},
   "source": [
    "#### Do users with high \"Trust Level\" tend to contribute a significantly higher or lower number of comments on average compared to regular users for Tally proposals?"
   ]
  },
  {
   "cell_type": "code",
   "execution_count": 63,
   "metadata": {},
   "outputs": [
    {
     "data": {
      "application/vnd.plotly.v1+json": {
       "config": {
        "plotlyServerURL": "https://plot.ly"
       },
       "data": [
        {
         "domain": {
          "x": [
           0,
           1
          ],
          "y": [
           0,
           1
          ]
         },
         "hovertemplate": "label=%{label}<br>value=%{value}<extra></extra>",
         "labels": [
          0,
          1,
          2,
          3,
          4
         ],
         "legendgroup": "",
         "name": "",
         "pull": [
          0.05,
          0.05,
          0.05,
          0.05,
          0.05
         ],
         "showlegend": true,
         "textinfo": "percent+label",
         "type": "pie",
         "values": [
          1,
          1,
          1,
          1,
          1
         ]
        }
       ],
       "layout": {
        "legend": {
         "tracegroupgap": 0
        },
        "piecolorway": [
         "rgb(141,211,199)",
         "rgb(255,255,179)",
         "rgb(190,186,218)",
         "rgb(251,128,114)",
         "rgb(128,177,211)",
         "rgb(253,180,98)",
         "rgb(179,222,105)",
         "rgb(252,205,229)",
         "rgb(217,217,217)",
         "rgb(188,128,189)",
         "rgb(204,235,197)",
         "rgb(255,237,111)"
        ],
        "template": {
         "data": {
          "bar": [
           {
            "error_x": {
             "color": "#2a3f5f"
            },
            "error_y": {
             "color": "#2a3f5f"
            },
            "marker": {
             "line": {
              "color": "#E5ECF6",
              "width": 0.5
             },
             "pattern": {
              "fillmode": "overlay",
              "size": 10,
              "solidity": 0.2
             }
            },
            "type": "bar"
           }
          ],
          "barpolar": [
           {
            "marker": {
             "line": {
              "color": "#E5ECF6",
              "width": 0.5
             },
             "pattern": {
              "fillmode": "overlay",
              "size": 10,
              "solidity": 0.2
             }
            },
            "type": "barpolar"
           }
          ],
          "carpet": [
           {
            "aaxis": {
             "endlinecolor": "#2a3f5f",
             "gridcolor": "white",
             "linecolor": "white",
             "minorgridcolor": "white",
             "startlinecolor": "#2a3f5f"
            },
            "baxis": {
             "endlinecolor": "#2a3f5f",
             "gridcolor": "white",
             "linecolor": "white",
             "minorgridcolor": "white",
             "startlinecolor": "#2a3f5f"
            },
            "type": "carpet"
           }
          ],
          "choropleth": [
           {
            "colorbar": {
             "outlinewidth": 0,
             "ticks": ""
            },
            "type": "choropleth"
           }
          ],
          "contour": [
           {
            "colorbar": {
             "outlinewidth": 0,
             "ticks": ""
            },
            "colorscale": [
             [
              0,
              "#0d0887"
             ],
             [
              0.1111111111111111,
              "#46039f"
             ],
             [
              0.2222222222222222,
              "#7201a8"
             ],
             [
              0.3333333333333333,
              "#9c179e"
             ],
             [
              0.4444444444444444,
              "#bd3786"
             ],
             [
              0.5555555555555556,
              "#d8576b"
             ],
             [
              0.6666666666666666,
              "#ed7953"
             ],
             [
              0.7777777777777778,
              "#fb9f3a"
             ],
             [
              0.8888888888888888,
              "#fdca26"
             ],
             [
              1,
              "#f0f921"
             ]
            ],
            "type": "contour"
           }
          ],
          "contourcarpet": [
           {
            "colorbar": {
             "outlinewidth": 0,
             "ticks": ""
            },
            "type": "contourcarpet"
           }
          ],
          "heatmap": [
           {
            "colorbar": {
             "outlinewidth": 0,
             "ticks": ""
            },
            "colorscale": [
             [
              0,
              "#0d0887"
             ],
             [
              0.1111111111111111,
              "#46039f"
             ],
             [
              0.2222222222222222,
              "#7201a8"
             ],
             [
              0.3333333333333333,
              "#9c179e"
             ],
             [
              0.4444444444444444,
              "#bd3786"
             ],
             [
              0.5555555555555556,
              "#d8576b"
             ],
             [
              0.6666666666666666,
              "#ed7953"
             ],
             [
              0.7777777777777778,
              "#fb9f3a"
             ],
             [
              0.8888888888888888,
              "#fdca26"
             ],
             [
              1,
              "#f0f921"
             ]
            ],
            "type": "heatmap"
           }
          ],
          "heatmapgl": [
           {
            "colorbar": {
             "outlinewidth": 0,
             "ticks": ""
            },
            "colorscale": [
             [
              0,
              "#0d0887"
             ],
             [
              0.1111111111111111,
              "#46039f"
             ],
             [
              0.2222222222222222,
              "#7201a8"
             ],
             [
              0.3333333333333333,
              "#9c179e"
             ],
             [
              0.4444444444444444,
              "#bd3786"
             ],
             [
              0.5555555555555556,
              "#d8576b"
             ],
             [
              0.6666666666666666,
              "#ed7953"
             ],
             [
              0.7777777777777778,
              "#fb9f3a"
             ],
             [
              0.8888888888888888,
              "#fdca26"
             ],
             [
              1,
              "#f0f921"
             ]
            ],
            "type": "heatmapgl"
           }
          ],
          "histogram": [
           {
            "marker": {
             "pattern": {
              "fillmode": "overlay",
              "size": 10,
              "solidity": 0.2
             }
            },
            "type": "histogram"
           }
          ],
          "histogram2d": [
           {
            "colorbar": {
             "outlinewidth": 0,
             "ticks": ""
            },
            "colorscale": [
             [
              0,
              "#0d0887"
             ],
             [
              0.1111111111111111,
              "#46039f"
             ],
             [
              0.2222222222222222,
              "#7201a8"
             ],
             [
              0.3333333333333333,
              "#9c179e"
             ],
             [
              0.4444444444444444,
              "#bd3786"
             ],
             [
              0.5555555555555556,
              "#d8576b"
             ],
             [
              0.6666666666666666,
              "#ed7953"
             ],
             [
              0.7777777777777778,
              "#fb9f3a"
             ],
             [
              0.8888888888888888,
              "#fdca26"
             ],
             [
              1,
              "#f0f921"
             ]
            ],
            "type": "histogram2d"
           }
          ],
          "histogram2dcontour": [
           {
            "colorbar": {
             "outlinewidth": 0,
             "ticks": ""
            },
            "colorscale": [
             [
              0,
              "#0d0887"
             ],
             [
              0.1111111111111111,
              "#46039f"
             ],
             [
              0.2222222222222222,
              "#7201a8"
             ],
             [
              0.3333333333333333,
              "#9c179e"
             ],
             [
              0.4444444444444444,
              "#bd3786"
             ],
             [
              0.5555555555555556,
              "#d8576b"
             ],
             [
              0.6666666666666666,
              "#ed7953"
             ],
             [
              0.7777777777777778,
              "#fb9f3a"
             ],
             [
              0.8888888888888888,
              "#fdca26"
             ],
             [
              1,
              "#f0f921"
             ]
            ],
            "type": "histogram2dcontour"
           }
          ],
          "mesh3d": [
           {
            "colorbar": {
             "outlinewidth": 0,
             "ticks": ""
            },
            "type": "mesh3d"
           }
          ],
          "parcoords": [
           {
            "line": {
             "colorbar": {
              "outlinewidth": 0,
              "ticks": ""
             }
            },
            "type": "parcoords"
           }
          ],
          "pie": [
           {
            "automargin": true,
            "type": "pie"
           }
          ],
          "scatter": [
           {
            "fillpattern": {
             "fillmode": "overlay",
             "size": 10,
             "solidity": 0.2
            },
            "type": "scatter"
           }
          ],
          "scatter3d": [
           {
            "line": {
             "colorbar": {
              "outlinewidth": 0,
              "ticks": ""
             }
            },
            "marker": {
             "colorbar": {
              "outlinewidth": 0,
              "ticks": ""
             }
            },
            "type": "scatter3d"
           }
          ],
          "scattercarpet": [
           {
            "marker": {
             "colorbar": {
              "outlinewidth": 0,
              "ticks": ""
             }
            },
            "type": "scattercarpet"
           }
          ],
          "scattergeo": [
           {
            "marker": {
             "colorbar": {
              "outlinewidth": 0,
              "ticks": ""
             }
            },
            "type": "scattergeo"
           }
          ],
          "scattergl": [
           {
            "marker": {
             "colorbar": {
              "outlinewidth": 0,
              "ticks": ""
             }
            },
            "type": "scattergl"
           }
          ],
          "scattermapbox": [
           {
            "marker": {
             "colorbar": {
              "outlinewidth": 0,
              "ticks": ""
             }
            },
            "type": "scattermapbox"
           }
          ],
          "scatterpolar": [
           {
            "marker": {
             "colorbar": {
              "outlinewidth": 0,
              "ticks": ""
             }
            },
            "type": "scatterpolar"
           }
          ],
          "scatterpolargl": [
           {
            "marker": {
             "colorbar": {
              "outlinewidth": 0,
              "ticks": ""
             }
            },
            "type": "scatterpolargl"
           }
          ],
          "scatterternary": [
           {
            "marker": {
             "colorbar": {
              "outlinewidth": 0,
              "ticks": ""
             }
            },
            "type": "scatterternary"
           }
          ],
          "surface": [
           {
            "colorbar": {
             "outlinewidth": 0,
             "ticks": ""
            },
            "colorscale": [
             [
              0,
              "#0d0887"
             ],
             [
              0.1111111111111111,
              "#46039f"
             ],
             [
              0.2222222222222222,
              "#7201a8"
             ],
             [
              0.3333333333333333,
              "#9c179e"
             ],
             [
              0.4444444444444444,
              "#bd3786"
             ],
             [
              0.5555555555555556,
              "#d8576b"
             ],
             [
              0.6666666666666666,
              "#ed7953"
             ],
             [
              0.7777777777777778,
              "#fb9f3a"
             ],
             [
              0.8888888888888888,
              "#fdca26"
             ],
             [
              1,
              "#f0f921"
             ]
            ],
            "type": "surface"
           }
          ],
          "table": [
           {
            "cells": {
             "fill": {
              "color": "#EBF0F8"
             },
             "line": {
              "color": "white"
             }
            },
            "header": {
             "fill": {
              "color": "#C8D4E3"
             },
             "line": {
              "color": "white"
             }
            },
            "type": "table"
           }
          ]
         },
         "layout": {
          "annotationdefaults": {
           "arrowcolor": "#2a3f5f",
           "arrowhead": 0,
           "arrowwidth": 1
          },
          "autotypenumbers": "strict",
          "coloraxis": {
           "colorbar": {
            "outlinewidth": 0,
            "ticks": ""
           }
          },
          "colorscale": {
           "diverging": [
            [
             0,
             "#8e0152"
            ],
            [
             0.1,
             "#c51b7d"
            ],
            [
             0.2,
             "#de77ae"
            ],
            [
             0.3,
             "#f1b6da"
            ],
            [
             0.4,
             "#fde0ef"
            ],
            [
             0.5,
             "#f7f7f7"
            ],
            [
             0.6,
             "#e6f5d0"
            ],
            [
             0.7,
             "#b8e186"
            ],
            [
             0.8,
             "#7fbc41"
            ],
            [
             0.9,
             "#4d9221"
            ],
            [
             1,
             "#276419"
            ]
           ],
           "sequential": [
            [
             0,
             "#0d0887"
            ],
            [
             0.1111111111111111,
             "#46039f"
            ],
            [
             0.2222222222222222,
             "#7201a8"
            ],
            [
             0.3333333333333333,
             "#9c179e"
            ],
            [
             0.4444444444444444,
             "#bd3786"
            ],
            [
             0.5555555555555556,
             "#d8576b"
            ],
            [
             0.6666666666666666,
             "#ed7953"
            ],
            [
             0.7777777777777778,
             "#fb9f3a"
            ],
            [
             0.8888888888888888,
             "#fdca26"
            ],
            [
             1,
             "#f0f921"
            ]
           ],
           "sequentialminus": [
            [
             0,
             "#0d0887"
            ],
            [
             0.1111111111111111,
             "#46039f"
            ],
            [
             0.2222222222222222,
             "#7201a8"
            ],
            [
             0.3333333333333333,
             "#9c179e"
            ],
            [
             0.4444444444444444,
             "#bd3786"
            ],
            [
             0.5555555555555556,
             "#d8576b"
            ],
            [
             0.6666666666666666,
             "#ed7953"
            ],
            [
             0.7777777777777778,
             "#fb9f3a"
            ],
            [
             0.8888888888888888,
             "#fdca26"
            ],
            [
             1,
             "#f0f921"
            ]
           ]
          },
          "colorway": [
           "#636efa",
           "#EF553B",
           "#00cc96",
           "#ab63fa",
           "#FFA15A",
           "#19d3f3",
           "#FF6692",
           "#B6E880",
           "#FF97FF",
           "#FECB52"
          ],
          "font": {
           "color": "#2a3f5f"
          },
          "geo": {
           "bgcolor": "white",
           "lakecolor": "white",
           "landcolor": "#E5ECF6",
           "showlakes": true,
           "showland": true,
           "subunitcolor": "white"
          },
          "hoverlabel": {
           "align": "left"
          },
          "hovermode": "closest",
          "mapbox": {
           "style": "light"
          },
          "paper_bgcolor": "white",
          "plot_bgcolor": "#E5ECF6",
          "polar": {
           "angularaxis": {
            "gridcolor": "white",
            "linecolor": "white",
            "ticks": ""
           },
           "bgcolor": "#E5ECF6",
           "radialaxis": {
            "gridcolor": "white",
            "linecolor": "white",
            "ticks": ""
           }
          },
          "scene": {
           "xaxis": {
            "backgroundcolor": "#E5ECF6",
            "gridcolor": "white",
            "gridwidth": 2,
            "linecolor": "white",
            "showbackground": true,
            "ticks": "",
            "zerolinecolor": "white"
           },
           "yaxis": {
            "backgroundcolor": "#E5ECF6",
            "gridcolor": "white",
            "gridwidth": 2,
            "linecolor": "white",
            "showbackground": true,
            "ticks": "",
            "zerolinecolor": "white"
           },
           "zaxis": {
            "backgroundcolor": "#E5ECF6",
            "gridcolor": "white",
            "gridwidth": 2,
            "linecolor": "white",
            "showbackground": true,
            "ticks": "",
            "zerolinecolor": "white"
           }
          },
          "shapedefaults": {
           "line": {
            "color": "#2a3f5f"
           }
          },
          "ternary": {
           "aaxis": {
            "gridcolor": "white",
            "linecolor": "white",
            "ticks": ""
           },
           "baxis": {
            "gridcolor": "white",
            "linecolor": "white",
            "ticks": ""
           },
           "bgcolor": "#E5ECF6",
           "caxis": {
            "gridcolor": "white",
            "linecolor": "white",
            "ticks": ""
           }
          },
          "title": {
           "x": 0.05
          },
          "xaxis": {
           "automargin": true,
           "gridcolor": "white",
           "linecolor": "white",
           "ticks": "",
           "title": {
            "standoff": 15
           },
           "zerolinecolor": "white",
           "zerolinewidth": 2
          },
          "yaxis": {
           "automargin": true,
           "gridcolor": "white",
           "linecolor": "white",
           "ticks": "",
           "title": {
            "standoff": 15
           },
           "zerolinecolor": "white",
           "zerolinewidth": 2
          }
         }
        },
        "title": {
         "text": "Average Number of Comments by Trust Level for Tally Proposals"
        }
       }
      }
     },
     "metadata": {},
     "output_type": "display_data"
    }
   ],
   "source": [
    "import pandas as pd\n",
    "import plotly.express as px\n",
    "\n",
    "# Load datasets\n",
    "users_df = pd.read_csv('forum_users_data.csv')\n",
    "posts_df = pd.read_csv('forum_posts_data.csv')\n",
    "\n",
    "# Filter posts related to Tally proposal posts\n",
    "tally_posts = posts_df[posts_df['Topic ID'].isin(tally_topic_ids)]\n",
    "\n",
    "# Merge posts with user trust levels\n",
    "merged_df = tally_posts.merge(users_df[['Username', 'Trust Level']], \n",
    "                              how='left', left_on='Username', right_on='Username')\n",
    "\n",
    "# Group by trust level and calculate average number of comments\n",
    "avg_comments_by_trust_level = merged_df.groupby('Trust Level')['Username'].count() / merged_df['Trust Level'].value_counts()\n",
    "\n",
    "# Create a pie chart to visualize average comments by trust level\n",
    "fig = px.pie(values=avg_comments_by_trust_level.values, \n",
    "             names=avg_comments_by_trust_level.index,\n",
    "             title='Average Number of Comments by Trust Level for Tally Proposals',\n",
    "             color_discrete_sequence=px.colors.qualitative.Set3)\n",
    "\n",
    "# Customize layout\n",
    "fig.update_traces(textinfo='percent+label', pull=[0.05] * len(avg_comments_by_trust_level))\n",
    "\n",
    "# Show the plot\n",
    "fig.show()\n",
    "fig.write_html(\"Contribution of High Trust Level Users vs Regular Users.html\")\n"
   ]
  },
  {
   "cell_type": "markdown",
   "metadata": {},
   "source": [
    "#### Relationship between the length of Tally proposal titles and the sentiment expressed in the comments?"
   ]
  },
  {
   "cell_type": "code",
   "execution_count": 50,
   "metadata": {},
   "outputs": [
    {
     "name": "stderr",
     "output_type": "stream",
     "text": [
      "C:\\Users\\abhis\\AppData\\Local\\Temp\\ipykernel_16772\\3676080931.py:26: SettingWithCopyWarning:\n",
      "\n",
      "\n",
      "A value is trying to be set on a copy of a slice from a DataFrame.\n",
      "Try using .loc[row_indexer,col_indexer] = value instead\n",
      "\n",
      "See the caveats in the documentation: https://pandas.pydata.org/pandas-docs/stable/user_guide/indexing.html#returning-a-view-versus-a-copy\n",
      "\n"
     ]
    },
    {
     "data": {
      "application/vnd.plotly.v1+json": {
       "config": {
        "plotlyServerURL": "https://plot.ly"
       },
       "data": [
        {
         "customdata": [
          [
           "[Non-constitutional] Proposal to fund Plurality Labs Milestone 1B(ridge)"
          ],
          [
           "[Non-constitutional] Proposal to fund Plurality Labs Milestone 1B(ridge)"
          ],
          [
           "[Non-constitutional] Proposal to fund Plurality Labs Milestone 1B(ridge)"
          ],
          [
           "[Non-constitutional] Proposal to fund Plurality Labs Milestone 1B(ridge)"
          ],
          [
           "[Non-constitutional] Proposal to fund Plurality Labs Milestone 1B(ridge)"
          ],
          [
           "[Non-constitutional] Proposal to fund Plurality Labs Milestone 1B(ridge)"
          ],
          [
           "[Non-constitutional] Proposal to fund Plurality Labs Milestone 1B(ridge)"
          ],
          [
           "[Non-constitutional] Proposal to fund Plurality Labs Milestone 1B(ridge)"
          ],
          [
           "[Non-constitutional] Proposal to fund Plurality Labs Milestone 1B(ridge)"
          ],
          [
           "[Non-constitutional] Proposal to fund Plurality Labs Milestone 1B(ridge)"
          ],
          [
           "[Non-constitutional] Proposal to fund Plurality Labs Milestone 1B(ridge)"
          ],
          [
           "[Non-constitutional] Proposal to fund Plurality Labs Milestone 1B(ridge)"
          ],
          [
           "[Non-constitutional] Proposal to fund Plurality Labs Milestone 1B(ridge)"
          ],
          [
           "[Non-constitutional] Proposal to fund Plurality Labs Milestone 1B(ridge)"
          ],
          [
           "[Non-constitutional] Proposal to fund Plurality Labs Milestone 1B(ridge)"
          ],
          [
           "[Non-constitutional] Proposal to fund Plurality Labs Milestone 1B(ridge)"
          ],
          [
           "[Non-constitutional] Proposal to fund Plurality Labs Milestone 1B(ridge)"
          ],
          [
           "[Non-constitutional] Proposal to fund Plurality Labs Milestone 1B(ridge)"
          ],
          [
           "[Non-constitutional] Proposal to fund Plurality Labs Milestone 1B(ridge)"
          ],
          [
           "[Non-constitutional] Proposal to fund Plurality Labs Milestone 1B(ridge)"
          ],
          [
           "[Non-constitutional] Proposal to fund Plurality Labs Milestone 1B(ridge)"
          ],
          [
           "[Non-constitutional] Proposal to fund Plurality Labs Milestone 1B(ridge)"
          ],
          [
           "[Non-constitutional] Proposal to fund Plurality Labs Milestone 1B(ridge)"
          ],
          [
           "[Non-constitutional] Proposal to fund Plurality Labs Milestone 1B(ridge)"
          ],
          [
           "[Non-constitutional] Proposal to fund Plurality Labs Milestone 1B(ridge)"
          ],
          [
           "[Non-constitutional] Proposal to fund Plurality Labs Milestone 1B(ridge)"
          ],
          [
           "[Non-constitutional] Proposal to fund Plurality Labs Milestone 1B(ridge)"
          ],
          [
           "[Non-constitutional] Proposal to fund Plurality Labs Milestone 1B(ridge)"
          ],
          [
           "[Non-constitutional] Proposal to fund Plurality Labs Milestone 1B(ridge)"
          ],
          [
           "[Non-constitutional] Proposal to fund Plurality Labs Milestone 1B(ridge)"
          ],
          [
           "[Non-constitutional] Proposal to fund Plurality Labs Milestone 1B(ridge)"
          ],
          [
           "[Non-constitutional] Proposal to fund Plurality Labs Milestone 1B(ridge)"
          ],
          [
           "[Non-constitutional] Proposal to fund Plurality Labs Milestone 1B(ridge)"
          ],
          [
           "[Non-constitutional] Proposal to fund Plurality Labs Milestone 1B(ridge)"
          ],
          [
           "[Non-constitutional] Proposal to fund Plurality Labs Milestone 1B(ridge)"
          ],
          [
           "[Non-constitutional] Proposal to fund Plurality Labs Milestone 1B(ridge)"
          ],
          [
           "[Non-constitutional] Proposal to fund Plurality Labs Milestone 1B(ridge)"
          ],
          [
           "[Non-constitutional] Proposal to fund Plurality Labs Milestone 1B(ridge)"
          ],
          [
           "[Non-constitutional] Proposal to fund Plurality Labs Milestone 1B(ridge)"
          ],
          [
           "[Non-constitutional] Proposal to fund Plurality Labs Milestone 1B(ridge)"
          ],
          [
           "[Non-constitutional] Proposal to fund Plurality Labs Milestone 1B(ridge)"
          ],
          [
           "[Non-constitutional] Proposal to fund Plurality Labs Milestone 1B(ridge)"
          ],
          [
           "[Non-constitutional] Proposal to fund Plurality Labs Milestone 1B(ridge)"
          ],
          [
           "[Non-constitutional] Proposal to fund Plurality Labs Milestone 1B(ridge)"
          ],
          [
           "[Non-constitutional] Proposal to fund Plurality Labs Milestone 1B(ridge)"
          ],
          [
           "[Non-constitutional] Proposal to fund Plurality Labs Milestone 1B(ridge)"
          ],
          [
           "[Non-constitutional] Proposal to fund Plurality Labs Milestone 1B(ridge)"
          ],
          [
           "[Non-constitutional] Proposal to fund Plurality Labs Milestone 1B(ridge)"
          ],
          [
           "[Non-constitutional] Proposal to fund Plurality Labs Milestone 1B(ridge)"
          ],
          [
           "[Non-constitutional] Proposal to fund Plurality Labs Milestone 1B(ridge)"
          ],
          [
           "[Non-constitutional] Proposal to fund Plurality Labs Milestone 1B(ridge)"
          ],
          [
           "[Non-constitutional] Proposal to fund Plurality Labs Milestone 1B(ridge)"
          ],
          [
           "[Non-constitutional] Proposal to fund Plurality Labs Milestone 1B(ridge)"
          ],
          [
           "[Non-constitutional] Proposal to fund Plurality Labs Milestone 1B(ridge)"
          ],
          [
           "[Non-constitutional] Proposal to fund Plurality Labs Milestone 1B(ridge)"
          ],
          [
           "[Non-constitutional] Proposal to fund Plurality Labs Milestone 1B(ridge)"
          ],
          [
           "[Non-constitutional] Proposal to fund Plurality Labs Milestone 1B(ridge)"
          ],
          [
           "[Non-constitutional] Proposal to fund Plurality Labs Milestone 1B(ridge)"
          ],
          [
           "[Non-constitutional] Proposal to fund Plurality Labs Milestone 1B(ridge)"
          ],
          [
           "[Non-constitutional] Proposal to fund Plurality Labs Milestone 1B(ridge)"
          ],
          [
           "[Non-constitutional] Proposal to fund Plurality Labs Milestone 1B(ridge)"
          ],
          [
           "[Non-constitutional] Proposal to fund Plurality Labs Milestone 1B(ridge)"
          ],
          [
           "AIP: ArbOS Version 20 \"Atlas\""
          ],
          [
           "AIP: ArbOS Version 20 \"Atlas\""
          ],
          [
           "AIP: ArbOS Version 20 \"Atlas\""
          ],
          [
           "AIP: ArbOS Version 20 \"Atlas\""
          ],
          [
           "AIP: ArbOS Version 20 \"Atlas\""
          ],
          [
           "AIP: ArbOS Version 20 \"Atlas\""
          ],
          [
           "AIP: ArbOS Version 20 \"Atlas\""
          ],
          [
           "AIP: ArbOS Version 20 \"Atlas\""
          ],
          [
           "AIP: ArbOS Version 20 \"Atlas\""
          ],
          [
           "AIP: ArbOS Version 20 \"Atlas\""
          ],
          [
           "AIP: ArbOS Version 20 \"Atlas\""
          ],
          [
           "AIP: ArbOS Version 20 \"Atlas\""
          ],
          [
           "AIP: ArbOS Version 20 \"Atlas\""
          ],
          [
           "AIP: ArbOS Version 20 \"Atlas\""
          ],
          [
           "AIP: ArbOS Version 20 \"Atlas\""
          ],
          [
           "AIP: ArbOS Version 20 \"Atlas\""
          ],
          [
           "AIP: ArbOS Version 20 \"Atlas\""
          ],
          [
           "AIP: ArbOS Version 20 \"Atlas\""
          ],
          [
           "AIP: ArbOS Version 20 \"Atlas\""
          ],
          [
           "AIP: ArbOS Version 20 \"Atlas\""
          ],
          [
           "AIP: ArbOS Version 20 \"Atlas\""
          ],
          [
           "AIP: ArbOS Version 20 \"Atlas\""
          ],
          [
           "AIP: ArbOS Version 20 \"Atlas\""
          ],
          [
           "AIP: ArbOS Version 20 \"Atlas\""
          ],
          [
           "Long Term Incentives Pilot Program"
          ],
          [
           "Long Term Incentives Pilot Program"
          ],
          [
           "Long Term Incentives Pilot Program"
          ],
          [
           "Long Term Incentives Pilot Program"
          ],
          [
           "Long Term Incentives Pilot Program"
          ],
          [
           "Long Term Incentives Pilot Program"
          ],
          [
           "Long Term Incentives Pilot Program"
          ],
          [
           "Long Term Incentives Pilot Program"
          ],
          [
           "Long Term Incentives Pilot Program"
          ],
          [
           "Long Term Incentives Pilot Program"
          ],
          [
           "Long Term Incentives Pilot Program"
          ],
          [
           "Long Term Incentives Pilot Program"
          ],
          [
           "Long Term Incentives Pilot Program"
          ],
          [
           "Long Term Incentives Pilot Program"
          ],
          [
           "Long Term Incentives Pilot Program"
          ],
          [
           "Long Term Incentives Pilot Program"
          ],
          [
           "Long Term Incentives Pilot Program"
          ],
          [
           "Long Term Incentives Pilot Program"
          ],
          [
           "Long Term Incentives Pilot Program"
          ],
          [
           "Long Term Incentives Pilot Program"
          ],
          [
           "Long Term Incentives Pilot Program"
          ],
          [
           "Long Term Incentives Pilot Program"
          ],
          [
           "Long Term Incentives Pilot Program"
          ],
          [
           "Long Term Incentives Pilot Program"
          ],
          [
           "Long Term Incentives Pilot Program"
          ],
          [
           "Long Term Incentives Pilot Program"
          ],
          [
           "Long Term Incentives Pilot Program"
          ],
          [
           "Long Term Incentives Pilot Program"
          ],
          [
           "Long Term Incentives Pilot Program"
          ],
          [
           "Long Term Incentives Pilot Program"
          ],
          [
           "Long Term Incentives Pilot Program"
          ],
          [
           "Long Term Incentives Pilot Program"
          ],
          [
           "Long Term Incentives Pilot Program"
          ],
          [
           "Long Term Incentives Pilot Program"
          ],
          [
           "Long Term Incentives Pilot Program"
          ],
          [
           "Long Term Incentives Pilot Program"
          ],
          [
           "Long Term Incentives Pilot Program"
          ],
          [
           "Long Term Incentives Pilot Program"
          ],
          [
           "Long Term Incentives Pilot Program"
          ],
          [
           "Long Term Incentives Pilot Program"
          ],
          [
           "Long Term Incentives Pilot Program"
          ],
          [
           "Long Term Incentives Pilot Program"
          ],
          [
           "Long Term Incentives Pilot Program"
          ],
          [
           "Long Term Incentives Pilot Program"
          ],
          [
           "Long Term Incentives Pilot Program"
          ],
          [
           "Long Term Incentives Pilot Program"
          ],
          [
           "Long Term Incentives Pilot Program"
          ],
          [
           "Long Term Incentives Pilot Program"
          ],
          [
           "Long Term Incentives Pilot Program"
          ],
          [
           "Long Term Incentives Pilot Program"
          ],
          [
           "Long Term Incentives Pilot Program"
          ],
          [
           "Long Term Incentives Pilot Program"
          ],
          [
           "Long Term Incentives Pilot Program"
          ],
          [
           "AIP: Changes to the Constitution and the Security Council Election Process"
          ],
          [
           "AIP: Changes to the Constitution and the Security Council Election Process"
          ],
          [
           "AIP: Changes to the Constitution and the Security Council Election Process"
          ],
          [
           "AIP: Changes to the Constitution and the Security Council Election Process"
          ],
          [
           "AIP: Changes to the Constitution and the Security Council Election Process"
          ],
          [
           "AIP: Changes to the Constitution and the Security Council Election Process"
          ],
          [
           "AIP: Changes to the Constitution and the Security Council Election Process"
          ],
          [
           "AIP: Changes to the Constitution and the Security Council Election Process"
          ],
          [
           "AIP: Changes to the Constitution and the Security Council Election Process"
          ],
          [
           "AIP: Changes to the Constitution and the Security Council Election Process"
          ],
          [
           "AIP: Changes to the Constitution and the Security Council Election Process"
          ],
          [
           "AIP: Changes to the Constitution and the Security Council Election Process"
          ],
          [
           "AIP: Changes to the Constitution and the Security Council Election Process"
          ],
          [
           "AIP: Changes to the Constitution and the Security Council Election Process"
          ],
          [
           "AIP: Changes to the Constitution and the Security Council Election Process"
          ],
          [
           "AIP: Changes to the Constitution and the Security Council Election Process"
          ],
          [
           "AIP: Changes to the Constitution and the Security Council Election Process"
          ],
          [
           "AIP: Changes to the Constitution and the Security Council Election Process"
          ],
          [
           "AIP: Changes to the Constitution and the Security Council Election Process"
          ],
          [
           "AIP: Changes to the Constitution and the Security Council Election Process"
          ],
          [
           "AIP: Changes to the Constitution and the Security Council Election Process"
          ],
          [
           "AIP: Changes to the Constitution and the Security Council Election Process"
          ],
          [
           "Proposal [Non-Constitutional]: Establish the ArbitrumDAO Procurement Committee"
          ],
          [
           "Proposal [Non-Constitutional]: Establish the ArbitrumDAO Procurement Committee"
          ],
          [
           "Proposal [Non-Constitutional]: Establish the ArbitrumDAO Procurement Committee"
          ],
          [
           "Proposal [Non-Constitutional]: Establish the ArbitrumDAO Procurement Committee"
          ],
          [
           "Proposal [Non-Constitutional]: Establish the ArbitrumDAO Procurement Committee"
          ],
          [
           "Proposal [Non-Constitutional]: Establish the ArbitrumDAO Procurement Committee"
          ],
          [
           "Proposal [Non-Constitutional]: Establish the ArbitrumDAO Procurement Committee"
          ],
          [
           "Proposal [Non-Constitutional]: Establish the ArbitrumDAO Procurement Committee"
          ],
          [
           "Proposal [Non-Constitutional]: Establish the ArbitrumDAO Procurement Committee"
          ],
          [
           "Proposal [Non-Constitutional]: Establish the ArbitrumDAO Procurement Committee"
          ],
          [
           "Proposal [Non-Constitutional]: Establish the ArbitrumDAO Procurement Committee"
          ],
          [
           "Proposal [Non-Constitutional]: Establish the ArbitrumDAO Procurement Committee"
          ],
          [
           "Proposal [Non-Constitutional]: Establish the ArbitrumDAO Procurement Committee"
          ],
          [
           "Proposal [Non-Constitutional]: Establish the ArbitrumDAO Procurement Committee"
          ],
          [
           "Proposal [Non-Constitutional]: Establish the ArbitrumDAO Procurement Committee"
          ],
          [
           "Proposal [Non-Constitutional]: Establish the ArbitrumDAO Procurement Committee"
          ],
          [
           "Proposal [Non-Constitutional]: Establish the ArbitrumDAO Procurement Committee"
          ],
          [
           "Proposal [Non-Constitutional]: Establish the ArbitrumDAO Procurement Committee"
          ],
          [
           "Proposal [Non-Constitutional]: Establish the ArbitrumDAO Procurement Committee"
          ],
          [
           "Proposal [Non-Constitutional]: Establish the ArbitrumDAO Procurement Committee"
          ],
          [
           "Proposal [Non-Constitutional]: Establish the ArbitrumDAO Procurement Committee"
          ],
          [
           "Proposal [Non-Constitutional]: Establish the ArbitrumDAO Procurement Committee"
          ],
          [
           "Proposal [Non-Constitutional]: Establish the ArbitrumDAO Procurement Committee"
          ],
          [
           "Proposal [Non-Constitutional]: Establish the ArbitrumDAO Procurement Committee"
          ],
          [
           "Proposal [Non-Constitutional]: Establish the ArbitrumDAO Procurement Committee"
          ],
          [
           "Proposal [Non-Constitutional]: Establish the ArbitrumDAO Procurement Committee"
          ],
          [
           "Proposal [Non-Constitutional]: Establish the ArbitrumDAO Procurement Committee"
          ],
          [
           "Proposal to Backfund Successful STIP Proposals (Savvy DAO) [FINAL]"
          ],
          [
           "Proposal to Backfund Successful STIP Proposals (Savvy DAO) [FINAL]"
          ],
          [
           "Proposal to Backfund Successful STIP Proposals (Savvy DAO) [FINAL]"
          ],
          [
           "Proposal to Backfund Successful STIP Proposals (Savvy DAO) [FINAL]"
          ],
          [
           "Proposal to Backfund Successful STIP Proposals (Savvy DAO) [FINAL]"
          ],
          [
           "Proposal to Backfund Successful STIP Proposals (Savvy DAO) [FINAL]"
          ],
          [
           "Proposal to Backfund Successful STIP Proposals (Savvy DAO) [FINAL]"
          ],
          [
           "Proposal to Backfund Successful STIP Proposals (Savvy DAO) [FINAL]"
          ],
          [
           "Proposal to Backfund Successful STIP Proposals (Savvy DAO) [FINAL]"
          ],
          [
           "Proposal to Backfund Successful STIP Proposals (Savvy DAO) [FINAL]"
          ],
          [
           "Proposal to Backfund Successful STIP Proposals (Savvy DAO) [FINAL]"
          ],
          [
           "Proposal to Backfund Successful STIP Proposals (Savvy DAO) [FINAL]"
          ],
          [
           "Proposal to Backfund Successful STIP Proposals (Savvy DAO) [FINAL]"
          ],
          [
           "Proposal to Backfund Successful STIP Proposals (Savvy DAO) [FINAL]"
          ],
          [
           "Proposal to Backfund Successful STIP Proposals (Savvy DAO) [FINAL]"
          ],
          [
           "Proposal to Backfund Successful STIP Proposals (Savvy DAO) [FINAL]"
          ],
          [
           "Proposal to Backfund Successful STIP Proposals (Savvy DAO) [FINAL]"
          ],
          [
           "Proposal to Backfund Successful STIP Proposals (Savvy DAO) [FINAL]"
          ],
          [
           "Proposal to Backfund Successful STIP Proposals (Savvy DAO) [FINAL]"
          ],
          [
           "Proposal to Backfund Successful STIP Proposals (Savvy DAO) [FINAL]"
          ],
          [
           "Proposal to Backfund Successful STIP Proposals (Savvy DAO) [FINAL]"
          ],
          [
           "Proposal to Backfund Successful STIP Proposals (Savvy DAO) [FINAL]"
          ],
          [
           "Proposal to Backfund Successful STIP Proposals (Savvy DAO) [FINAL]"
          ],
          [
           "Proposal to Backfund Successful STIP Proposals (Savvy DAO) [FINAL]"
          ],
          [
           "Proposal to Backfund Successful STIP Proposals (Savvy DAO) [FINAL]"
          ],
          [
           "Proposal to Backfund Successful STIP Proposals (Savvy DAO) [FINAL]"
          ],
          [
           "Proposal to Backfund Successful STIP Proposals (Savvy DAO) [FINAL]"
          ],
          [
           "Proposal to Backfund Successful STIP Proposals (Savvy DAO) [FINAL]"
          ],
          [
           "Proposal to Backfund Successful STIP Proposals (Savvy DAO) [FINAL]"
          ],
          [
           "Proposal to Backfund Successful STIP Proposals (Savvy DAO) [FINAL]"
          ],
          [
           "Proposal to Backfund Successful STIP Proposals (Savvy DAO) [FINAL]"
          ],
          [
           "Proposal to Backfund Successful STIP Proposals (Savvy DAO) [FINAL]"
          ],
          [
           "Proposal to Backfund Successful STIP Proposals (Savvy DAO) [FINAL]"
          ],
          [
           "Proposal to Backfund Successful STIP Proposals (Savvy DAO) [FINAL]"
          ],
          [
           "Proposal to Backfund Successful STIP Proposals (Savvy DAO) [FINAL]"
          ],
          [
           "Proposal to Backfund Successful STIP Proposals (Savvy DAO) [FINAL]"
          ],
          [
           "Proposal to Backfund Successful STIP Proposals (Savvy DAO) [FINAL]"
          ],
          [
           "Proposal to Backfund Successful STIP Proposals (Savvy DAO) [FINAL]"
          ],
          [
           "Proposal to Backfund Successful STIP Proposals (Savvy DAO) [FINAL]"
          ],
          [
           "Proposal to Backfund Successful STIP Proposals (Savvy DAO) [FINAL]"
          ],
          [
           "Proposal to Backfund Successful STIP Proposals (Savvy DAO) [FINAL]"
          ],
          [
           "Proposal to Backfund Successful STIP Proposals (Savvy DAO) [FINAL]"
          ],
          [
           "Proposal to Backfund Successful STIP Proposals (Savvy DAO) [FINAL]"
          ],
          [
           "Proposal to Backfund Successful STIP Proposals (Savvy DAO) [FINAL]"
          ],
          [
           "Proposal to Backfund Successful STIP Proposals (Savvy DAO) [FINAL]"
          ],
          [
           "Proposal to Backfund Successful STIP Proposals (Savvy DAO) [FINAL]"
          ],
          [
           "Proposal to Backfund Successful STIP Proposals (Savvy DAO) [FINAL]"
          ],
          [
           "Proposal to Backfund Successful STIP Proposals (Savvy DAO) [FINAL]"
          ],
          [
           "Proposal to Backfund Successful STIP Proposals (Savvy DAO) [FINAL]"
          ],
          [
           "Proposal to Backfund Successful STIP Proposals (Savvy DAO) [FINAL]"
          ],
          [
           "Proposal to Backfund Successful STIP Proposals (Savvy DAO) [FINAL]"
          ],
          [
           "Proposal to Backfund Successful STIP Proposals (Savvy DAO) [FINAL]"
          ],
          [
           "Proposal to Backfund Successful STIP Proposals (Savvy DAO) [FINAL]"
          ],
          [
           "Proposal to Backfund Successful STIP Proposals (Savvy DAO) [FINAL]"
          ],
          [
           "Proposal to Backfund Successful STIP Proposals (Savvy DAO) [FINAL]"
          ],
          [
           "Proposal to Backfund Successful STIP Proposals (Savvy DAO) [FINAL]"
          ],
          [
           "Proposal to Backfund Successful STIP Proposals (Savvy DAO) [FINAL]"
          ],
          [
           "Proposal to Backfund Successful STIP Proposals (Savvy DAO) [FINAL]"
          ],
          [
           "Proposal to Backfund Successful STIP Proposals (Savvy DAO) [FINAL]"
          ],
          [
           "Proposal to Backfund Successful STIP Proposals (Savvy DAO) [FINAL]"
          ],
          [
           "Proposal to Backfund Successful STIP Proposals (Savvy DAO) [FINAL]"
          ],
          [
           "Proposal to Backfund Successful STIP Proposals (Savvy DAO) [FINAL]"
          ],
          [
           "Proposal to Backfund Successful STIP Proposals (Savvy DAO) [FINAL]"
          ],
          [
           "Proposal to Backfund Successful STIP Proposals (Savvy DAO) [FINAL]"
          ],
          [
           "Proposal to Backfund Successful STIP Proposals (Savvy DAO) [FINAL]"
          ],
          [
           "Proposal to Backfund Successful STIP Proposals (Savvy DAO) [FINAL]"
          ],
          [
           "Proposal to Backfund Successful STIP Proposals (Savvy DAO) [FINAL]"
          ],
          [
           "Proposal to Backfund Successful STIP Proposals (Savvy DAO) [FINAL]"
          ],
          [
           "Proposal to Backfund Successful STIP Proposals (Savvy DAO) [FINAL]"
          ],
          [
           "Proposal to Backfund Successful STIP Proposals (Savvy DAO) [FINAL]"
          ],
          [
           "Proposal to Backfund Successful STIP Proposals (Savvy DAO) [FINAL]"
          ],
          [
           "Proposal to Backfund Successful STIP Proposals (Savvy DAO) [FINAL]"
          ],
          [
           "Proposal to Backfund Successful STIP Proposals (Savvy DAO) [FINAL]"
          ],
          [
           "Proposal to Backfund Successful STIP Proposals (Savvy DAO) [FINAL]"
          ],
          [
           "Proposal to Backfund Successful STIP Proposals (Savvy DAO) [FINAL]"
          ],
          [
           "Proposal to Backfund Successful STIP Proposals (Savvy DAO) [FINAL]"
          ],
          [
           "Proposal to Backfund Successful STIP Proposals (Savvy DAO) [FINAL]"
          ],
          [
           "Proposal to Backfund Successful STIP Proposals (Savvy DAO) [FINAL]"
          ],
          [
           "Proposal to Backfund Successful STIP Proposals (Savvy DAO) [FINAL]"
          ],
          [
           "Proposal to Backfund Successful STIP Proposals (Savvy DAO) [FINAL]"
          ],
          [
           "Proposal to Backfund Successful STIP Proposals (Savvy DAO) [FINAL]"
          ],
          [
           "Proposal to Backfund Successful STIP Proposals (Savvy DAO) [FINAL]"
          ],
          [
           "Proposal to Backfund Successful STIP Proposals (Savvy DAO) [FINAL]"
          ],
          [
           "Proposal to Backfund Successful STIP Proposals (Savvy DAO) [FINAL]"
          ],
          [
           "Proposal to Backfund Successful STIP Proposals (Savvy DAO) [FINAL]"
          ],
          [
           "Proposal to Backfund Successful STIP Proposals (Savvy DAO) [FINAL]"
          ],
          [
           "Proposal to Backfund Successful STIP Proposals (Savvy DAO) [FINAL]"
          ],
          [
           "Proposal to Backfund Successful STIP Proposals (Savvy DAO) [FINAL]"
          ],
          [
           "Proposal to Backfund Successful STIP Proposals (Savvy DAO) [FINAL]"
          ],
          [
           "Proposal to Backfund Successful STIP Proposals (Savvy DAO) [FINAL]"
          ],
          [
           "Proposal to Backfund Successful STIP Proposals (Savvy DAO) [FINAL]"
          ],
          [
           "Proposal to Backfund Successful STIP Proposals (Savvy DAO) [FINAL]"
          ],
          [
           "Proposal to Backfund Successful STIP Proposals (Savvy DAO) [FINAL]"
          ],
          [
           "Proposal to Backfund Successful STIP Proposals (Savvy DAO) [FINAL]"
          ],
          [
           "Proposal to Backfund Successful STIP Proposals (Savvy DAO) [FINAL]"
          ],
          [
           "Proposal to Backfund Successful STIP Proposals (Savvy DAO) [FINAL]"
          ],
          [
           "Proposal to Backfund Successful STIP Proposals (Savvy DAO) [FINAL]"
          ],
          [
           "Proposal to Backfund Successful STIP Proposals (Savvy DAO) [FINAL]"
          ],
          [
           "Proposal to Backfund Successful STIP Proposals (Savvy DAO) [FINAL]"
          ],
          [
           "Proposal to Backfund Successful STIP Proposals (Savvy DAO) [FINAL]"
          ],
          [
           "Proposal to Backfund Successful STIP Proposals (Savvy DAO) [FINAL]"
          ],
          [
           "Proposal to Backfund Successful STIP Proposals (Savvy DAO) [FINAL]"
          ],
          [
           "AIP: ArbOS Version 11"
          ],
          [
           "AIP: ArbOS Version 11"
          ],
          [
           "AIP: ArbOS Version 11"
          ],
          [
           "AIP: ArbOS Version 11"
          ],
          [
           "AIP: ArbOS Version 11"
          ],
          [
           "AIP: ArbOS Version 11"
          ],
          [
           "AIP: ArbOS Version 11"
          ],
          [
           "AIP: ArbOS Version 11"
          ],
          [
           "AIP: ArbOS Version 11"
          ],
          [
           "AIP: ArbOS Version 11"
          ],
          [
           "AIP: ArbOS Version 11"
          ],
          [
           "AIP: ArbOS Version 11"
          ],
          [
           "Proposal [Non-Constitutional]: Establish the 'Arbitrum Research & Development Collective'"
          ],
          [
           "Proposal [Non-Constitutional]: Establish the 'Arbitrum Research & Development Collective'"
          ],
          [
           "Proposal [Non-Constitutional]: Establish the 'Arbitrum Research & Development Collective'"
          ],
          [
           "Proposal [Non-Constitutional]: Establish the 'Arbitrum Research & Development Collective'"
          ],
          [
           "Proposal [Non-Constitutional]: Establish the 'Arbitrum Research & Development Collective'"
          ],
          [
           "Proposal [Non-Constitutional]: Establish the 'Arbitrum Research & Development Collective'"
          ],
          [
           "Proposal [Non-Constitutional]: Establish the 'Arbitrum Research & Development Collective'"
          ],
          [
           "Proposal [Non-Constitutional]: Establish the 'Arbitrum Research & Development Collective'"
          ],
          [
           "Proposal [Non-Constitutional]: Establish the 'Arbitrum Research & Development Collective'"
          ],
          [
           "Proposal [Non-Constitutional]: Establish the 'Arbitrum Research & Development Collective'"
          ],
          [
           "Proposal [Non-Constitutional]: Establish the 'Arbitrum Research & Development Collective'"
          ],
          [
           "Proposal [Non-Constitutional]: Establish the 'Arbitrum Research & Development Collective'"
          ],
          [
           "Proposal [Non-Constitutional]: Establish the 'Arbitrum Research & Development Collective'"
          ],
          [
           "Proposal [Non-Constitutional]: Establish the 'Arbitrum Research & Development Collective'"
          ],
          [
           "Proposal [Non-Constitutional]: Establish the 'Arbitrum Research & Development Collective'"
          ],
          [
           "Proposal [Non-Constitutional]: Establish the 'Arbitrum Research & Development Collective'"
          ],
          [
           "Proposal [Non-Constitutional]: Establish the 'Arbitrum Research & Development Collective'"
          ],
          [
           "Proposal [Non-Constitutional]: Establish the 'Arbitrum Research & Development Collective'"
          ],
          [
           "Proposal [Non-Constitutional]: Establish the 'Arbitrum Research & Development Collective'"
          ],
          [
           "Proposal [Non-Constitutional]: Establish the 'Arbitrum Research & Development Collective'"
          ],
          [
           "Proposal [Non-Constitutional]: Establish the 'Arbitrum Research & Development Collective'"
          ],
          [
           "Proposal [Non-Constitutional]: Establish the 'Arbitrum Research & Development Collective'"
          ],
          [
           "Proposal [Non-Constitutional]: Establish the 'Arbitrum Research & Development Collective'"
          ],
          [
           "Proposal [Non-Constitutional]: Establish the 'Arbitrum Research & Development Collective'"
          ],
          [
           "Proposal [Non-Constitutional]: Establish the 'Arbitrum Research & Development Collective'"
          ],
          [
           "Proposal [Non-Constitutional]: Establish the 'Arbitrum Research & Development Collective'"
          ],
          [
           "Proposal [Non-Constitutional]: Establish the 'Arbitrum Research & Development Collective'"
          ],
          [
           "Proposal [Non-Constitutional]: Establish the 'Arbitrum Research & Development Collective'"
          ],
          [
           "Proposal [Non-Constitutional]: Establish the 'Arbitrum Research & Development Collective'"
          ],
          [
           "Proposal [Non-Constitutional]: Establish the 'Arbitrum Research & Development Collective'"
          ],
          [
           "Proposal [Non-Constitutional]: Establish the 'Arbitrum Research & Development Collective'"
          ],
          [
           "Proposal [Non-Constitutional]: Establish the 'Arbitrum Research & Development Collective'"
          ],
          [
           "Proposal [Non-Constitutional]: Establish the 'Arbitrum Research & Development Collective'"
          ],
          [
           "Proposal [Non-Constitutional]: Establish the 'Arbitrum Research & Development Collective'"
          ],
          [
           "Proposal [Non-Constitutional]: Establish the 'Arbitrum Research & Development Collective'"
          ],
          [
           "Proposal: Experimental Incentive System for Active ArbitrumDAO Delegates"
          ],
          [
           "Proposal: Experimental Incentive System for Active ArbitrumDAO Delegates"
          ],
          [
           "Proposal: Experimental Incentive System for Active ArbitrumDAO Delegates"
          ],
          [
           "Proposal: Experimental Incentive System for Active ArbitrumDAO Delegates"
          ],
          [
           "Proposal: Experimental Incentive System for Active ArbitrumDAO Delegates"
          ],
          [
           "Proposal: Experimental Incentive System for Active ArbitrumDAO Delegates"
          ],
          [
           "Proposal: Experimental Incentive System for Active ArbitrumDAO Delegates"
          ],
          [
           "Proposal: Experimental Incentive System for Active ArbitrumDAO Delegates"
          ],
          [
           "Proposal: Experimental Incentive System for Active ArbitrumDAO Delegates"
          ],
          [
           "Proposal: Experimental Incentive System for Active ArbitrumDAO Delegates"
          ],
          [
           "Proposal: Experimental Incentive System for Active ArbitrumDAO Delegates"
          ],
          [
           "Proposal: Experimental Incentive System for Active ArbitrumDAO Delegates"
          ],
          [
           "Proposal: Experimental Incentive System for Active ArbitrumDAO Delegates"
          ],
          [
           "Proposal: Experimental Incentive System for Active ArbitrumDAO Delegates"
          ],
          [
           "Proposal: Experimental Incentive System for Active ArbitrumDAO Delegates"
          ],
          [
           "Proposal: Experimental Incentive System for Active ArbitrumDAO Delegates"
          ],
          [
           "Proposal: Experimental Incentive System for Active ArbitrumDAO Delegates"
          ],
          [
           "Proposal: Experimental Incentive System for Active ArbitrumDAO Delegates"
          ],
          [
           "Proposal: Experimental Incentive System for Active ArbitrumDAO Delegates"
          ],
          [
           "Proposal: Experimental Incentive System for Active ArbitrumDAO Delegates"
          ],
          [
           "Proposal: Experimental Incentive System for Active ArbitrumDAO Delegates"
          ],
          [
           "Proposal: Experimental Incentive System for Active ArbitrumDAO Delegates"
          ],
          [
           "Proposal: Experimental Incentive System for Active ArbitrumDAO Delegates"
          ],
          [
           "Proposal: Experimental Incentive System for Active ArbitrumDAO Delegates"
          ],
          [
           "Proposal: Experimental Incentive System for Active ArbitrumDAO Delegates"
          ],
          [
           "Proposal: Experimental Incentive System for Active ArbitrumDAO Delegates"
          ],
          [
           "Proposal: Experimental Incentive System for Active ArbitrumDAO Delegates"
          ],
          [
           "Proposal: Experimental Incentive System for Active ArbitrumDAO Delegates"
          ],
          [
           "Proposal: Experimental Incentive System for Active ArbitrumDAO Delegates"
          ],
          [
           "Proposal: Experimental Incentive System for Active ArbitrumDAO Delegates"
          ],
          [
           "Proposal: Experimental Incentive System for Active ArbitrumDAO Delegates"
          ],
          [
           "Proposal: Experimental Incentive System for Active ArbitrumDAO Delegates"
          ],
          [
           "Proposal: Experimental Incentive System for Active ArbitrumDAO Delegates"
          ],
          [
           "Proposal: Experimental Incentive System for Active ArbitrumDAO Delegates"
          ],
          [
           "Proposal: Experimental Incentive System for Active ArbitrumDAO Delegates"
          ],
          [
           "Proposal: Experimental Incentive System for Active ArbitrumDAO Delegates"
          ],
          [
           "Proposal: Experimental Incentive System for Active ArbitrumDAO Delegates"
          ],
          [
           "Proposal: Experimental Incentive System for Active ArbitrumDAO Delegates"
          ],
          [
           "Proposal: Experimental Incentive System for Active ArbitrumDAO Delegates"
          ],
          [
           "Proposal: Experimental Incentive System for Active ArbitrumDAO Delegates"
          ],
          [
           "Proposal: Experimental Incentive System for Active ArbitrumDAO Delegates"
          ],
          [
           "Proposal: Experimental Incentive System for Active ArbitrumDAO Delegates"
          ],
          [
           "Proposal: Experimental Incentive System for Active ArbitrumDAO Delegates"
          ],
          [
           "Proposal: Experimental Incentive System for Active ArbitrumDAO Delegates"
          ],
          [
           "Proposal: Experimental Incentive System for Active ArbitrumDAO Delegates"
          ],
          [
           "Proposal: Experimental Incentive System for Active ArbitrumDAO Delegates"
          ],
          [
           "Proposal: Experimental Incentive System for Active ArbitrumDAO Delegates"
          ],
          [
           "Proposal: Experimental Incentive System for Active ArbitrumDAO Delegates"
          ],
          [
           "Proposal: Experimental Incentive System for Active ArbitrumDAO Delegates"
          ],
          [
           "Proposal: Experimental Incentive System for Active ArbitrumDAO Delegates"
          ],
          [
           "Proposal: Experimental Incentive System for Active ArbitrumDAO Delegates"
          ],
          [
           "Proposal: Experimental Incentive System for Active ArbitrumDAO Delegates"
          ],
          [
           "Proposal: Experimental Incentive System for Active ArbitrumDAO Delegates"
          ],
          [
           "Proposal: Experimental Incentive System for Active ArbitrumDAO Delegates"
          ],
          [
           "AIP - 6 : Security Council Elections"
          ],
          [
           "AIP - 6 : Security Council Elections"
          ],
          [
           "AIP - 6 : Security Council Elections"
          ],
          [
           "AIP - 6 : Security Council Elections"
          ],
          [
           "AIP - 6 : Security Council Elections"
          ],
          [
           "AIP - 6 : Security Council Elections"
          ],
          [
           "AIP - 6 : Security Council Elections"
          ],
          [
           "AIP - 6 : Security Council Elections"
          ],
          [
           "AIP - 6 : Security Council Elections"
          ],
          [
           "AIP - 6 : Security Council Elections"
          ],
          [
           "AIP - 6 : Security Council Elections"
          ],
          [
           "AIP - 6 : Security Council Elections"
          ],
          [
           "AIP - 6 : Security Council Elections"
          ],
          [
           "AIP - 6 : Security Council Elections"
          ],
          [
           "AIP - 6 : Security Council Elections"
          ],
          [
           "Proposal: Building the Future of NFTs: The Rarible Protocol - Arbitrum Integration Proposal [REVISED]"
          ],
          [
           "Proposal: Building the Future of NFTs: The Rarible Protocol - Arbitrum Integration Proposal [REVISED]"
          ],
          [
           "Proposal: Building the Future of NFTs: The Rarible Protocol - Arbitrum Integration Proposal [REVISED]"
          ],
          [
           "Proposal: Building the Future of NFTs: The Rarible Protocol - Arbitrum Integration Proposal [REVISED]"
          ],
          [
           "Proposal: Building the Future of NFTs: The Rarible Protocol - Arbitrum Integration Proposal [REVISED]"
          ],
          [
           "Proposal: Building the Future of NFTs: The Rarible Protocol - Arbitrum Integration Proposal [REVISED]"
          ],
          [
           "Proposal: Building the Future of NFTs: The Rarible Protocol - Arbitrum Integration Proposal [REVISED]"
          ],
          [
           "Proposal: Building the Future of NFTs: The Rarible Protocol - Arbitrum Integration Proposal [REVISED]"
          ],
          [
           "Proposal: Building the Future of NFTs: The Rarible Protocol - Arbitrum Integration Proposal [REVISED]"
          ],
          [
           "Proposal: Building the Future of NFTs: The Rarible Protocol - Arbitrum Integration Proposal [REVISED]"
          ],
          [
           "Proposal: Building the Future of NFTs: The Rarible Protocol - Arbitrum Integration Proposal [REVISED]"
          ],
          [
           "Proposal: Building the Future of NFTs: The Rarible Protocol - Arbitrum Integration Proposal [REVISED]"
          ],
          [
           "Proposal: Building the Future of NFTs: The Rarible Protocol - Arbitrum Integration Proposal [REVISED]"
          ],
          [
           "Proposal: Building the Future of NFTs: The Rarible Protocol - Arbitrum Integration Proposal [REVISED]"
          ],
          [
           "Proposal: Building the Future of NFTs: The Rarible Protocol - Arbitrum Integration Proposal [REVISED]"
          ],
          [
           "Proposal: Building the Future of NFTs: The Rarible Protocol - Arbitrum Integration Proposal [REVISED]"
          ],
          [
           "Proposal: Building the Future of NFTs: The Rarible Protocol - Arbitrum Integration Proposal [REVISED]"
          ],
          [
           "Proposal: Building the Future of NFTs: The Rarible Protocol - Arbitrum Integration Proposal [REVISED]"
          ],
          [
           "Proposal: Building the Future of NFTs: The Rarible Protocol - Arbitrum Integration Proposal [REVISED]"
          ],
          [
           "Proposal: Building the Future of NFTs: The Rarible Protocol - Arbitrum Integration Proposal [REVISED]"
          ],
          [
           "Proposal: Building the Future of NFTs: The Rarible Protocol - Arbitrum Integration Proposal [REVISED]"
          ],
          [
           "Proposal: Building the Future of NFTs: The Rarible Protocol - Arbitrum Integration Proposal [REVISED]"
          ],
          [
           "Proposal: Building the Future of NFTs: The Rarible Protocol - Arbitrum Integration Proposal [REVISED]"
          ],
          [
           "Proposal: Building the Future of NFTs: The Rarible Protocol - Arbitrum Integration Proposal [REVISED]"
          ],
          [
           "Proposal: Building the Future of NFTs: The Rarible Protocol - Arbitrum Integration Proposal [REVISED]"
          ],
          [
           "Proposal: Building the Future of NFTs: The Rarible Protocol - Arbitrum Integration Proposal [REVISED]"
          ],
          [
           "Arbitrum's Short-Term Incentive Program (Arbitrum Improvement Proposal)"
          ],
          [
           "Arbitrum's Short-Term Incentive Program (Arbitrum Improvement Proposal)"
          ],
          [
           "Arbitrum's Short-Term Incentive Program (Arbitrum Improvement Proposal)"
          ],
          [
           "Arbitrum's Short-Term Incentive Program (Arbitrum Improvement Proposal)"
          ],
          [
           "Arbitrum's Short-Term Incentive Program (Arbitrum Improvement Proposal)"
          ],
          [
           "Arbitrum's Short-Term Incentive Program (Arbitrum Improvement Proposal)"
          ],
          [
           "Arbitrum's Short-Term Incentive Program (Arbitrum Improvement Proposal)"
          ],
          [
           "Arbitrum's Short-Term Incentive Program (Arbitrum Improvement Proposal)"
          ],
          [
           "Arbitrum's Short-Term Incentive Program (Arbitrum Improvement Proposal)"
          ],
          [
           "Arbitrum's Short-Term Incentive Program (Arbitrum Improvement Proposal)"
          ],
          [
           "Arbitrum's Short-Term Incentive Program (Arbitrum Improvement Proposal)"
          ],
          [
           "Arbitrum's Short-Term Incentive Program (Arbitrum Improvement Proposal)"
          ],
          [
           "Arbitrum's Short-Term Incentive Program (Arbitrum Improvement Proposal)"
          ],
          [
           "Arbitrum's Short-Term Incentive Program (Arbitrum Improvement Proposal)"
          ],
          [
           "Arbitrum's Short-Term Incentive Program (Arbitrum Improvement Proposal)"
          ],
          [
           "Arbitrum's Short-Term Incentive Program (Arbitrum Improvement Proposal)"
          ],
          [
           "Arbitrum's Short-Term Incentive Program (Arbitrum Improvement Proposal)"
          ],
          [
           "Arbitrum's Short-Term Incentive Program (Arbitrum Improvement Proposal)"
          ],
          [
           "Arbitrum's Short-Term Incentive Program (Arbitrum Improvement Proposal)"
          ],
          [
           "Arbitrum's Short-Term Incentive Program (Arbitrum Improvement Proposal)"
          ],
          [
           "Arbitrum's Short-Term Incentive Program (Arbitrum Improvement Proposal)"
          ],
          [
           "Arbitrum's Short-Term Incentive Program (Arbitrum Improvement Proposal)"
          ],
          [
           "Arbitrum's Short-Term Incentive Program (Arbitrum Improvement Proposal)"
          ],
          [
           "Arbitrum's Short-Term Incentive Program (Arbitrum Improvement Proposal)"
          ],
          [
           "Arbitrum's Short-Term Incentive Program (Arbitrum Improvement Proposal)"
          ],
          [
           "Arbitrum's Short-Term Incentive Program (Arbitrum Improvement Proposal)"
          ],
          [
           "Arbitrum's Short-Term Incentive Program (Arbitrum Improvement Proposal)"
          ],
          [
           "Arbitrum's Short-Term Incentive Program (Arbitrum Improvement Proposal)"
          ],
          [
           "Arbitrum's Short-Term Incentive Program (Arbitrum Improvement Proposal)"
          ],
          [
           "Arbitrum's Short-Term Incentive Program (Arbitrum Improvement Proposal)"
          ],
          [
           "Arbitrum's Short-Term Incentive Program (Arbitrum Improvement Proposal)"
          ],
          [
           "Arbitrum's Short-Term Incentive Program (Arbitrum Improvement Proposal)"
          ],
          [
           "Arbitrum's Short-Term Incentive Program (Arbitrum Improvement Proposal)"
          ],
          [
           "Arbitrum's Short-Term Incentive Program (Arbitrum Improvement Proposal)"
          ],
          [
           "Arbitrum's Short-Term Incentive Program (Arbitrum Improvement Proposal)"
          ],
          [
           "Arbitrum's Short-Term Incentive Program (Arbitrum Improvement Proposal)"
          ],
          [
           "Arbitrum's Short-Term Incentive Program (Arbitrum Improvement Proposal)"
          ],
          [
           "Arbitrum's Short-Term Incentive Program (Arbitrum Improvement Proposal)"
          ],
          [
           "Arbitrum's Short-Term Incentive Program (Arbitrum Improvement Proposal)"
          ],
          [
           "Arbitrum's Short-Term Incentive Program (Arbitrum Improvement Proposal)"
          ],
          [
           "Arbitrum's Short-Term Incentive Program (Arbitrum Improvement Proposal)"
          ],
          [
           "Arbitrum's Short-Term Incentive Program (Arbitrum Improvement Proposal)"
          ],
          [
           "Arbitrum's Short-Term Incentive Program (Arbitrum Improvement Proposal)"
          ],
          [
           "Arbitrum's Short-Term Incentive Program (Arbitrum Improvement Proposal)"
          ],
          [
           "Arbitrum's Short-Term Incentive Program (Arbitrum Improvement Proposal)"
          ],
          [
           "Arbitrum's Short-Term Incentive Program (Arbitrum Improvement Proposal)"
          ],
          [
           "Arbitrum's Short-Term Incentive Program (Arbitrum Improvement Proposal)"
          ],
          [
           "Arbitrum's Short-Term Incentive Program (Arbitrum Improvement Proposal)"
          ],
          [
           "Arbitrum's Short-Term Incentive Program (Arbitrum Improvement Proposal)"
          ],
          [
           "Arbitrum's Short-Term Incentive Program (Arbitrum Improvement Proposal)"
          ],
          [
           "Arbitrum's Short-Term Incentive Program (Arbitrum Improvement Proposal)"
          ],
          [
           "Arbitrum's Short-Term Incentive Program (Arbitrum Improvement Proposal)"
          ],
          [
           "Arbitrum's Short-Term Incentive Program (Arbitrum Improvement Proposal)"
          ],
          [
           "Arbitrum's Short-Term Incentive Program (Arbitrum Improvement Proposal)"
          ],
          [
           "Arbitrum's Short-Term Incentive Program (Arbitrum Improvement Proposal)"
          ],
          [
           "Arbitrum's Short-Term Incentive Program (Arbitrum Improvement Proposal)"
          ],
          [
           "Arbitrum's Short-Term Incentive Program (Arbitrum Improvement Proposal)"
          ],
          [
           "Arbitrum's Short-Term Incentive Program (Arbitrum Improvement Proposal)"
          ],
          [
           "Arbitrum's Short-Term Incentive Program (Arbitrum Improvement Proposal)"
          ],
          [
           "Arbitrum's Short-Term Incentive Program (Arbitrum Improvement Proposal)"
          ],
          [
           "Arbitrum's Short-Term Incentive Program (Arbitrum Improvement Proposal)"
          ],
          [
           "Arbitrum's Short-Term Incentive Program (Arbitrum Improvement Proposal)"
          ],
          [
           "Arbitrum's Short-Term Incentive Program (Arbitrum Improvement Proposal)"
          ],
          [
           "Arbitrum's Short-Term Incentive Program (Arbitrum Improvement Proposal)"
          ],
          [
           "Arbitrum's Short-Term Incentive Program (Arbitrum Improvement Proposal)"
          ],
          [
           "Arbitrum's Short-Term Incentive Program (Arbitrum Improvement Proposal)"
          ],
          [
           "Arbitrum's Short-Term Incentive Program (Arbitrum Improvement Proposal)"
          ],
          [
           "Arbitrum's Short-Term Incentive Program (Arbitrum Improvement Proposal)"
          ],
          [
           "Arbitrum's Short-Term Incentive Program (Arbitrum Improvement Proposal)"
          ],
          [
           "Arbitrum's Short-Term Incentive Program (Arbitrum Improvement Proposal)"
          ],
          [
           "Arbitrum's Short-Term Incentive Program (Arbitrum Improvement Proposal)"
          ],
          [
           "Arbitrum's Short-Term Incentive Program (Arbitrum Improvement Proposal)"
          ],
          [
           "Arbitrum's Short-Term Incentive Program (Arbitrum Improvement Proposal)"
          ],
          [
           "Arbitrum's Short-Term Incentive Program (Arbitrum Improvement Proposal)"
          ],
          [
           "Arbitrum's Short-Term Incentive Program (Arbitrum Improvement Proposal)"
          ],
          [
           "Arbitrum's Short-Term Incentive Program (Arbitrum Improvement Proposal)"
          ],
          [
           "Arbitrum's Short-Term Incentive Program (Arbitrum Improvement Proposal)"
          ],
          [
           "Arbitrum's Short-Term Incentive Program (Arbitrum Improvement Proposal)"
          ],
          [
           "Arbitrum's Short-Term Incentive Program (Arbitrum Improvement Proposal)"
          ],
          [
           "Arbitrum's Short-Term Incentive Program (Arbitrum Improvement Proposal)"
          ],
          [
           "Arbitrum's Short-Term Incentive Program (Arbitrum Improvement Proposal)"
          ],
          [
           "Arbitrum's Short-Term Incentive Program (Arbitrum Improvement Proposal)"
          ],
          [
           "Arbitrum's Short-Term Incentive Program (Arbitrum Improvement Proposal)"
          ],
          [
           "Arbitrum's Short-Term Incentive Program (Arbitrum Improvement Proposal)"
          ],
          [
           "Arbitrum's Short-Term Incentive Program (Arbitrum Improvement Proposal)"
          ],
          [
           "Arbitrum's Short-Term Incentive Program (Arbitrum Improvement Proposal)"
          ],
          [
           "Arbitrum's Short-Term Incentive Program (Arbitrum Improvement Proposal)"
          ],
          [
           "Arbitrum's Short-Term Incentive Program (Arbitrum Improvement Proposal)"
          ],
          [
           "Arbitrum's Short-Term Incentive Program (Arbitrum Improvement Proposal)"
          ],
          [
           "Arbitrum's Short-Term Incentive Program (Arbitrum Improvement Proposal)"
          ],
          [
           "Arbitrum's Short-Term Incentive Program (Arbitrum Improvement Proposal)"
          ],
          [
           "Arbitrum's Short-Term Incentive Program (Arbitrum Improvement Proposal)"
          ],
          [
           "Arbitrum's Short-Term Incentive Program (Arbitrum Improvement Proposal)"
          ],
          [
           "Arbitrum's Short-Term Incentive Program (Arbitrum Improvement Proposal)"
          ],
          [
           "Arbitrum's Short-Term Incentive Program (Arbitrum Improvement Proposal)"
          ],
          [
           "Arbitrum's Short-Term Incentive Program (Arbitrum Improvement Proposal)"
          ],
          [
           "Arbitrum's Short-Term Incentive Program (Arbitrum Improvement Proposal)"
          ],
          [
           "Arbitrum's Short-Term Incentive Program (Arbitrum Improvement Proposal)"
          ],
          [
           "Arbitrum's Short-Term Incentive Program (Arbitrum Improvement Proposal)"
          ],
          [
           "Arbitrum's Short-Term Incentive Program (Arbitrum Improvement Proposal)"
          ],
          [
           "Arbitrum's Short-Term Incentive Program (Arbitrum Improvement Proposal)"
          ],
          [
           "Arbitrum's Short-Term Incentive Program (Arbitrum Improvement Proposal)"
          ],
          [
           "Arbitrum's Short-Term Incentive Program (Arbitrum Improvement Proposal)"
          ],
          [
           "Arbitrum's Short-Term Incentive Program (Arbitrum Improvement Proposal)"
          ],
          [
           "Arbitrum's Short-Term Incentive Program (Arbitrum Improvement Proposal)"
          ],
          [
           "Arbitrum's Short-Term Incentive Program (Arbitrum Improvement Proposal)"
          ],
          [
           "Arbitrum's Short-Term Incentive Program (Arbitrum Improvement Proposal)"
          ],
          [
           "Arbitrum's Short-Term Incentive Program (Arbitrum Improvement Proposal)"
          ],
          [
           "Arbitrum's Short-Term Incentive Program (Arbitrum Improvement Proposal)"
          ],
          [
           "Arbitrum's Short-Term Incentive Program (Arbitrum Improvement Proposal)"
          ],
          [
           "Arbitrum's Short-Term Incentive Program (Arbitrum Improvement Proposal)"
          ],
          [
           "Arbitrum's Short-Term Incentive Program (Arbitrum Improvement Proposal)"
          ],
          [
           "Arbitrum's Short-Term Incentive Program (Arbitrum Improvement Proposal)"
          ],
          [
           "Arbitrum's Short-Term Incentive Program (Arbitrum Improvement Proposal)"
          ],
          [
           "Arbitrum's Short-Term Incentive Program (Arbitrum Improvement Proposal)"
          ],
          [
           "Arbitrum's Short-Term Incentive Program (Arbitrum Improvement Proposal)"
          ],
          [
           "Arbitrum's Short-Term Incentive Program (Arbitrum Improvement Proposal)"
          ],
          [
           "Arbitrum's Short-Term Incentive Program (Arbitrum Improvement Proposal)"
          ],
          [
           "Arbitrum's Short-Term Incentive Program (Arbitrum Improvement Proposal)"
          ],
          [
           "Arbitrum's Short-Term Incentive Program (Arbitrum Improvement Proposal)"
          ],
          [
           "Proposal: Empowering Early Contributors: The community Arbiter Proposal"
          ],
          [
           "Proposal: Empowering Early Contributors: The community Arbiter Proposal"
          ],
          [
           "Proposal: Empowering Early Contributors: The community Arbiter Proposal"
          ],
          [
           "Proposal: Empowering Early Contributors: The community Arbiter Proposal"
          ],
          [
           "Proposal: Empowering Early Contributors: The community Arbiter Proposal"
          ],
          [
           "Proposal: Empowering Early Contributors: The community Arbiter Proposal"
          ],
          [
           "Proposal: Empowering Early Contributors: The community Arbiter Proposal"
          ],
          [
           "Proposal: Empowering Early Contributors: The community Arbiter Proposal"
          ],
          [
           "Proposal: Empowering Early Contributors: The community Arbiter Proposal"
          ],
          [
           "Proposal: Empowering Early Contributors: The community Arbiter Proposal"
          ],
          [
           "Proposal: Empowering Early Contributors: The community Arbiter Proposal"
          ],
          [
           "Proposal: Empowering Early Contributors: The community Arbiter Proposal"
          ],
          [
           "Proposal: Empowering Early Contributors: The community Arbiter Proposal"
          ],
          [
           "Proposal: Empowering Early Contributors: The community Arbiter Proposal"
          ],
          [
           "Proposal: Empowering Early Contributors: The community Arbiter Proposal"
          ],
          [
           "Proposal: Empowering Early Contributors: The community Arbiter Proposal"
          ],
          [
           "Proposal: Empowering Early Contributors: The community Arbiter Proposal"
          ],
          [
           "Proposal: Empowering Early Contributors: The community Arbiter Proposal"
          ],
          [
           "Proposal: Empowering Early Contributors: The community Arbiter Proposal"
          ],
          [
           "Proposal: Empowering Early Contributors: The community Arbiter Proposal"
          ],
          [
           "Proposal: Empowering Early Contributors: The community Arbiter Proposal"
          ],
          [
           "Proposal: Empowering Early Contributors: The community Arbiter Proposal"
          ],
          [
           "Proposal: Empowering Early Contributors: The community Arbiter Proposal"
          ],
          [
           "Proposal: Empowering Early Contributors: The community Arbiter Proposal"
          ],
          [
           "Proposal: Empowering Early Contributors: The community Arbiter Proposal"
          ],
          [
           "Proposal: Empowering Early Contributors: The community Arbiter Proposal"
          ],
          [
           "Proposal: Empowering Early Contributors: The community Arbiter Proposal"
          ],
          [
           "Proposal: Empowering Early Contributors: The community Arbiter Proposal"
          ],
          [
           "Proposal: Empowering Early Contributors: The community Arbiter Proposal"
          ],
          [
           "Proposal: Empowering Early Contributors: The community Arbiter Proposal"
          ],
          [
           "Proposal: Empowering Early Contributors: The community Arbiter Proposal"
          ],
          [
           "Proposal: Empowering Early Contributors: The community Arbiter Proposal"
          ],
          [
           "Proposal: Empowering Early Contributors: The community Arbiter Proposal"
          ],
          [
           "Proposal: Empowering Early Contributors: The community Arbiter Proposal"
          ],
          [
           "Proposal: Empowering Early Contributors: The community Arbiter Proposal"
          ],
          [
           "Proposal: Empowering Early Contributors: The community Arbiter Proposal"
          ],
          [
           "Proposal: Empowering Early Contributors: The community Arbiter Proposal"
          ],
          [
           "Proposal: Empowering Early Contributors: The community Arbiter Proposal"
          ],
          [
           "Proposal: Empowering Early Contributors: The community Arbiter Proposal"
          ],
          [
           "Proposal: Empowering Early Contributors: The community Arbiter Proposal"
          ],
          [
           "Proposal: Empowering Early Contributors: The community Arbiter Proposal"
          ],
          [
           "Proposal: Empowering Early Contributors: The community Arbiter Proposal"
          ],
          [
           "Proposal: Empowering Early Contributors: The community Arbiter Proposal"
          ],
          [
           "Proposal: Empowering Early Contributors: The community Arbiter Proposal"
          ],
          [
           "Proposal: Empowering Early Contributors: The community Arbiter Proposal"
          ],
          [
           "Proposal: Empowering Early Contributors: The community Arbiter Proposal"
          ],
          [
           "Proposal: Empowering Early Contributors: The community Arbiter Proposal"
          ],
          [
           "Proposal: Empowering Early Contributors: The community Arbiter Proposal"
          ],
          [
           "Proposal: Empowering Early Contributors: The community Arbiter Proposal"
          ],
          [
           "Proposal: Empowering Early Contributors: The community Arbiter Proposal"
          ],
          [
           "Proposal: Empowering Early Contributors: The community Arbiter Proposal"
          ],
          [
           "Proposal: Empowering Early Contributors: The community Arbiter Proposal"
          ],
          [
           "Proposal: Empowering Early Contributors: The community Arbiter Proposal"
          ],
          [
           "Proposal: Empowering Early Contributors: The community Arbiter Proposal"
          ],
          [
           "Proposal: Empowering Early Contributors: The community Arbiter Proposal"
          ],
          [
           "Proposal: Empowering Early Contributors: The community Arbiter Proposal"
          ],
          [
           "Proposal: Empowering Early Contributors: The community Arbiter Proposal"
          ],
          [
           "Proposal: Empowering Early Contributors: The community Arbiter Proposal"
          ],
          [
           "Proposal: Empowering Early Contributors: The community Arbiter Proposal"
          ],
          [
           "Proposal: Empowering Early Contributors: The community Arbiter Proposal"
          ],
          [
           "Proposal: Empowering Early Contributors: The community Arbiter Proposal"
          ],
          [
           "Proposal: Empowering Early Contributors: The community Arbiter Proposal"
          ],
          [
           "Proposal: Empowering Early Contributors: The community Arbiter Proposal"
          ],
          [
           "[DRAFT] Experimental Incentive System for Active ArbitrumDAO Delegates"
          ],
          [
           "[DRAFT] Experimental Incentive System for Active ArbitrumDAO Delegates"
          ],
          [
           "[DRAFT] Experimental Incentive System for Active ArbitrumDAO Delegates"
          ],
          [
           "[DRAFT] Experimental Incentive System for Active ArbitrumDAO Delegates"
          ],
          [
           "[DRAFT] Experimental Incentive System for Active ArbitrumDAO Delegates"
          ],
          [
           "[DRAFT] Experimental Incentive System for Active ArbitrumDAO Delegates"
          ],
          [
           "[DRAFT] Experimental Incentive System for Active ArbitrumDAO Delegates"
          ],
          [
           "[DRAFT] Experimental Incentive System for Active ArbitrumDAO Delegates"
          ],
          [
           "[DRAFT] Experimental Incentive System for Active ArbitrumDAO Delegates"
          ],
          [
           "[DRAFT] Experimental Incentive System for Active ArbitrumDAO Delegates"
          ],
          [
           "[DRAFT] Experimental Incentive System for Active ArbitrumDAO Delegates"
          ],
          [
           "AIP-7: Arbitrum One Governance parameter fixes"
          ],
          [
           "AIP-7: Arbitrum One Governance parameter fixes"
          ],
          [
           "AIP-7: Arbitrum One Governance parameter fixes"
          ],
          [
           "AIP-7: Arbitrum One Governance parameter fixes"
          ],
          [
           "AIP-7: Arbitrum One Governance parameter fixes"
          ],
          [
           "AIP-7: Arbitrum One Governance parameter fixes"
          ],
          [
           "Proposal: Update Security Council Election Start Date to Ensure Time for Security Audit"
          ],
          [
           "Proposal: Update Security Council Election Start Date to Ensure Time for Security Audit"
          ],
          [
           "Proposal: Update Security Council Election Start Date to Ensure Time for Security Audit"
          ],
          [
           "Proposal: Update Security Council Election Start Date to Ensure Time for Security Audit"
          ],
          [
           "Proposal: Update Security Council Election Start Date to Ensure Time for Security Audit"
          ],
          [
           "Proposal: Update Security Council Election Start Date to Ensure Time for Security Audit"
          ],
          [
           "Proposal: Update Security Council Election Start Date to Ensure Time for Security Audit"
          ],
          [
           "Proposal: Update Security Council Election Start Date to Ensure Time for Security Audit"
          ],
          [
           "Proposal: Update Security Council Election Start Date to Ensure Time for Security Audit"
          ],
          [
           "Proposal: Update Security Council Election Start Date to Ensure Time for Security Audit"
          ],
          [
           "AIP - 3 [Non-Constitutional] Fund the Arbitrum Grants Framework Proposal Milestone 1"
          ],
          [
           "AIP - 3 [Non-Constitutional] Fund the Arbitrum Grants Framework Proposal Milestone 1"
          ],
          [
           "AIP - 3 [Non-Constitutional] Fund the Arbitrum Grants Framework Proposal Milestone 1"
          ],
          [
           "AIP - 3 [Non-Constitutional] Fund the Arbitrum Grants Framework Proposal Milestone 1"
          ],
          [
           "AIP - 3 [Non-Constitutional] Fund the Arbitrum Grants Framework Proposal Milestone 1"
          ],
          [
           "AIP - 3 [Non-Constitutional] Fund the Arbitrum Grants Framework Proposal Milestone 1"
          ],
          [
           "AIP - 3 [Non-Constitutional] Fund the Arbitrum Grants Framework Proposal Milestone 1"
          ],
          [
           "AIP - 3 [Non-Constitutional] Fund the Arbitrum Grants Framework Proposal Milestone 1"
          ],
          [
           "AIP - 3 [Non-Constitutional] Fund the Arbitrum Grants Framework Proposal Milestone 1"
          ],
          [
           "AIP - 3 [Non-Constitutional] Fund the Arbitrum Grants Framework Proposal Milestone 1"
          ],
          [
           "AIP - 3 [Non-Constitutional] Fund the Arbitrum Grants Framework Proposal Milestone 1"
          ],
          [
           "AIP - 3 [Non-Constitutional] Fund the Arbitrum Grants Framework Proposal Milestone 1"
          ],
          [
           "AIP - 3 [Non-Constitutional] Fund the Arbitrum Grants Framework Proposal Milestone 1"
          ],
          [
           "AIP - 3 [Non-Constitutional] Fund the Arbitrum Grants Framework Proposal Milestone 1"
          ],
          [
           "AIP - 3 [Non-Constitutional] Fund the Arbitrum Grants Framework Proposal Milestone 1"
          ],
          [
           "AIP - 3 [Non-Constitutional] Fund the Arbitrum Grants Framework Proposal Milestone 1"
          ],
          [
           "AIP - 3 [Non-Constitutional] Fund the Arbitrum Grants Framework Proposal Milestone 1"
          ],
          [
           "AIP - 3 [Non-Constitutional] Fund the Arbitrum Grants Framework Proposal Milestone 1"
          ],
          [
           "AIP - 3 [Non-Constitutional] Fund the Arbitrum Grants Framework Proposal Milestone 1"
          ],
          [
           "AIP - 3 [Non-Constitutional] Fund the Arbitrum Grants Framework Proposal Milestone 1"
          ],
          [
           "AIP - 3 [Non-Constitutional] Fund the Arbitrum Grants Framework Proposal Milestone 1"
          ],
          [
           "AIP - 3 [Non-Constitutional] Fund the Arbitrum Grants Framework Proposal Milestone 1"
          ],
          [
           "AIP - 3 [Non-Constitutional] Fund the Arbitrum Grants Framework Proposal Milestone 1"
          ],
          [
           "AIP - 3 [Non-Constitutional] Fund the Arbitrum Grants Framework Proposal Milestone 1"
          ],
          [
           "AIP - 3 [Non-Constitutional] Fund the Arbitrum Grants Framework Proposal Milestone 1"
          ],
          [
           "AIP - 3 [Non-Constitutional] Fund the Arbitrum Grants Framework Proposal Milestone 1"
          ],
          [
           "AIP - 3 [Non-Constitutional] Fund the Arbitrum Grants Framework Proposal Milestone 1"
          ],
          [
           "AIP - 3 [Non-Constitutional] Fund the Arbitrum Grants Framework Proposal Milestone 1"
          ],
          [
           "AIP - 3 [Non-Constitutional] Fund the Arbitrum Grants Framework Proposal Milestone 1"
          ],
          [
           "AIP - 3 [Non-Constitutional] Fund the Arbitrum Grants Framework Proposal Milestone 1"
          ],
          [
           "AIP - 3 [Non-Constitutional] Fund the Arbitrum Grants Framework Proposal Milestone 1"
          ],
          [
           "AIP - 3 [Non-Constitutional] Fund the Arbitrum Grants Framework Proposal Milestone 1"
          ],
          [
           "AIP - 3 [Non-Constitutional] Fund the Arbitrum Grants Framework Proposal Milestone 1"
          ],
          [
           "AIP - 3 [Non-Constitutional] Fund the Arbitrum Grants Framework Proposal Milestone 1"
          ],
          [
           "AIP - 3 [Non-Constitutional] Fund the Arbitrum Grants Framework Proposal Milestone 1"
          ],
          [
           "AIP - 3 [Non-Constitutional] Fund the Arbitrum Grants Framework Proposal Milestone 1"
          ],
          [
           "AIP - 3 [Non-Constitutional] Fund the Arbitrum Grants Framework Proposal Milestone 1"
          ],
          [
           "AIP - 3 [Non-Constitutional] Fund the Arbitrum Grants Framework Proposal Milestone 1"
          ],
          [
           "AIP - 3 [Non-Constitutional] Fund the Arbitrum Grants Framework Proposal Milestone 1"
          ],
          [
           "AIP - 3 [Non-Constitutional] Fund the Arbitrum Grants Framework Proposal Milestone 1"
          ],
          [
           "AIP - 3 [Non-Constitutional] Fund the Arbitrum Grants Framework Proposal Milestone 1"
          ],
          [
           "AIP - 3 [Non-Constitutional] Fund the Arbitrum Grants Framework Proposal Milestone 1"
          ],
          [
           "AIP - 3 [Non-Constitutional] Fund the Arbitrum Grants Framework Proposal Milestone 1"
          ],
          [
           "AIP - 3 [Non-Constitutional] Fund the Arbitrum Grants Framework Proposal Milestone 1"
          ],
          [
           "AIP - 3 [Non-Constitutional] Fund the Arbitrum Grants Framework Proposal Milestone 1"
          ],
          [
           "AIP - 3 [Non-Constitutional] Fund the Arbitrum Grants Framework Proposal Milestone 1"
          ],
          [
           "AIP - 3 [Non-Constitutional] Fund the Arbitrum Grants Framework Proposal Milestone 1"
          ],
          [
           "AIP - 3 [Non-Constitutional] Fund the Arbitrum Grants Framework Proposal Milestone 1"
          ],
          [
           "AIP - 3 [Non-Constitutional] Fund the Arbitrum Grants Framework Proposal Milestone 1"
          ],
          [
           "Delegated Domain Allocation by Questbook - Arbitrum DAO Grants"
          ],
          [
           "Delegated Domain Allocation by Questbook - Arbitrum DAO Grants"
          ],
          [
           "Delegated Domain Allocation by Questbook - Arbitrum DAO Grants"
          ],
          [
           "Delegated Domain Allocation by Questbook - Arbitrum DAO Grants"
          ],
          [
           "Delegated Domain Allocation by Questbook - Arbitrum DAO Grants"
          ],
          [
           "Delegated Domain Allocation by Questbook - Arbitrum DAO Grants"
          ],
          [
           "Delegated Domain Allocation by Questbook - Arbitrum DAO Grants"
          ],
          [
           "Delegated Domain Allocation by Questbook - Arbitrum DAO Grants"
          ],
          [
           "Delegated Domain Allocation by Questbook - Arbitrum DAO Grants"
          ],
          [
           "Delegated Domain Allocation by Questbook - Arbitrum DAO Grants"
          ],
          [
           "Delegated Domain Allocation by Questbook - Arbitrum DAO Grants"
          ],
          [
           "Delegated Domain Allocation by Questbook - Arbitrum DAO Grants"
          ],
          [
           "Delegated Domain Allocation by Questbook - Arbitrum DAO Grants"
          ],
          [
           "Delegated Domain Allocation by Questbook - Arbitrum DAO Grants"
          ],
          [
           "Delegated Domain Allocation by Questbook - Arbitrum DAO Grants"
          ],
          [
           "Delegated Domain Allocation by Questbook - Arbitrum DAO Grants"
          ],
          [
           "Delegated Domain Allocation by Questbook - Arbitrum DAO Grants"
          ],
          [
           "Delegated Domain Allocation by Questbook - Arbitrum DAO Grants"
          ],
          [
           "Delegated Domain Allocation by Questbook - Arbitrum DAO Grants"
          ],
          [
           "Delegated Domain Allocation by Questbook - Arbitrum DAO Grants"
          ],
          [
           "Delegated Domain Allocation by Questbook - Arbitrum DAO Grants"
          ],
          [
           "Delegated Domain Allocation by Questbook - Arbitrum DAO Grants"
          ],
          [
           "Delegated Domain Allocation by Questbook - Arbitrum DAO Grants"
          ],
          [
           "Delegated Domain Allocation by Questbook - Arbitrum DAO Grants"
          ],
          [
           "Delegated Domain Allocation by Questbook - Arbitrum DAO Grants"
          ],
          [
           "Delegated Domain Allocation by Questbook - Arbitrum DAO Grants"
          ],
          [
           "Delegated Domain Allocation by Questbook - Arbitrum DAO Grants"
          ],
          [
           "Delegated Domain Allocation by Questbook - Arbitrum DAO Grants"
          ],
          [
           "Delegated Domain Allocation by Questbook - Arbitrum DAO Grants"
          ],
          [
           "Delegated Domain Allocation by Questbook - Arbitrum DAO Grants"
          ],
          [
           "Delegated Domain Allocation by Questbook - Arbitrum DAO Grants"
          ],
          [
           "Delegated Domain Allocation by Questbook - Arbitrum DAO Grants"
          ],
          [
           "Delegated Domain Allocation by Questbook - Arbitrum DAO Grants"
          ],
          [
           "Delegated Domain Allocation by Questbook - Arbitrum DAO Grants"
          ],
          [
           "Delegated Domain Allocation by Questbook - Arbitrum DAO Grants"
          ],
          [
           "Delegated Domain Allocation by Questbook - Arbitrum DAO Grants"
          ],
          [
           "Delegated Domain Allocation by Questbook - Arbitrum DAO Grants"
          ],
          [
           "Delegated Domain Allocation by Questbook - Arbitrum DAO Grants"
          ],
          [
           "Delegated Domain Allocation by Questbook - Arbitrum DAO Grants"
          ],
          [
           "Delegated Domain Allocation by Questbook - Arbitrum DAO Grants"
          ],
          [
           "Delegated Domain Allocation by Questbook - Arbitrum DAO Grants"
          ],
          [
           "Delegated Domain Allocation by Questbook - Arbitrum DAO Grants"
          ],
          [
           "Delegated Domain Allocation by Questbook - Arbitrum DAO Grants"
          ],
          [
           "Delegated Domain Allocation by Questbook - Arbitrum DAO Grants"
          ],
          [
           "Delegated Domain Allocation by Questbook - Arbitrum DAO Grants"
          ],
          [
           "Delegated Domain Allocation by Questbook - Arbitrum DAO Grants"
          ],
          [
           "Delegated Domain Allocation by Questbook - Arbitrum DAO Grants"
          ],
          [
           "Delegated Domain Allocation by Questbook - Arbitrum DAO Grants"
          ],
          [
           "Delegated Domain Allocation by Questbook - Arbitrum DAO Grants"
          ],
          [
           "Delegated Domain Allocation by Questbook - Arbitrum DAO Grants"
          ],
          [
           "Delegated Domain Allocation by Questbook - Arbitrum DAO Grants"
          ],
          [
           "Delegated Domain Allocation by Questbook - Arbitrum DAO Grants"
          ],
          [
           "Delegated Domain Allocation by Questbook - Arbitrum DAO Grants"
          ],
          [
           "Delegated Domain Allocation by Questbook - Arbitrum DAO Grants"
          ],
          [
           "Delegated Domain Allocation by Questbook - Arbitrum DAO Grants"
          ],
          [
           "Delegated Domain Allocation by Questbook - Arbitrum DAO Grants"
          ],
          [
           "Delegated Domain Allocation by Questbook - Arbitrum DAO Grants"
          ],
          [
           "Delegated Domain Allocation by Questbook - Arbitrum DAO Grants"
          ],
          [
           "Delegated Domain Allocation by Questbook - Arbitrum DAO Grants"
          ],
          [
           "Delegated Domain Allocation by Questbook - Arbitrum DAO Grants"
          ],
          [
           "AIP-2: Activate support for account abstraction endpoint on One and Nova"
          ],
          [
           "AIP-2: Activate support for account abstraction endpoint on One and Nova"
          ],
          [
           "AIP-2: Activate support for account abstraction endpoint on One and Nova"
          ],
          [
           "AIP-2: Activate support for account abstraction endpoint on One and Nova"
          ],
          [
           "AIP-2: Activate support for account abstraction endpoint on One and Nova"
          ],
          [
           "AIP-2: Activate support for account abstraction endpoint on One and Nova"
          ],
          [
           "AIP-2: Activate support for account abstraction endpoint on One and Nova"
          ],
          [
           "AIP-2: Activate support for account abstraction endpoint on One and Nova"
          ],
          [
           "AIP-2: Activate support for account abstraction endpoint on One and Nova"
          ],
          [
           "AIP-2: Activate support for account abstraction endpoint on One and Nova"
          ],
          [
           "AIP-2: Activate support for account abstraction endpoint on One and Nova"
          ],
          [
           "AIP-2: Activate support for account abstraction endpoint on One and Nova"
          ],
          [
           "AIP-2: Activate support for account abstraction endpoint on One and Nova"
          ],
          [
           "AIP-2: Activate support for account abstraction endpoint on One and Nova"
          ],
          [
           "AIP-2: Activate support for account abstraction endpoint on One and Nova"
          ],
          [
           "AIP-2: Activate support for account abstraction endpoint on One and Nova"
          ],
          [
           "AIP-2: Activate support for account abstraction endpoint on One and Nova"
          ],
          [
           "AIP-2: Activate support for account abstraction endpoint on One and Nova"
          ],
          [
           "AIP-2: Activate support for account abstraction endpoint on One and Nova"
          ],
          [
           "AIP-2: Activate support for account abstraction endpoint on One and Nova"
          ],
          [
           "Proposal: AIP-1.2 - Foundation and DAO Governance"
          ],
          [
           "Proposal: AIP-1.2 - Foundation and DAO Governance"
          ],
          [
           "Proposal: AIP-1.2 - Foundation and DAO Governance"
          ],
          [
           "Proposal: AIP-1.2 - Foundation and DAO Governance"
          ],
          [
           "Proposal: AIP-1.2 - Foundation and DAO Governance"
          ],
          [
           "Proposal: AIP-1.2 - Foundation and DAO Governance"
          ],
          [
           "Proposal: AIP-1.2 - Foundation and DAO Governance"
          ],
          [
           "Proposal: AIP-1.2 - Foundation and DAO Governance"
          ],
          [
           "Proposal: AIP-1.2 - Foundation and DAO Governance"
          ],
          [
           "Proposal: AIP-1.2 - Foundation and DAO Governance"
          ],
          [
           "Proposal: AIP-1.2 - Foundation and DAO Governance"
          ],
          [
           "Proposal: AIP-1.2 - Foundation and DAO Governance"
          ],
          [
           "Proposal: AIP-1.2 - Foundation and DAO Governance"
          ],
          [
           "Proposal: AIP-1.2 - Foundation and DAO Governance"
          ],
          [
           "Proposal: AIP-1.2 - Foundation and DAO Governance"
          ],
          [
           "Proposal: AIP-1.2 - Foundation and DAO Governance"
          ],
          [
           "Proposal: AIP-1.2 - Foundation and DAO Governance"
          ],
          [
           "Proposal: AIP-1.2 - Foundation and DAO Governance"
          ],
          [
           "Proposal: AIP-1.2 - Foundation and DAO Governance"
          ],
          [
           "Proposal: AIP-1.2 - Foundation and DAO Governance"
          ],
          [
           "Proposal: AIP-1.2 - Foundation and DAO Governance"
          ],
          [
           "Proposal: AIP-1.2 - Foundation and DAO Governance"
          ],
          [
           "Proposal: AIP-1.2 - Foundation and DAO Governance"
          ],
          [
           "Proposal: AIP-1.2 - Foundation and DAO Governance"
          ],
          [
           "Proposal: AIP-1.2 - Foundation and DAO Governance"
          ],
          [
           "Proposal: AIP-1.2 - Foundation and DAO Governance"
          ],
          [
           "Proposal: AIP-1.2 - Foundation and DAO Governance"
          ],
          [
           "Proposal: AIP-1.2 - Foundation and DAO Governance"
          ],
          [
           "Proposal: AIP-1.2 - Foundation and DAO Governance"
          ],
          [
           "Proposal: AIP-1.2 - Foundation and DAO Governance"
          ],
          [
           "Proposal: AIP-1.2 - Foundation and DAO Governance"
          ],
          [
           "Proposal: AIP-1.2 - Foundation and DAO Governance"
          ],
          [
           "Proposal: AIP-1.2 - Foundation and DAO Governance"
          ],
          [
           "Proposal: AIP-1.2 - Foundation and DAO Governance"
          ],
          [
           "Proposal: AIP-1.2 - Foundation and DAO Governance"
          ],
          [
           "Proposal: AIP-1.2 - Foundation and DAO Governance"
          ],
          [
           "Proposal: AIP-1.2 - Foundation and DAO Governance"
          ],
          [
           "Proposal: AIP-1.2 - Foundation and DAO Governance"
          ],
          [
           "Proposal: AIP-1.2 - Foundation and DAO Governance"
          ],
          [
           "Proposal: AIP-1.2 - Foundation and DAO Governance"
          ],
          [
           "Proposal: AIP-1.2 - Foundation and DAO Governance"
          ],
          [
           "Proposal: AIP-1.2 - Foundation and DAO Governance"
          ],
          [
           "Proposal: AIP-1.2 - Foundation and DAO Governance"
          ],
          [
           "Proposal: AIP-1.2 - Foundation and DAO Governance"
          ],
          [
           "Proposal: AIP-1.2 - Foundation and DAO Governance"
          ],
          [
           "Proposal: AIP-1.2 - Foundation and DAO Governance"
          ],
          [
           "Proposal: AIP-1.2 - Foundation and DAO Governance"
          ],
          [
           "Proposal: AIP-1.2 - Foundation and DAO Governance"
          ],
          [
           "Proposal: AIP-1.2 - Foundation and DAO Governance"
          ],
          [
           "Proposal: AIP-1.2 - Foundation and DAO Governance"
          ],
          [
           "Proposal: AIP-1.2 - Foundation and DAO Governance"
          ],
          [
           "Proposal: AIP-1.2 - Foundation and DAO Governance"
          ],
          [
           "Proposal: AIP-1.1 - Lockup, Budget, Transparency"
          ],
          [
           "Proposal: AIP-1.1 - Lockup, Budget, Transparency"
          ],
          [
           "Proposal: AIP-1.1 - Lockup, Budget, Transparency"
          ],
          [
           "Proposal: AIP-1.1 - Lockup, Budget, Transparency"
          ],
          [
           "Proposal: AIP-1.1 - Lockup, Budget, Transparency"
          ],
          [
           "Proposal: AIP-1.1 - Lockup, Budget, Transparency"
          ],
          [
           "Proposal: AIP-1.1 - Lockup, Budget, Transparency"
          ],
          [
           "Proposal: AIP-1.1 - Lockup, Budget, Transparency"
          ],
          [
           "Proposal: AIP-1.1 - Lockup, Budget, Transparency"
          ],
          [
           "Proposal: AIP-1.1 - Lockup, Budget, Transparency"
          ],
          [
           "Proposal: AIP-1.1 - Lockup, Budget, Transparency"
          ],
          [
           "Proposal: AIP-1.1 - Lockup, Budget, Transparency"
          ],
          [
           "Proposal: AIP-1.1 - Lockup, Budget, Transparency"
          ],
          [
           "Proposal: AIP-1.1 - Lockup, Budget, Transparency"
          ],
          [
           "Proposal: AIP-1.1 - Lockup, Budget, Transparency"
          ],
          [
           "Proposal: AIP-1.1 - Lockup, Budget, Transparency"
          ],
          [
           "Proposal: AIP-1.1 - Lockup, Budget, Transparency"
          ],
          [
           "Proposal: AIP-1.1 - Lockup, Budget, Transparency"
          ],
          [
           "Proposal: AIP-1.1 - Lockup, Budget, Transparency"
          ],
          [
           "Proposal: AIP-1.1 - Lockup, Budget, Transparency"
          ],
          [
           "Proposal: AIP-1.1 - Lockup, Budget, Transparency"
          ],
          [
           "Proposal: AIP-1.1 - Lockup, Budget, Transparency"
          ],
          [
           "Proposal: AIP-1.1 - Lockup, Budget, Transparency"
          ],
          [
           "Proposal: AIP-1.1 - Lockup, Budget, Transparency"
          ],
          [
           "Proposal: AIP-1.1 - Lockup, Budget, Transparency"
          ],
          [
           "Proposal: AIP-1.1 - Lockup, Budget, Transparency"
          ],
          [
           "Proposal: AIP-1.1 - Lockup, Budget, Transparency"
          ],
          [
           "Proposal: AIP-1.1 - Lockup, Budget, Transparency"
          ],
          [
           "Proposal: AIP-1.1 - Lockup, Budget, Transparency"
          ],
          [
           "Proposal: AIP-1.1 - Lockup, Budget, Transparency"
          ],
          [
           "Proposal: AIP-1.1 - Lockup, Budget, Transparency"
          ],
          [
           "Proposal: AIP-1.1 - Lockup, Budget, Transparency"
          ],
          [
           "Proposal: AIP-1.1 - Lockup, Budget, Transparency"
          ],
          [
           "Proposal: AIP-1.1 - Lockup, Budget, Transparency"
          ],
          [
           "Proposal: AIP-1.1 - Lockup, Budget, Transparency"
          ],
          [
           "Proposal: AIP-1.1 - Lockup, Budget, Transparency"
          ],
          [
           "Proposal: AIP-1.1 - Lockup, Budget, Transparency"
          ],
          [
           "Proposal: AIP-1.1 - Lockup, Budget, Transparency"
          ],
          [
           "Proposal: AIP-1.1 - Lockup, Budget, Transparency"
          ],
          [
           "Proposal: AIP-1.1 - Lockup, Budget, Transparency"
          ],
          [
           "Proposal: AIP-1.1 - Lockup, Budget, Transparency"
          ],
          [
           "Proposal: AIP-1.1 - Lockup, Budget, Transparency"
          ],
          [
           "Proposal: AIP-1.1 - Lockup, Budget, Transparency"
          ],
          [
           "Proposal: AIP-1.1 - Lockup, Budget, Transparency"
          ],
          [
           "Proposal: AIP-1.1 - Lockup, Budget, Transparency"
          ],
          [
           "Proposal: AIP-1.1 - Lockup, Budget, Transparency"
          ],
          [
           "Proposal: AIP-1.1 - Lockup, Budget, Transparency"
          ],
          [
           "Proposal: AIP-1.1 - Lockup, Budget, Transparency"
          ],
          [
           "Proposal: AIP-1.1 - Lockup, Budget, Transparency"
          ],
          [
           "Proposal: AIP-1.1 - Lockup, Budget, Transparency"
          ],
          [
           "Proposal: AIP-1.1 - Lockup, Budget, Transparency"
          ],
          [
           "Proposal: AIP-1.1 - Lockup, Budget, Transparency"
          ],
          [
           "Proposal: AIP-1.1 - Lockup, Budget, Transparency"
          ],
          [
           "Proposal: AIP-1.1 - Lockup, Budget, Transparency"
          ],
          [
           "Proposal: AIP-1.1 - Lockup, Budget, Transparency"
          ],
          [
           "Proposal: AIP-1.1 - Lockup, Budget, Transparency"
          ],
          [
           "Proposal: AIP-1.1 - Lockup, Budget, Transparency"
          ],
          [
           "Proposal: AIP-1.1 - Lockup, Budget, Transparency"
          ],
          [
           "Proposal: AIP-1.1 - Lockup, Budget, Transparency"
          ],
          [
           "Proposal: AIP-1.1 - Lockup, Budget, Transparency"
          ],
          [
           "Proposal: AIP-1.1 - Lockup, Budget, Transparency"
          ],
          [
           "Proposal: AIP-1.1 - Lockup, Budget, Transparency"
          ],
          [
           "Proposal: AIP-1.1 - Lockup, Budget, Transparency"
          ],
          [
           "Proposal: AIP-1.1 - Lockup, Budget, Transparency"
          ],
          [
           "Proposal: AIP-1.1 - Lockup, Budget, Transparency"
          ],
          [
           "Proposal: AIP-1.1 - Lockup, Budget, Transparency"
          ],
          [
           "Proposal: AIP-1.1 - Lockup, Budget, Transparency"
          ],
          [
           "Proposal: AIP-1.1 - Lockup, Budget, Transparency"
          ],
          [
           "Proposal: AIP-1.1 - Lockup, Budget, Transparency"
          ]
         ],
         "hovertemplate": "Sentiment of Comments=%{y}<br>Title Length=%{x}<br>Title=%{customdata[0]}<extra></extra>",
         "legendgroup": "Positive",
         "marker": {
          "color": "#636efa",
          "size": 10,
          "symbol": "circle"
         },
         "mode": "markers",
         "name": "Positive",
         "orientation": "h",
         "showlegend": true,
         "type": "scatter",
         "x": [
          72,
          72,
          72,
          72,
          72,
          72,
          72,
          72,
          72,
          72,
          72,
          72,
          72,
          72,
          72,
          72,
          72,
          72,
          72,
          72,
          72,
          72,
          72,
          72,
          72,
          72,
          72,
          72,
          72,
          72,
          72,
          72,
          72,
          72,
          72,
          72,
          72,
          72,
          72,
          72,
          72,
          72,
          72,
          72,
          72,
          72,
          72,
          72,
          72,
          72,
          72,
          72,
          72,
          72,
          72,
          72,
          72,
          72,
          72,
          72,
          72,
          72,
          29,
          29,
          29,
          29,
          29,
          29,
          29,
          29,
          29,
          29,
          29,
          29,
          29,
          29,
          29,
          29,
          29,
          29,
          29,
          29,
          29,
          29,
          29,
          29,
          34,
          34,
          34,
          34,
          34,
          34,
          34,
          34,
          34,
          34,
          34,
          34,
          34,
          34,
          34,
          34,
          34,
          34,
          34,
          34,
          34,
          34,
          34,
          34,
          34,
          34,
          34,
          34,
          34,
          34,
          34,
          34,
          34,
          34,
          34,
          34,
          34,
          34,
          34,
          34,
          34,
          34,
          34,
          34,
          34,
          34,
          34,
          34,
          34,
          34,
          34,
          34,
          34,
          74,
          74,
          74,
          74,
          74,
          74,
          74,
          74,
          74,
          74,
          74,
          74,
          74,
          74,
          74,
          74,
          74,
          74,
          74,
          74,
          74,
          74,
          78,
          78,
          78,
          78,
          78,
          78,
          78,
          78,
          78,
          78,
          78,
          78,
          78,
          78,
          78,
          78,
          78,
          78,
          78,
          78,
          78,
          78,
          78,
          78,
          78,
          78,
          78,
          66,
          66,
          66,
          66,
          66,
          66,
          66,
          66,
          66,
          66,
          66,
          66,
          66,
          66,
          66,
          66,
          66,
          66,
          66,
          66,
          66,
          66,
          66,
          66,
          66,
          66,
          66,
          66,
          66,
          66,
          66,
          66,
          66,
          66,
          66,
          66,
          66,
          66,
          66,
          66,
          66,
          66,
          66,
          66,
          66,
          66,
          66,
          66,
          66,
          66,
          66,
          66,
          66,
          66,
          66,
          66,
          66,
          66,
          66,
          66,
          66,
          66,
          66,
          66,
          66,
          66,
          66,
          66,
          66,
          66,
          66,
          66,
          66,
          66,
          66,
          66,
          66,
          66,
          66,
          66,
          66,
          66,
          66,
          66,
          66,
          66,
          66,
          66,
          66,
          66,
          66,
          66,
          66,
          66,
          66,
          66,
          66,
          66,
          66,
          66,
          66,
          66,
          21,
          21,
          21,
          21,
          21,
          21,
          21,
          21,
          21,
          21,
          21,
          21,
          89,
          89,
          89,
          89,
          89,
          89,
          89,
          89,
          89,
          89,
          89,
          89,
          89,
          89,
          89,
          89,
          89,
          89,
          89,
          89,
          89,
          89,
          89,
          89,
          89,
          89,
          89,
          89,
          89,
          89,
          89,
          89,
          89,
          89,
          89,
          72,
          72,
          72,
          72,
          72,
          72,
          72,
          72,
          72,
          72,
          72,
          72,
          72,
          72,
          72,
          72,
          72,
          72,
          72,
          72,
          72,
          72,
          72,
          72,
          72,
          72,
          72,
          72,
          72,
          72,
          72,
          72,
          72,
          72,
          72,
          72,
          72,
          72,
          72,
          72,
          72,
          72,
          72,
          72,
          72,
          72,
          72,
          72,
          72,
          72,
          72,
          72,
          72,
          72,
          36,
          36,
          36,
          36,
          36,
          36,
          36,
          36,
          36,
          36,
          36,
          36,
          36,
          36,
          36,
          101,
          101,
          101,
          101,
          101,
          101,
          101,
          101,
          101,
          101,
          101,
          101,
          101,
          101,
          101,
          101,
          101,
          101,
          101,
          101,
          101,
          101,
          101,
          101,
          101,
          101,
          71,
          71,
          71,
          71,
          71,
          71,
          71,
          71,
          71,
          71,
          71,
          71,
          71,
          71,
          71,
          71,
          71,
          71,
          71,
          71,
          71,
          71,
          71,
          71,
          71,
          71,
          71,
          71,
          71,
          71,
          71,
          71,
          71,
          71,
          71,
          71,
          71,
          71,
          71,
          71,
          71,
          71,
          71,
          71,
          71,
          71,
          71,
          71,
          71,
          71,
          71,
          71,
          71,
          71,
          71,
          71,
          71,
          71,
          71,
          71,
          71,
          71,
          71,
          71,
          71,
          71,
          71,
          71,
          71,
          71,
          71,
          71,
          71,
          71,
          71,
          71,
          71,
          71,
          71,
          71,
          71,
          71,
          71,
          71,
          71,
          71,
          71,
          71,
          71,
          71,
          71,
          71,
          71,
          71,
          71,
          71,
          71,
          71,
          71,
          71,
          71,
          71,
          71,
          71,
          71,
          71,
          71,
          71,
          71,
          71,
          71,
          71,
          71,
          71,
          71,
          71,
          71,
          71,
          71,
          71,
          71,
          71,
          71,
          71,
          71,
          71,
          71,
          71,
          71,
          71,
          71,
          71,
          71,
          71,
          71,
          71,
          71,
          71,
          71,
          71,
          71,
          71,
          71,
          71,
          71,
          71,
          71,
          71,
          71,
          71,
          71,
          71,
          71,
          71,
          71,
          71,
          71,
          71,
          71,
          71,
          71,
          71,
          71,
          71,
          71,
          71,
          71,
          71,
          71,
          71,
          71,
          71,
          71,
          71,
          71,
          71,
          71,
          71,
          71,
          71,
          71,
          71,
          71,
          70,
          70,
          70,
          70,
          70,
          70,
          70,
          70,
          70,
          70,
          70,
          46,
          46,
          46,
          46,
          46,
          46,
          87,
          87,
          87,
          87,
          87,
          87,
          87,
          87,
          87,
          87,
          84,
          84,
          84,
          84,
          84,
          84,
          84,
          84,
          84,
          84,
          84,
          84,
          84,
          84,
          84,
          84,
          84,
          84,
          84,
          84,
          84,
          84,
          84,
          84,
          84,
          84,
          84,
          84,
          84,
          84,
          84,
          84,
          84,
          84,
          84,
          84,
          84,
          84,
          84,
          84,
          84,
          84,
          84,
          84,
          84,
          84,
          84,
          84,
          84,
          62,
          62,
          62,
          62,
          62,
          62,
          62,
          62,
          62,
          62,
          62,
          62,
          62,
          62,
          62,
          62,
          62,
          62,
          62,
          62,
          62,
          62,
          62,
          62,
          62,
          62,
          62,
          62,
          62,
          62,
          62,
          62,
          62,
          62,
          62,
          62,
          62,
          62,
          62,
          62,
          62,
          62,
          62,
          62,
          62,
          62,
          62,
          62,
          62,
          62,
          62,
          62,
          62,
          62,
          62,
          62,
          62,
          62,
          62,
          62,
          72,
          72,
          72,
          72,
          72,
          72,
          72,
          72,
          72,
          72,
          72,
          72,
          72,
          72,
          72,
          72,
          72,
          72,
          72,
          72,
          49,
          49,
          49,
          49,
          49,
          49,
          49,
          49,
          49,
          49,
          49,
          49,
          49,
          49,
          49,
          49,
          49,
          49,
          49,
          49,
          49,
          49,
          49,
          49,
          49,
          49,
          49,
          49,
          49,
          49,
          49,
          49,
          49,
          49,
          49,
          49,
          49,
          49,
          49,
          49,
          49,
          49,
          49,
          49,
          49,
          49,
          49,
          49,
          49,
          49,
          49,
          49,
          48,
          48,
          48,
          48,
          48,
          48,
          48,
          48,
          48,
          48,
          48,
          48,
          48,
          48,
          48,
          48,
          48,
          48,
          48,
          48,
          48,
          48,
          48,
          48,
          48,
          48,
          48,
          48,
          48,
          48,
          48,
          48,
          48,
          48,
          48,
          48,
          48,
          48,
          48,
          48,
          48,
          48,
          48,
          48,
          48,
          48,
          48,
          48,
          48,
          48,
          48,
          48,
          48,
          48,
          48,
          48,
          48,
          48,
          48,
          48,
          48,
          48,
          48,
          48,
          48,
          48,
          48,
          48,
          48
         ],
         "xaxis": "x",
         "y": [
          "Positive",
          "Positive",
          "Positive",
          "Positive",
          "Positive",
          "Positive",
          "Positive",
          "Positive",
          "Positive",
          "Positive",
          "Positive",
          "Positive",
          "Positive",
          "Positive",
          "Positive",
          "Positive",
          "Positive",
          "Positive",
          "Positive",
          "Positive",
          "Positive",
          "Positive",
          "Positive",
          "Positive",
          "Positive",
          "Positive",
          "Positive",
          "Positive",
          "Positive",
          "Positive",
          "Positive",
          "Positive",
          "Positive",
          "Positive",
          "Positive",
          "Positive",
          "Positive",
          "Positive",
          "Positive",
          "Positive",
          "Positive",
          "Positive",
          "Positive",
          "Positive",
          "Positive",
          "Positive",
          "Positive",
          "Positive",
          "Positive",
          "Positive",
          "Positive",
          "Positive",
          "Positive",
          "Positive",
          "Positive",
          "Positive",
          "Positive",
          "Positive",
          "Positive",
          "Positive",
          "Positive",
          "Positive",
          "Positive",
          "Positive",
          "Positive",
          "Positive",
          "Positive",
          "Positive",
          "Positive",
          "Positive",
          "Positive",
          "Positive",
          "Positive",
          "Positive",
          "Positive",
          "Positive",
          "Positive",
          "Positive",
          "Positive",
          "Positive",
          "Positive",
          "Positive",
          "Positive",
          "Positive",
          "Positive",
          "Positive",
          "Positive",
          "Positive",
          "Positive",
          "Positive",
          "Positive",
          "Positive",
          "Positive",
          "Positive",
          "Positive",
          "Positive",
          "Positive",
          "Positive",
          "Positive",
          "Positive",
          "Positive",
          "Positive",
          "Positive",
          "Positive",
          "Positive",
          "Positive",
          "Positive",
          "Positive",
          "Positive",
          "Positive",
          "Positive",
          "Positive",
          "Positive",
          "Positive",
          "Positive",
          "Positive",
          "Positive",
          "Positive",
          "Positive",
          "Positive",
          "Positive",
          "Positive",
          "Positive",
          "Positive",
          "Positive",
          "Positive",
          "Positive",
          "Positive",
          "Positive",
          "Positive",
          "Positive",
          "Positive",
          "Positive",
          "Positive",
          "Positive",
          "Positive",
          "Positive",
          "Positive",
          "Positive",
          "Positive",
          "Positive",
          "Positive",
          "Positive",
          "Positive",
          "Positive",
          "Positive",
          "Positive",
          "Positive",
          "Positive",
          "Positive",
          "Positive",
          "Positive",
          "Positive",
          "Positive",
          "Positive",
          "Positive",
          "Positive",
          "Positive",
          "Positive",
          "Positive",
          "Positive",
          "Positive",
          "Positive",
          "Positive",
          "Positive",
          "Positive",
          "Positive",
          "Positive",
          "Positive",
          "Positive",
          "Positive",
          "Positive",
          "Positive",
          "Positive",
          "Positive",
          "Positive",
          "Positive",
          "Positive",
          "Positive",
          "Positive",
          "Positive",
          "Positive",
          "Positive",
          "Positive",
          "Positive",
          "Positive",
          "Positive",
          "Positive",
          "Positive",
          "Positive",
          "Positive",
          "Positive",
          "Positive",
          "Positive",
          "Positive",
          "Positive",
          "Positive",
          "Positive",
          "Positive",
          "Positive",
          "Positive",
          "Positive",
          "Positive",
          "Positive",
          "Positive",
          "Positive",
          "Positive",
          "Positive",
          "Positive",
          "Positive",
          "Positive",
          "Positive",
          "Positive",
          "Positive",
          "Positive",
          "Positive",
          "Positive",
          "Positive",
          "Positive",
          "Positive",
          "Positive",
          "Positive",
          "Positive",
          "Positive",
          "Positive",
          "Positive",
          "Positive",
          "Positive",
          "Positive",
          "Positive",
          "Positive",
          "Positive",
          "Positive",
          "Positive",
          "Positive",
          "Positive",
          "Positive",
          "Positive",
          "Positive",
          "Positive",
          "Positive",
          "Positive",
          "Positive",
          "Positive",
          "Positive",
          "Positive",
          "Positive",
          "Positive",
          "Positive",
          "Positive",
          "Positive",
          "Positive",
          "Positive",
          "Positive",
          "Positive",
          "Positive",
          "Positive",
          "Positive",
          "Positive",
          "Positive",
          "Positive",
          "Positive",
          "Positive",
          "Positive",
          "Positive",
          "Positive",
          "Positive",
          "Positive",
          "Positive",
          "Positive",
          "Positive",
          "Positive",
          "Positive",
          "Positive",
          "Positive",
          "Positive",
          "Positive",
          "Positive",
          "Positive",
          "Positive",
          "Positive",
          "Positive",
          "Positive",
          "Positive",
          "Positive",
          "Positive",
          "Positive",
          "Positive",
          "Positive",
          "Positive",
          "Positive",
          "Positive",
          "Positive",
          "Positive",
          "Positive",
          "Positive",
          "Positive",
          "Positive",
          "Positive",
          "Positive",
          "Positive",
          "Positive",
          "Positive",
          "Positive",
          "Positive",
          "Positive",
          "Positive",
          "Positive",
          "Positive",
          "Positive",
          "Positive",
          "Positive",
          "Positive",
          "Positive",
          "Positive",
          "Positive",
          "Positive",
          "Positive",
          "Positive",
          "Positive",
          "Positive",
          "Positive",
          "Positive",
          "Positive",
          "Positive",
          "Positive",
          "Positive",
          "Positive",
          "Positive",
          "Positive",
          "Positive",
          "Positive",
          "Positive",
          "Positive",
          "Positive",
          "Positive",
          "Positive",
          "Positive",
          "Positive",
          "Positive",
          "Positive",
          "Positive",
          "Positive",
          "Positive",
          "Positive",
          "Positive",
          "Positive",
          "Positive",
          "Positive",
          "Positive",
          "Positive",
          "Positive",
          "Positive",
          "Positive",
          "Positive",
          "Positive",
          "Positive",
          "Positive",
          "Positive",
          "Positive",
          "Positive",
          "Positive",
          "Positive",
          "Positive",
          "Positive",
          "Positive",
          "Positive",
          "Positive",
          "Positive",
          "Positive",
          "Positive",
          "Positive",
          "Positive",
          "Positive",
          "Positive",
          "Positive",
          "Positive",
          "Positive",
          "Positive",
          "Positive",
          "Positive",
          "Positive",
          "Positive",
          "Positive",
          "Positive",
          "Positive",
          "Positive",
          "Positive",
          "Positive",
          "Positive",
          "Positive",
          "Positive",
          "Positive",
          "Positive",
          "Positive",
          "Positive",
          "Positive",
          "Positive",
          "Positive",
          "Positive",
          "Positive",
          "Positive",
          "Positive",
          "Positive",
          "Positive",
          "Positive",
          "Positive",
          "Positive",
          "Positive",
          "Positive",
          "Positive",
          "Positive",
          "Positive",
          "Positive",
          "Positive",
          "Positive",
          "Positive",
          "Positive",
          "Positive",
          "Positive",
          "Positive",
          "Positive",
          "Positive",
          "Positive",
          "Positive",
          "Positive",
          "Positive",
          "Positive",
          "Positive",
          "Positive",
          "Positive",
          "Positive",
          "Positive",
          "Positive",
          "Positive",
          "Positive",
          "Positive",
          "Positive",
          "Positive",
          "Positive",
          "Positive",
          "Positive",
          "Positive",
          "Positive",
          "Positive",
          "Positive",
          "Positive",
          "Positive",
          "Positive",
          "Positive",
          "Positive",
          "Positive",
          "Positive",
          "Positive",
          "Positive",
          "Positive",
          "Positive",
          "Positive",
          "Positive",
          "Positive",
          "Positive",
          "Positive",
          "Positive",
          "Positive",
          "Positive",
          "Positive",
          "Positive",
          "Positive",
          "Positive",
          "Positive",
          "Positive",
          "Positive",
          "Positive",
          "Positive",
          "Positive",
          "Positive",
          "Positive",
          "Positive",
          "Positive",
          "Positive",
          "Positive",
          "Positive",
          "Positive",
          "Positive",
          "Positive",
          "Positive",
          "Positive",
          "Positive",
          "Positive",
          "Positive",
          "Positive",
          "Positive",
          "Positive",
          "Positive",
          "Positive",
          "Positive",
          "Positive",
          "Positive",
          "Positive",
          "Positive",
          "Positive",
          "Positive",
          "Positive",
          "Positive",
          "Positive",
          "Positive",
          "Positive",
          "Positive",
          "Positive",
          "Positive",
          "Positive",
          "Positive",
          "Positive",
          "Positive",
          "Positive",
          "Positive",
          "Positive",
          "Positive",
          "Positive",
          "Positive",
          "Positive",
          "Positive",
          "Positive",
          "Positive",
          "Positive",
          "Positive",
          "Positive",
          "Positive",
          "Positive",
          "Positive",
          "Positive",
          "Positive",
          "Positive",
          "Positive",
          "Positive",
          "Positive",
          "Positive",
          "Positive",
          "Positive",
          "Positive",
          "Positive",
          "Positive",
          "Positive",
          "Positive",
          "Positive",
          "Positive",
          "Positive",
          "Positive",
          "Positive",
          "Positive",
          "Positive",
          "Positive",
          "Positive",
          "Positive",
          "Positive",
          "Positive",
          "Positive",
          "Positive",
          "Positive",
          "Positive",
          "Positive",
          "Positive",
          "Positive",
          "Positive",
          "Positive",
          "Positive",
          "Positive",
          "Positive",
          "Positive",
          "Positive",
          "Positive",
          "Positive",
          "Positive",
          "Positive",
          "Positive",
          "Positive",
          "Positive",
          "Positive",
          "Positive",
          "Positive",
          "Positive",
          "Positive",
          "Positive",
          "Positive",
          "Positive",
          "Positive",
          "Positive",
          "Positive",
          "Positive",
          "Positive",
          "Positive",
          "Positive",
          "Positive",
          "Positive",
          "Positive",
          "Positive",
          "Positive",
          "Positive",
          "Positive",
          "Positive",
          "Positive",
          "Positive",
          "Positive",
          "Positive",
          "Positive",
          "Positive",
          "Positive",
          "Positive",
          "Positive",
          "Positive",
          "Positive",
          "Positive",
          "Positive",
          "Positive",
          "Positive",
          "Positive",
          "Positive",
          "Positive",
          "Positive",
          "Positive",
          "Positive",
          "Positive",
          "Positive",
          "Positive",
          "Positive",
          "Positive",
          "Positive",
          "Positive",
          "Positive",
          "Positive",
          "Positive",
          "Positive",
          "Positive",
          "Positive",
          "Positive",
          "Positive",
          "Positive",
          "Positive",
          "Positive",
          "Positive",
          "Positive",
          "Positive",
          "Positive",
          "Positive",
          "Positive",
          "Positive",
          "Positive",
          "Positive",
          "Positive",
          "Positive",
          "Positive",
          "Positive",
          "Positive",
          "Positive",
          "Positive",
          "Positive",
          "Positive",
          "Positive",
          "Positive",
          "Positive",
          "Positive",
          "Positive",
          "Positive",
          "Positive",
          "Positive",
          "Positive",
          "Positive",
          "Positive",
          "Positive",
          "Positive",
          "Positive",
          "Positive",
          "Positive",
          "Positive",
          "Positive",
          "Positive",
          "Positive",
          "Positive",
          "Positive",
          "Positive",
          "Positive",
          "Positive",
          "Positive",
          "Positive",
          "Positive",
          "Positive",
          "Positive",
          "Positive",
          "Positive",
          "Positive",
          "Positive",
          "Positive",
          "Positive",
          "Positive",
          "Positive",
          "Positive",
          "Positive",
          "Positive",
          "Positive",
          "Positive",
          "Positive",
          "Positive",
          "Positive",
          "Positive",
          "Positive",
          "Positive",
          "Positive",
          "Positive",
          "Positive",
          "Positive",
          "Positive",
          "Positive",
          "Positive",
          "Positive",
          "Positive",
          "Positive",
          "Positive",
          "Positive",
          "Positive",
          "Positive",
          "Positive",
          "Positive",
          "Positive",
          "Positive",
          "Positive",
          "Positive",
          "Positive",
          "Positive",
          "Positive",
          "Positive",
          "Positive",
          "Positive",
          "Positive",
          "Positive",
          "Positive",
          "Positive",
          "Positive",
          "Positive",
          "Positive",
          "Positive",
          "Positive",
          "Positive",
          "Positive",
          "Positive",
          "Positive",
          "Positive",
          "Positive",
          "Positive",
          "Positive",
          "Positive",
          "Positive",
          "Positive",
          "Positive",
          "Positive",
          "Positive",
          "Positive",
          "Positive",
          "Positive",
          "Positive",
          "Positive",
          "Positive",
          "Positive",
          "Positive",
          "Positive",
          "Positive",
          "Positive",
          "Positive",
          "Positive",
          "Positive",
          "Positive",
          "Positive",
          "Positive",
          "Positive",
          "Positive",
          "Positive",
          "Positive",
          "Positive",
          "Positive",
          "Positive",
          "Positive",
          "Positive",
          "Positive",
          "Positive",
          "Positive",
          "Positive",
          "Positive",
          "Positive",
          "Positive",
          "Positive",
          "Positive",
          "Positive",
          "Positive",
          "Positive",
          "Positive",
          "Positive",
          "Positive",
          "Positive",
          "Positive",
          "Positive",
          "Positive",
          "Positive",
          "Positive",
          "Positive",
          "Positive",
          "Positive",
          "Positive",
          "Positive",
          "Positive",
          "Positive",
          "Positive",
          "Positive",
          "Positive",
          "Positive",
          "Positive",
          "Positive",
          "Positive",
          "Positive",
          "Positive",
          "Positive",
          "Positive",
          "Positive",
          "Positive",
          "Positive",
          "Positive",
          "Positive",
          "Positive",
          "Positive",
          "Positive",
          "Positive",
          "Positive",
          "Positive",
          "Positive",
          "Positive",
          "Positive",
          "Positive",
          "Positive",
          "Positive",
          "Positive",
          "Positive",
          "Positive",
          "Positive",
          "Positive",
          "Positive",
          "Positive",
          "Positive",
          "Positive",
          "Positive",
          "Positive",
          "Positive",
          "Positive",
          "Positive",
          "Positive",
          "Positive",
          "Positive",
          "Positive",
          "Positive",
          "Positive",
          "Positive",
          "Positive",
          "Positive",
          "Positive",
          "Positive",
          "Positive",
          "Positive",
          "Positive",
          "Positive",
          "Positive",
          "Positive",
          "Positive",
          "Positive",
          "Positive",
          "Positive",
          "Positive",
          "Positive",
          "Positive",
          "Positive",
          "Positive",
          "Positive",
          "Positive",
          "Positive",
          "Positive",
          "Positive",
          "Positive",
          "Positive",
          "Positive",
          "Positive",
          "Positive",
          "Positive",
          "Positive",
          "Positive",
          "Positive",
          "Positive"
         ],
         "yaxis": "y"
        },
        {
         "customdata": [
          [
           "[Non-constitutional] Proposal to fund Plurality Labs Milestone 1B(ridge)"
          ],
          [
           "[Non-constitutional] Proposal to fund Plurality Labs Milestone 1B(ridge)"
          ],
          [
           "AIP: ArbOS Version 20 \"Atlas\""
          ],
          [
           "AIP: ArbOS Version 20 \"Atlas\""
          ],
          [
           "AIP: ArbOS Version 20 \"Atlas\""
          ],
          [
           "AIP: ArbOS Version 20 \"Atlas\""
          ],
          [
           "AIP: ArbOS Version 20 \"Atlas\""
          ],
          [
           "AIP: Changes to the Constitution and the Security Council Election Process"
          ],
          [
           "AIP: Changes to the Constitution and the Security Council Election Process"
          ],
          [
           "Proposal to Backfund Successful STIP Proposals (Savvy DAO) [FINAL]"
          ],
          [
           "Proposal to Backfund Successful STIP Proposals (Savvy DAO) [FINAL]"
          ],
          [
           "Proposal to Backfund Successful STIP Proposals (Savvy DAO) [FINAL]"
          ],
          [
           "Proposal to Backfund Successful STIP Proposals (Savvy DAO) [FINAL]"
          ],
          [
           "Proposal to Backfund Successful STIP Proposals (Savvy DAO) [FINAL]"
          ],
          [
           "Proposal to Backfund Successful STIP Proposals (Savvy DAO) [FINAL]"
          ],
          [
           "AIP: ArbOS Version 11"
          ],
          [
           "AIP: ArbOS Version 11"
          ],
          [
           "Proposal: Experimental Incentive System for Active ArbitrumDAO Delegates"
          ],
          [
           "Proposal: Experimental Incentive System for Active ArbitrumDAO Delegates"
          ],
          [
           "Proposal: Experimental Incentive System for Active ArbitrumDAO Delegates"
          ],
          [
           "AIP - 6 : Security Council Elections"
          ],
          [
           "AIP - 6 : Security Council Elections"
          ],
          [
           "Proposal: Building the Future of NFTs: The Rarible Protocol - Arbitrum Integration Proposal [REVISED]"
          ],
          [
           "Proposal: Building the Future of NFTs: The Rarible Protocol - Arbitrum Integration Proposal [REVISED]"
          ],
          [
           "Proposal: Building the Future of NFTs: The Rarible Protocol - Arbitrum Integration Proposal [REVISED]"
          ],
          [
           "Arbitrum's Short-Term Incentive Program (Arbitrum Improvement Proposal)"
          ],
          [
           "Arbitrum's Short-Term Incentive Program (Arbitrum Improvement Proposal)"
          ],
          [
           "Arbitrum's Short-Term Incentive Program (Arbitrum Improvement Proposal)"
          ],
          [
           "Proposal: Empowering Early Contributors: The community Arbiter Proposal"
          ],
          [
           "AIP-7: Arbitrum One Governance parameter fixes"
          ],
          [
           "Proposal: Update Security Council Election Start Date to Ensure Time for Security Audit"
          ],
          [
           "Proposal: Update Security Council Election Start Date to Ensure Time for Security Audit"
          ],
          [
           "Proposal: Update Security Council Election Start Date to Ensure Time for Security Audit"
          ],
          [
           "AIP - 3 [Non-Constitutional] Fund the Arbitrum Grants Framework Proposal Milestone 1"
          ],
          [
           "AIP - 3 [Non-Constitutional] Fund the Arbitrum Grants Framework Proposal Milestone 1"
          ],
          [
           "Delegated Domain Allocation by Questbook - Arbitrum DAO Grants"
          ],
          [
           "Proposal: AIP-1.2 - Foundation and DAO Governance"
          ],
          [
           "Proposal: AIP-1.2 - Foundation and DAO Governance"
          ],
          [
           "Proposal: AIP-1.2 - Foundation and DAO Governance"
          ],
          [
           "Proposal: AIP-1.2 - Foundation and DAO Governance"
          ],
          [
           "Proposal: AIP-1.2 - Foundation and DAO Governance"
          ],
          [
           "Proposal: AIP-1.2 - Foundation and DAO Governance"
          ],
          [
           "Proposal: AIP-1.2 - Foundation and DAO Governance"
          ],
          [
           "Proposal: AIP-1.2 - Foundation and DAO Governance"
          ],
          [
           "Proposal: AIP-1.1 - Lockup, Budget, Transparency"
          ],
          [
           "Proposal: AIP-1.1 - Lockup, Budget, Transparency"
          ],
          [
           "Proposal: AIP-1.1 - Lockup, Budget, Transparency"
          ],
          [
           "Proposal: AIP-1.1 - Lockup, Budget, Transparency"
          ],
          [
           "Proposal: AIP-1.1 - Lockup, Budget, Transparency"
          ],
          [
           "Proposal: AIP-1.1 - Lockup, Budget, Transparency"
          ],
          [
           "Proposal: AIP-1.1 - Lockup, Budget, Transparency"
          ],
          [
           "Proposal: AIP-1.1 - Lockup, Budget, Transparency"
          ],
          [
           "Proposal: AIP-1.1 - Lockup, Budget, Transparency"
          ],
          [
           "Proposal: AIP-1.1 - Lockup, Budget, Transparency"
          ],
          [
           "Proposal: AIP-1.1 - Lockup, Budget, Transparency"
          ],
          [
           "Proposal: AIP-1.1 - Lockup, Budget, Transparency"
          ]
         ],
         "hovertemplate": "Sentiment of Comments=%{y}<br>Title Length=%{x}<br>Title=%{customdata[0]}<extra></extra>",
         "legendgroup": "Neutral",
         "marker": {
          "color": "#EF553B",
          "size": 10,
          "symbol": "circle"
         },
         "mode": "markers",
         "name": "Neutral",
         "orientation": "h",
         "showlegend": true,
         "type": "scatter",
         "x": [
          72,
          72,
          29,
          29,
          29,
          29,
          29,
          74,
          74,
          66,
          66,
          66,
          66,
          66,
          66,
          21,
          21,
          72,
          72,
          72,
          36,
          36,
          101,
          101,
          101,
          71,
          71,
          71,
          71,
          46,
          87,
          87,
          87,
          84,
          84,
          62,
          49,
          49,
          49,
          49,
          49,
          49,
          49,
          49,
          48,
          48,
          48,
          48,
          48,
          48,
          48,
          48,
          48,
          48,
          48,
          48
         ],
         "xaxis": "x",
         "y": [
          "Neutral",
          "Neutral",
          "Neutral",
          "Neutral",
          "Neutral",
          "Neutral",
          "Neutral",
          "Neutral",
          "Neutral",
          "Neutral",
          "Neutral",
          "Neutral",
          "Neutral",
          "Neutral",
          "Neutral",
          "Neutral",
          "Neutral",
          "Neutral",
          "Neutral",
          "Neutral",
          "Neutral",
          "Neutral",
          "Neutral",
          "Neutral",
          "Neutral",
          "Neutral",
          "Neutral",
          "Neutral",
          "Neutral",
          "Neutral",
          "Neutral",
          "Neutral",
          "Neutral",
          "Neutral",
          "Neutral",
          "Neutral",
          "Neutral",
          "Neutral",
          "Neutral",
          "Neutral",
          "Neutral",
          "Neutral",
          "Neutral",
          "Neutral",
          "Neutral",
          "Neutral",
          "Neutral",
          "Neutral",
          "Neutral",
          "Neutral",
          "Neutral",
          "Neutral",
          "Neutral",
          "Neutral",
          "Neutral",
          "Neutral"
         ],
         "yaxis": "y"
        },
        {
         "customdata": [
          [
           "[Non-constitutional] Proposal to fund Plurality Labs Milestone 1B(ridge)"
          ],
          [
           "[Non-constitutional] Proposal to fund Plurality Labs Milestone 1B(ridge)"
          ],
          [
           "Proposal [Non-Constitutional]: Establish the ArbitrumDAO Procurement Committee"
          ],
          [
           "Proposal to Backfund Successful STIP Proposals (Savvy DAO) [FINAL]"
          ],
          [
           "Proposal to Backfund Successful STIP Proposals (Savvy DAO) [FINAL]"
          ],
          [
           "Proposal to Backfund Successful STIP Proposals (Savvy DAO) [FINAL]"
          ],
          [
           "Proposal to Backfund Successful STIP Proposals (Savvy DAO) [FINAL]"
          ],
          [
           "Proposal to Backfund Successful STIP Proposals (Savvy DAO) [FINAL]"
          ],
          [
           "Proposal [Non-Constitutional]: Establish the 'Arbitrum Research & Development Collective'"
          ],
          [
           "Proposal: Experimental Incentive System for Active ArbitrumDAO Delegates"
          ],
          [
           "Proposal: Experimental Incentive System for Active ArbitrumDAO Delegates"
          ],
          [
           "Proposal: Experimental Incentive System for Active ArbitrumDAO Delegates"
          ],
          [
           "Proposal: Experimental Incentive System for Active ArbitrumDAO Delegates"
          ],
          [
           "Proposal: Experimental Incentive System for Active ArbitrumDAO Delegates"
          ],
          [
           "Arbitrum's Short-Term Incentive Program (Arbitrum Improvement Proposal)"
          ],
          [
           "Arbitrum's Short-Term Incentive Program (Arbitrum Improvement Proposal)"
          ],
          [
           "Arbitrum's Short-Term Incentive Program (Arbitrum Improvement Proposal)"
          ],
          [
           "Arbitrum's Short-Term Incentive Program (Arbitrum Improvement Proposal)"
          ],
          [
           "Arbitrum's Short-Term Incentive Program (Arbitrum Improvement Proposal)"
          ],
          [
           "Proposal: Empowering Early Contributors: The community Arbiter Proposal"
          ],
          [
           "Proposal: Empowering Early Contributors: The community Arbiter Proposal"
          ],
          [
           "Proposal: Empowering Early Contributors: The community Arbiter Proposal"
          ],
          [
           "Proposal: Empowering Early Contributors: The community Arbiter Proposal"
          ],
          [
           "AIP - 3 [Non-Constitutional] Fund the Arbitrum Grants Framework Proposal Milestone 1"
          ],
          [
           "AIP - 3 [Non-Constitutional] Fund the Arbitrum Grants Framework Proposal Milestone 1"
          ],
          [
           "Delegated Domain Allocation by Questbook - Arbitrum DAO Grants"
          ],
          [
           "Proposal: AIP-1.2 - Foundation and DAO Governance"
          ],
          [
           "Proposal: AIP-1.2 - Foundation and DAO Governance"
          ],
          [
           "Proposal: AIP-1.2 - Foundation and DAO Governance"
          ],
          [
           "Proposal: AIP-1.2 - Foundation and DAO Governance"
          ],
          [
           "Proposal: AIP-1.1 - Lockup, Budget, Transparency"
          ],
          [
           "Proposal: AIP-1.1 - Lockup, Budget, Transparency"
          ],
          [
           "Proposal: AIP-1.1 - Lockup, Budget, Transparency"
          ],
          [
           "Proposal: AIP-1.1 - Lockup, Budget, Transparency"
          ],
          [
           "Proposal: AIP-1.1 - Lockup, Budget, Transparency"
          ],
          [
           "Proposal: AIP-1.1 - Lockup, Budget, Transparency"
          ]
         ],
         "hovertemplate": "Sentiment of Comments=%{y}<br>Title Length=%{x}<br>Title=%{customdata[0]}<extra></extra>",
         "legendgroup": "Negative",
         "marker": {
          "color": "#00cc96",
          "size": 10,
          "symbol": "circle"
         },
         "mode": "markers",
         "name": "Negative",
         "orientation": "h",
         "showlegend": true,
         "type": "scatter",
         "x": [
          72,
          72,
          78,
          66,
          66,
          66,
          66,
          66,
          89,
          72,
          72,
          72,
          72,
          72,
          71,
          71,
          71,
          71,
          71,
          71,
          71,
          71,
          71,
          84,
          84,
          62,
          49,
          49,
          49,
          49,
          48,
          48,
          48,
          48,
          48,
          48
         ],
         "xaxis": "x",
         "y": [
          "Negative",
          "Negative",
          "Negative",
          "Negative",
          "Negative",
          "Negative",
          "Negative",
          "Negative",
          "Negative",
          "Negative",
          "Negative",
          "Negative",
          "Negative",
          "Negative",
          "Negative",
          "Negative",
          "Negative",
          "Negative",
          "Negative",
          "Negative",
          "Negative",
          "Negative",
          "Negative",
          "Negative",
          "Negative",
          "Negative",
          "Negative",
          "Negative",
          "Negative",
          "Negative",
          "Negative",
          "Negative",
          "Negative",
          "Negative",
          "Negative",
          "Negative"
         ],
         "yaxis": "y"
        }
       ],
       "layout": {
        "legend": {
         "title": {
          "text": "Sentiment of Comments"
         },
         "tracegroupgap": 0
        },
        "template": {
         "data": {
          "bar": [
           {
            "error_x": {
             "color": "#2a3f5f"
            },
            "error_y": {
             "color": "#2a3f5f"
            },
            "marker": {
             "line": {
              "color": "#E5ECF6",
              "width": 0.5
             },
             "pattern": {
              "fillmode": "overlay",
              "size": 10,
              "solidity": 0.2
             }
            },
            "type": "bar"
           }
          ],
          "barpolar": [
           {
            "marker": {
             "line": {
              "color": "#E5ECF6",
              "width": 0.5
             },
             "pattern": {
              "fillmode": "overlay",
              "size": 10,
              "solidity": 0.2
             }
            },
            "type": "barpolar"
           }
          ],
          "carpet": [
           {
            "aaxis": {
             "endlinecolor": "#2a3f5f",
             "gridcolor": "white",
             "linecolor": "white",
             "minorgridcolor": "white",
             "startlinecolor": "#2a3f5f"
            },
            "baxis": {
             "endlinecolor": "#2a3f5f",
             "gridcolor": "white",
             "linecolor": "white",
             "minorgridcolor": "white",
             "startlinecolor": "#2a3f5f"
            },
            "type": "carpet"
           }
          ],
          "choropleth": [
           {
            "colorbar": {
             "outlinewidth": 0,
             "ticks": ""
            },
            "type": "choropleth"
           }
          ],
          "contour": [
           {
            "colorbar": {
             "outlinewidth": 0,
             "ticks": ""
            },
            "colorscale": [
             [
              0,
              "#0d0887"
             ],
             [
              0.1111111111111111,
              "#46039f"
             ],
             [
              0.2222222222222222,
              "#7201a8"
             ],
             [
              0.3333333333333333,
              "#9c179e"
             ],
             [
              0.4444444444444444,
              "#bd3786"
             ],
             [
              0.5555555555555556,
              "#d8576b"
             ],
             [
              0.6666666666666666,
              "#ed7953"
             ],
             [
              0.7777777777777778,
              "#fb9f3a"
             ],
             [
              0.8888888888888888,
              "#fdca26"
             ],
             [
              1,
              "#f0f921"
             ]
            ],
            "type": "contour"
           }
          ],
          "contourcarpet": [
           {
            "colorbar": {
             "outlinewidth": 0,
             "ticks": ""
            },
            "type": "contourcarpet"
           }
          ],
          "heatmap": [
           {
            "colorbar": {
             "outlinewidth": 0,
             "ticks": ""
            },
            "colorscale": [
             [
              0,
              "#0d0887"
             ],
             [
              0.1111111111111111,
              "#46039f"
             ],
             [
              0.2222222222222222,
              "#7201a8"
             ],
             [
              0.3333333333333333,
              "#9c179e"
             ],
             [
              0.4444444444444444,
              "#bd3786"
             ],
             [
              0.5555555555555556,
              "#d8576b"
             ],
             [
              0.6666666666666666,
              "#ed7953"
             ],
             [
              0.7777777777777778,
              "#fb9f3a"
             ],
             [
              0.8888888888888888,
              "#fdca26"
             ],
             [
              1,
              "#f0f921"
             ]
            ],
            "type": "heatmap"
           }
          ],
          "heatmapgl": [
           {
            "colorbar": {
             "outlinewidth": 0,
             "ticks": ""
            },
            "colorscale": [
             [
              0,
              "#0d0887"
             ],
             [
              0.1111111111111111,
              "#46039f"
             ],
             [
              0.2222222222222222,
              "#7201a8"
             ],
             [
              0.3333333333333333,
              "#9c179e"
             ],
             [
              0.4444444444444444,
              "#bd3786"
             ],
             [
              0.5555555555555556,
              "#d8576b"
             ],
             [
              0.6666666666666666,
              "#ed7953"
             ],
             [
              0.7777777777777778,
              "#fb9f3a"
             ],
             [
              0.8888888888888888,
              "#fdca26"
             ],
             [
              1,
              "#f0f921"
             ]
            ],
            "type": "heatmapgl"
           }
          ],
          "histogram": [
           {
            "marker": {
             "pattern": {
              "fillmode": "overlay",
              "size": 10,
              "solidity": 0.2
             }
            },
            "type": "histogram"
           }
          ],
          "histogram2d": [
           {
            "colorbar": {
             "outlinewidth": 0,
             "ticks": ""
            },
            "colorscale": [
             [
              0,
              "#0d0887"
             ],
             [
              0.1111111111111111,
              "#46039f"
             ],
             [
              0.2222222222222222,
              "#7201a8"
             ],
             [
              0.3333333333333333,
              "#9c179e"
             ],
             [
              0.4444444444444444,
              "#bd3786"
             ],
             [
              0.5555555555555556,
              "#d8576b"
             ],
             [
              0.6666666666666666,
              "#ed7953"
             ],
             [
              0.7777777777777778,
              "#fb9f3a"
             ],
             [
              0.8888888888888888,
              "#fdca26"
             ],
             [
              1,
              "#f0f921"
             ]
            ],
            "type": "histogram2d"
           }
          ],
          "histogram2dcontour": [
           {
            "colorbar": {
             "outlinewidth": 0,
             "ticks": ""
            },
            "colorscale": [
             [
              0,
              "#0d0887"
             ],
             [
              0.1111111111111111,
              "#46039f"
             ],
             [
              0.2222222222222222,
              "#7201a8"
             ],
             [
              0.3333333333333333,
              "#9c179e"
             ],
             [
              0.4444444444444444,
              "#bd3786"
             ],
             [
              0.5555555555555556,
              "#d8576b"
             ],
             [
              0.6666666666666666,
              "#ed7953"
             ],
             [
              0.7777777777777778,
              "#fb9f3a"
             ],
             [
              0.8888888888888888,
              "#fdca26"
             ],
             [
              1,
              "#f0f921"
             ]
            ],
            "type": "histogram2dcontour"
           }
          ],
          "mesh3d": [
           {
            "colorbar": {
             "outlinewidth": 0,
             "ticks": ""
            },
            "type": "mesh3d"
           }
          ],
          "parcoords": [
           {
            "line": {
             "colorbar": {
              "outlinewidth": 0,
              "ticks": ""
             }
            },
            "type": "parcoords"
           }
          ],
          "pie": [
           {
            "automargin": true,
            "type": "pie"
           }
          ],
          "scatter": [
           {
            "fillpattern": {
             "fillmode": "overlay",
             "size": 10,
             "solidity": 0.2
            },
            "type": "scatter"
           }
          ],
          "scatter3d": [
           {
            "line": {
             "colorbar": {
              "outlinewidth": 0,
              "ticks": ""
             }
            },
            "marker": {
             "colorbar": {
              "outlinewidth": 0,
              "ticks": ""
             }
            },
            "type": "scatter3d"
           }
          ],
          "scattercarpet": [
           {
            "marker": {
             "colorbar": {
              "outlinewidth": 0,
              "ticks": ""
             }
            },
            "type": "scattercarpet"
           }
          ],
          "scattergeo": [
           {
            "marker": {
             "colorbar": {
              "outlinewidth": 0,
              "ticks": ""
             }
            },
            "type": "scattergeo"
           }
          ],
          "scattergl": [
           {
            "marker": {
             "colorbar": {
              "outlinewidth": 0,
              "ticks": ""
             }
            },
            "type": "scattergl"
           }
          ],
          "scattermapbox": [
           {
            "marker": {
             "colorbar": {
              "outlinewidth": 0,
              "ticks": ""
             }
            },
            "type": "scattermapbox"
           }
          ],
          "scatterpolar": [
           {
            "marker": {
             "colorbar": {
              "outlinewidth": 0,
              "ticks": ""
             }
            },
            "type": "scatterpolar"
           }
          ],
          "scatterpolargl": [
           {
            "marker": {
             "colorbar": {
              "outlinewidth": 0,
              "ticks": ""
             }
            },
            "type": "scatterpolargl"
           }
          ],
          "scatterternary": [
           {
            "marker": {
             "colorbar": {
              "outlinewidth": 0,
              "ticks": ""
             }
            },
            "type": "scatterternary"
           }
          ],
          "surface": [
           {
            "colorbar": {
             "outlinewidth": 0,
             "ticks": ""
            },
            "colorscale": [
             [
              0,
              "#0d0887"
             ],
             [
              0.1111111111111111,
              "#46039f"
             ],
             [
              0.2222222222222222,
              "#7201a8"
             ],
             [
              0.3333333333333333,
              "#9c179e"
             ],
             [
              0.4444444444444444,
              "#bd3786"
             ],
             [
              0.5555555555555556,
              "#d8576b"
             ],
             [
              0.6666666666666666,
              "#ed7953"
             ],
             [
              0.7777777777777778,
              "#fb9f3a"
             ],
             [
              0.8888888888888888,
              "#fdca26"
             ],
             [
              1,
              "#f0f921"
             ]
            ],
            "type": "surface"
           }
          ],
          "table": [
           {
            "cells": {
             "fill": {
              "color": "#EBF0F8"
             },
             "line": {
              "color": "white"
             }
            },
            "header": {
             "fill": {
              "color": "#C8D4E3"
             },
             "line": {
              "color": "white"
             }
            },
            "type": "table"
           }
          ]
         },
         "layout": {
          "annotationdefaults": {
           "arrowcolor": "#2a3f5f",
           "arrowhead": 0,
           "arrowwidth": 1
          },
          "autotypenumbers": "strict",
          "coloraxis": {
           "colorbar": {
            "outlinewidth": 0,
            "ticks": ""
           }
          },
          "colorscale": {
           "diverging": [
            [
             0,
             "#8e0152"
            ],
            [
             0.1,
             "#c51b7d"
            ],
            [
             0.2,
             "#de77ae"
            ],
            [
             0.3,
             "#f1b6da"
            ],
            [
             0.4,
             "#fde0ef"
            ],
            [
             0.5,
             "#f7f7f7"
            ],
            [
             0.6,
             "#e6f5d0"
            ],
            [
             0.7,
             "#b8e186"
            ],
            [
             0.8,
             "#7fbc41"
            ],
            [
             0.9,
             "#4d9221"
            ],
            [
             1,
             "#276419"
            ]
           ],
           "sequential": [
            [
             0,
             "#0d0887"
            ],
            [
             0.1111111111111111,
             "#46039f"
            ],
            [
             0.2222222222222222,
             "#7201a8"
            ],
            [
             0.3333333333333333,
             "#9c179e"
            ],
            [
             0.4444444444444444,
             "#bd3786"
            ],
            [
             0.5555555555555556,
             "#d8576b"
            ],
            [
             0.6666666666666666,
             "#ed7953"
            ],
            [
             0.7777777777777778,
             "#fb9f3a"
            ],
            [
             0.8888888888888888,
             "#fdca26"
            ],
            [
             1,
             "#f0f921"
            ]
           ],
           "sequentialminus": [
            [
             0,
             "#0d0887"
            ],
            [
             0.1111111111111111,
             "#46039f"
            ],
            [
             0.2222222222222222,
             "#7201a8"
            ],
            [
             0.3333333333333333,
             "#9c179e"
            ],
            [
             0.4444444444444444,
             "#bd3786"
            ],
            [
             0.5555555555555556,
             "#d8576b"
            ],
            [
             0.6666666666666666,
             "#ed7953"
            ],
            [
             0.7777777777777778,
             "#fb9f3a"
            ],
            [
             0.8888888888888888,
             "#fdca26"
            ],
            [
             1,
             "#f0f921"
            ]
           ]
          },
          "colorway": [
           "#636efa",
           "#EF553B",
           "#00cc96",
           "#ab63fa",
           "#FFA15A",
           "#19d3f3",
           "#FF6692",
           "#B6E880",
           "#FF97FF",
           "#FECB52"
          ],
          "font": {
           "color": "#2a3f5f"
          },
          "geo": {
           "bgcolor": "white",
           "lakecolor": "white",
           "landcolor": "#E5ECF6",
           "showlakes": true,
           "showland": true,
           "subunitcolor": "white"
          },
          "hoverlabel": {
           "align": "left"
          },
          "hovermode": "closest",
          "mapbox": {
           "style": "light"
          },
          "paper_bgcolor": "white",
          "plot_bgcolor": "#E5ECF6",
          "polar": {
           "angularaxis": {
            "gridcolor": "white",
            "linecolor": "white",
            "ticks": ""
           },
           "bgcolor": "#E5ECF6",
           "radialaxis": {
            "gridcolor": "white",
            "linecolor": "white",
            "ticks": ""
           }
          },
          "scene": {
           "xaxis": {
            "backgroundcolor": "#E5ECF6",
            "gridcolor": "white",
            "gridwidth": 2,
            "linecolor": "white",
            "showbackground": true,
            "ticks": "",
            "zerolinecolor": "white"
           },
           "yaxis": {
            "backgroundcolor": "#E5ECF6",
            "gridcolor": "white",
            "gridwidth": 2,
            "linecolor": "white",
            "showbackground": true,
            "ticks": "",
            "zerolinecolor": "white"
           },
           "zaxis": {
            "backgroundcolor": "#E5ECF6",
            "gridcolor": "white",
            "gridwidth": 2,
            "linecolor": "white",
            "showbackground": true,
            "ticks": "",
            "zerolinecolor": "white"
           }
          },
          "shapedefaults": {
           "line": {
            "color": "#2a3f5f"
           }
          },
          "ternary": {
           "aaxis": {
            "gridcolor": "white",
            "linecolor": "white",
            "ticks": ""
           },
           "baxis": {
            "gridcolor": "white",
            "linecolor": "white",
            "ticks": ""
           },
           "bgcolor": "#E5ECF6",
           "caxis": {
            "gridcolor": "white",
            "linecolor": "white",
            "ticks": ""
           }
          },
          "title": {
           "x": 0.05
          },
          "xaxis": {
           "automargin": true,
           "gridcolor": "white",
           "linecolor": "white",
           "ticks": "",
           "title": {
            "standoff": 15
           },
           "zerolinecolor": "white",
           "zerolinewidth": 2
          },
          "yaxis": {
           "automargin": true,
           "gridcolor": "white",
           "linecolor": "white",
           "ticks": "",
           "title": {
            "standoff": 15
           },
           "zerolinecolor": "white",
           "zerolinewidth": 2
          }
         }
        },
        "title": {
         "text": "Relationship Between Title Length and Comment Sentiment for Tally Proposals"
        },
        "xaxis": {
         "anchor": "y",
         "domain": [
          0,
          1
         ],
         "title": {
          "text": "Title Length"
         }
        },
        "yaxis": {
         "anchor": "x",
         "categoryarray": [
          "Negative",
          "Neutral",
          "Positive"
         ],
         "categoryorder": "array",
         "domain": [
          0,
          1
         ],
         "title": {
          "text": "Sentiment of Comments"
         }
        }
       }
      }
     },
     "metadata": {},
     "output_type": "display_data"
    }
   ],
   "source": [
    "import pandas as pd\n",
    "import plotly.express as px\n",
    "from nltk.sentiment.vader import SentimentIntensityAnalyzer\n",
    "\n",
    "# Load datasets\n",
    "topics_df = pd.read_csv('forum_topics_data.csv')\n",
    "posts_df = pd.read_csv('forum_posts_data.csv')\n",
    "\n",
    "# Filter posts related to Tally proposal posts\n",
    "tally_posts = posts_df[posts_df['Topic ID'].isin(tally_topic_ids)]\n",
    "\n",
    "# Initialize SentimentIntensityAnalyzer\n",
    "sid = SentimentIntensityAnalyzer()\n",
    "\n",
    "# Function to determine sentiment polarity\n",
    "def get_sentiment(text):\n",
    "    sentiment = sid.polarity_scores(text)\n",
    "    if sentiment['compound'] > 0.05:\n",
    "        return 'Positive'\n",
    "    elif sentiment['compound'] < -0.05:\n",
    "        return 'Negative'\n",
    "    else:\n",
    "        return 'Neutral'\n",
    "\n",
    "# Apply sentiment analysis to comments\n",
    "tally_posts['Sentiment'] = tally_posts['Post Description'].astype(str).apply(get_sentiment)\n",
    "\n",
    "# Merge with topics dataframe to get proposal titles\n",
    "tally_posts = tally_posts.merge(topics_df[['Topic ID', 'Title']], on='Topic ID')\n",
    "\n",
    "# Calculate the length of proposal titles\n",
    "tally_posts['Title Length'] = tally_posts['Title'].apply(len)\n",
    "\n",
    "# Create a scatter plot\n",
    "fig = px.scatter(tally_posts, x='Title Length', y='Sentiment', \n",
    "                 title='Relationship Between Title Length and Comment Sentiment for Tally Proposals',\n",
    "                 color='Sentiment', hover_data=['Title'],\n",
    "                 category_orders={'Sentiment': ['Positive', 'Neutral', 'Negative']},\n",
    "                 labels={'Title Length': 'Title Length', 'Sentiment': 'Sentiment of Comments'})\n",
    "\n",
    "# Customize layout\n",
    "fig.update_traces(marker=dict(size=10))\n",
    "\n",
    "# Show the plot\n",
    "fig.show()\n",
    "fig.write_html(\"\")\n"
   ]
  }
 ],
 "metadata": {
  "kernelspec": {
   "display_name": "Python 3",
   "language": "python",
   "name": "python3"
  },
  "language_info": {
   "codemirror_mode": {
    "name": "ipython",
    "version": 3
   },
   "file_extension": ".py",
   "mimetype": "text/x-python",
   "name": "python",
   "nbconvert_exporter": "python",
   "pygments_lexer": "ipython3",
   "version": "3.9.13"
  }
 },
 "nbformat": 4,
 "nbformat_minor": 2
}
